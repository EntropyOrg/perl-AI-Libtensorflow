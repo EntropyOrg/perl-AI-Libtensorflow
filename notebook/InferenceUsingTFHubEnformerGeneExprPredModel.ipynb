{
 "cells": [
  {
   "cell_type": "markdown",
   "id": "a4cdce42",
   "metadata": {},
   "source": [
    "# NAME\n",
    "\n",
    "InferenceUsingTFHubEnformerGeneExprPredModel - Using TensorFlow to do gene expression prediction using a pre-trained model"
   ]
  },
  {
   "cell_type": "markdown",
   "id": "d74d6520",
   "metadata": {},
   "source": [
    "# SYNOPSIS\n",
    "\n",
    "The following tutorial is based on the [Enformer usage notebook](https://github.com/deepmind/deepmind-research/blob/master/enformer/enformer-usage.ipynb). It uses a pre-trained model based on a transformer architecture trained as described in Avsec et al (2021) and introduced in Avsec's DeepMind blog post [Predicting gene expression with AI](https://www.deepmind.com/blog/predicting-gene-expression-with-ai).\n",
    "\n",
    "Running the code requires an Internet connection to download the model (from Google servers) and datasets (from GitHub, UCSC, and NIH).\n",
    "\n",
    "Some of this code is identical to that of `InferenceUsingTFHubMobileNetV2Model` notebook. Please look there for explanation for that code. As stated there, this will later be wrapped up into a high-level library to hide the details behind an API.\n",
    "\n",
    "**NOTE**: If running this model, please be aware that\n",
    "\n",
    "* the Docker image takes 3 GB or more of disk space;\n",
    "* the model and data takes 5 GB or more of disk space.\n",
    "\n",
    "meaning that you will need a total of **8 GB** of disk space. You may need at least **4 GB** of free memory to run the model.\n",
    "\n",
    "# COLOPHON\n",
    "\n",
    "The following document is either a POD file which can additionally be run as a Perl script or a Jupyter Notebook which can be run in [IPerl](https://p3rl.org/Devel::IPerl) (viewable online at [nbviewer](https://nbviewer.org/github/EntropyOrg/perl-AI-TensorFlow-Libtensorflow/blob/master/notebook/InferenceUsingTFHubEnformerGeneExprPredModel.ipynb)). If you are reading this as POD, there should be a generated list of Perl dependencies in the [CPANFILE](#CPANFILE) section.\n",
    "\n",
    "You will also need the executables `gunzip`, `bgzip`, and `samtools`. Furthermore,\n",
    "\n",
    " * `Bio::DB::HTS` requires `libhts` and\n",
    " * `PDL::Graphics::Gnuplot` requires `gnuplot`.\n",
    "\n",
    "If you are running the code, you may optionally install the [`tensorflow` Python package](https://www.tensorflow.org/install/pip) in order to access the `saved_model_cli` command, but this is only used for informational purposes."
   ]
  },
  {
   "cell_type": "markdown",
   "id": "bb098c5b",
   "metadata": {},
   "source": [
    "# TUTORIAL\n",
    "\n",
    "## Load the library\n",
    "\n",
    "First, we need to load the `AI::TensorFlow::Libtensorflow` library and more helpers. We then create an `AI::TensorFlow::Libtensorflow::Status` object and helper function to make sure that the calls to the `libtensorflow` C library are working properly."
   ]
  },
  {
   "cell_type": "code",
   "execution_count": 1,
   "id": "81eaec3a",
   "metadata": {},
   "outputs": [],
   "source": [
    "use strict;\n",
    "use warnings;\n",
    "use utf8;\n",
    "use constant IN_IPERL => !! $ENV{PERL_IPERL_RUNNING};\n",
    "no if IN_IPERL, warnings => 'redefine'; # fewer messages when re-running cells\n",
    "\n",
    "use feature qw(say);\n",
    "use Syntax::Construct qw( // );\n",
    "\n",
    "use lib::projectroot qw(lib);\n",
    "\n",
    "BEGIN {\n",
    "    if( IN_IPERL ) {\n",
    "        $ENV{TF_CPP_MIN_LOG_LEVEL} = 3;\n",
    "    }\n",
    "    require AI::TensorFlow::Libtensorflow;\n",
    "}\n",
    "\n",
    "use URI ();\n",
    "use HTTP::Tiny ();\n",
    "use Path::Tiny qw(path);\n",
    "\n",
    "use File::Which ();\n",
    "\n",
    "use List::Util ();\n",
    "\n",
    "use Data::Printer ( output => 'stderr', return_value => 'void', filters => ['PDL'] );\n",
    "use Data::Printer::Filter::PDL ();\n",
    "use Text::Table::Tiny qw(generate_table);\n",
    "\n",
    "my $s = AI::TensorFlow::Libtensorflow::Status->New;\n",
    "sub AssertOK {\n",
    "    die \"Status $_[0]: \" . $_[0]->Message\n",
    "        unless $_[0]->GetCode == AI::TensorFlow::Libtensorflow::Status::OK;\n",
    "    return;\n",
    "}\n",
    "AssertOK($s);"
   ]
  },
  {
   "cell_type": "markdown",
   "id": "e0262c6a",
   "metadata": {},
   "source": [
    "And create helpers for converting between `PDL` ndarrays and `TFTensor` ndarrays."
   ]
  },
  {
   "cell_type": "code",
   "execution_count": 2,
   "id": "486e655b",
   "metadata": {},
   "outputs": [],
   "source": [
    "use PDL;\n",
    "use AI::TensorFlow::Libtensorflow::DataType qw(FLOAT);\n",
    "\n",
    "use FFI::Platypus::Memory qw(memcpy);\n",
    "use FFI::Platypus::Buffer qw(scalar_to_pointer);\n",
    "\n",
    "sub FloatPDLTOTFTensor {\n",
    "    my ($p) = @_;\n",
    "    return AI::TensorFlow::Libtensorflow::Tensor->New(\n",
    "        FLOAT, [ reverse $p->dims ], $p->get_dataref, sub { undef $p }\n",
    "    );\n",
    "}\n",
    "\n",
    "sub FloatTFTensorToPDL {\n",
    "    my ($t) = @_;\n",
    "\n",
    "    my $pdl = zeros(float,reverse( map $t->Dim($_), 0..$t->NumDims-1 ) );\n",
    "\n",
    "    memcpy scalar_to_pointer( ${$pdl->get_dataref} ),\n",
    "        scalar_to_pointer( ${$t->Data} ),\n",
    "        $t->ByteSize;\n",
    "    $pdl->upd_data;\n",
    "\n",
    "    $pdl;\n",
    "}"
   ]
  },
  {
   "cell_type": "markdown",
   "id": "e6186600",
   "metadata": {},
   "source": [
    "## Download model and data\n",
    "\n",
    "\n",
    "* [Enformer model](https://tfhub.dev/deepmind/enformer/1) from\n",
    "\n",
    "  > Avsec Ž, Agarwal V, Visentin D, Ledsam JR, Grabska-Barwinska A, Taylor KR, Assael Y, Jumper J, Kohli P, Kelley DR. Effective gene expression prediction from sequence by integrating long-range interactions. *Nat Methods*. 2021 Oct;**18(10)**:1196-1203. doi: [10.1038/s41592-021-01252-x](https://doi.org/10.1038/s41592-021-01252-x). Epub 2021 Oct 4. PMID: [34608324](https://pubmed.ncbi.nlm.nih.gov/34608324); PMCID: [PMC8490152](https://www.ncbi.nlm.nih.gov/pmc/articles/PMC8490152/).\n",
    "\n",
    "\n",
    "* [Human target dataset](https://github.com/calico/basenji/tree/master/manuscripts/cross2020) from\n",
    "\n",
    "  > Kelley DR. Cross-species regulatory sequence activity prediction. *PLoS Comput Biol*. 2020 Jul 20;**16(7)**:e1008050. doi: [10.1371/journal.pcbi.1008050](https://doi.org/10.1371/journal.pcbi.1008050). PMID: [32687525](https://pubmed.ncbi.nlm.nih.gov/32687525); PMCID: [PMC7392335](https://www.ncbi.nlm.nih.gov/pmc/articles/PMC7392335/).\n",
    "\n",
    "* [UCSC hg38 genome](https://www.ncbi.nlm.nih.gov/assembly/GCA_000001405.15). More info at <http://hgdownload.cse.ucsc.edu/goldenPath/hg38/bigZips/>; [Genome Reference Consortium Human Build 38](https://www.ncbi.nlm.nih.gov/assembly/GCF_000001405.26/) from [Genome Reference Consortium](https://www.ncbi.nlm.nih.gov/grc).\n",
    "\n",
    "  > Schneider VA, Graves-Lindsay T, Howe K, Bouk N, Chen HC, Kitts PA, Murphy TD, Pruitt KD, Thibaud-Nissen F, Albracht D, Fulton RS, Kremitzki M, Magrini V, Markovic C, McGrath S, Steinberg KM, Auger K, Chow W, Collins J, Harden G, Hubbard T, Pelan S, Simpson JT, Threadgold G, Torrance J, Wood JM, Clarke L, Koren S, Boitano M, Peluso P, Li H, Chin CS, Phillippy AM, Durbin R, Wilson RK, Flicek P, Eichler EE, Church DM. Evaluation of GRCh38 and de novo haploid genome assemblies demonstrates the enduring quality of the reference assembly. *Genome Res.* 2017 May;**27(5)**:849-864. doi: [10.1101/gr.213611.116](https://doi.org/10.1101/gr.213611.116). Epub 2017 Apr 10. PMID: [28396521](https://pubmed.ncbi.nlm.nih.gov/28396521); PMCID: [PMC5411779](https://www.ncbi.nlm.nih.gov/pmc/articles/PMC5411779/).\n",
    "\n",
    "* [ClinVar](https://www.ncbi.nlm.nih.gov/clinvar/) file\n",
    "\n",
    "  > Landrum MJ, Lee JM, Benson M, Brown GR, Chao C, Chitipiralla S, Gu B, Hart J, Hoffman D, Jang W, Karapetyan K, Katz K, Liu C, Maddipatla Z, Malheiro A, McDaniel K, Ovetsky M, Riley G, Zhou G, Holmes JB, Kattman BL, Maglott DR. ClinVar: improving access to variant interpretations and supporting evidence. *Nucleic Acids Res.* 2018 Jan 4;**46(D1)**:D1062-D1067. doi: [10.1093/nar/gkx1153](https://doi.org/10.1093/nar/gkx1153). PMID: [29165669](https://pubmed.ncbi.nlm.nih.gov/29165669); PMCID: [PMC5753237](https://www.ncbi.nlm.nih.gov/pmc/articles/PMC5753237/).\n",
    "\n"
   ]
  },
  {
   "cell_type": "code",
   "execution_count": 3,
   "id": "544a8780",
   "metadata": {},
   "outputs": [
    {
     "name": "stdout",
     "output_type": "stream",
     "text": [
      "Downloading https://tfhub.dev/deepmind/enformer/1?tf-hub-format=compressed to deepmind_enformer_1.tar.gz\n",
      "Downloading https://raw.githubusercontent.com/calico/basenji/master/manuscripts/cross2020/targets_human.txt to targets_human.txt\n",
      "Downloading http://hgdownload.cse.ucsc.edu/goldenPath/hg38/bigZips/hg38.fa.gz to hg38.fa.gz\n",
      "Downloading https://ftp.ncbi.nlm.nih.gov/pub/clinvar/vcf_GRCh38/clinvar.vcf.gz to clinvar.vcf.gz\n"
     ]
    }
   ],
   "source": [
    "# Model handle\n",
    "my $model_uri = URI->new( 'https://tfhub.dev/deepmind/enformer/1' );\n",
    "$model_uri->query_form( 'tf-hub-format' => 'compressed' );\n",
    "my $model_base = substr( $model_uri->path, 1 ) =~ s,/,_,gr;\n",
    "my $model_archive_path = \"${model_base}.tar.gz\";\n",
    "my $model_sequence_length = 393_216; # bp\n",
    "\n",
    "# Human targets from Basenji2 dataset\n",
    "my $targets_uri  = URI->new('https://raw.githubusercontent.com/calico/basenji/master/manuscripts/cross2020/targets_human.txt');\n",
    "my $targets_path = 'targets_human.txt';\n",
    "\n",
    "# Human reference genome\n",
    "my $hg_uri    = URI->new(\"http://hgdownload.cse.ucsc.edu/goldenPath/hg38/bigZips/hg38.fa.gz\");\n",
    "my $hg_gz_path   = \"hg38.fa.gz\";\n",
    "# From http://hgdownload.cse.ucsc.edu/goldenPath/hg38/bigZips/md5sum.txt\n",
    "my $hg_md5_digest = \"1c9dcaddfa41027f17cd8f7a82c7293b\";\n",
    "\n",
    "my $clinvar_uri  = URI->new('https://ftp.ncbi.nlm.nih.gov/pub/clinvar/vcf_GRCh38/clinvar.vcf.gz');\n",
    "my $clinvar_path = 'clinvar.vcf.gz';\n",
    "\n",
    "my $http = HTTP::Tiny->new;\n",
    "\n",
    "for my $download ( [ $model_uri   => $model_archive_path ],\n",
    "                   [ $targets_uri => $targets_path       ],\n",
    "                   [ $hg_uri      => $hg_gz_path            ],\n",
    "                   [ $clinvar_uri => $clinvar_path       ],) {\n",
    "    my ($uri, $path) = @$download;\n",
    "    say \"Downloading $uri to $path\";\n",
    "    next if -e $path;\n",
    "    $http->mirror( $uri, $path );\n",
    "}"
   ]
  },
  {
   "cell_type": "markdown",
   "id": "66efe3c4",
   "metadata": {},
   "source": [
    "Now we\n",
    "\n",
    "1. extract the saved model so that we can load it and\n",
    "2. check the MD5 sum of the reference genome to make sure it was downloaded correctly."
   ]
  },
  {
   "cell_type": "code",
   "execution_count": 4,
   "id": "bae1ac83",
   "metadata": {},
   "outputs": [
    {
     "name": "stdout",
     "output_type": "stream",
     "text": [
      "MD5 sum for hg38.fa.gz OK\n"
     ]
    },
    {
     "data": {
      "text/plain": [
       "1"
      ]
     },
     "execution_count": 4,
     "metadata": {},
     "output_type": "execute_result"
    }
   ],
   "source": [
    "use Archive::Extract;\n",
    "$Archive::Extract::DEBUG      = 1;\n",
    "$Archive::Extract::PREFER_BIN = 1; # for the larger model, prefer bin\n",
    "if( ! -e $model_base ) {\n",
    "    my $ae = Archive::Extract->new( archive => $model_archive_path );\n",
    "    die \"Could not extract archive\" unless $ae->extract( to => $model_base );\n",
    "}\n",
    "\n",
    "use Digest::file qw(digest_file_hex);\n",
    "if( digest_file_hex( $hg_gz_path, \"MD5\" ) eq $hg_md5_digest ) {\n",
    "    say \"MD5 sum for $hg_gz_path OK\";\n",
    "} else {\n",
    "    die \"Digest for $hg_gz_path failed\";\n",
    "}"
   ]
  },
  {
   "cell_type": "markdown",
   "id": "963170f4",
   "metadata": {},
   "source": [
    "In order to quickly seek for sequences in the reference genome FASTA, we\n",
    "\n",
    "1. convert the gzip'd file into a block gzip'd file and\n",
    "2. index that `.bgz` file using `faidx` from `samtools`."
   ]
  },
  {
   "cell_type": "code",
   "execution_count": 5,
   "id": "d01b28e3",
   "metadata": {},
   "outputs": [],
   "source": [
    "(my $hg_uncompressed_path = $hg_gz_path) =~ s/\\.gz$//;\n",
    "my $hg_bgz_path = \"${hg_uncompressed_path}.bgz\";\n",
    "\n",
    "use IPC::Run;\n",
    "\n",
    "if( ! -e $hg_bgz_path ) {\n",
    "    IPC::Run::run(\n",
    "        [ qw(gunzip -c) ], '<', $hg_gz_path,\n",
    "        '|',\n",
    "        [ qw(bgzip -c)  ], '>', $hg_bgz_path\n",
    "    );\n",
    "}\n",
    "\n",
    "use Bio::Tools::Run::Samtools;\n",
    "\n",
    "my $hg_bgz_fai_path = \"${hg_bgz_path}.fai\";\n",
    "if( ! -e $hg_bgz_fai_path ) {\n",
    "    my $faidx_tool = Bio::Tools::Run::Samtools->new( -command => 'faidx' );\n",
    "    $faidx_tool->run( -fas => $hg_bgz_path )\n",
    "        or die \"Could not index FASTA file $hg_bgz_path: \" . $faidx_tool->error_string;\n",
    "}"
   ]
  },
  {
   "cell_type": "markdown",
   "id": "ef2d8929",
   "metadata": {},
   "source": [
    "## Model input and output specification\n",
    "\n",
    "Now we create a helper to call `saved_model_cli` and called `saved_model_cli scan` to ensure that the model is I/O-free for security reasons."
   ]
  },
  {
   "cell_type": "code",
   "execution_count": 6,
   "id": "7e71c582",
   "metadata": {},
   "outputs": [
    {
     "name": "stdout",
     "output_type": "stream",
     "text": [
      "Checking with saved_model_cli scan:\n",
      "MetaGraph with tag set ['serve'] does not contain the default denylisted ops: {'ReadFile', 'PrintV2', 'WriteFile'}\n"
     ]
    },
    {
     "data": {
      "text/plain": [
       "1"
      ]
     },
     "execution_count": 6,
     "metadata": {},
     "output_type": "execute_result"
    }
   ],
   "source": [
    "sub saved_model_cli {\n",
    "    my (@rest) = @_;\n",
    "    if( File::Which::which('saved_model_cli')) {\n",
    "        system(qw(saved_model_cli), @rest ) == 0\n",
    "            or die \"Could not run saved_model_cli\";\n",
    "    } else {\n",
    "        warn \"saved_model_cli(): Install the tensorflow Python package to get the `saved_model_cli` command.\\n\";\n",
    "        return -1;\n",
    "    }\n",
    "}\n",
    "\n",
    "say \"Checking with saved_model_cli scan:\";\n",
    "saved_model_cli( qw(scan),\n",
    "    qw(--dir) => $model_base,\n",
    ");"
   ]
  },
  {
   "cell_type": "markdown",
   "id": "2d572b9e",
   "metadata": {},
   "source": [
    "We need to see what the inputs and outputs of this model are so `saved_model_cli show` should show us that:"
   ]
  },
  {
   "cell_type": "code",
   "execution_count": 7,
   "id": "195ea68d",
   "metadata": {},
   "outputs": [
    {
     "name": "stdout",
     "output_type": "stream",
     "text": [
      "\n",
      "MetaGraphDef with tag-set: 'serve' contains the following SignatureDefs:\n",
      "\n",
      "signature_def['__saved_model_init_op']:\n",
      "  The given SavedModel SignatureDef contains the following input(s):\n",
      "  The given SavedModel SignatureDef contains the following output(s):\n",
      "    outputs['__saved_model_init_op'] tensor_info:\n",
      "        dtype: DT_INVALID\n",
      "        shape: unknown_rank\n",
      "        name: NoOp\n",
      "  Method name is: \n",
      "\n",
      "Concrete Functions:"
     ]
    },
    {
     "data": {
      "text/plain": [
       "1"
      ]
     },
     "execution_count": 7,
     "metadata": {},
     "output_type": "execute_result"
    }
   ],
   "source": [
    "saved_model_cli( qw(show),\n",
    "    qw(--dir) => $model_base,\n",
    "    qw(--all),\n",
    ");"
   ]
  },
  {
   "cell_type": "markdown",
   "id": "9358fcbc",
   "metadata": {},
   "source": [
    "It appears that it does not! What we can do is load the model using `tensorflow` in Python and then save it to a new path. Now when we run `saved_model_cli show` on this new model path, it shows the correct inputs and outputs."
   ]
  },
  {
   "cell_type": "code",
   "execution_count": 8,
   "id": "2eabaa84",
   "metadata": {},
   "outputs": [
    {
     "name": "stdout",
     "output_type": "stream",
     "text": [
      "\n",
      "MetaGraphDef with tag-set: 'serve' contains the following SignatureDefs:\n",
      "\n",
      "signature_def['__saved_model_init_op']:\n",
      "  The given SavedModel SignatureDef contains the following input(s):\n",
      "  The given SavedModel SignatureDef contains the following output(s):\n",
      "    outputs['__saved_model_init_op'] tensor_info:\n",
      "        dtype: DT_INVALID\n",
      "        shape: unknown_rank\n",
      "        name: NoOp\n",
      "  Method name is: \n",
      "\n",
      "signature_def['serving_default']:\n",
      "  The given SavedModel SignatureDef contains the following input(s):\n",
      "    inputs['args_0'] tensor_info:\n",
      "        dtype: DT_FLOAT\n",
      "        shape: (-1, 393216, 4)\n",
      "        name: serving_default_args_0:0\n",
      "  The given SavedModel SignatureDef contains the following output(s):\n",
      "    outputs['human'] tensor_info:\n",
      "        dtype: DT_FLOAT\n",
      "        shape: (-1, 896, 5313)\n",
      "        name: StatefulPartitionedCall:0\n",
      "    outputs['mouse'] tensor_info:\n",
      "        dtype: DT_FLOAT\n",
      "        shape: (-1, 896, 1643)\n",
      "        name: StatefulPartitionedCall:1\n",
      "  Method name is: tensorflow/serving/predict\n",
      "\n",
      "Concrete Functions:\n",
      "  Function Name: 'predict_on_batch'\n",
      "    Option #1\n",
      "      Callable with:\n",
      "        Argument #1\n",
      "          args_0: TensorSpec(shape=(None, 393216, 4), dtype=tf.float32, name='args_0')\n"
     ]
    },
    {
     "data": {
      "text/plain": [
       "1"
      ]
     },
     "execution_count": 8,
     "metadata": {},
     "output_type": "execute_result"
    }
   ],
   "source": [
    "my $new_model_base = \"${model_base}_new\";\n",
    "\n",
    "system( qw(python3), qw(-c) => <<EOF, $model_base, $new_model_base ) unless -e $new_model_base;\n",
    "import sys\n",
    "import tensorflow as tf\n",
    "\n",
    "in_path, out_path  = sys.argv[1:3]\n",
    "\n",
    "imported_model = tf.saved_model.load(in_path).model\n",
    "tf.saved_model.save( imported_model , out_path )\n",
    "EOF\n",
    "\n",
    "saved_model_cli( qw(show),\n",
    "    qw(--dir) => $new_model_base,\n",
    "    qw(--all),\n",
    ");"
   ]
  },
  {
   "cell_type": "markdown",
   "id": "70e831e0",
   "metadata": {},
   "source": [
    "We want to use the `serve` tag-set and\n",
    "\n",
    "* the input `args_0` which has the name `serving_default_args_0:0` and\n",
    "* the output `human` which has the name `StatefulPartitionedCall:0`.\n",
    "\n",
    "all of which are `DT_FLOAT`.\n",
    "\n",
    "Make note of the shapes that those take. Per the [model description](https://tfhub.dev/deepmind/enformer/1) at TensorFlow Hub:\n",
    "\n",
    "> The input sequence length is 393,216 with the prediction corresponding to 128 base pair windows for the center 114,688 base pairs. The input sequence is one hot encoded using the order of indices corresponding to 'ACGT' with N values being all zeros.\n",
    "\n",
    "The input shape `(-1, 393216, 4)` thus represents dimensions `[batch size] x [sequence length] x [one-hot encoding of ACGT]`.\n",
    "\n",
    "The output shape `(-1, 896, 5313)` represents dimensions `[batch size] x [ predictions along 114,688 base pairs / 128 base pair windows ] x [ human target by index ]`. We can confirm this by doing some calculations:"
   ]
  },
  {
   "cell_type": "code",
   "execution_count": 9,
   "id": "95cd13d7",
   "metadata": {},
   "outputs": [
    {
     "name": "stdout",
     "output_type": "stream",
     "text": [
      "Number of predictions: 896\n"
     ]
    },
    {
     "data": {
      "text/plain": [
       "1"
      ]
     },
     "execution_count": 9,
     "metadata": {},
     "output_type": "execute_result"
    }
   ],
   "source": [
    "my $model_central_base_pairs_length     = 114_688; # bp\n",
    "my $model_central_base_pair_window_size = 128;     # bp / prediction\n",
    "\n",
    "say \"Number of predictions: \", $model_central_base_pairs_length / $model_central_base_pair_window_size;"
   ]
  },
  {
   "cell_type": "markdown",
   "id": "59881dd3",
   "metadata": {},
   "source": [
    "and by looking at the targets file:"
   ]
  },
  {
   "cell_type": "code",
   "execution_count": 10,
   "id": "97ec413e",
   "metadata": {},
   "outputs": [
    {
     "name": "stdout",
     "output_type": "stream",
     "text": [
      "Number of targets: 5313\n",
      "\n",
      "First 5:\n",
      "------------------------------------------------------------------------------------------------------------------------------------------------\n",
      "    index  genome  identifier   file                clip  scale  sum_stat  description                                                          \n",
      "------------------------------------------------------------------------------------------------------------------------------------------------\n",
      " 0  0      0       ENCFF833POA  encode/ENCSR000EIJ  32    2      mean      DNASE:cerebellum male adult (27 years) and male adult (35 years)     \n",
      " 1  1      0       ENCFF110QGM  encode/ENCSR000EIK  32    2      mean      DNASE:frontal cortex male adult (27 years) and male adult (35 years) \n",
      " 2  2      0       ENCFF880MKD  encode/ENCSR000EIL  32    2      mean      DNASE:chorion                                                        \n",
      " 3  3      0       ENCFF463ZLQ  encode/ENCSR000EIP  32    2      mean      DNASE:Ishikawa treated with 0.02% dimethyl sulfoxide for 1 hour      \n",
      " 4  4      0       ENCFF890OGQ  encode/ENCSR000EIS  32    2      mean      DNASE:GM03348                                                        \n",
      "------------------------------------------------------------------------------------------------------------------------------------------------\n",
      "\n"
     ]
    },
    {
     "data": {
      "text/plain": [
       "1"
      ]
     },
     "execution_count": 10,
     "metadata": {},
     "output_type": "execute_result"
    }
   ],
   "source": [
    "use Data::Frame;\n",
    "\n",
    "my $df = Data::Frame->from_csv( $targets_path, sep => \"\\t\" )\n",
    "    ->transform({\n",
    "        file => sub {\n",
    "            my ($col, $df) = @_;\n",
    "            # clean up the paths in 'file' column\n",
    "            [map { join \"/\", (split('/', $_))[7..8] } $col->list];\n",
    "        }\n",
    "    });\n",
    "\n",
    "say \"Number of targets: \", $df->nrow;\n",
    "\n",
    "say \"\";\n",
    "\n",
    "say \"First 5:\";\n",
    "say $df->head(5);"
   ]
  },
  {
   "cell_type": "markdown",
   "id": "66d7ef6b",
   "metadata": {},
   "source": [
    "## Load the model\n",
    "\n",
    "Let's now load the model in Perl and get the inputs and outputs into a data structure by name."
   ]
  },
  {
   "cell_type": "code",
   "execution_count": 11,
   "id": "e35c3294",
   "metadata": {},
   "outputs": [
    {
     "name": "stderr",
     "output_type": "stream",
     "text": [
      "\u001b[0;38;5;81m{\u001b[m\n",
      "    \u001b[0;38;5;104minputs_args_0\u001b[m\u001b[0;38;5;81m   \u001b[m\u001b[0;38;5;176mAI::TensorFlow::Libtensorflow::Output\u001b[m \u001b[0;38;5;81m{\u001b[m\n",
      "        \u001b[0;38;5;104mindex\u001b[m\u001b[0;38;5;81m   \u001b[m\u001b[0;38;5;209m0\u001b[m\u001b[0;38;5;81m,\u001b[m\n",
      "        \u001b[0;38;5;104moper\u001b[m \u001b[0;38;5;81m   \u001b[m\u001b[0;38;5;176mAI::TensorFlow::Libtensorflow::Operation\u001b[m \u001b[0;38;5;81m{\u001b[m\n",
      "            \u001b[0;38;5;104mName\u001b[m      \u001b[0;38;5;81m   \u001b[m\u001b[0;38;5;81m\"\u001b[m\u001b[0;38;5;107mserving_default_args_0\u001b[m\u001b[0;38;5;81m\"\u001b[m\u001b[0;38;5;81m,\u001b[m\n",
      "            \u001b[0;38;5;104mNumInputs\u001b[m \u001b[0;38;5;81m   \u001b[m\u001b[0;38;5;209m0\u001b[m\u001b[0;38;5;81m,\u001b[m\n",
      "            \u001b[0;38;5;104mNumOutputs\u001b[m\u001b[0;38;5;81m   \u001b[m\u001b[0;38;5;209m1\u001b[m\u001b[0;38;5;81m,\u001b[m\n",
      "            \u001b[0;38;5;104mOpType\u001b[m    \u001b[0;38;5;81m   \u001b[m\u001b[0;38;5;81m\"\u001b[m\u001b[0;38;5;107mPlaceholder\u001b[m\u001b[0;38;5;81m\"\u001b[m\n",
      "        \u001b[0;38;5;81m}\u001b[m\n",
      "    \u001b[0;38;5;81m}\u001b[m\u001b[0;38;5;81m,\u001b[m\n",
      "    \u001b[0;38;5;104moutputs_human\u001b[m\u001b[0;38;5;81m   \u001b[m\u001b[0;38;5;176mAI::TensorFlow::Libtensorflow::Output\u001b[m \u001b[0;38;5;81m{\u001b[m\n",
      "        \u001b[0;38;5;104mindex\u001b[m\u001b[0;38;5;81m   \u001b[m\u001b[0;38;5;209m0\u001b[m\u001b[0;38;5;81m,\u001b[m\n",
      "        \u001b[0;38;5;104moper\u001b[m \u001b[0;38;5;81m   \u001b[m\u001b[0;38;5;176mAI::TensorFlow::Libtensorflow::Operation\u001b[m \u001b[0;38;5;81m{\u001b[m\n",
      "            \u001b[0;38;5;104mName\u001b[m      \u001b[0;38;5;81m   \u001b[m\u001b[0;38;5;81m\"\u001b[m\u001b[0;38;5;107mStatefulPartitionedCall\u001b[m\u001b[0;38;5;81m\"\u001b[m\u001b[0;38;5;81m,\u001b[m\n",
      "            \u001b[0;38;5;104mNumInputs\u001b[m \u001b[0;38;5;81m   \u001b[m\u001b[0;38;5;209m274\u001b[m\u001b[0;38;5;81m,\u001b[m\n",
      "            \u001b[0;38;5;104mNumOutputs\u001b[m\u001b[0;38;5;81m   \u001b[m\u001b[0;38;5;209m2\u001b[m\u001b[0;38;5;81m,\u001b[m\n",
      "            \u001b[0;38;5;104mOpType\u001b[m    \u001b[0;38;5;81m   \u001b[m\u001b[0;38;5;81m\"\u001b[m\u001b[0;38;5;107mStatefulPartitionedCall\u001b[m\u001b[0;38;5;81m\"\u001b[m\n",
      "        \u001b[0;38;5;81m}\u001b[m\n",
      "    \u001b[0;38;5;81m}\u001b[m\u001b[0;38;5;81m,\u001b[m\n",
      "    \u001b[0;38;5;104moutputs_mouse\u001b[m\u001b[0;38;5;81m   \u001b[m\u001b[0;38;5;176mAI::TensorFlow::Libtensorflow::Output\u001b[m \u001b[0;38;5;81m{\u001b[m\n",
      "        \u001b[0;38;5;104mindex\u001b[m\u001b[0;38;5;81m   \u001b[m\u001b[0;38;5;209m1\u001b[m\u001b[0;38;5;81m,\u001b[m\n",
      "        \u001b[0;38;5;104moper\u001b[m \u001b[0;38;5;81m   \u001b[m\u001b[0;38;5;176mAI::TensorFlow::Libtensorflow::Operation\u001b[m \u001b[0;38;5;81m{\u001b[m\n",
      "            \u001b[0;38;5;104mName\u001b[m      \u001b[0;38;5;81m   \u001b[m\u001b[0;38;5;81m\"\u001b[m\u001b[0;38;5;107mStatefulPartitionedCall\u001b[m\u001b[0;38;5;81m\"\u001b[m\u001b[0;38;5;81m,\u001b[m\n",
      "            \u001b[0;38;5;104mNumInputs\u001b[m \u001b[0;38;5;81m   \u001b[m\u001b[0;38;5;209m274\u001b[m\u001b[0;38;5;81m,\u001b[m\n",
      "            \u001b[0;38;5;104mNumOutputs\u001b[m\u001b[0;38;5;81m   \u001b[m\u001b[0;38;5;209m2\u001b[m\u001b[0;38;5;81m,\u001b[m\n",
      "            \u001b[0;38;5;104mOpType\u001b[m    \u001b[0;38;5;81m   \u001b[m\u001b[0;38;5;81m\"\u001b[m\u001b[0;38;5;107mStatefulPartitionedCall\u001b[m\u001b[0;38;5;81m\"\u001b[m\n",
      "        \u001b[0;38;5;81m}\u001b[m\n",
      "    \u001b[0;38;5;81m}\u001b[m\n",
      "\u001b[0;38;5;81m}\u001b[m\n"
     ]
    }
   ],
   "source": [
    "my $opt = AI::TensorFlow::Libtensorflow::SessionOptions->New;\n",
    "\n",
    "my @tags = ( 'serve' );\n",
    "my $graph = AI::TensorFlow::Libtensorflow::Graph->New;\n",
    "my $session = AI::TensorFlow::Libtensorflow::Session->LoadFromSavedModel(\n",
    "    $opt, undef, $new_model_base, \\@tags, $graph, undef, $s\n",
    ");\n",
    "AssertOK($s);\n",
    "\n",
    "my %puts = (\n",
    "    ## Inputs\n",
    "    inputs_args_0 =>\n",
    "        AI::TensorFlow::Libtensorflow::Output->New({\n",
    "            oper => $graph->OperationByName('serving_default_args_0'),\n",
    "            index => 0,\n",
    "        }),\n",
    "\n",
    "    ## Outputs\n",
    "    outputs_human  =>\n",
    "        AI::TensorFlow::Libtensorflow::Output->New({\n",
    "            oper => $graph->OperationByName('StatefulPartitionedCall'),\n",
    "            index => 0,\n",
    "        }),\n",
    "    outputs_mouse  =>\n",
    "        AI::TensorFlow::Libtensorflow::Output->New({\n",
    "            oper => $graph->OperationByName('StatefulPartitionedCall'),\n",
    "            index => 1,\n",
    "    }),\n",
    ");\n",
    "\n",
    "p %puts;"
   ]
  },
  {
   "cell_type": "markdown",
   "id": "cda15cc2",
   "metadata": {},
   "source": [
    "We need a helper to simplify running the session and getting just the predictions that we want."
   ]
  },
  {
   "cell_type": "code",
   "execution_count": 12,
   "id": "0ba71ab8",
   "metadata": {},
   "outputs": [],
   "source": [
    "my $predict_on_batch = sub {\n",
    "    my ($session, $t) = @_;\n",
    "    my @outputs_t;\n",
    "\n",
    "    $session->Run(\n",
    "        undef,\n",
    "        [$puts{inputs_args_0}], [$t],\n",
    "        [$puts{outputs_human}], \\@outputs_t,\n",
    "        undef,\n",
    "        undef,\n",
    "        $s\n",
    "    );\n",
    "    AssertOK($s);\n",
    "\n",
    "    return $outputs_t[0];\n",
    "};\n",
    "\n",
    "undef;"
   ]
  },
  {
   "cell_type": "markdown",
   "id": "c6c2695b",
   "metadata": {},
   "source": [
    "## Encoding the data\n",
    "\n",
    "The model specifies that the way to get a sequence of DNA bases into a `TFTensor` is to use [one-hot encoding](https://en.wikipedia.org/wiki/One-hot#Machine_learning_and_statistics) in the order `ACGT`.\n",
    "\n",
    "This means that the bases are represented as vectors of length 4:\n",
    "\n",
    "| base | vector encoding |\n",
    "|------|-----------------|\n",
    "| A    | `[1 0 0 0]`     |\n",
    "| C    | `[0 1 0 0]`     |\n",
    "| G    | `[0 0 1 0]`     |\n",
    "| T    | `[0 0 0 1]`     |\n",
    "| N    | `[0 0 0 0]`     |\n",
    "\n",
    "\n",
    "We can achieve this encoding by creating a lookup table with a PDL ndarray. This could be done by creating a byte PDL ndarray of dimensions `[ 256 4 ]` to directly look up the the numeric value of characters 0-255, but here we'll go with a smaller `[ 5 4 ]` ndarray and transliterate the numeric values of `NACGT` to 0-4."
   ]
  },
  {
   "cell_type": "code",
   "execution_count": 13,
   "id": "e8d7273d",
   "metadata": {
    "scrolled": false
   },
   "outputs": [
    {
     "name": "stdout",
     "output_type": "stream",
     "text": [
      "Testing one-hot encoding:\n",
      "\n",
      "Encoder is\n",
      "PDL: Float D [5,4]\n",
      "[\n",
      " [0 1 0 0 0]\n",
      " [0 0 1 0 0]\n",
      " [0 0 0 1 0]\n",
      " [0 0 0 0 1]\n",
      "]\n",
      "\n",
      "One-hot encoding of sequence 'ACGTNtgcan' is:\n",
      "PDL: Float D [4,10]\n",
      "[\n",
      " [1 0 0 0]\n",
      " [0 1 0 0]\n",
      " [0 0 1 0]\n",
      " [0 0 0 1]\n",
      " [0 0 0 0]\n",
      " [0 0 0 1]\n",
      " [0 0 1 0]\n",
      " [0 1 0 0]\n",
      " [1 0 0 0]\n",
      " [0 0 0 0]\n",
      "]\n",
      "\n"
     ]
    },
    {
     "data": {
      "text/plain": [
       "1"
      ]
     },
     "execution_count": 13,
     "metadata": {},
     "output_type": "execute_result"
    }
   ],
   "source": [
    "use PDL;\n",
    "\n",
    "our $SHOW_ENCODER = 1;\n",
    "\n",
    "sub one_hot_dna {\n",
    "    my ($seq) = @_;\n",
    "\n",
    "    my $from_alphabet = \"NACGT\";\n",
    "    my $to_alphabet   = pack \"C*\", 0..length($from_alphabet)-1;\n",
    "\n",
    "    # sequences from UCSC genome have both uppercase and lowercase bases\n",
    "    my $from_alphabet_tr = $from_alphabet . lc $from_alphabet;\n",
    "    my $to_alphabet_tr   = $to_alphabet x 2;\n",
    "\n",
    "    my $p = zeros(byte, bytes::length($seq));\n",
    "    my $p_dataref = $p->get_dataref;\n",
    "    ${ $p_dataref } = $seq;\n",
    "    eval \"tr/$from_alphabet_tr/$to_alphabet_tr/\" for ${ $p_dataref };\n",
    "    $p->upd_data;\n",
    "\n",
    "    my $encoder = append(float(0), identity(float(length($from_alphabet)-1)) );\n",
    "    say \"Encoder is\\n\", $encoder->info, $encoder if $SHOW_ENCODER;\n",
    "\n",
    "    my $encoded  = $encoder->index( $p->dummy(0) );\n",
    "\n",
    "    return $encoded;\n",
    "}\n",
    "\n",
    "####\n",
    "\n",
    "{\n",
    "\n",
    "say \"Testing one-hot encoding:\\n\";\n",
    "\n",
    "my $onehot_test_seq = \"ACGTNtgcan\";\n",
    "my $test_encoded = one_hot_dna( $onehot_test_seq );\n",
    "$SHOW_ENCODER = 0;\n",
    "\n",
    "say \"One-hot encoding of sequence '$onehot_test_seq' is:\";\n",
    "say $test_encoded->info, $test_encoded;\n",
    "\n",
    "}"
   ]
  },
  {
   "cell_type": "markdown",
   "id": "345cc422",
   "metadata": {},
   "source": [
    "Note that in the above, the PDL ndarray's\n",
    "\n",
    " * first dimension is 4 which matches the last dimension of the input `TFTensor`;\n",
    " * second dimension is the sequence length which matches the penultimate dimension of the input `TFTensor`.\n",
    "\n",
    "Now we need a way to deal with the sequence interval. We're going to use 1-based coordinates as BioPerl does. In fact, we'll extend a BioPerl class."
   ]
  },
  {
   "cell_type": "code",
   "execution_count": 14,
   "id": "39d330f6",
   "metadata": {},
   "outputs": [
    {
     "name": "stdout",
     "output_type": "stream",
     "text": [
      "Testing interval resizing:\n",
      "\n",
      "Testing interval chr11:4..8 with length 5\n",
      "-----\n",
      "Interval: chr11:4..8 -> chr11:4..8, length  5 : 5 -> 5 (+ 0)\n",
      "Interval: chr11:4..8 -> chr11:3..8, length  6 : 5 -> 6 (+ 1)\n",
      "Interval: chr11:4..8 -> chr11:3..9, length  7 : 5 -> 7 (+ 2)\n",
      "Interval: chr11:4..8 -> chr11:2..9, length  8 : 5 -> 8 (+ 3)\n",
      "Interval: chr11:4..8 -> chr11:2..10, length  9 : 5 -> 9 (+ 4)\n",
      "Interval: chr11:4..8 -> chr11:1..10, length 10 : 5 -> 10 (+ 5)\n",
      "\n",
      "Testing interval chr11:5..8 with length 4\n",
      "-----\n",
      "Interval: chr11:5..8 -> chr11:5..8, length  4 : 4 -> 4 (+ 0)\n",
      "Interval: chr11:5..8 -> chr11:5..9, length  5 : 4 -> 5 (+ 1)\n",
      "Interval: chr11:5..8 -> chr11:4..9, length  6 : 4 -> 6 (+ 2)\n",
      "Interval: chr11:5..8 -> chr11:4..10, length  7 : 4 -> 7 (+ 3)\n",
      "Interval: chr11:5..8 -> chr11:3..10, length  8 : 4 -> 8 (+ 4)\n",
      "Interval: chr11:5..8 -> chr11:3..11, length  9 : 4 -> 9 (+ 5)\n",
      "\n",
      "Testing interval chr11:5..9 with length 5\n",
      "-----\n",
      "Interval: chr11:5..9 -> chr11:5..9, length  5 : 5 -> 5 (+ 0)\n",
      "Interval: chr11:5..9 -> chr11:4..9, length  6 : 5 -> 6 (+ 1)\n",
      "Interval: chr11:5..9 -> chr11:4..10, length  7 : 5 -> 7 (+ 2)\n",
      "Interval: chr11:5..9 -> chr11:3..10, length  8 : 5 -> 8 (+ 3)\n",
      "Interval: chr11:5..9 -> chr11:3..11, length  9 : 5 -> 9 (+ 4)\n",
      "Interval: chr11:5..9 -> chr11:2..11, length 10 : 5 -> 10 (+ 5)\n",
      "\n",
      "Testing interval chr11:6..9 with length 4\n",
      "-----\n",
      "Interval: chr11:6..9 -> chr11:6..9, length  4 : 4 -> 4 (+ 0)\n",
      "Interval: chr11:6..9 -> chr11:6..10, length  5 : 4 -> 5 (+ 1)\n",
      "Interval: chr11:6..9 -> chr11:5..10, length  6 : 4 -> 6 (+ 2)\n",
      "Interval: chr11:6..9 -> chr11:5..11, length  7 : 4 -> 7 (+ 3)\n",
      "Interval: chr11:6..9 -> chr11:4..11, length  8 : 4 -> 8 (+ 4)\n",
      "Interval: chr11:6..9 -> chr11:4..12, length  9 : 4 -> 9 (+ 5)\n",
      "\n"
     ]
    }
   ],
   "source": [
    "package Interval {\n",
    "    use Bio::Location::Simple ();\n",
    "\n",
    "    use parent qw(Bio::Location::Simple);\n",
    "\n",
    "    sub center {\n",
    "        my $self = shift;\n",
    "        my $center = int( ($self->start + $self->end ) / 2 );\n",
    "        my $delta = ($self->start + $self->end ) % 2;\n",
    "        return $center + $delta;\n",
    "    }\n",
    "\n",
    "    sub resize {\n",
    "        my ($self, $width) = @_;\n",
    "        my $new_interval = $self->clone;\n",
    "\n",
    "        my $center = $self->center;\n",
    "        my $half   = int( ($width-1) / 2 );\n",
    "        my $offset = ($width-1) % 2;\n",
    "\n",
    "        $new_interval->start( $center - $half - $offset );\n",
    "        $new_interval->end(   $center + $half  );\n",
    "\n",
    "        return $new_interval;\n",
    "    }\n",
    "\n",
    "    use overload '\"\"' => \\&_op_stringify;\n",
    "\n",
    "    sub _op_stringify { sprintf \"%s:%s\", $_[0]->seq_id // \"(no sequence)\", $_[0]->to_FTstring }\n",
    "}\n",
    "\n",
    "#####\n",
    "\n",
    "{\n",
    "\n",
    "say \"Testing interval resizing:\\n\";\n",
    "sub _debug_resize {\n",
    "    my ($interval, $to, $msg) = @_;\n",
    "\n",
    "    my $resized_interval = $interval->resize($to);\n",
    "\n",
    "    die \"Wrong interval size for $interval --($to)--> $resized_interval\"\n",
    "        unless $resized_interval->length == $to;\n",
    "\n",
    "    say sprintf \"Interval: %s -> %s, length %2d : %s\",\n",
    "        $interval,\n",
    "        $resized_interval, $resized_interval->length,\n",
    "        $msg;\n",
    "}\n",
    "\n",
    "for my $interval_spec ( [4, 8], [5, 8], [5, 9], [6, 9]) {\n",
    "    my ($start, $end) = @$interval_spec;\n",
    "    my $test_interval = Interval->new( -seq_id => 'chr11', -start => $start, -end => $end );\n",
    "    say sprintf \"Testing interval %s with length %d\", $test_interval, $test_interval->length;\n",
    "    say \"-----\";\n",
    "    for(0..5) {\n",
    "        my $base = $test_interval->length;\n",
    "        my $to = $base + $_;\n",
    "        _debug_resize $test_interval, $to, \"$base -> $to (+ $_)\";\n",
    "    }\n",
    "    say \"\";\n",
    "}\n",
    "\n",
    "}\n",
    "\n",
    "undef;"
   ]
  },
  {
   "cell_type": "code",
   "execution_count": 15,
   "id": "9dd8ddfd",
   "metadata": {
    "scrolled": true
   },
   "outputs": [
    {
     "name": "stdout",
     "output_type": "stream",
     "text": [
      "Testing sequence extraction:\n",
      "1 base: G (length 1)\n",
      "3 bases: NNN (length 3)\n",
      "5 bases: NNNNN (length 5)\n",
      "chr11 is of length 135086622\n",
      "chr11 bases: NNNNNNNNNN...NNNNNNNNNN (length 135086622)\n"
     ]
    },
    {
     "data": {
      "text/plain": [
       "1"
      ]
     },
     "execution_count": 15,
     "metadata": {},
     "output_type": "execute_result"
    }
   ],
   "source": [
    "use Bio::DB::HTS::Faidx;\n",
    "\n",
    "my $hg_db = Bio::DB::HTS::Faidx->new( $hg_bgz_path );\n",
    "\n",
    "sub extract_sequence {\n",
    "    my ($db, $interval) = @_;\n",
    "\n",
    "    my $chrom_length = $db->length($interval->seq_id);\n",
    "\n",
    "    my $trimmed_interval = $interval->clone;\n",
    "    $trimmed_interval->start( List::Util::max( $interval->start, 1               ) );\n",
    "    $trimmed_interval->end(   List::Util::min( $interval->end  , $chrom_length   ) );\n",
    "\n",
    "    # Bio::DB::HTS::Faidx is 0-based for both start and end points\n",
    "    my $seq = $db->get_sequence2_no_length(\n",
    "        $trimmed_interval->seq_id,\n",
    "        $trimmed_interval->start - 1,\n",
    "        $trimmed_interval->end   - 1,\n",
    "    );\n",
    "\n",
    "    my $pad_upstream   = 'N' x List::Util::max( -($interval->start-1), 0 );\n",
    "    my $pad_downstream = 'N' x List::Util::max( $interval->end - $chrom_length, 0 );\n",
    "\n",
    "    return join '', $pad_upstream, $seq, $pad_downstream;\n",
    "}\n",
    "\n",
    "sub seq_info {\n",
    "    my ($seq, $n) = @_;\n",
    "    $n ||= 10;\n",
    "    if( length $seq > $n ) {\n",
    "        sprintf \"%s...%s (length %d)\", uc substr($seq, 0, $n), uc substr($seq, -$n), length $seq;\n",
    "    } else {\n",
    "        sprintf \"%s (length %d)\", uc $seq, length $seq;\n",
    "    }\n",
    "}\n",
    "\n",
    "####\n",
    "\n",
    "{\n",
    "\n",
    "say \"Testing sequence extraction:\";\n",
    "\n",
    "say \"1 base: \",   seq_info\n",
    "    extract_sequence( $hg_db,\n",
    "        Interval->new( -seq_id => 'chr11',\n",
    "            -start => 35_082_742 + 1,\n",
    "            -end   => 35_082_742 + 1 ) );\n",
    "\n",
    "say \"3 bases: \",  seq_info\n",
    "    extract_sequence( $hg_db,\n",
    "        Interval->new( -seq_id => 'chr11',\n",
    "            -start => 1,\n",
    "            -end   => 1 )->resize(3) );\n",
    "\n",
    "say \"5 bases: \", seq_info\n",
    "    extract_sequence( $hg_db,\n",
    "        Interval->new( -seq_id => 'chr11',\n",
    "            -start => $hg_db->length('chr11'),\n",
    "            -end   => $hg_db->length('chr11') )->resize(5) );\n",
    "\n",
    "say \"chr11 is of length \", $hg_db->length('chr11');\n",
    "say \"chr11 bases: \", seq_info\n",
    "    extract_sequence( $hg_db,\n",
    "        Interval->new( -seq_id => 'chr11',\n",
    "            -start => 1,\n",
    "            -end   => $hg_db->length('chr11') )->resize( $hg_db->length('chr11') ) );\n",
    "}"
   ]
  },
  {
   "cell_type": "markdown",
   "id": "082e2c46",
   "metadata": {},
   "source": [
    "Now we can use the same target interval that is used in the example notebook which recreates part of [figure 1](https://www.nature.com/articles/s41592-021-01252-x/figures/1) from the Enformer paper."
   ]
  },
  {
   "cell_type": "code",
   "execution_count": 16,
   "id": "2292a3ba",
   "metadata": {},
   "outputs": [
    {
     "name": "stdout",
     "output_type": "stream",
     "text": [
      "Target interval: chr11:35082743..35197430 with length 114688\n",
      "Target sequence is GGTGGCAGCC...ATCTCCTTTT (length 114688)\n",
      "\n",
      "Resized interval: chr11:34943479..35336694 with length 393216\n",
      "Resized sequence is ACTAGTTCTA...GGCCCAAATC (length 393216)\n"
     ]
    },
    {
     "data": {
      "text/plain": [
       "1"
      ]
     },
     "execution_count": 16,
     "metadata": {},
     "output_type": "execute_result"
    }
   ],
   "source": [
    "my $target_interval = Interval->new( -seq_id => 'chr11',\n",
    "    -start => 35_082_742 +  1, # BioPerl is 1-based\n",
    "    -end   => 35_197_430 );\n",
    "\n",
    "say \"Target interval: $target_interval with length @{[ $target_interval->length ]}\";\n",
    "\n",
    "die \"Target interval is not $model_central_base_pairs_length bp long\"\n",
    "    unless $target_interval->length == $model_central_base_pairs_length;\n",
    "\n",
    "say \"Target sequence is \", seq_info extract_sequence( $hg_db, $target_interval );\n",
    "\n",
    "\n",
    "say \"\";\n",
    "\n",
    "\n",
    "my $resized_interval = $target_interval->resize( $model_sequence_length );\n",
    "say \"Resized interval: $resized_interval with length @{[ $resized_interval->length ]}\";\n",
    "\n",
    "die \"resize() is not working properly!\" unless $resized_interval->length == $model_sequence_length;\n",
    "\n",
    "my $seq = extract_sequence( $hg_db, $resized_interval );\n",
    "\n",
    "say \"Resized sequence is \", seq_info($seq);"
   ]
  },
  {
   "cell_type": "markdown",
   "id": "dcaad7e2",
   "metadata": {},
   "source": [
    "To prepare the input we have to one-hot encode this resized sequence and give it a dummy dimension at the end to indicate that it is is a batch with a single sequence. Then we can turn the PDL ndarray into a `TFTensor` and pass it to our prediction function."
   ]
  },
  {
   "cell_type": "code",
   "execution_count": 17,
   "id": "1eeca53a",
   "metadata": {},
   "outputs": [
    {
     "name": "stdout",
     "output_type": "stream",
     "text": [
      "PDL: Float D [4,393216,1]\n"
     ]
    }
   ],
   "source": [
    "my $sequence_one_hot = one_hot_dna( $seq )->dummy(-1);\n",
    "\n",
    "say $sequence_one_hot->info; undef;"
   ]
  },
  {
   "cell_type": "code",
   "execution_count": 18,
   "id": "5effa39f",
   "metadata": {
    "scrolled": true
   },
   "outputs": [
    {
     "name": "stderr",
     "output_type": "stream",
     "text": [
      "\u001b[0;38;5;176mAI::TensorFlow::Libtensorflow::Tensor\u001b[m \u001b[0;38;5;81m{\u001b[m\n",
      "    \u001b[0;38;5;104mType           \u001b[m \u001b[0;38;5;176mFLOAT\u001b[m\n",
      "    \u001b[0;38;5;104mDims           \u001b[m \u001b[0;38;5;81m[\u001b[m \u001b[0;38;5;209m1\u001b[m \u001b[0;38;5;209m896\u001b[m \u001b[0;38;5;209m5313\u001b[m \u001b[0;38;5;81m]\u001b[m\n",
      "    \u001b[0;38;5;104mNumDims        \u001b[m \u001b[0;38;5;209m3\u001b[m\n",
      "    \u001b[0;38;5;104mElementCount   \u001b[m \u001b[0;38;5;209m4760448\u001b[m\n",
      "\u001b[0;38;5;81m}\u001b[m\n",
      "\n",
      "\n",
      "Devel::Timer Report -- Total time: 14.5641 secs\n",
      "Interval  Time    Percent\n",
      "----------------------------------------------\n",
      "01 -> 02  14.5634  100.00%  prediction of sequence -> End of prediction of sequence\n",
      "02 -> 03  0.0007   0.00%  End of prediction of sequence -> END\n",
      "00 -> 01  0.0000   0.00%  INIT -> prediction of sequence\n"
     ]
    }
   ],
   "source": [
    "use Devel::Timer;\n",
    "my $t = Devel::Timer->new;\n",
    "\n",
    "$t->mark('prediction of sequence');\n",
    "\n",
    "my $predictions = $predict_on_batch->( $session, FloatPDLTOTFTensor( $sequence_one_hot ) );\n",
    "\n",
    "$t->mark('End of prediction of sequence');\n",
    "\n",
    "p $predictions;\n",
    "\n",
    "$t->mark('END');\n",
    "$t->report();"
   ]
  },
  {
   "cell_type": "markdown",
   "id": "d57c49ed",
   "metadata": {},
   "source": [
    "Now we turn the `TFTensor` output into a PDL ndarray."
   ]
  },
  {
   "cell_type": "code",
   "execution_count": 19,
   "id": "900163c8",
   "metadata": {
    "scrolled": false
   },
   "outputs": [
    {
     "name": "stdout",
     "output_type": "stream",
     "text": [
      "PDL: Float D [5313,896]\n"
     ]
    }
   ],
   "source": [
    "my $predictions_p = FloatTFTensorToPDL($predictions)->slice(',,(0)');\n",
    "say $predictions_p->info; undef;"
   ]
  },
  {
   "cell_type": "markdown",
   "id": "8f751027",
   "metadata": {},
   "source": [
    "## Plot predicted tracks\n",
    "\n",
    "These predictions can be plotted "
   ]
  },
  {
   "cell_type": "code",
   "execution_count": 20,
   "id": "ee878a9b",
   "metadata": {},
   "outputs": [
    {
     "data": {
      "image/png": "PNG\r\n\u001a\n\u0000\u0000\u0000\rIHDR\u0000\u0000\u0003è\u0000\u0000\u0003 \b\u0002\u0000\u0000\u0000?zßj\u0000\u0000 \u0000IDATxìÝw`\u0014Uâ\u0007ð7[Ò;!\u0004\u0002\u0004¥*5\u001a:\b§  \bêÞá `AQ\u0004\u0005EEAE¹\u0013\u007fØ\u000e\u0005\u000b¨X°R\u0014\u0018\b$@zÝd{oS\u007f\u007fLXô,aÈ÷ó×îì7»³³ßyóÞ[J\u0010\u0004\u0002\u0000\u0000\u0000\u0000\u0000W7Yg\u0017\u0000\u0000\u0000\u0000\u0000\u0000Zà\u000e\u0000\u0000\u0000\u0000 \u0001\bî\u0000\u0000\u0000\u0000\u0000\u0012à\u000e\u0000\u0000\u0000\u0000 \u0001\bî\u0000\u0000\u0000\u0000\u0000\u0012à\u000e\u0000\u0000\u0000\u0000 \u0001\bî\u0000\u0000\u0000\u0000\u0000\u0012à\u000e\u0000\u0000\u0000\u0000 \u0001\bî\u0000\u0000\u0000\u0000\u0000\u0012à\u000e\u0000\u0000\u0000\u0000 \u0001\bî\u0000pm7o^JJJkæÌÎÎ~ì±Çâãã)ª©©ñLgYvÓ¦M\u007fùË_JåæÍZ¼¦¦æÑG\u001f½þúëýýý\u0013\u0012\u0012vîÜÉqøÒ\u0017_|Ayñ^J¥ZºtixxøÈ#\u007fþùgÏô\u0013'NÌ9300°oß¾ÿùÏ\u007fL&8ýÛo¿5kVHHHß¾}7lØ ×ëÅé\u0007\u000f\u001e¤.7kÖ¬z%|ûí·):|øp\u0005nÇ}læÝ3Ío½õV\\\\\\ttôÚµk;n_¾ÿþûáÃ?ýôÓÞ,\u0000D):»\u0000\u0000\u0000Ìf³ÝqÇ\u001d\u0013'N\\¸p¡÷tçýüü^~ùåO?ý´Åårùüùó/_\u001e\u0014\u0014TQQ±`Á°°°9sæ¯>ÿüóO>ù¤ø888X|À0Ì%K&MTPPPYY9gÎèèèI&M2å\u007fÿûß\u0017_|¡Óé^|ñEA\u0010V¯^M\bIMM}ñÅ\u0017{÷îm0\u0018Þyç^ziË-qãÆUVVz\n<cÆ\u001f~Ø»xÙÙÙ\u0019\u0019\u0019M·XàöÚÇfÞ½\r\u001b6L¦cÇ\u0005\u0004\u0004lÛ¶mÍ5\u001f~ø!EQí»/\u000f\u001f^¾|ùîÝ»{õêµ}ûöeË}ýõ×\n\u0005~õ\u0000@Ê\u0004\u0000\u0000ãy>###)))99977W8wîÜäää¤¤¤\u0007\u000fZ­VqzUUURRÝn?|øpRRg%¹¹¹\u0010JÕpý+V¬øï\u007fÿÛÊÂ¼úê«ëÖ­\u0013\u001fïØ±ã7Þh8ÏñãÇCBBL&øô\u007fÿûßý÷ß/\bÂ#GJ%Çqâô={öÌ5«áâiii\u0010£ÑXozVV\\.¯ªªòL±ÛíÓ¦MËÏÏ\u000f\r\rýý÷ß[,p;î£G½wÏ`0P\u0014.>U©T\u0010Ï§Öûò×¿þõË/¿\u0014\u001fëõú'O¶~\u001f\u0001\u0000®Bh*\u0003\u0000ÒÆ0ÌK/½´téÒªªªåËó</¾ôý÷ß¯]»V¥R½÷Þ{+V¬\u0010§WTT,\\¸péÒ¥©©©§Nòm£ÉÉÉ=zôhXsçÎíÝ»wÜ¸qEEEÛ¶mûî»ïN>í¨Õj'O\u001c\u001e\u001e.>½þúë÷ìÙÃ²lÿþýýýýwïÞíp8ÊËËwîÜ¹`Á[§i:22200°ÞôÃ\u000f/^¼8..Î3eçÎóæÍ\u001b2dH£{Ñh×ú}lÅb\u0011\u0004!$$D|\u001a\u0015\u0015E\biØå\n÷¦é}ûöõë×Ï³\t\u0013&hµÚVî&\u0000ÀÕ\tÁ\u001d\u0000¤íÐ¡Cû÷ïÿõ×_\u001fzè¡E\u0016\u001d8p@&«;³Q\u0014µcÇ\u000b\u0017~úé§;vìÈÏÏ\u0017§×ÔÔ<òÈ#/½ôÒ/¾èÛF£££-[æ=eÖ¬Y~~~Ã\u000f¿ÿþûo¿ývq¢B¡\u00184hPtttQQÑ\t\u0013<Fªªªâãã=Ë\u0006\u0007\u0007[­V³Ù\u001c\u0017\u0017wäÈç{.88¸_¿~QQQ÷Ýw_½M[­Ö\u001b7nØ°Áßßß{ºÝnß¸qãüùó=S\n\u000b\u000b·lÙÒhôoªÀÍkÓ>6¥W¯^×_\u007f½ç³8sæ\f!Äét¶ï¾\u0018FËå¹< ÄÇÇ×ÖÖ¶f7\u0001\u0000®Zhí\u0007\u0000ÒôäO\u0015·\u0010Oj'ÜsÏ=bæîÝ»_wÝuF£Q\u001e\u0019\u0019Ùú:æF%$$$$$xOÙ¹s§Ãá(++{üñÇ\u000f\u001f~Ûm·\u0011B<ÑsîÜ¹cÇ9sæ¬Y³¼këÑjµk×®ýÏ\u007fþsË-·ètº\u007fÿûß\u001f|ðÁÓO?íÁív¿ñÆ\u001b×]w]Ã\b{êÔ)¢F\u001e->e\u0018fÝºuï¼óNXXX£Ûj´ÀÍk}T*\u001f~øáÝwß]RR\u0012\u0016\u0016¶yóæ\u0004ïOíÏÙ\u0017\u0000\u0000)B;\u0000H^¯ïÞ½{£/Q\u0014åy¬P(\u0004A\u0010\u001fÕKW.222..nâÄ\u001b6lX·n]Ã\u0019&NÈ²lyy9!¤wïÞâ\u0003Ýn\u000f\r\r\r\u000f\u000fOMMÉdwß}w·nÝ\u0006\u000f\u001eüðÃ\u000f¿ðÂ\u000bn·[a7ß|S§Ó½ñÆ\u001b\rÛÉìÜ¹sÕªUééé'Np¹\\ÉÉÉÉÉÉ\u001cÇeddüñÇ\u001f­/ð\u0015îc3fÌ=jÔ¨þýû§¤¤X­Öz»såû\u0012\u0019\u0019\u0019\u0010\u0010`³Ù<óÇÆÆ¶f7\u0001\u0000®Z\bî\u0000 mãÇoå°\u007f\u000eahn8]lÆ-ÑîÝ»§¦¦Z,\u0016ñ¥;ï¼S¡P8NÏÕ\u0005!D\u0010\u0004aÄÇ,ËnØ°¡¨¨hãÆ\r+«««·mÛ6eÊ\u0014ÏU«V\u0015_Äó¼J¥j´­HS\u0005¾Â}lÞÀ\u0003§O>mÚ´êêêÊÊÊ¡C¶ï¾øùùÍ=Ûs\ta4\u001aÓÒÒºÀ\u0003\u0000\n4\u0001\u0000i»ýöÛ\u007fþùñãÇÏ1\u0010rîÜ¹\u0013'z×µ·Èét\u001aFFC\bQ«Õ tëÖMlA®ÑhXµÙlf³Y¥RùùùEGG\u0013B²²²öîÝûÊ+¯m6[\\\\\\./..~æg^}õUqÍ;wî\u001c:thTTF£Ù¼yóßÿþw1¡Þ|óÍS§NÝ²eËÂ\u000b«ªªV¯^½k×.BÈ!CöîÝûÓO?ÝrË-z½þ³Ï>{ê©§üýý\u0005Axûí·÷ìÙóñÇ\u001f;N±ExLLgpÃ\u0013'N\u001f?~äÈ\u001a4hÐ A<O{î¹¹sçN:µù\u0002§¤¤äçç?õÔS\u0010Íöÿüçÿüç!C|ØÇfÞ½óçÏÛl¶èèhJõÜsÏ}øáÞ=}Ûk_|òÉ\u0005\u000b\u0016ÜpÃ\râpsæÌ©×º\t\u0000@z:sH\u001b\u0000öwÿý÷ÄÅÅ=ûì³<Ï\u000b\u0017ôÌ3tèÐ£G\n\u0016\u001f\u001fï½¸çß|<<ã\u0006\u001f?Þ{úüùóÅéIII111âãÜÜÜ¿ýío111·ÜrË÷ß\u007fÏ²¬øÒÊ+\u0007\u000e\u001cèïï\u007fýõ×¿õÖ[Z­Ö³Ñêêê'x\"44tÄ\u0011?þø£gzRRÒÔ©Sýýý{÷îýÆ\u001boèõzA\u0010<­e¼\u0015\u0015\u0015ð<?yòä]»v5ó\u0016y\u000f¡ØL·oß>{ölñ±ø¿H\u007füñÏûØÔ»wäÈQ£F\u0005\u0004\u0004\u001b7î\u001f~\u0010?¯vß\u0017A\u0010víÚ5lØ°°°°§zªÑ>\u0001\u0000¤\u0012¼nË\u0002\u0000\u0000\u0000\u0000ÀÕ\tmÜ\u0001\u0000\u0000\u0000\u0000$\u0000Á\u001d\u0000\u0000\u0000\u0000@\u0002\u0010Ü\u0001\u0000\u0000\u0000\u0000$\u0000Á\u001d\u0000\u0000\u0000\u0000@\u0002\u0010Ü\u0001\u0000\u0000\u0000\u0000$\u0000Á\u001d\u0000\u0000\u0000\u0000@\u0002\u0010Ü\u0001\u0000\u0000\u0000\u0000$\u0000Á\u001d\u0000\u0000\u0000\u0000@\u0002\u0010Ü\u0001\u0000\u0000\u0000\u0000$\u0000Á\u001d\u0000\u0000\u0000\u0000@\u0002\u0010Ü\u0001\u0000\u0000\u0000\u0000$\u0000Á\u001d\u0000\u0000\u0000\u0000@\u0002\u0010Ü\u0001\u0000\u0000\u0000\u0000$\u0000Á\u001d\u0000þTyyy\u0014EQ\u0014¥P(bccï¹ç~úÉn·{fXµj\u0015EQ\u007füñgÊûï¿ÿòË/{¯äðáÃ\u0014EýøãÞ\u00135\u001aÍë¯¿Þ·oß\u0011#F¼òÊ+F£Ñ{\u001eM\u0010{î¹'222\"\"âÞ{ïMNNæy¾Å2ggg?öØcñññ\u0014EÕÔÔ4\\sEEEDDÄØ±c}zÏZ+33Ó³kG\u001e-++ó¼ôà\u000f&''wèÖ¯\u0006õöºt:ÝâÅ£££; PuºÈG\u0000\u0000\u001d\nÁ\u001d\u0000:ÁéÓ§U*UZZÚ²eË>ûì³Å\u0017[,\u0016Ï«QQQÿþ÷¿9kjñ;wöë×ï\u000f>\u0010\u0004Á3ñg±Ûíûöí+..Þ¹sçÐ¡C].çÕôôôÊrss\u001b]íûï¿ÿØc=úè£YYYgÏ}ê©§¶nÝª×ë[,³Íf»ã;^\u007fýõFWËóü[o½5kÖ¬V¿=>êÕ«×\u001d;ÄÇ7o.,,ô¼´`Áþýûwt\u0001:]½½n¥'O:\u001c\u000eF£Óé:¢T\u0000\u0000íEÑÙ\u0005\u0000®(***&&&&&æúë¯\u001f>|ø\t\u0013öîÝ{ÿý÷¯>ÿüó;vì8vìØÔ©S\u001b.[]]½mÛ¶}ûöÝyç999#F hµÚ¯¾ú*##cøðá\u001e=z\f\u001b6Ì{©ØØØÞ½{7S¤åËggg+$ôíÛwôèÑr¹\\«Õ6_æ\u0013'\u0012BÎ;×è\u000f\u001c8\u0010\u001a\u001a:oÞ¼5kÖ4:Cuuu^^ÞøñãO:Å²l¿~ý\u0006\u000e\u001cèyµ¼¼¼°°P\u0010¸¸¸\u001bo¼Ñ3=??¿ªª\u0010âïï?räÈððp¢\u0002\u0002\u0002\b!YYYjµ:++\u0010BQÔ´iÓüüüd2\u0019!¤¨¨¨¦¦fòäÉõ\u001c<xpÀ\u0001ñññâÛxöìYçÃÂÂF\u001e-.Ò°¨\u0013'N<yò$Ã0\u0007\u000fîÛ·ommmnn.EQáááâ\fÃ¤§§;N¥R\u0018\u0012\u0012âY|Ò¤Iééé\fÃÔÛ£¦öT§Ó={ã8\u007f\u007fÿQ£F\u0005\u0005\u0005ýþûïÃ\rëÙ³§8CEEEAAATTT½½&\ba2d2Ù°aÃzôèQoN8¦T*ÓÒÒ¢££\u0013\u0012\u0012ZäÈ#ýúõs¹\\\u0015\u0015\u0015\u0001\u0001\u0001ãÆËå'O´Z­Ý»w\u001f5j8ÕjÍÎÎv:\u0014E\r\u001c8P|cëi±T\u0000\u0000B;\u0000t²nÝº=ûì³Û·o÷LX¿~ýúõë\u0019i8\u007fzzúm·Ý6cÆ%K\u001c;vL\u0018\u001a\u001aÚ­[·ôôtïZö\u0016%''{2SFFÆôéÓ=©]\u0014\u0018\u0018èçç×27E£Ñ<ýôÓO=õT3óTTT,X°àñÇ\u001f/..>\u007fþüM7ÝäÙ¯ÔÔÔaÃ>}º¤¤dÚ´i_|ñ8ýÐ¡C3fÌ(..6Lûöí\u0013Ójuuõ}÷ÝG\bËå\u0010±y\u0018¾?ýôS±*Ún·ßu×]{\u0005\u0015\u0015\u0015·ß~»8\u007fnnî¨Q£N8¡Óé^}õÕõë×{ßÐðÌ¿páÂeËåää\u001c>|xìØ±ÉÉÉ\u0016-ª¬¬Ü¾}ûã?Î²,!Äét.]ºtãÆz½þ/¾7oF£ñ,¾bÅÓ§Ogee%$$dff6¿§gÏ\u001d1bÄo¿ýf2öïß¦P(öïßïÝìäË/¿<\u007fþ|Ã½fYvÍ5ëÖ­Ójµ'O\u001c=ztÃúx¢®\u0002K\\ªE6mÚôúë¯oØ°¡ªªêùç\u007fÿý÷7nÜøÛo¿åççO2%--MíÝwßMNNÖét\u0019\u0019\u0019cÆñì GkJ\u0005\u0000Ð8\u0001\u0000àO$VK{OLNNîÖ­øxåÊ[·nu8\u001c7ß|ó\u0003\u0007\u0004Axï½÷Ö¬Y#¾ÊóüÔ©S\u007fþùgA\u0010Ä\u001aP§Ó)¾tàÀèèèèèèùóç\u007fóÍ7ÕÕÕÞ[\\·nÝ{\u0017}õÕWâKYYYb<\u0015\u0004á'xùå}+³Hl£R©¼'¾òÊ+»ví\u0012\u0004!))iÌ1®_Ì|©©©âÓÝ»w\u000f\u001f>a\u0018Ë5xð`qg\u0005A8yò¤R©¬ªª\u0012\u0004aÅ\u0015{öì©·\bññ}÷ÝäyiáÂâSç'NxðàAqú®]»\u001e|ðAA\u0010\u0018\u00197ng\u0011³Ù<tèÐÌÌÌF%>]¼xñ7Þh4\u001a\u0005A°X,âK{öì8q¢Õj\u0015×üðÃ\u000f¿ûî»Å322ÄÅ?þøã\u0015+V\bÐÔÒ4}óÍ7\u007fùå\u0002p\u001c'®gøðá4M\u000b`4\u001a#\"\"rrr\u001aîuRRÒwÞép8Ä§ß~ûíC\u000f=ÔðýÿæoÖ®]Ûâ\"sçÎ]ºt)Ë² dffÊd²;w/}ýõ×\u0017/n¸æC\u000eÝ{ï½õ>V\n\u0000 !4\u0001Î'\b\u0002EQÞS\u0002\u0003\u0003_{íµW_}uÊ)ÞÓsrrRSSwîÜI\bILLä8.##cÒ¤IÛo¿½°°0''§ººzëÖ­Ë/?vìØ\u0001\u0003Ä\u0005\u0007\f\u0018\u0010\u0013\u0013#>\u0016Û\u0010B\u0012\u0012\u0012\u0012\u0012\u0012Ú«Ì\r¥¥¥åçç7l!CÓ´Íf\u0013\u001fmKÂÂÂ<]W'LSRRBÓô\u000b\u0017n¹å\u0016qzbbb>}\n\u000b\u000bãââ&N¸víZãúöí;lØ0¥RÙÊbS\u0014µlÙ²¯¿þúÖ[o\u0015\u0004á¿ÿý¯Øñ·°°ðÄ\u00136ÍS\u001d\u001f\u001fïißïÍ»YÈøñãcbb\"\"\"\b!¡¡¡\u0003\u0007\u000e4ÍG\u001eyDl\u001e£P(þþ÷¿¯^½úé§\u0016\u0017¿é¦ÄÅ¯¿þúï¿ÿ^Üz£{j2233gÎéÙºXHQTffæ¸qãÒÓÓÇ\u001b7tèÐEMNN\u001e2dHjjªøÔ`0üøãÛ¶mkæýi~yóæõú}ûöåyÞ³#±±±\u0013%%%ï½÷Þ¾}ûÌf3Ã0íJJ\u0005\u0000 BS\u0019\u0000è|¥¥¥,èqÛm·Éd²\u0014ï©©©}úôùå_¶lÙ²cÇøøø\u001f~øÁójDDÄäÉÿñ\u007füúë¯#Fð~iòäÉÓ/ònáíxâÄ+,s=k×®\u001d=zôáÃ333ÍfsrrrmmmZZZ·\t!ÁÁÁ6\u001bbÞu¹\\n·Ûó\u0010BQTDDØg÷{îùà\u000f\u001e{ì±Ñ£Gçååµ¾äcÇÝ¾}»J¥ÊÍÍÍÎÎNLL$8\u001c\u000eâuIC\bY¾|ù A\u001a.\u001e\u0014\u0014ä¹bËåâMt\b!F£±[·nÞÓÅ\u0011~ê-NQØ´¦©=\u0015\u001b>Ö+R©\\µjÕîÝ»\t!|òÉÒ¥K\u001b½R«ÕÞËöïß_¼NhFóx¶\"^?xQyvÄårÍ;wÌ1éééjµ:%%E|c¯°T\u0000\u0000\"Ô¸\u0003@'Óëõ6mzåWêM÷÷÷_»víóÏ?\u007f÷ÝwS\\.×Æ\u001b/_î\u0019 åá\u001f~ôÑG_xá\u0005Omº(  àÆ\u001bolÓ !\u0016-ÊÉÉ\u0011»·N§'¶¦Ìõüë_ÿr:b4¯©©q»ÝÅÅÅ\u0007\u000f:uªàÕ|üøñã555jµZlp_\\\\,ÉzõêEÓ4!¤¨¨è\u001bn Íæ\u000b\u0017.¢¨\t\u0013&L0ágùè£6nÜX¯Á}£Å\u0016ÅÇÇßwß}§NR«Õ+V¬\u0010«ü{÷î-ÉúôéS¯S¯o\u0012\u0013\u0013\u001e=:gÎ\u001cñ©J¥\u001a=zt3óÝL\u001bîi>}d2YAAAÃRM<ùÑG\u001f9sæþýû·nÝ*N¬·×ãÆ»páÂôéÓ[_r\u001f\u0016ñV^^~îÜ¹¿þõ¯â%Z­n÷M\u0000@W\u001aw\u0000è\u0004\u0006A£Ñ\u001e9rä¡\u001e\u001a5j'äy2eJTTÔ;ï¼#>ÍÈÈ°X,\u0016-òÔ?ðÀ\u0003\t\t\tééé\u0006áW^IKK«®®V©T¿ýöÛ'|2cÆ\fÏªÔjµÊ\u000bÏó¬¬¬×^{Maøðáï¼óÎÝwß½\u007fÿþ²²²cÇ-X°@lûÑ|N§J¥\u0012û_\u001b\u0012«\u0017.\\¸ä¢9sæÄÄÄ,Y²¤oß¾\r÷4((hëÖ­:®¦¦æ³Ï>{ñÅ\u0017£££{õêµzõê­[·VUUétº\u000f?üðÖ[o\u0015Ûöüúë¯yyy.K£Ñ¨Õêë®»®Þ\n\u0007\u000e\u001cçv»Å=­çÁ\u0007\u001fÜ¼yóÿýßÿÝ~ûíâ\u001e=z¼ñÆ\u001bo¾ùfnn®Óé¬©©9tèPyyyë>Ïú¦Oþþûï\u001f8pÀn·gdd¬ZµjÉ%ÍÌßÔÆÄÄ¬_¿þ­·Þ:\u007fþ¼Óé,,,,--\u0015\u0017ÿç?ÿ¹xñâgyÆS»_o¯gÍõå_~õÕWz½Þn·={öÀ\u0003ÍÜE¼õèÑ#<<|ïÞ½\u000e#;;{õêÕí¾\t\u0000èÊ\u0010Ü\u0001 \u0013$$$ôêÕkìØ±ï¾ûî\u000f>øÙg5M©T®Y³Æ`0O\u007føáeËy73ÉdË-Û²eKPPP¿~ý^~ùå\u001bn¸aÐ A6múæon»í6ÏcÆób2\b!z½~óæÍy~úé>úhëÖ­£F\u001a1bÄ\u0007\u001f|°dÉ\u0012O(l¦Ì'O»õÖ[ÅÙâââÎ=Û¦7¤{÷îãÇ6mÚ!C}öYqúêÕ«{õê5fÌ\u0003\u0007\u001a\f­[·ÍÙkkk\u001fyä\u0004¢xâz+\\°`ÁîÝ»Åvç\r77zôèãÇËåòo¾Ù3qÅ\u00153gÎ|à\u0007ÂÃÃ'MtìØ±   6íÇ!C\u001c9òöÛowëÖmÉ%[¶litdOoMíé\u0015+&O|×]wuïÞ}ñâÅâ\u0007'zà\u0007fÏÝÔ^÷ë×/--íèÑ£\u0003\u0006\f}á\u0017Z,¹\u000fxøå_^\u007fýõ\u001e=zlÞ¼¹Ñ{2W¸\t\u0000èÊ(¡Áh_\u0000\u0000ðg:~üøüùó}øËÏ..55uùòå'Nðt\u000f\u0000\u0000¸¶ád\u0007\u0000\u0000\u0012#\bÙlþäO{î9¤v\u0000è:ÐT\u0006\u0000\u0000$&%%¥gÏÞíd\u0000\u0000®yh*\u0003\u0000\u0000\u0000\u0000 \u0001¨q\u0007\u0000\u0000\u0000\u0000\u0000\u0004w\u0000\u0000\u0000\u0000\u0000\t@p\u0007\u0000\u0000\u0000\u0000\u0000\u0004w\u0000\u0000\u0000\u0000\u0000\t@p\u0007\u0000\u0000\u0000\u0000\u0000\u0004w\u0000\u0000\u0000\u0000\u0000\t@p\u0007\u0000\u0000\u0000\u0000\u0000\u0004w\u0000\u0000\u0000\u0000\u0000\t@p\u0007\u0000\u0000\u0000\u0000\u0000\u0004w\u0000\u0000\u0000\u0000\u0000\tèØàþöÛoS\u0014uøðá\u000eÝ\n\u0000\u0000\u0000\u0000À5¯\u0003{vvvFFFpppÇm\u0002\u0000\u0000\u0000\u0000 è¨àîp8V®\\¹nÝ:\f­q\u0000\u0000\u0000\u0000\u0000®TG¥ê;wÎ7oÈ!\u001d´~\u0000\u0000\u0000\u0000.EÑ\u0011+-,,Ü²eË¡C:bå\u0000\u0000\u0000\u0000\u0000]Pû\u0007waÖ­[÷Î;ïµfþÜÜÜÓ§OÞÞE\u0003\u0000\u0000\u0000\u0000ªö\u000fîééé'NxðÁ\u0007\t!\u001cÇedd(Ê\u0013'6:\u007fÏ={öìYo¢¸,\u0000\u0000\u0000\u0000\u0000Ú?¸ÇÄÄ¬Zµª¸¸X|Êó¼J¥ª­­m÷\r\u0001\u0000\u0000\u0000\u0000t\u001d \b\u001dº°°°Ý»wO:µMK%''£©\f\u0000\u0000\u0000\u0000\u0007Æj\u0004\u0000\u0000\u0000\u0000\u000e\u0019UÆÅbéèM\u0000\u0000\u0000\u0000\u0000\\óPã\u000e\u0000\u0000\u0000\u0000 \u0001\bî\u0000\u0000\u0000\u0000\u0000\u0012à\u000e\u0000\u0000\u0000\u0000 \u0001\bî\u0000\u0000\u0000\u0000\u0000\u0012à\u000e\u0000\u0000\u0000\u0000 \u0001\bî\u0000\u0000\u0000\u0000\u0000\u0012à\u000e\u0000\u0000\u0000\u0000 \u0001\bî\u0000\u0000\u0000\u0000\u0000\u0012à\u000e\u0000\u0000\u0000\u0000 \u0001\bî\u0000\u0000\u0000\u0000\u0000\u0012à\u000e\u0000\u0000\u0000\u0000 \u0001\bî\u0000\u0000\u0000\u0000\u0000\u0012à\u000e\u0000\u0000\u0000\u0000 \u0001\bî\u0000\u0000\u0000\u0000\u0000\u0012à\u000e\u0000\u0000\u0000\u0000 \u0001\bî\u0000\u0000\u0000\u0000\u0000\u0012à\u000e\u0000\u0000\u0000\u0000 \u0001\bî\u0000\u0000\u0000\u0000\u0000\u0012à\u000e\u0000\u0000\u0000\u0000 \u0001\bî\u0000\u0000\u0000\u0000\u0000\u0012à\u000e\u0000\u0000\u0000\u0000 \u0001\bî\u0000\u0000] \b]\u0004\u0000\u0000ð\u0011;\u0000@\u0017RqÔÖÙE\u0000\u0000\u0000\u001f!¸\u0003\u0000t!\u0019ëµ¬ïìR\u0000\u0000/\u0010Ü\u0001\u0000º\u00101¸;»\u0014\u0000\u0000à\u000b\u0004w\u0000.D \u0005C3w\u0000\u0000IBp\u0007\u0000èBxFàÙÎ.\u0004\u0000\u0000ø\u0004Á\u001d\u0000 \u000bá\u0019\u001aw\u0000\u0000Bp\u0007\u0000èB\u0004\u0006Me\u0000\u0000¤\nÁ\u001d\u0000 \u000bá\u0011Ü\u0001\u0000$\u000bÁ\u001d\u0000 \u000b\u0011\u0018Âó\bî\u0000\u0000à\u000e\u0000Ððà\u000e\u0000 Q\bî\u0000\u0000]\u001aw\u0000\u0000\tCp\u0007\u0000è*x^ \u0002\u0011\u0010Ü\u0001\u0000¤\tÁ\u001d\u0000 «\u0010X\u0010Ü\u000e\u0000 Q\bî\u0000\u0000]\u0005Ï\u0011B\b/ ¹\u0003\u0000H\u0012;\u0000@Wq±Æ\u001dÁ\u001d\u0000@\u0010Ü\u0001\u0000º\n#\u0010 ¸\u0003\u0000H\u0012;\u0000@W!þõ\u0012à\u000e\u0000 M\bî\u0000\u0000] \u0006w\u0016Á\u001d\u0000@\u0010Ü\u0001\u0000º\n±s*çFp\u0007\u0000$\u0004w\u0000®B¬qç\\\bî\u0000\u0000à\u000e\u0000ÐUÔ\r\u0007à\u000e\u0000 M\bî\u0000\u0000]\u0005jÜ\u0001\u0000$\rÁ\u001d\u0000 «@p\u0007\u00004\u0004w\u0000®ç\tAp\u0007\u0000,\u0004w\u0000®¢®ÆÝà\u000e\u0000 I\bî\u0000\u0000]À\u0013Î©\u0000\u0000à\u000e\u0000ÐUð<Ú¸\u0003\u0000H\u0018;\u0000@W!\u007fÀà\u000e\u0000 M\bî\u0000\u0000]\u001aw\u0000\u0000)Cp\u0007\u0000è*ÄàÎ»\u0011Ü\u0001\u0000$\tÁ\u001d\u0000 «Àp\u0000\u0000à\u000e\u0000ÐU\b\u0002Ê\u0000\u0000H¢#VjµZÏ=ëp8(\u001a0`@¿~ý:b+\u0000\u0000Ð&\u0018\u000e\u0012\u0000@Ò:¤ÆýÆ\u001bo|ùåO:õÕW_\r\u001e<ø·ß~ë­\u0000\u0000@ Æ\u001d\u0000@Ò:¤Æ}ß¾}#F\u0010\u001fßzë­<òHII_Gl\u000b\u0000\u0000ZI\u001cÇ\u001d5î\u0000\u0000\u0012Õ!5îÔN\b\u00192dHuuµÍfë\r\u0001\u0000@ë\t\u0002!¨q\u0007\u0000¬\u000eï1wîÜ¨¨¨Þ\u0010\u0000\u00004Ol*\u001aw\u0000\u0000ê¦2\u001e'NX¹rå©S§§¦¦&77·C\u0001\u0000\u0000\u00045î\u0000\u0000\u0012×Á=''göìÙ¿þúë7ÞØÌl={öìÙ³g½ÉÉÉ\u001dW0\u0000®\t5î\u0000\u0000ÖQMeòòò¦OþÕW_M2¥6\u0001\u0000\u0000m\"Ö¸#¸\u0003\u0000HT\u0004÷Ûo¿}Ë-3gÎìõ\u0003\u0000\u000fêjÜÝu\u000f\u0000\u0000@ZÚ¿©\fË²³fÍêÙ³gEEÅûï¿/N?\u007f~÷îÝÛ}[\u0000\u0000Ðz´Î3ÜêÌ¢\u0000\u0000@Ûµ\u007fp§(jË-õ7£èØ^°\u0000\u0000Ð\"OE;O\u00139þZ\u0003\u0000@jÚ?OËåòéÓ§·ûj\u0001\u0000à\nñ\u0017ëÜ9FPvnQ\u0000\u0000 í:|\u001cw\u0000\u0000¸Jx7éÌr\u0000\u0000O\u0010Ü\u0001\u0000º\nábtçY\u0004w\u0000\u0000éAp\u0007\u0000è*<cÉ Æ\u001d\u0000@\u0010Ü\u0001\u0000º\nE;\u0000!¸\u0003\u0000t\u0015v\u0004w\u0000\u0000)Bp\u0007\u0000è*x¦î\u0001¦2\u0000\u0000\u0012à\u000e\u0000ÐUxjÜYïÜ\u0000\u0000\u000f\u0010Ü\u0001\u0000º\nÁ\u0013ÜÝ\bî\u0000\u0000Òà\u000e\u0000ÐUpôÅ\u0007h*\u0003\u0000 A\bî\u0000\u0000]Å¥\u001aw\u00165î\u0000\u0000Òà\u000e\u0000ÐUx:§²<;\u0000ô ¸\u0003\u0000t\u0015:§\n\bî\u0000\u0000Òà\u000e\u0000ÐUðè\n\u0000 e\bî\u0000\u0000]\u0005O×\u0005wÚÈunI\u0000\u0000À\u0007\bî\u0000\u0000]p±;m@;\u0000ô ¸\u0003\u0000t\u0015¦2´\u0011Á\u001d\u0000@z®àÎ³\u0018\u0018\u0000 e\bî\u0000\u0000v-\u0004ws\u0011ÝòL\u0000\u0000]g8H\u0004w\u0000\u0000)º\u0016»!ßÕÙE\u0000\u0000\u0000Ï\u001f0uV\u001bwÖ\u000b\u0006\u0000\u0000ß]\u0013Á½ÐÝÙE\u0000\u0000v©q÷=|\u000bÄ\\BÑ\u0019á\u0000\u0000 \u0000IDATÓ5\u0000ï®àn¬t\t\u0002¹\u0003\u0000´À3\u001c$s\u0005ÁÝTäcøæhÁªcZ\u000f\u0000\u0000p-\u0004wuj1&1\u0000@\u000b<]ù¯¤Æ]wÚÇÖ¬·;Ñ%\t\u0000Àw×Bp§õ¼M\u001f\u0003\u0000\u0016ð\u0017ÏÉ÷à®õ9¸»xs)ÎÕ\u0000\u0000¾»\u0016»[Ç9Llg\u0002\u0000àjçé*¸\u0004Îíc\u000bC}Ás\tÆÓ\bî\u0000\u0000¾»\u0016;­ã\u001d.´\u0004\u0000hg\u001cwB\bcó¥!ëâM\u0015>¶qgÝ¼é\f;\u0000ï®à®ç\u001dFÔ¸\u0003\u0000´@ðªâ`\u001c¾´±V1´ÞÇf6\u001c-XÎ1<±\u0004\u0000\u0000|$ùàÎ¹yÞ!ÐztN\u0005\u0000hgT\u0019B\bãô%\u007fÛ´4câ\u0005ÞðÍÒ<o\u0013\\8]\u0003\u0000øJòÁ¶ò\u0010·¯5@\u0000\u0000]gT\u0019rq8v®m·+\u000epqø\u0012Ü9V 0v®\u0001\u0000|$ùà.þ\u0006¸Q\u0003\u0000Ð\u0012Þ«9íä\t!¥I6­ãyB\bëSøæ\u0018\u0010ÂúTÓ\u000f\u0000\u0000äÚ\tî:ü\u0012\u0000\u0000´@ðêJ»8BHÁçæ6­\u0015xB\bc÷¥®ã\u0004B\bãB=\u000b\u0000$\u001fÜÅß\u001e´q\u0007\u0000hw¿Rå\b!ê\u0013\u000ekU\u001bFz¡-<ñµ}<Çñ\u0010F=\u000b\u0000$\u001fÜÅf>r\u0000\u0000ÐE\b\u0002¡uê8\u0018g]<g\u0011m\u0019ÞQlÈ¸|\nî¼@\bai*\u0003\u0000à#É\u0007wAp\u0007\u0000h\u0019kçx¯¿Nr[8ÚÄ\u0011B\u0018º\rw,iïµæÀ\u0013BX\u00167H\u0001\u0000|$ùàÎ²\bî\u0000\u0000-s[.;O:k8·#\u0017Ï¢­]#¾\u0006w^\u0010\b!,Ó5\u0000¤\u001fÜÅ!\u000eÌ<þÔ\u0003\u0000 \u0019ôå\u007fê¬ai;O.ö7míJÄ\u001awÎðÍ:ÄÍá\\-UÕ©¶Î.\u0002@W'½àÎ^Þ¶Rì_E\u0004ÂØP\u0003\u0000Ð$úò1\u001c]5\u001cíà\b!t[þB¹àÎX\u0005âkÇV¸\u001aÜ¤Ñwvv)\u0000º4é\u0005wúò»½.mÝS\u0004w\u0000f0ÎËjÜ]µ\u001cMs\u0010·®\rÎÅ\u007f»kS%ý¥\u0002XyB\bm@\u001bw©rªYSM\u001bº2\u0003@»`p7_~·WU÷·\u007f\u0003?\u0006\u0000\u0000M¢éú5î\fË\u0013B\\Ú6<Å\u001aw1·\u0015cá\t!n\u0003*Y¤Ê­æ}»Ù\u0002\u0000íEzÁÝm¼¼Ò¨¦î)n¿\u0002\u00004£Þp.®Zá8B»-Á]lãîö©Ö\\l*C#¸K[Ãùv³\u0005\u0000Úô;mª?0øÀ·q\u0001\u0000º\bæòÈEkyG-K\bqkÛÒÆÝÈ\rfÚES\u0019)ãÜ<g\u0015PG\u0006Ð¹¤\u0017ÜÅñË<<5î¬\u001bg\u0013\u0000&¹-'f\u0018³iÒ\u001awÖÅó.\u0010âTù\u0012¾Y\u0018Üq®$·¹K_w±¸b«ô{½\u0011Í\\\u0017\u007f?¶\fE\f\u0000ÐÕ¸Ôõ#é4M\bqëZ{òd.Kã¨`}(\u0000ÊH\u001amå¯7[¤g\u0005S\tzåÂUAzÁñ\u001e¹L¸ôS\u001e3\u0000\u0000Íh\u0018ÜÍ94!Ö´¶\u000eÕ\u0013Ü¾\u0004÷Me|?Wc\bøNDÛÛ<\u0006Ñ5Ã©eV_yhÛÜ\u0015¢ö\"½àN{ý;7ãày{Ý\u001c=fàªb¯e:»\b\u0000i\u0018ÜY½@ÚRãÎ^¬7qTúÔ9ÕÂãÒøÆx\u001eµFlÝÞ5ÿ§Ü®eh\u0017²f»1Ò]\u0004\t^p÷n\u0012ã6]\u0016â;£8\u0000»°ÇÔÙE\u0000¸[ÓøIw\blë:÷{Æ\u0000`´<×önE¬ØTÆèû¹ºê\u0010þ¹³ÓÐîm*ÃØ}9¨þ\u001c\u000e3K³\bîíÆ\\àî;é\u0005wVày®®Ý»£ªµ\b\u0015pµ ­\\á·\bîpuq©¼×O·n\\vï1\u0000\\mï¤(6aÍ¼ÀùØä¥úÝ·\u0005áÊ1LÇvNÕ_pZ*®Ò<çr3âu\u000b´\u000bs1nùNzÁxý÷ØäNdÈÀq\u0000W\u000bS[wÄ]\u007f\u0010vÂ8øã\u001f«h+~E \rxVpT5yÌ0¶V\u001dN×_8¹¼nxÒ­8ÔyV¨«k\u0017.µo\u0013\u0013ªSíhæÞY\u0018#\u001dÙTÆ uY4Wip·XG\rN¹íÆ\\r~Ð ÉàîÉC´×?x\u001b3;ü8Ðstô&àÚ`Ñ¹\tK´ù\u001drÀJÝY\u0019TÙh3\u0000mP{Æî®h2yÐ­KÒ¬wKE¯¾zª³-W[ÊiÞV\u0017º½C\u007fëÙT[Ã¹ôè#Ø9ÄRt«{D´È\\ææÙK×a5i\u000eý*Ís\u000b£\n\u0007^»1_¥\u001f´$H2¸{*¼;ª:Ø\u000e­t\u001aØ_\u001f¨ [W/\u0005W'Kõt²0ihBHI¥#VnÑº\t!eÇ­) `ah^izsGc+ÿUG{Áéyìòª7Q\u0017Ù[¬D7Õ\\º)j¬pµfsõXjiB\rÝ¾;KÃ\u0011±B;Ýô0U»ÍeÎÉª½\u000ecÁUç,ç\u0019gÓ7¬ ­lÕL+ûÕ@C\fîôÅß\u0018Æ{\bHX*;ð;_k·f«2QÍ)aÙ?èÊ:&L×£9æ$ä¿irhØF[m{\u001e\u0016#M\b)þØê©¬*H2ÖÅí h\u0012Ï\nçß773Cö÷ÚÊSÖff 8\rìÙW\f§4s)ÇhSÝ¶®-æKÁÝ iUp¯÷Ón·0\u0010»\u0011Á½s8Õ\u001c!Dpµ¶+sì\u000eÆ¤ª;\u0012\u001cZÖÅ\u0018N^¥M^-y´\u00135îíÇ¥âÜ>Ýv\u0003\"Õàîâ\b!ÚsÎÓÝµê:ð^n%\u0018[÷{\u0003W'ý\t×\u001f;¼Ï¨ \b5¿9\t!¬NøzLaò´ê¬Úv\\¿.ÝE\bq\u0015qÚ\\'!Ä¡e.©5êqdB´ç®æ~&KÞ²í\u001eSÿ¡¹yÒÍ¬öR]«Û+¸ëÒ\\6}\u000b§_]Æ¥CTÒÈu¦À\tµ9Ò³Þ½ìcÖÐ\u0010§\u001bÁ½sx+m»¢àî¹=h*vuI][à \\Á±q³³\u001aA³}pnÑó\u001d7û5?H¼$»ñ{÷\u0013¥ß\r+>ÿüeµ§vGGÕ¸óPô±\u0010¢>\\w§XÝ\nÎ#-Ô`ÁÌî®Mêðis)í*©;q¸Ê9BHáG\u0016i·.uÚ?ê\u0002Pu\u0010öQ-]Æ«;\u001bÎ©:ewjYÇ5ß&\u0018½\u0015[R}¡U·\nó>56ójùÞËNhNUÝqå6sö|Öá`\b!.C\u0007öØ¥à^älø©UeÚ^º-@[¹¬×uvÍ¥®9ê$¯ÖG®yº´ºTÍúÔ·Ø£,Ý\"6¬2d¸5Çë\n½ÊI\b±\u0017°WaE¬¡ÈMXâ¬¾ÖO¤\u007f\u0016ñ#vwLÃcÚÆçìÖuÄ¯\u001e\fî\u007f<¬®ü¨¾PÕ;*©NÛ]E\u001c!Dó»\u0010b(t¥<]%ð-ä´×jù\u0019.CKÓ1Ý.;ËÈ:K8[\u000eëÔvì¢«¨¡]E\\m+zïµ\u0006G\u000bæ¬ºàRü¥¥äùÂZ3\u0011Ðå%®Æn9\u007fr[m»lúª¥=çL}GåÝËÍCà?­cÃÕ¬xG«ZÕþè47^åÉÑBå÷\u001dÃ¶²ºï©ÌM\b±\u0019\u0019BHÎ>}£Õ].\u0013g8yép\u0015sÖªúKþÏÆ]6¡Ésr\u000e¡4ýR×\u001ds\u0011BT¿5rÚÕø6,Ïp[8ëÙº(ÆÁ1\u000eÞ\\åcíxÅ\u001fVm\u0010bÈ 5¿×}U¿9\b!D º\u000bWÝçkÒ»\b!¬±ÝÚ\buqâø\"Þ´#u®=\u007f³I¸¦\u0007dpoª­ø}wõèð¿«ö<Rê¼²\u0000]v±_=uêØ=zÓaZÕl{wc±[\u007fÈ]#í6ñ\r~\u0017~¹³,{§ô®h=ÝØõÅ\u001dõÃ þ{¦°«¬/µõ®ô|ëNª?ïä/®^³ÏupAµøØA{\u0002SúÖÚu\u0015\u0019_i\bO\b!çß4»×à\u0005¤Gi¦9û\u0019CÆ6uÃ.ì7~7¥ØRy5Þ\u007fÿÓÐ\u0016N³¿µ-©\n4ÞL{ÎÁj.;=7¯,z7!Äxæ\u0019!w£Q_ÐÈ÷ëü\u0001\u0003o½lq]ée³qn¾ôS«áÛyñ\u0006¶ÊA\bÉÿ´®<n\u0013g;Ç\u0012B4)N¾\u007f[t~¯áè¿«\u001b}É¡c«OuÈ©Äíùåe\\ü¯Ox¿o\\\u0004T|m×ª\u001c·å1æLÍ\u0019;Ï\nµ\u0017¯Çt«.¸ëÎ×}}|øïöÅºøÜ_u\u0012i7t[yrùà\"í¨¶ØnIg4¹WÝQÔ:*¸\u007fÿý÷Ã\u000f\u000f\u000f\u000f\u007fúé§kjj:h+õ\bNr!Éè5ó÷\u0018Î½`ªøÔþÛóå>ß3ºr×]ºüûêêÜgü}FBHá\u0001c£W\u0005%'LÜ_\fFÉ~ÇÊ[ÊRëWÔ\u0019\n\\<¶hÅ¡e\b!Í´\u0000áháØújÞ×\u007fZñæ6sWþSm½ØR¯îOD{Þñý¿óöêÏ½ÙHô)\u007f×~~_ÝQTuÂÆÑÂÿ(9¿ÏÐÖ±Þ5U^W\u0005<¡+xÏãòS\u0016B&×±DwáUKÁ+u\u001dg\u0012J7×1ñÊ+Ü5ítK¡­8\u0017ÿ\u0010rj®\"ÝJ\ba\u001cüþUå_/øñ#\u000bjÜÅ\\e®Q¦Å»j\u001d¡\"Íb*qÛ/b«¥M%u®¦È¬oX=A\báÜËØø±¤/rV\u001fe§_Ö»Í\\½ÊLËñ\u000fëß·1dl*\u0010bR»\t!ê?\u001cûW;rXîÒ÷¶p¿o¨JZSùJýK}]åe¿¬ê\\'«\u0015\bOÎý¬ç\u0019ÁTéÎ|^G\bÑìv§PciÝj9`(tYkè½KÊtE×òÏs£ÔyC\u007fS\u0015o³6ú'£GßªÞýr[Mûße2\u001b.]ýª9ª¶;J?µú0Ì±Èe?ÇVìµýV'0\u0010ùöÈ[ÕLmÝîÔëÿ \bB§|\r½Õ&×\u001dfÂÎüÿ/\u0017\u000e®¯<2»öL»vúóuí\r.Ò:-\u001e\t\u0002'\u0014}a%Û­÷­lÐ!ÁýðáÃË/ÿüóÏ/\\¸\u0010\u001b\u001b»lÙ2ý*ü? ùñ\u0012\u0011X'_°ßxø\u001f*qzÍ§Î}ËË¼C$Ï\nÙßhËþ°Ð\u0016Nël*Ö;\rìþå\u0015áÒ¥Õ5ô,ü?«*Ý<§úèÆú\u001f´;½VO\b©zÇñmb±:ïjoXÒð\f97\u007fôù?ÖÖ\u0001Ý£¶ÔA\bá\u001d$k§ÖRM\u007f9®àì\u001e­Ø¯¨¼½ú³/\u001bÓ·ÔV¤Yh+WpÐX/¤:\r¬w>à\u0019ÁRN×«ã¯9kÿéÞíýÎo¶Û\\Ý\nõìî\u0007KuN\u00174¹\u0015É®aÎ|^÷MN½Ký¿1çí\u001aF}ÖÑ¦ë\u0001A\u0010º\u000e¡mÜ¡«uß»\u007f¿³.kü|º´Ö^Ëä~§ûe|Ùóµ»]\u0007ç¨¾]Ô¦\u001f¿Ê\u0003Mþrd¾­ãYáì°r·Ô]3T¦[Ë[\u001aÞ³bì|é\u0011³¸w¦Rw~ÞÙñ'¶Ô\u001ez®úÏ¹¬-t¨²l¹?ë½[ýÝÜ¢-y¶L\u0010B\u0004²¨ÊRM_H6\u0014¿m5 k~r°z\u0010Rþ[½MT§m\u0019ß©Ug\u001bOöÇ74ÙÊ¨èwÓÙ]Z\u0016\u0004APu¨2ì[ p´Pÿ jKê¨<iÝ3¹â«þÿëyaßÓe\u000e5óó\u0003¥»¦\u0014ÛÕ\fëâ\u000f,®úýöÏû^øfF¡X_àùºÛ§ÿ,*ÿÇûO~Q#¶ÐÓ^p¨ó\u001d\u0010¡\rWªt\u0005ÿãÜ]ÿ(òÜ¥\u0011\u0004áØÊZÕ§DdñæØxÝt)Ýd#Ô¦9\b!×ç;\u000f¼\\÷¢©ð\rkÃ®±Õû\u001c\u0010§=õ\u0010R[\\÷\u0011¤?¬ý,>\u007f×¤bwqÝá$Þ\u0004ð\u000eê\"Ç¯ËÊË·ÚvßSæÝ\u001cQàß×Wy\"~hò\u001dE\u0007ë.¹mÕCÃÍQ\u0004Np¨Û³;,ãà¯dXáãÿ®\u0015ÜQñ5Ù\u000eÖÅkÏ]ú\\´yâVÞ.þVÛîM\u0005\f^#xýDO\bá8fCuIº\u0010Rñ©=m¡FRþ_[ÞK*;Tû\u001cÂk/8>Éß9­PßiYuÆ¦Þ_÷&ú?­À\u000bVyy»õßÍ,ªhv Õ¦¸-õ/\u001bÅs®[JÞ°\u0012BÎ¯7\u001bË¤Z!H\b¡i\u0010âv\\ö\u0013c(sþ|\u007fI35Y<Ç'½óuùÍ]«\u0017ýn2\u001cp\u0013BÎ¿n¶4h'*=n.MëØ¬&_·n]»¯tåÊO=õÔ\u00193BBB\u000e\u001dºdÉY³fÅÅÅµ~\r%%%ýû÷oô¥ò4«&¹¹CÖÃ\n=ãjs_2\n^ç[[6\u001bý\u0017ÿ¨~\u0001\u0010í\u0005ÇÞGË/¼a.ÜnÎÚ ;÷1ïgc¯©A!1~\u0010\u0013\u0004P2Ê®a~]Y®û®ñûì\u0002MJ,Q0\u001c§\u0007=\u0010\u0016\u0010© °.^¦ ²¿Óm«û\u001d\u0012\\¤ðgsÐ`9kåMånS¹Û¥cc\u0014Eµþ\ré8@tyÎ¤+{ß\u0014ì\u001f&÷L/?nÉ}Õè.ã³ßÑ[eî!A~ÁrBHÆû\u001aÓI\u0010¢Nqj\f\u000eÃ¯î¯íçwü\u0006SU§m¹_\u0019z%\u0004+dÃÏT;¸_\u0005ÛÌg6é·[s>7ä|¢·\nn->j:0·Jktò\u0014\u001f\u0010¤à\u0019üZÅ{kK}Á\u0011ÑÓQçöè\u000fÞWmÎ`\u0004\u0017©Ép\u000eS\u0004*A2-üÃè6qa½üi\u001b§Ê´»\r¾Äurºü¿öüí¦êBÛ'4|\u001f±ñ\u0001A\u000bÉ\u0003ó«Ì.\u001d\r?¿Ûtö\rCeµÏ¸\u0010ÿPy7¦\u0011U§l{ÿU&D\bê,Û;Ê\nöTy6>óVõI\u000b\u007fE8·ÝXò\u0010b/º8>C\u0005ï\bc\u0002\u0015¡=ýêÍ_g7º£åéì:·UÈd'V«9Kãç{g1³Ã þ¹b8\nØÞw\u0004WgÚöO¯*øÌ\\vÜRvÂÒg|2PF\ba\u001cüî§JO/××ÖÚ³þO{ò\u0019mé¶s_\u001bò>7\\«\t\u001d®è6 P\\Oî\u000f:»±iê\\ºÀQ[`ç¬BÞnCîj«¤¾8g=<+hÎ:mjº$Õ\u00123$¢(m³*Ûzî\u0007½@\t}\u0002\u007fë<\\Fö\u007fe¯1\u007fkS\u001fp9\n.;õ³Z¡$Í\\dgÔ½EörvÔ²hÓöÐ^ÞçÜ\u001fôû§WUïr\u0014ì0ÅÝ\u0019\u0014Ú£î%[5-\u000fU\u001cµ\u001e]XÛÿþ° n\nB \b¦b·½ñ\u000f\u0013\u001cx´òÂ[¢ãæ3\u001fêÏ¼¬?ÿ)ïgCù\u0011kÚ\u001aõé÷´$\u000f\u000eSêK\\¿¿RUaí9¬îëÓÈ;Ã\b\u0019kº]\u0017¨\bÕæÚ÷ÝQáiRbJ§ó¾0:r8Î\"Ô\u001a\u001d¥û-\\\u0010Â\u0011g1g¤þ\u0001ò£ÿQÇûù\u0007+\u000e<PÁh\u0004[.«úÉ©s9ppêÂ\u000eÓà¿G\u0014%5Imøwsös,\u001dÅö\u0018F\bQu^ÝxõUÈXEßÄÐã/¨iÍ¥k6\u0014þúÈ}µæô&#¯³½iE÷3ßjO=¢SWØË~´15u+ál\u0002g¾ô\tj;\u0007Ý\u001b~jÖzªnmUÉv{&K\ba5;½nr8ýÂ~ãÉµ55öën\tcl¼2PF(ÒèÖXæªÉ±+\u0015r¹?%SPºBç\u000f\u0013KK¾·ö\u0019l×±ß\f-:ýo]þ^ÛMy¨:ãE­Îà°3ôÙmúSoj\u001crÆ©gKO3ßÖ2r.$R©\f[ÊÝ~ar¢\u001cZ6û\u0007mp7e@\u0010Â¹yâ²\u0002¤o­=ú|MtB@X¯<G\u000bÖJð¤:Ë¦ðùÔ\u001d3@Ä°«cjÅ&pe\u0007­ÿÖæ¾kP\f$\u0015\u0019\u0016SµûÐ\"x¥ª>à2q®^#CÄS1Ï\n\u0005ÉÆ'«\u0002ãäQ×5ù]ã9£z¥\u0015YUtú\u007f4®ÂºPÅhë>©­vB\u001fy´&ä\u0006Exo\u007f¼þ²´«Î´\u0007wWÊ\u0014À\u000b\u0002K\u001e¬bÔÍ]á³F!þÐ\u001eJCkßå®\u000b«+ÚkéwgHPRÇ©eÁ­ªv4ºÿ0uë\u0017Ø°l­aQÑ?Ï,euuG££ËýÒPtÜ\u0014ÜSYbN¯v\u0014³5y¡ÿ\"O2\u0016&Â{øó ¾óMáÜüî¥¥ê\u0002;CóQ}\u0003(Yý²Ùj\u0019k\u0015]lÚ;§¼ä%r\u001fmã\u000f.«¢+yB\báHù\u0019kP_¹¾Ìe,sWüa\u001d\u0011L\b±©éÔMªnòÐºCKàæCÇ§[L\u0015î´Mµ\u0001QòðÞþ>¼KmUk«øÚn³±ÝG\u0004\\,jÊKUUÛ\u001dAT\\BH£K¥nRéö»eýIÏaÁÚ<§©Ü-÷]:¯\n¤øéèSµu#_qÄ@;\u0007NðþÜ®ò4KÒíÕe\u0007lC\u001fT\u0004¶­æ¶r\u0005G¡~m]g\u0004mê'À\u0007T»_Ó4\u001d\u001e\u001e2qâDqÊm·Ýöì³ÏÞqÇ\u001d­_IrròôéÓ\u001b}éèÛÕ9«\u001bú \u0019¡\u0013\u0015±\u00138;_¶Ã^¯Á%!DÙK6/%gÈîÛÊÂ'úÅÏ\u000e9ÿÙqºUõ7¬\u000f¿õ¥><+üð×÷¥-V\u000bÍ¶ª\u001d´.lì¢Ø°>õOÜ\u007f¾ìo´©óÕq_u¿ùþ\u001eé{\u001f/-ßr©#ð\u0006yÂÝ¬%LÎsÆæo»\u000fx!tÆñJú¾\u0005>*ú^\u007f%úê¿!c\u0014ýî\u000b-Üjq\u0017rÐJÆÍ»Î_QS9e¬,î® G£\r®àH¥¢\u0018ï=*D¼\u0012#8õ¬CÃ\u0006DÊ\u007f[^®þöb\u0000\u0011ÒõË\u0014¸£Çà\u00192?êôNM\\bHdï\u001fï+±¦2ê¨QS\u0002\u0006Ë¯_\u0018Úm¤\u007fÁ\u000eó¥ýjÌ\u0017B§¬Ó\u0015;÷L)çÝ¤©\u0003 |òÖwz[\rôucÂüBå\u0010§Õ\\pT±ï¶\u0019êê?\u0006¬\tí\u0010rd~p±BdÀs¡¡ýºãnÚÀõ\u00168øÖÈs»\rÃï\u001e\u0014$ÎàÐ±QrU¶ýÀÂJg/\u001f÷è£\tON-ÑMÞ\u0015;âoÑÚ\\û7z®í£fúý}Ï@*=fÞ?»0w\tÑÛ¢Ç<\u0014K\b9þaMÖR=!D\u0011C\u0005÷QÛôWÍ2\u00121Ö/þþ¾\t!Ñ\u0003¢D ¬\u0007Ê2·«Ó\u0017k\u0003Ë\u0007.\u000eË}ÑÈ·ýæÿõ2\"PîÒÆßQÿªÞíÐ¶%¸¨\u0000ò@Ñ Ð8¿ë+Ï¿Üx\u0005ÿõ²¿ÿ>`G¿\u0002ß\u000eÑnSü\r\u007f¸VbýºËhmß·»²úÅ%pnþ«)\u0005ÖtV,\u0018SË\u000f|>Ì^Ëªv8û=\u001cì6ðÝG\u0007Ä\nÉ)mãä:ñ'@\u0019+ëq[ áÛq%\u0010(ceKÖ üIÏ¹A5?;¢g\u0007P4Ñ&»\u0004({Éúý3Då6\u001cvÿeWÏ\u001eC\rµN\u0017Ãj»Î¿f&<!2\u0012Ô_1âÈð¾~Ùÿ5(#e=¦\u0004T&ÙÕ;]?\u0011Ü$d¼âîï®\u000bëí_a-N²Ly1\u0010rþáàLU+\u000bæß_6èÉp·«üÁî\u0014ïxPäº§Cân\u000fòSÊry¯áÁ~!rk%MÛym¹ãôF½«ëqk`¿\u0004ö\u001c\u0018dÕ3gÞÔÓzÞ?Zf¹ÀpÆ\u0016>cÿëäýþ\u0015\u0012;!ÐßOn·0ýGGh\u000bGWÖØ3Ùð)ÊnÃ\u0003ª\u007fsø\u0005Ê¬¹-ß¾¸a}øÈ¿G\u007f?®D¼\u000e\u0011\u0005Þ \u001fýv´¹1wW|d\u000f\u001fë7ðá°~aµ¶è^Aq7\bPjáXA¡õ\u001d\u001f*p$\u007f¯>õ!5g\u0011â\t¾1ÀÏy2&¼·¿½qèX\u0011b\u0007*\u0002\fan\u000b·ï²ÏZnÕk~\u0010/\bµßÔÍ©ì%»cOÞ7\u0012BxN¨wÍ ðÂ·ªÏ½PwaÔ»QñcÃ\nRUß8Õlð`ep¼Bì¬ÿ+\biú2âÿ\"{'\u001cy¶ÆÁÊÃ©\u0019»ûôN\fÉùQwj¥N\u001eL\r{.\"á\u001f1\u0010ÿðË²£®È¹÷ïåö¬Këä7ó\u007f}ºõ\u000fäháÔ§µ\u0002Eb\u0006F+9V°éi^\u0010xAè\u0011ÐcX\u0010ëà\u001d:V_áÌÿÆèßC~ã\u001dQQ\u0003\u0002üÃå|GÎ·z·\u001b|oÄu\u0013ÂÅë@ÚÆÕæ:Îÿdº&N\u0019\"ÿöBýþº\u001f÷\u001bÖOy¡·:ÇþSb\u0019!ÈHÂ»Qãô))B©Ò]yÎb)f¬ELñûVÂ\u0013y\u0014\u0015p\\¼n\u000f\u0018,\u001fõZ2P&°ÄZFg?S?\u0019^·2dØÝÝ:§½c]|Îr£çL\u0015¿\"84VÉX\u0016v\u001a\u0010`,r)\u0002e¡q~\u0010S©[_î\fëî\u001f\u0018¡¨-²ë}ý\u0007NÌØ¡>µX×ûÉ Û^ê#vQ¸®î:Ç©eY\u0017¯\bY*iE\u0010ÕmP ½q\u0019¹H9mçN\u007f§\u001dpKDß¡M~~mÔþÁ]­VÇÆÆ9sfäÈâE\u0016M4iÑ¢E­_I\u0007\u0005÷\u0016)b(E¬ù\u00012ã·Þ\u001aúø\"M+ç§üÉÄÿõ\u0018:¯\"Pæ6s2\u0005%÷£(9ixñ]À\u000b-ÎÓ\u001av5£Îw$ÝS% \u0002Égü¯\u007f <çgj·Ótö9ÎJêcÑºÿøgkß«ÿ@ù\"kO8\fGhg\u0015×ð2¯«\t\u0019§°g³BëZ\u0014\u0007T\f^\u0012¦ÏvW|l÷ù(\u0005Ñ»øk´ÓÈîYT\u0016~_õNw£5ß({ÊîÏ\u001cÀÐüÏóJ\u001dÙ}Ó'l\u0019\u001a´çörÎti+²`êÞÓ×sNá1%Í_·RÔ~OwÏ|[gÎ¢#\u0012ýt¿vlÇYY\u0010!\u0002á}j\n\u001eÿlð¨{ºÿ2¹¬\u000f±Ï¿+¿ìÌ¿\t»¾¾.÷'ýå-7¨ÐÉÊK£Ò\u0016©y\u0007üMl÷Á\u0007\u001e©´g´[»SE4EÉ©æë¿;,$*-GÛÐB©ç½pYå§ubèMJÆÌ»ëÿSJ\"ðª\u001e+\u0014\nJ\u001eHùEÈ]Z®Û\u0004¿î\n\u0016\u0002zÈ\t!Å_[¬©>¾ÛhjÚ×½3>Ô\u0018\u000fÓ#ßJ\\ØC¬çh!í\u0003ÕÙ\u001da.\u0015 b½Ï\nBx2ðù°\tO÷\fé¡äh¡â¸%å_ÕtUýO_\u0019+óÙY¡éª\tÊ4|µûü\u001bÿ\u001ayôþK52\u0003ä!ýóûâÎö^\u001a4ò®è}³P­\u001a\u0000\u0000 \u0000IDATÓ+¼\u0017[\u001cTû½Óû&Û5¡\u0013èi®r'-®ò­¦¦õ(\u0005éýÏàªv!a7+C®SÖüâ\u0010\u001a\u001czý_\f-ûÈ&%*\b\f!<\u0005P\u0010B\u0011ÞáõVËH@_¹«ì²bß\u001a\u007fM\u0005÷ÜÜÜz\u0013\u0007\r\u001a\u0014\u001f\u001fßèüöZ¦­ýù®fr?J®Ñv¢\b\u0011\"Hæ\u0017,gÝ¼2Dæ\u0017\"ç\\<Ç\b<#P\u0014å\u0017.ãhÁQË\nöQ\u0012BÜF±ó(å´É)y\u0000%p$°P¶ðn\u000bGÉ© h¹Üÿ²J\u0005ÎÍ3vÞ©klü<«\"@Æ¹Ú¹o\u001aE\b¥ \u001a\u001d>òO+TP\u0014Ä¸jr%Åµß_%\u0000´¯ îH\u0005\u0011SÏ^á\u0018wRGQ­R9ó´RH/¥§åÛS´×<\"##\u0003\u0002\u0002l¶K½ÊËËÿö·¿55\u007fÏ={öìÙúõ\u0007Ç*cWTÄ«Ñe{äOê>`yLîÕ\"Q\u0011@õ»Ôº&0Z\u0011\u0018]÷8 ²þ1á\u001f!÷hü@ûËäþ²¨öÿô\u0001\u0000\u0000 \u0011ø«_^¸\"í?ªßìÙ³ËËËÅ§F£1--­{÷îí¾!\u0000\u0000\u0000\u0000®£C®ü|òÉ\u0005\u000b\u0016ÜpÃ\r½zõÚ¾}û9s\u0012\u0012\u0012:bC\u0000\u0000\u0000\u0000\u0000]Dã>uêÔM6-X°`Ð A*êý÷ßW(po\b\u0000\u0000\u0000\u0000Àwíß9\u0015\u0000\u0000\u0000\u0000\u0000Ú]Ô¸\u0003\u0000\u0000\u0000\u0000@ûBp\u0007\u0000\u0000\u0000\u0000\u0000\u0004w\u0000\u0000\u0000\u0000\u0000\t@p\u0007\u0000\u0000\u0000\u0000\u0000\u0004w\u0000\u0000\u0000\u0000\u0000\t@p\u0007\u0000\u0000\u0000\u0000\u0000\u0004w\u0000\u0000\u0000\u0000\u0000\t@p\u0007\u0000\u0000\u0000\u0000\u0000\u0004w\u0000\u0000\u0000\u0000\u0000\t@p\u0007\u0000\u0000\u0000\u0000\u0000\u0004w\u0000\u0000\u0000\u0000\u0000\t@p\u0007\u0000\u0000\u0000\u0000\u0000\u0004w\u0000\u0000\u0000\u0000\u0000\t@p\u0007\u0000\u0000\u0000\u0000\u0000\u0004w\u0000\u0000\u0000\u0000\u0000\t@p\u0007\u0000\u0000\u0000\u0000\u0000\u0004w\u0000\u0000\u0000\u0000\u0000\t@p\u0007\u0000\u0000\u0000\u0000\u0000\u0004w\u0000\u0000\u0000\u0000\u0000\t@p\u0007\u0000\u0000\u0000\u0000\u0000\u0004w\u0000\u0000\u0000\u0000\u0000\t@p\u0007\u0000\u0000\u0000\u0000\u0000\u0004w\u0000\u0000\u0000\u0000\u0000\t@p\u0007\u0000\u0000\u0000\u0000\u0000\u0004w\u0000\u0000\u0000\u0000\u0000\t@p\u0007\u0000\u0000\u0000\u0000\u0000\u0004w\u0000\u0000\u0000\u0000\u0000\t@p\u0007\u0000\u0000\u0000\u0000\u0000\u0004w\u0000\u0000\u0000\u0000\u0000\t@p\u0007\u0000\u0000\u0000\u0000\u0000\u0004w\u0000è*V­ZEQ\u0014EQ¡¡¡£Fzýõ×óòò<¯æååQ\u0014u÷Ýwó</NQ©T\u0014E\u0015\u0014\u0014xæ\u0011\u0004aÒ¤I}úôq8\u001cÞkNII>}zPPP¯^½î¹ç\u0007\u000fÖÛ¢GrrrÃÍ7/%%¥Ý÷÷èÑ£eee§\u000f>ø`£[ow*Ê·\rýòË/\u0006\rÉd\u001dWÎÌÌÌÈÈÈ\u000eZ9\u0000@GCp\u0007.dÝºu\u001aæÂ\u000b\u007fþyttôÈ#÷ïßï=ÃÑ£GSSSZ<;;;++K.gddx&:ujÞ¼yÏ<óLAAAzzú\u0015+l6çÕ5kÖTz\u00197n\\GìW£6oÞ\\XXèyº`Áþýûÿ\tÛ­ªª?\u007f~[bYö¡\u001eÚ²e\u000bÇqÓ§Oï\u0001\u0000H¢³\u000b\u0000\u0000ðç\t\u000e\u000eîÞ½;!¤W¯^#G\f\n\nZ¼xq^^^xx¸8ÃK/½ôæoN0A¡häôxäÈ'x¢\u007fÿþß}÷Ý-·Ü\"N<sæÌ½÷Þ;kÖ,ñi>}¼\u0017\t\u000f\u000fïÝ»wëKX]]7|øðØØX­V{öìYçÃÂÂF\u001e-É<3L8ñÔ©S4MO>Ýjµfgg;N¢\u0006\u000e\u001c\u0018\u001f\u001fO\bÉÊÊR«ÕYYY\u0010¢¦Mæçç'®AÜ~ýúÑ4]VV&ËÇ\u0019\u0013\u0012\u0012\"¾Ä0LzzºÓéT*é dee\u0019\f\u0006¢zöì9tèÐââbJ5yòdOá\u000f\u001e<\u0018\u0015\u0015Î0Xk>hÐ ±<îV«=~ü¸Ñh¬¬¬LII\u00193fLxxxó»\u007fòäIa\u0006\u000f\u001eÜ·oßÚÚÚÜÜ\\¢\u0012\u0013\u0013ÅR\u0010ÊÊJA\u0010\u0002\u0003\u0003Ç\u0019ãçç×ðÝn¾T\u0000\u0000W\u001b¤\u0000 ëºã;T*UNNgÊÝwß][[{äÈ3;\u001c·ß~û®»î4iÒÖ­[kkkÅéÑÑÑ'O,))iÓ¦{ôèÑ°AHqqñìÙ³m6[lllnnî¨Q£N8¡Óé^}õÕõë×\u000b@\b©¨¨X¸páÒ¥KSSSO:E\by÷Ýwu:]FFÆ1c233\t!r¹\u0010\"¶Ï\u0011óè§~ê©ß´iÓ\r\u001bÖ®]«R©Þ{ï½\u0015+V\rNçÒ¥K7nÜ¨×ë¿øâyóæi4\u001aB\bÃ0/½ôÒÒ¥K«ªª***/_Îó¼Ëå3gÑh\u0014×YZZ:sæÌÀÀ@¢êmº©}ñËåõj~÷-[søðá±cÇ&''/Z´¨²²rûöí?þ8Ë²¢¢¢W^y¥°°P­V¿ûî»+V¬\u0010§{k±T\u0000\u0000W\u001d\u0001\u0000 kX¹råÆ\u001bëMMJJ\u0012\u0004áÜ¹s\u0010F³{÷î[n¹ÅívWWW\u0013B.\\¸ Î)ÖR;Nçÿò¿üüóÏât£ÑøÈ#\u0010B\u0012\u0013\u0013_{íµcÇ±,ëÙâ¼yóÞóRRR\"¾´~ýú¬¬,ññÜ¹sÏ9Ó§O#G\bÀ0Ì¸qãÄ\t`6\u000e\u001d)\bBZZ\u001a!ä?þ½û¢Îÿ\u0007þÞ\u000e!¡\u000e\u0001\u0004\u0004\u0001\u0005\u0005Eå« í~èíôNÅÆúÕC=ä\u0014\u000e+'è}õN)]b\u0010é½\u0000é½o¯Ó?¿?&l6dI²d¼\u007fð\bÝÙÍìÌkÞóÏì\tø\u001e·mÛv×]w©?ß}÷ÝÚ+0Æî¿ÿ~í¿³gÏ~ì±ÇDQdUUUEGG§§§3ÆÖ¯_\u007fÕUW9Nu\u0019\u001e~øáwß}1¶yóæñãÇÍfõé²,k¯³iÓ&õç/¾øbÞ¼y±\u0003\u0007\u000etëÖMo\u0013ïÅÓé$¢ììì`Þ¾öÑ=ôÐC£F²Z­1Ã¬ýJ#IÒu×]·\u007fÿ~ÆØáÃ_*\u0000°V\u0019\u0000èÐX\"ë´iÓ\u0016-Z´mÛ¶K.¹Äwúºuë\u007fþùØØX\"zòÉ'/_>{ölN´råÊyóæíØ±cÚ´i/¾øâ«¯¾ª>«gÏ#GÔ^D}:\u0011½üòË¾/¾aÃï¾ûnýúõcÇ%¢ìììýû÷»\\.­*?pà@³Ù¬þìÛ+÷Þ{ïýüóÏv»]\u0014Em\u0016M»ýöÛÕv \u001e=z\f\u001e<X-oÝºõG\u001eQÛcFãï\u007fÿû\u0005\u000b\u0016Ì7ï_~yâ'ºvíª>Wk)yüñÇW®\\9cÆ\fI.]º|ùò3jú½\u0004ÔôSzôè1nÜ8õçÉ'÷ìÙ3)):wî<lØ0»ÝND$­[·nÅ\u0015YYY$¹\\.ÃÑÊ¥\u0002\u0000hw\bî\u0000ÐqUWWWVVÆÅÅùN}íµ×^}õÕÕ«Wk\u0013+**V®\\ùäO®X±ÓÒÒ222F\u001eMD:îâ/¾øâ§MvÍ5×Üxã÷ß\u007f¿ÚÛ=|øð`.µ¬®®6\u001añññê\u007fÕQk|#øÓO?=|øpõçÄÄD-:s\u001c7{ölõPA­7_wÝuÁ¼wµ5Ee4\u001aÕ\u0003\u0018«ÕÚ­[7mºÁ`P\u0003½ÙlV¯\rð3iÒ¤{î¹'33Ójµr\u001c7aÂiú½\u0004ÔôSâããµ7\u0018\fZ\u0017>Õ6\b\u0011Ñ¦M¾ýöÛ?þxðàÁ111÷Ýw_ë\n\u0000 Ý!¸\u0003@ÇµiÓ¦>}ú\u00193ÆoúÿüÏÿÄÇÇ\u007fÿý÷Ú\u0003\u0007\u000e\\~ùåÚ\u0015¨©©©ÅÅÅ{öìQ»¯>}ú\u0010Ûí>§%ùã\u001fÿøûßÿ~Ú´i¿üòËðáÃûõë§×ëû÷ïßðõý\u0014\u0016\u0016fddÜqÇ\u001dj\u0006­¬¬Ô~¥¥ØàM0açÎ³fÍRÿ[VV6qâD\"<yòÖ­[o¹å\u0016¿Ç'%%-X°`×®]\u007fýë_cbbÔé¾ç1\u007f/­y}ûöýá\u000f\u007f\u00181b\u0004\u0011\tpðàÁ¹sç¶í,\u0000\u0000Î?\u0004w\u0000è@Ünwuuµ$IUUU{÷î}ê©§Ö¯_¯\r)£~åWîºë.õ¿±åË?ùä¾µs£Ñøè£>ðÀ\u0003ß|óMBBÂE\u0017]Ô½{÷ªªª/¾øbêÔ©Ã\rS\u001fæp8ÊÊÊ´g%$$¨³{ýõ×gÍué¥j¿={¶^¯¿á\u001bÒÒÒ.ºè¢E\u0016½ùæ/½ôRjjªÍf;sæLjjªZÅ÷Õ«W¯.]ºlØ°á¦nÊÎÎ^°`ö«aÃ>}úk®\nr¼iÓ¦\u001b7îúë¯2eÊ3gæÏ¿fÍ\u001a\">}ú\u000b/¼0yòä\u001bo¼222®ºê*µì=mÚ´»îº«¢¢âØ±cêtíÚÕf³åçç\u000f\u001c8P§ÓõêÕ+È÷âû¦Îõ)~F\u001aµvíÚ\u0013'ÆÇÇÿç?ÿ±X,m>\u000b\u0000ó\u000f£Ê\u0000@\u0007²páÂ={\u000e\u001d:tîÜ¹&éÄ\u00133fÌ\bøÈk®¹æ+®P\u007fÎÈÈHKKóë\u0003¹ì²ËÔ\\Æ\u001b·mÛ¶Y³fõéÓgÖ¬Y±±±«V­R\u001föÆ\u001boôõ¡Uñ/_Þ°£zÖ¬Y+W®¼á\u001bÎ=ûÌ3ÏÌ1ã¾ûîëÒ¥Ë)SvíÚ¥5ÒøJJJúñÇ\u001fßxã^½z-_¾\\ë­'¢¹sçþôÓOjçwÏ\u0011#vìØ±téÒnÝº=öØc+V¬:u*\u0011\r\u001e<xß¾}ë×¯\u001f0`À1c~øá\u0007í)ãÆ\u001b0`ÀM7Ý¤Í%55uÉ%'O6\u0018\fÛ¶m#¢ ß¯\u0016<Å×¬Y³\u0006\u000f\u001e<bÄ)S¦ôíÛwöìÙm>\u000b\u0000óO×ðÂ,\u0000\u0000 1ÆfÎùÜsÏá®I\u0000\u0000¡V\u0019\u0000\u0000h!Y·mÛu>ï\b\u000b\u0000Ða!¸\u0003\u0000@\u000bõêÕ+99ùóÏ?ïÜ¹s{/\u000b\u0000À\u000f­2\u0000\u0000\u0000\u0000\u0000\u0011\u0000\u0017§\u0002\u0000\u0000\u0000\u0000D\u0000\u0004w\u0000\u0000\u0000\u0000\bà\u000e\u0000\u0000\u0000\u0000\u0010\u0001\u0010Ü\u0001\u0000\u0000\u0000\u0000\"\u0000;\u0000\u0000\u0000\u0000@\u0004@p\u0007\u0000\u0000\u0000\u0000\u0000\bî\u0000\u0000\u0000\u0000\u0000\u0011\u0000Á\u001d\u0000\u0000\u0000\u0000 \u0002 ¸\u0003\u0000\u0000\u0000\u0000D\u0000\u0004w\u0000\u0000\u0000\u0000\b\u0010Úà¾téRN·}ûöÎ\u0005\u0000\u0000\u0000\u0000à\u0017Âà~âÄÃ\u000f'$$n\u0016\u0000\u0000\u0000\u0000\u0000\u001dD¨»Çãyþùç\u0017.\\¨×£\u001b\u0007\u0000\u0000\u0000\u0000 µBª×¬Ysë­·\u00181\"D¯\u000f\u0000\u0000\u0000\u0000Ð¡\u0018Cñ¢ÙÙÙ+V¬Ø¶m[(^\u001c\u0000\u0000\u0000\u0000 \u0003jûà.âÂ\u000bßyçÄÄÄ`\u001e_^^Þpú´iÓÚzÑ\u0000\u0000\u0000\u0000\u0000\"UÛ\u0007÷\u0003\u0007\u000eìß¿ÿ\u0007\u001eHKK#\"Y\u000f\u001f>\u001c\u0015\u0015uÕUW\u0005||JJJJJßDõ¹\u0000\u0000\u0000\u0000\u0000 jûàÞ³gÏùóççææªÿU\u0014¥¬¬¬¢¢¢Íg\u0004\u0000\u0000\u0000\u0000Ðqè\u0018c!AbbâO?ý4uêÔszVZZ\u001aZe\u0000\u0000\u0000\u0000\u00004\u0018«\u0011\u0000\u0000\u0000\u0000 \u0002dT\u0019_\u000e#Ô³\u0000\u0000\u0000\u0000\u0000¸à¡â\u000e\u0000\u0000\u0000\u0000\u0010\u0001\u0010Ü\u0001\u0000\u0000\u0000\u0000\"\u0000;\u0000\u0000\u0000\u0000@\u0004@p\u0007\u0000\u0000\u0000\u0000\u0000\bî\u0000\u0000\u0000\u0000\u0000\u0011\u0000Á\u001d\u0000\u0000\u0000\u0000 \u0002 ¸\u0003\u0000\u0000\u0000\u0000D\u0000\u0004w\u0000\u0000\u0000\u0000\bà\u000e\u0000\u0000\u0000\u0000\u0010\u0001\u0010Ü\u0001\u0000\u0000\u0000\u0000\"\u0000;\u0000\u0000\u0000\u0000@\u0004@p\u0007\u0000\u0000\u0000\u0000\u0000\bî\u0000\u0000\u0000\u0000\u0000\u0011\u0000Á\u001d\u0000\u0000\u0000\u0000 \u0002 ¸\u0003\u0000\u0000\u0000\u0000D\u0000\u0004w\u0000\u0000\u0000\u0000\bà\u000e\u0000\u0000\u0000\u0000\u0010\u0001\u0010Ü\u0001\u0000\u0000\u0000\u0000\"\u0000;\u0000\u0000\u0000\u0000@\u0004@p\u0007\u0000\u0000\u0000\u0000\u0000\bî\u0000\u0000\u0000\u0000\u0000\u0011\u0000Á\u001d\u0000\u0000\u0000\u0000 \u0002 ¸\u0003\u0000\u0000\u0000\u0000D\u0000\u0004w\u0000\u0000\u0000\u0000\bà\u000e\u0000\u0000\u0000\u0000\u0010\u0001\u0010Ü\u0001\u0000\u0000\u0000\u0000\"\u0000;\u0000\u0000\u0000\u0000@\u0004@p\u0007\u0000\u0000\u0000\u0000\u0000\bî\u0000\u0000\u0000ÐÎd^!ÖÞ\u000b\u0001\u0010ö\u0010Ü\u0001\u0000\u0000 úÖÄ\u0014$wf ¸\u0003\u0000\u0000@{\u0005¶ÿÏÕÔÞË\u0001\u0010ö\u0010Ü\u0001\u0000\u0000 =)\"íÉ¨¸\u00034\u0003Á\u001d\u0000\u0000\u0000Ú\"1\"R\u0010Ü\u0001à\u000e\u0000\u0000\u0000íI­µ3¹½\u0003 ì!¸\u0003\u0000\u0000@{Rdõ_TÜ\u0001à\u000e\u0000\u0000\u0000íI¨¸\u0003\u0004\u0005Á\u001d\u0000\u0000\u0000ÚRÓ*;@3\u0010Ü\u0001\u0000\u0000 =1´Ê\u0000\u0004\u0007Á\u001d\u0000\u0000\u0000ÚS\u0001à\u000e\u0000\u0000\u0000í\t\u0015w !¸\u0003\u0000\u0000@{BÅ\u001d H\bî\u0000\u0000\u001d\u000bSP×ð¢®X3\u0001à\u000e\u0000Ð±pV\u00146!¼¨µv*\u0003Ð,\u0004w\u0000ÅkÚ{\u0011\u0000êQ\u0014FDÒÞË\u0001\u0010ö\u0010Ü\u0001\u0000:\u0010SD\u000fò\u0011\u0017TÜ\u0001à\u000e\u0000ÐðV\u0019cw@¸©íqoïå\u0000\b{\bî\u0000\u0017\u0002$\u0006Ááì\bî\u0010vXM«\fÖLf ¸\u0003\\\b$4?@pxx\u0004áFínGÅ\u001d Y\bî\u0000\u0017\u0002ÁqB (\u0017Á\u001dÂ\u000e\u0004\b\u0012;À@p¡T\u0005A\u0011\u0004\u0019uM\b7\ncDÄÐó\u0007Ð\u001c\u0004wÇd&q¨¸CPD\u0005\u0015w\b;êÁ$\u0004h\u0016;@Ä¼LÆÀÜ\u0010\u001cÎ*£!\u0001ÂZkÇ\tÐ,\u0004w'q\"a\u0007AñJ\n\u001a\u0012 Ì¨\u0015w¬\u0000ÍBp\u0007x\u0012ÇP© yJe¬,\u0010nÐã\u000e\u0010$c(^Ôét<yÒãñètº¡C\u000e\u001a4(\u0014s\u0001\u0000Ì+2FæàxK%Ä#\b7µ­2í½\u001c\u0000a/$\u0015÷Q£F½òÊ+\u000e\u001dZ½zõE\u0017]´iÓ¦PÌ\u0005\u0000T\u0012¯à:\u0010$o©V\u0019\b7ê*CJf¤âþóÏ?_rÉ%êÏ×]wÝ#<\u0017\u001d\u001d\u001dy\u0001,0\u0013\u0002A\\\n#¬-\u0010^Ôu\u0012Á\u001d Y!©¸k©F\u0018QZZêr¹B1#\u0000 \"YTÐã\u000eAR8à\u000eáFMìØ\u00014+ä\u0017§\u001e>|xöìÙ]»v\rõ\u0000:,Ydh~ É\u001cò ìÔô¸·÷b\u0000¿´ÊhöïßÿüóÏ\u001f:t¨Ç§§§t1\u0000.là\u000eÁR8R\u0004¬-\u0010^Ô5\u0012­2\u0000Í\nap?uêÔÍ7ß¼qãÆQ£F5ñ°\u0014¿iii¡[0\u000b,+\bî\u0010$c2µ\u0005Â¢ö¸£æ\u000eÐPµÊ>}zÚ´i«W¯¾öÚkC4\u000b\u0000PÉ\nC¥\n$sLá±¶@x©½8µ½\u0003 ì$¸geeM>}Å\u00153fÌ\bÅë\u0003/EQ\u0014Tª \u0018\u0014É\bî\u0010fjÄv\f 9mß*#IÒÌ3SRRÞ\u007fÿ}uâ9szôèÑæó\u0002\u0000\")¸q\t\u0004A\u0018)V\u0019\b7S\u0001ÒöÁ]§Ó­X±Â\u007f6ÆÐ^\u0005\u000bÐÉ¢îö\u0000&Ð*\u0003áèq\u0007\bJÛçiÁ0mÚ´6\u007fY\u0000hè`¤kïH 'V\u0019\b7H\u001ew  \u0010\u000e\u0010ñD§¢jïH  â\u000eaI=¤ÄCfü\u0006L\u0000\u0010jS¹ö^\b\u0004;£\u001ew\u0004wæ â\u000e\u0010ñDV\u0019\b\u0006zÜ!<)\u0002QmÃ\f\u00004\u0001Á\u001d âN¦A\u0014æÕTÜq~\u0006ÂLM\u0013\u0017*î\u0000ÍA«\f@Èú+É©È^ìð yèqðà\u000e\u0010$\u0004wó¤¾¾èT\u0014Ì\rAPdô¸C8ª½8µ½\u0003 ì!¸\u0003³@\béëK\u000e[ê@0ÔV\u0019TÜ!Ü¨=î¸8\u0015 Y\bî\u0000!çÈ\u000bm\u001dIr*\bî\u0010\fE&\"Âù\u000bèàû'×´Ê¶Ä\u0001p!@p\u0007\b9G~hwG\"zÜ!8\u0018\u000eò\u0002VáiïEh¹V\u0019\tk&@3\u0010Ü\u0001B\u000e­2\u0010&Ô\u001ew´Ê\\¬6NpÉí½\u0014-¤v·«ñ\u001d\u0000à\u000e\u0010râ\u0010·Ê8Ð*\u0003AQ\u0014\u0004÷\u000b,3sf¤ôÉpçTà ¸·\u001a¶3Ð\u001cWµÀä\u0010®()h ¨ë!\u000eó.H¢[±T{Û{)Z¨öÎ©í½\u001ca)øòvt\bî­eNÔ\n\u00077]ñZBu\n[\u0011Â¡U\u0006û\u0005Lr)æt¾½¢jZePqo«\u0014\u00077\u001d\u001d{kåïp è\u000eM\u001cÌk\u000eÕPîW!ÔP!8µÁ½½\u0003B@r2Á\u0016©\u0003Ë(h\t\u0002S£\f#ïtt\bî­å0óÖ<\u0014Ý¡)Cá\u001c¡\rîh`(,*îè\n8'¢K\u0011í\u0011\u001bÜEÜ©ySñzB{;?\b\u007f\bî­%¹XeA\u0004\u000fÂ\u0005¡¦HLö0Î\u0013ªV\u0019É®e\b#e8H¯)RÇHi\u0017IÎÈ\rîD¸\u0001Ssx»,HøRtt\bî­%¹\u0015IÁ\u0017\t\u001a¥VÄ\u0005)d\u0015w^!\"ã\u000eÁ`jÅ=B\u000eóÜå(À\u0003É¥\rî\u0002*îÍ\u0013²×{GàÞZÉ¸g\u00044®¦\"ÎBµ¨Á=R¢\u0018´¯Èjqx\u001cÕ\u000bèTDGdüe\u001bÂpÁ\u0010<²«\u0000Á½£Cpo-ÙÍ$7¶5Ð(SH\u0012BU\tHª¡BûR¨fÐ=V{$é®\fßpà~N$\u0017\"·â^3\u001c$¶cM\u00118Å/EGàÞZ¢KÜº­ó@\rî¡;-µ£Ê`\u0007ÍÑÖ\u0012­'!ç;{»-MsÜ%(.\u0003É¥Dp»@Væ\bì.Ä¢£Cpo!ÑS³}DÅ\u001d¦^\b\u0018ºÑ\u001ej:µ\u0014RÐ²\u0005Í\u0005-¸×ü½Ö.ë}æ1dõ9\\,r[ejGÔå??DEöäãº\u000eÁ½Å5c©J.ErEj\u0003Î\u0003µI&Á½ö\u0018\u0012û<hÖR¥\u001dæ9ËÅêô0\u001d\u0017Ë]à~\u000e$g$WÜq\u0003¦ \b\u001eÙS,±]1\u0005\u0011\u0001Á½\\Õ5Á\u001d\u0015wh,*D$ØCµÈµc]+áZ7ð¡\r\u001bª%$Ñªðî0­á¹ª%4\u0005Or1ÙÅ\"tð{õâT#µ&y+dÅÅ\u001d­\u001fÚÄ\u0013ÜÏóÖÊQ{Eà\u000eMDµU&TÙHVPq`i#¸«\u0015wÆhWD©mr@7k\tNY\f×0$»\u0014b5ÃXEV\u0019T\u001fÄËDÄYÐæÞ¡]8Á½ê÷|ÎÎY{ÛaÙ¥È¸8\u0015\u001a'ËêÅ©!«¸\u007f\r\u0015 1ÚxÿjÈ<¤ºc¿VjótÉ©pV\u0004÷`INFµWÃG\u001cõâTDÚ$o¹LµC\u0000Cuá\u0004÷Ò³Nñ|\u0005hÑ£¸+%\"\"F\u0007\u0015wh,öâTm#à\u000eÍë÷¸«ÛL¹NW:+6y\u001däd¼\u0003Á=(La²\u0011EjÅáâÔ p\u00152\u0011I8/Ñ±]8ÁÝS%WryñV«ImN\bÁ\u001d 3¤\u0005wm Iìó Y>ÁHò(D$µQÅÝë´á¶ZÉLñ²°í¿\u000f72_3Ô§\u001cåØ;§\"6I\rîa;\f\u0014\u001f\u0017Ü\u001bk£äªäÊüó\u0015Üí\u0012¯\u0006wõÞ:\u0018U\u0006\u001a§Þ35t\u0015w-¸û?Å\u001d\u0002ò¯¸{Õ+§Ûfå\u0014e9Î OJ\u001c#\"Áà\u001e\u0014©ö/\u001b¡}\u0014êe©¸8µi|¥Z1È?1´È\u000bîb#)¯]çëÆ\u0004¼[®ùþðdTÜ¡qê\rÄ*£\u001d\u0012øî°íù|f\u0007\u0011MÑ.NUWKõî`¶Öcõl(Ê½°à¥AuÔ¨½Úà\u001e\u0014¹¶µ]»þ8²`\u001c÷`\b\u0016jÛ/¡Ã¼àÞXË#_¥¨gÎÇ2xe¾J¡Úº&*îÐ\u00045X°UÆY[i\u0013êfa«Dp\u0000´S=\u000ej\u000fö\u0004kkWN{¡@D\\µÂ»Ù\b»+Å ÛÖÕ\u0003\u0012ÃÖ5(Z^Â¾\u001c+8\u0003¬\u0000êp¸sj\u0013\u0014ÉNF>÷î)ò{cgu¹*«<OÁ]\u0010e¾Z­¸+D¤^\u0012\u0004\u0010PMpw*!ºiF]Å½¶X%8e/\u001d \u0004 µÊx½\u0012Õ¼Ö\u0007wG\u0005Ï\u0018yË%kf#ì±H¼'¸àÎ+D$}\f\r\u0013Ú\t·ð\u001f\u0016ÖÕð¾Z¬&²³°_øv¤µ\u001b´ÕÕä\u0010¡\"0¸7rVW¨Vøó\u0015ÜEYLæ;Ze qj*bRÝ¹ì¶¥õ¸ke\u0018¯Iòb\u0010=\bDkqY\u0004\"$\u0004[k×L/'\tvÙ[.7ÛÙâq¼\u0018TO£Ä3j\u000eBËëêø³áÌm\u0011ýîý©(5WÖ¢U¦\t\u0016Üq\u001aªc3¶÷\u00023Á\u0011xå«d]îü,×$\u0013\u0011ïPÔkDd´Ê@ãÜµ^H^Å\u0018×öÊu\u0017§Ö\râµJ\"\f\u0001h\u0015w{Hµ!¯õáXT\u0014OµÄUÈÜLpç`ïÒ$\u000bm³l\u001d\\Û)\u0017þ\rÐ\u0002/.%º³AÂjW\n\\Ú\u0004©öT\u001c¢³·\u0010!\"0¸\u0007ê¡TD&Ù\u0019\u001fuªRI]\u0012µÈ!y\u00181¢ótÔ\u0000\u0011ÆS\u0017ÜC²µÕºçµó§[v#¸C uÁ=]¤Ú\u000er±Õ\u0015wÞ*yEo¹ÌU7³\u0011väÆ¸ ¶êÖU½\u001a\u000f\u0015A\u0015wIRx»ì\u001bÜÚÍ\u0015*îMPÇ\"\"%ìÿÄ\u0010R×*\u0013p(1õj'Ñ¢´ù=·\u0003Rï^&¸dY\u0014\u0001mÐ^Ü\u0005µÁ=T­2µ;ìÚó§\u001c;\u0004¦Ô\u001e=:2\u0004Ò<juU«T¼n¯Õ¢F\u0013\u001cgÄ *kûïÑô\u0015\u0014YÒ¶\u0003á¾3âw}ª¶mdm|\u000b¯\u000bX{\u0019è\n÷?1Tä\u0005w!ÐÅO¢S!\"RH8/·ÙS\u0011½JÝ¶22ÎPcyB\u001dÜk·æµÇ´<'y\u0011Ü!\u0000­âîÎdñÖ¶iGñK¼(q\u0015²§´-°ó¬è)\nîâT\t=îç@+´\u007f\u0003´È+Bý\u0002¶ãfç¥ô\u0016¡´qÃj\u0002\u000ftT\u0017ÜE!À*+ÔÞ]¯±\u000eø¶¥Þ}Iäë\nü\u0011:tnë(^0x¢xj~\u000eÑ}ª\u0005síÖ¼¶áÁU(yQ§\u0000´SI&W¨®3mQq\u001d%ì`Þæ{\u0018äé E\u000eÐ*\u0013öÕäv£µ¶¨%¯\rñfÙoô!-Ç3\u0018Li6Âx^r\u000e­\b\fîº»ÚÞ¯fG\u0011n\u0013êX¼(Éµ\u0003vØànÍæÚ{\u0011Â\u001ag©Ë(r cÎVâí²Tl´R]y¢X­h\u0010\u001bh¼¹n\u000bi+ãÔX,Ù\u0015ÖºDÌUÈÕ»9\"ò6Ù*£+=Á\u000eR·®~\u0007\u0015\u000eÜY¬\u0011JmÞ\rÿr,oRD¡~p÷\u0019!¡æÐ\bí¤äì y\u0003T\u0017Üe¦(\r®\u0017k\u000fßÅór\u007fl¾Z!\"·MÔ¶¡Èd\u0011ÁàÞ(Æó¹d(nâ®¬\u001b¡®â'\u0011×\u001d Ôã©\u0014½yukEÞN»ÚAÎ¤º\u001b3µ\f_)÷òDÄ7y\u0017<Î\"B\\LAÌM½ØÚ¯U¦â ·5Ëy\u0001Ó\u0006\nÿr,oý\np¾\u001d°Ý\u001c\u001d´ÿ±\u0019Tä\u0005w\n´Öj§ÐW\u0019\u0019#Á$\u0013õ¤ ×\u0005÷\u000ez\u0004\\ýh#rÇüW\u0000\u0000 \u0000IDAT\u007f³ÞdæÜu;$9\u0004í^kÝVq÷\u0014HDÄÛÐæ\u000eõXòë\u001dfg\u007fàt×¶TVm9¹\nÅ}V\"õúÆWsõö\u0002²åm·»J¹\u000eQQG¼©ß*SyÂÓÈÃ;:ÎYó}ànV\u0004¾Þ\u0001ïm¶8;*\u000ei}ÂRØÿ!¤\"2¸7¼a²vø.6wûÖÜ\nãl'\u0005íf\u001dvT*\u0004÷FZi)Úââ\u0005{\bÆðòz\u0002TÜÕàî±#¸C=6k½>\u0013±L)ÿ¡&\u0007·&¸3\tµ£@*^&º\u001bÝ\bsurÓõÅîêfÖOut\u0014¿¡*ÍYÔºc\u000b«vô*gV¸.doý33¢R÷_Á\rW`Bm\u001bFéà\"3¸7\u0018\u0011Òc©ÙT\u0005ìoã¹×\u001e6ØO\n2EÌ]¦CAò*\u0013<®%\nÈqF,ýÑÍy}zÜC0Ú×çÀ æBC\"Ù\u0018\u00119ìè\u0006z*\u000f48Ì®]}$oËWNÁ©øÞ7·û¿Ä)¼]&\"^kedÄ»Égê\")^æ{\u0005»Hr\u0014cÈÀ\u0000´ag-\u0007ÂýÏ\u0014uHeàs°ÇãÀ¬\u0011¼\u0005\u0015w ÐàÞ°8Tü£»æW¡¯¸kwòæ×ÝmD\tAûrøãí²lcî\n\u0014Hü)2se|¡R°Î¥MôXÛþr\u0015úTÜí\n\u0011yL5s©>Î\u0011Ñù¹³\u0001D´FÏµfx(¾~oCÃ{äÙóùÂC\u000e\"âÅº¯\u0000Ï7³­\u0016k¯Àó½w·Pr\u0010Ü\u0003ðÔ\u0006w×\u0019)àÝNÂ`V¸ú\u0015wß\u0002|À\u0011øÚ\u0001Ä$ô¸wl\u0019Üëoñ%N©ØP³CâªB\u001fÜµÃ\u0006F¦}5µP´/?Á¥\u0010³\u001cûQ\u007fJqDD¥_ÖµäBP\tsdù¶Ê0\"âj[Û«¶sLfg\u007f¶´ùL!\u0012¹ËEÛ¾F¿ªR+îDáÔù\u0006­2ö*áôçVò­¸\u0013\tr3Ûj-h\u001aWjÅí\t÷Vvá®½C31²\u0017¢{ç\"d®~Å«ô¹85ôÕ·\b%Ô7 bT-2{ý!\\ªO{åÚGÚO|.úS6í­¹ØKn0ÐMG ßt;\u0010Üý¹«jÖCß\u0016\u0002óþµ·µÙÉéÓ*cWsÕL1ïã+yÒW\"¸\u0003\u0011QÙ\u0019W\u0013\u0016\u001cp¶xL[¿ÞE±A×ÝÊ®òxª$·Ï@ÍzT×\u0018P;V ×$\u0013½\u0000\u001b\u0000<uíy8)!8å¼#ö\u0016<1&Z\u0015oI½Ó¾3à\u001e\u0010Ê»ï\u0000e\u0010æ\"2¸»í\"\u0011íYT¦Æ£ª¢º¢¦y\u007fÈ+\r¾\u0003Ð:NÖ¬ë\rG¨ì\bÔ=´ÛV\u0019\u007f\u001eG ý ÌkÒ(n«\u001993ý[e´\u000e\u0004ÅÁN|aªÞÄ;\u001b¾\u0003:mÎ&~{ì)ó\u000få¶lçí×Û \bþÁ«z?Gª²<npÙìm\u001cµU\u0018±¶G=dOÇúìOpÊ²½n\u001fätü#*=î²g·d.1\u001cé,0[.¯öhùvÎpf\u0004÷À´b\u001c÷Ò\f\u0017în\u0016)\"2¸Xfv\u0014\u000b'\u0016Zöý«Î~bÓ~e;*(!¾NÔwà*íÒ.íNL\u001dÚ³d?ý¨?/\u001f (\u001er\u0014\tG¿¬*üÒåinH`Ø\u000bxO¶Ï¨5\u000e1â¥º)¹\u001f:¨<ÓÝúyAD\u0013rÁ\u007f]M?¦â?ÜÙí-9?ãÔÅ\u0006=0¦]\u001c\u0011U\u0017z|«ÂîænÃ¤\u0005t­sÊDdÏÀ\u0006Ç·~Ø-ÜâÚ³¨<¤s,>äre·d#¦6V)^r\u0014ò\u0012ÎtÆKõ»ßu« iYÅ]\u000e®\u000b®ú¬×S¢{dÈànß!n}ºI½ÄQ²ÓeÚXWeWÜÌQ\u0014ÚÍº\u0014(£+\u001drd\u0015QRÈv\nûQ\u007fÎ²ÀIÅ1Ï©¿YI¦²fRT0ò\u000eÕ;UÍD9ÅSî³7UJ\u000f ¸wtg\u007f±\b%Íï¿ó×´dµôëVW7\u000buÿu+¶#\u0002\u0011\u0015ÿànºâþÛÂ=\u000eõgEb®Úë7¤ÚÞHÈ§\u0012\u000f\u001a®þM\u001bÞwç~å\bé\u001c-xgvKþ\u0010Ú³JÁnæM\u0015^\"â}zÜ½¥\bîñ¦OFv³ \u0007s\u0013òÉ¯ÌÁ<Ò¼w`W\u001e\u0019\"2¸\u0013Qùw^\"R<öpß¯ì\u0015¡í\txéÜ!O2©ïÚ\u0011Ü\u001bhì`fÿK²\u0011QéÁÖ\u0006wÆXÆ\u00076¿Gqåûç¡¢ump\u0000\u0011íÈßÚyWnôzÍç\\Fåê_³Áêý·ôS½ñEåfÎßhpg2ËúÔa5Õ\\\u0007â®\u0010YíÝ¢¤Ú¨¼(\u0013P®ð¸GO}Ú-\u001aW\u0018ÒÏö\u0013;§%\u0015w¾öRf¯ÚÃþæ!F|¥ÏÀAåè½\fÀk¸¢ÚÕ^!\u000bê{&ÍR¶/¨Âå ï´cW\u001e\u0019\"5¸k<\rÎÖº½O\u001b\u0002ÒWÇl\u0011¼\n\u0011¹Î\u0018sÐOùÀãî¹kW×òÍ­½qUuº×¾Ë\u007fU\u0017½L\u001bÎYã:.ú4\u00143Á){2\u000bC\u0012U>çó3ÞÒz/î7Ò_îoµEt\u0017\u0013}óYIÍÃ<Õ\"\u0011Ù\u0004©Z©>P\u001bÜ«\u0002Ü¹ÌYQ³\u001a»ËQt¯§áØ'WÈ>%W\\Y\u0012_.·`ø\u007fµæh>ÁWíô\u0016\u007fç.ÜãP¼u{\u0010®\fGe\u0001sêÝö8Èñ[«\u000ey­Gßø\u000b\u000eÙ%9ª±\f\u0011\u001fÜ\u001b2à\u007fP+\u0004\u001cqÒÕÜV\u0017$u\f/ÅKî=Ä±\u0015Õ\u001dòÜC=Î\u0012ÁÞÌú`ÙÃnE«´;×¼\u0003\u0001t(Úë4\u001d\t°þWåáFñ\u001do\bnVþÎsn±ðÔïmð\u001d[ò*¹+\u0002_\u0014+V+2§.ùÔ\u00063\u0011ÙJx\"2í®9_ê;VÖ4_Q{<ì¶×à^¼Ï\u0019æ5~[YóÌîµ,;KE\u0018yÎeÕªynmY·<Íë8&ò¹ò«|\u001f\u0010¹ÁÝU\u0016ÂÕÒjö\u000bîAíh­Ç\u0004Gzó\u0017þÙ\u000bybd>\u0018Úì\u0004må\u0002\fîk\\,\u0004áQpÉ×Täüf³\u0006ê°îªÚà»®J\u0014\u001d|µªp\u007fh{+Ã_unóÕt&9Û±¤tËEÍ>¸!É«y×¿O¶ÿ¾Ì\u0011`·WS³H87\u0012R²ÀB}q|\u000bxÏåÎ_9+M\u0017ó\u001c%%«Þ\u000e¾{áAXÖè«y-²);ó¾)ÌfåÈv\u0005FD\u001eË»«\u000eqDÄ\u0014V¹­f¾\u001eoÈ»à³Ò¬DÄÛå³¶¿åß\u0019VòW\u0007hs;Cõ)¹ªk^Ùc9çàn:\\saÙÆS îwÆ&b0úõÐÝG¼ro½âKÃÛP\u0006d?)0/9k^¯*ö\u0010QÅ¯\bîá\u0002\fî®\u0013%«®üà(\u0015\u0004Gk7\u0004SN{½øÀ½¦-×~\u0011 xÙ1¯Ò»ÍÄ\u00119ª©°µM ­±ù±¢Ü\u001d6b·µ%c\f· ËÛ¹[ígþf«Üè\u0015ç¼~îû¨Â\u0013( 7¦t½\u0014íx¥ô\\ç\u0015þ\u0018£&\u000eÕ\u0015µàþ9ÑF=øIÅÆ\u0017\nZs\u0017Rw(Õß%3UlÕ\t\u0013¯ë\u001c¶Nbñ¹üL½ X}Æ«\u0001ÏY¤ï\u007f÷õ\\WE]\u0014ð»ó¹rÆçÖ&æUé6W{ÝÇ¥ãkªK6{Hñ='\"GnÝëüè&\"{¾ ×|2\u0002ÞY*\u0006\fI-èÑ\u000fèÔ\u000f¦\u001fY(ÿ]2±ÅÎÊSaq·Ä)'¿7\u001dûoµ6ÅS-Ò\u0002D®\u0010\u001dÞ(\"óÔ®Qó?mss÷¡,Ìïü\u001a½/ùÞ]|($\u0017\u00141ùuWVä6?#Î\"\tå\n\u00119+\tî¹_;ÈuBt\u0016wÄ\u0012dÄ¹\u0000;\u0011çÔ\u0014Ý½féÇ{ò?¿,+ëzû\u000fY`U'=ÅûêHIMïø½féûò\n4õ=qit\u0013YqÆ}âëêÆ~\u001bÂ<Õ%ß[V'r¾q\u0010©ÌCD¦\u0003¡:jç¬ÍÜÊÛÇç®tìz®¢pã·'ÊB\u001d×\u0002òÄ³\u001f\u0006uÌp|\tÄxª:}n±¬äóäsç6l_õ6Nâ}Óÿ°Iþh±çÓÎn°|w_®%ó}ú×·äs_LÎ,\bÔVTóÈVßAæ´EÛß.ÙùÏÒ£O\u000bßqçî\bp2$¨\u0012Ø·wämy©HýY\u001d3ôÐ\u007f*\u007fþCoHõZ¤MÏ\u0016zë\u0017;eBcc\u0019qçx+ÊÝ\u000fTnûKï\u001cw¾ZöÛÛ%k®Ëúï°,×^Iªf;?,s\u0014×$0®~p·ìã¥Ç,íÿ´¼ø³¦V¶ÃK«Ëwxhï}U\u001fÕl`·/,]ÿpþyuk¸ãè©,%u\u007fß£\u000f?ï¹jjïñCÍÓß*µä´v\u0013ä,\u0013\u000e=cªüÁ[´Ó¹ÿå*uâ7\u0015f§µð/Ûvü£t×í\u0015\u0007«ÒVòÓ\u001e\n´©³g¶}\bSdöë\u0012gmºÝ|nCA0Ù4ÿ\u0014[\u001eGDLf¶óq\u000bØ\u0016ª¿åPë5\u0019ëÚþwå'Ý_Ýã8R/cýÜNDU\u0016\u001c²£;u8kû0]M\u001eºó6¹äËïiU.*#@¨û7ß|3fÌ.]ºÌ7¯¼<´\u0003Ê6´ïñª»^73çó\"#§ÝXzìó*í\u0001é?¾\u001e÷Ói¯\u0015ùÅüíÜ\u001eË\u000bØÅ(yÍ\u000b\nM_7³ùàeßSWLa9»l§7\u0015mÿkÙî»+\u000e4u÷ðd-àJú\u001f®(\"ûé±üÏz]7>Ë¬ùÄW»ÝåbÖ\u000fvª_P±å¶n³Ë¨`·ýÔzSÉ\u0001×±ÕUÿ\u001du6­n³(¸Ìm\u0003ÿ-ÏÛY\u0013Ëò\u000fÛÈ}DÚrw\t)Ýè¿\rõ;cØak\u0015Yëç¢}u7eoZPä>\u001a\\\u0015ªvu«8m¥Ä);^*\u000bþñ*ÅÅ¶9÷ü­ö,­èûþÉ²ååÂoîÎ9øqEÆÏ¦]ïîx ¼bµ÷ëI¹%GD$¸ä\rO\u0015ü»ßofå|7-ßuD*=\u00148>s½ÿ7üì\u000f\u000fç9Ë\u001b¼>å[GpjSµ«Á-Ò\u007f2çüÝñíÔó5ÕCoV·¬d¿ÇîÜ+\u0016¼ç:óeõ\rYënÎq\u0016\tÇ_±xNIUé5õ6S¶¼T÷óÈç¾Ï=²ªjíå9\u0005{ê\u001aÕJ¸*ÒÝÔ¢õÜöPz¤æ»ï5K?xO/°Y\u007f\u0013¤Ú[Àä/rýpw\u0001\u0019cÄÕ\u001f\u0006DñÐ±uÕÛÿQrä!s\u0013÷j%\"óF>û\u001dÿÎºò/½Eÿçfõ¿C¥\u0007]Ù»üC³cøÝïóó÷Ô\u001dU¥{ò8Oo\n*<5<\u0002Ô&ì[Y![\u00181Z\u007f]¡ûpÍ¢%Ê/ÓKv¼]\"¸Zr\n·:ÓóåuÙù;íg7XN|UÝtÓ\u001ag²Ó\u0002¬`\u0015®u\u0011lfÇÖT1íy§,mvà6Â\\jßQ\u001bª8îÎZf?öRÍ'|üM³Ì+Á÷v»ÊDÉÒü\"Y«y\"ÊÜb]3\"ûè\u007f«Z\u007ftÝ\u0010SXþ.{0]µ²Àö:K\u000f»´CYÎ*m[TòõÿË1ezH\u0019cûò?tjW|5­*Ës2­:g{S§¤(wí»KóÍ\u001bý÷¤e_z¶.,þ¿\u001eg>K=ûõÿäZ\u000b8\"RDvâjOm#v\u001dpéþ¦svØ´\u0011*Î±D\u0014 èiÏã\u001c<Þ»J<ömUS\u00170:³Þ¢¾ÓÖyåÌ÷}CqÃÂ\u000bÛüE·oßþè£®[·î¥^ÊÉÉùôÓOo¿ýv½þ\u001c\u000e\u0012òòòRSS\u0003þªp¯³*ÐiA_²)\u001cyr$Åg%,þÉ=è®N\t=¢ªÏx·ÞWª8\u0018\u0011Yw\u000bù«\\î\fÉqD`è=*d^Ñ\u001buD$\u000bl÷{eyo\u0007uòkÄI±]L.®»ñÀÊ]wV\u0016¬v\u0015rUÿÄ\u0011QÑNWñ>gî\u0016»\u0013\u0012{DG'\u0018ú Î\u0017¦0Nç;Eò*?þ1ÿäB\u000bKQbã\fqÝê\u0003²\u007f³\u001d\u007fÚBïD¢¬vó&x³|éü\u001ez.\u007fýûù%§]'WÝ\n\u007fô]Se§ü´;©O\"RñaçÞ·+âz\u0018â»D1éºÜm¶ÓëÍWñVK\t=¢Üâæç\n<i.\\ëÊü·­ø;·âfÕÜÐ\u0013MyÞýË*ö¾^¹Ø^ö7çs;/=å:ö´E]*ÅÍ¨èGWÒåÑÝRcÍÞ¼Ãöcÿ6ývg+K*;ã2ey7Ì.\u0012¢¥Þ\u0017'\u0018¢ë½÷f?+W´ï£òm·Xi*=ëbq¬ô ë×ÛÊÜ²ëØ9;.Ûà1\u000e¢±\t~ÓÝU¢£Píjd\nY29W\u0018×Ýxê;sö\\E·ÞÉeÉDä:!y\u0013¥òîîã¢âõDD2~2çïqt\u001f\u0014kÉæbzNXîN[Ñ\tgR¯\u0018c\\Í×Q*(\u0012ãíRî>9óVHzÎVÀç\u001dµEG\u001bâÍ·ËîrÑkr·Ûz×é¨p£*ËcÎçô¤Knô~D²é¾âÊo8÷i©l§`«r\u000bÇ¼DD²×:.ÎÞjË|ÍÁ¼äÎd+#\"O4îOÝy¹ÉÚsd¼úRÑú¹\u0005Î¢óXVäºèdõ[ODéßH$k\u0001¿éÞ¢Ñ\u007fìªÓëèÔ\u0006ÓÞÛ«2>·X\u001d\\LgCUGö2WøëýeêÆ¤îÍ\u0016*%ÅÎN½£d7ãlrLgÎÐü\næ5Kæ\u0016©Ý ù_;\"E,Sr·Ø¹|â.Ó÷»´ó©¯MÛ(­þ#¢Ê4®ÏÍqå§<:Î^Àïº¯B¶²ìOí§¿¶t¹$Jt+[\u001e,.;á\u0019y{ræ÷6Ós>6\fÑ\rHDÅ\u001dÙ\u0006Xå\u0012¥Ï¬¸Î#oü~Uµ³í\r®Ü\u001b\\\u0006Î[ç°ü\u001aà\u0005B¥h{ìº©\u007f»ô\r¦²¼U¿yûÝÐ¹Wtc¯Æ\u0018\u001dý¬rß;ÔÅÄ\u001ab\u0012öbþ«ksM&ïà)y;\u001d\u0007\u001f¬=GÚ Tmå27Ú8qä(á£ã\rÚ·x\\~Ì]|ÒÜ'Öw«Â\u0014¶e~qÕ\u000f\\ÎZGÞ*gÑ7n§O4Æ&\u001bµµN£Hl×{eG^0]ô¤Î\u0006\"rWê.ÃÃ\u001f[X3²gÅ&oþnGÞ\n\u0017käoË\u0017(¯0F\u0019\rUg¼|®ô¬+Ê 'ò÷Ú£ã\fê+«c_UWmáäÚð-)f³wÇÜrÃ@ê=&Þo'BD²À\u000f8=bL'ÃÖ7\u000fþµZ´4\u001féº\\\u0019rqÂúÛ\n¥*VòûÔ\u001aÒIé=&Aý&«}öÊLÏEåGßdÕ\u0013ÑwËwÿ¿Ê~³\u0013:§4º\u0010\u0011g\u007fx0ïØsæ³Ø\u0012¯ê>,Îc¾W¼ÒíÎ2>²fo¶¥\u007fgqÙøÓ/Ûdª(ñX\n¹þWtjbi-yÞï®)ÈÿÈû¹3uNçønQUÊÜnÝûFEt7}\\'cñ\u0011')T~ÒýË-¥ÿ¾Ì;xb¤xH²0Â\u000f|`eÅ\u0007ª\u001d:aØ´$\"*=ë*\\å\"\"ëQaôcÝÔ7îÇU)nú]\\»\u0005s[¥1s»\u0005³½R\u0015íwì|»lÀ\u0015kv%Dö\"~Íè\u001c³Û;ôú.\r×&\u001cü¿Ã\u000fËªÝ=Ç%tªy\n\u0013äahÝÑÿTíSi\u00158Á+\u001d~¿:ý?f¥\u001e\u0017Åi¯PyÜS~ÚUtÂá*\u0013£\f\u0006Oµ\u0018ÛÅ ÓëDÂY$btìËêÄ¨Ý\u001f\u001d{Á2êáä¨Æc\"3íÏç\u001a&¥v¡\u000bÅuwÞyçï~÷»{ï½,\u0016Kß¾}wîÜ9qâÄà_!--mÚ´i\u0001\u007fµsié©ùÍ\u001c¤6¦ë­Ñ1±ò¯\u00027aÇ_b¼wÏ0{°nTîÈ7º\f¸ç\nÇ®`k\t·\u001d\u0018Ôgb§µS³®ú[ÊÆÛÆoJ\u001cÕ[\u007f×¾!Éb[ò\u001eÚ»J,>é8µÒ:mIÿ¤A1ÚôÌ4ËÖéuÝQo&]ýL\u001fg°þ\u000f\u0005Î=ÍdÓ{s%¥Æ¬»%§zC C,=5<±kHÐÉîºOlð\u000bl\u0019uC\u001bêí<&Êyª©?bü\u0018Ãe¯ö\u0018sG÷f¿\u001e´ëíÒÂÏÝ¾£Úµ\u0019Ûú§þO\u0017\"2õ&öJÐÿülAá{î\u0001zÙÍ$3#¢Þ÷Å~á¥6»>A×}jÌà¹M¹Ü%N\"Ò'ê\u0014\u0007K¸Ä¨8\u0019_¡¨c´%Í¾í¿\u0013zF1ÆÖ?Yà©¼9²ç¸ÿ:\u0010w±áw?\u000fN\u001eè¿V;J]ÿ(+XáÒn3|ñ[IýÇwÚ<£D]\rôqtÙGÝ;÷²\u0017\t\\¥Ü÷Ôk²\u007fµö½¤S§Þõö©Ö\".íÙêo«¸è\u0002ä­é?÷+9é<ý²ýö£RÆv\"¢òãîïÆçk\u000f¸ruÏñ÷ô$¢¼\u001döMSµé³÷\u000fì\u007fEg\"úúæª-)öt¿-fäãIQ¤ïwqçÎ}ëÞ\"2}Îkvÿ³<®·¡l¿§zmS¯ßmjy{½}¸¡N¶3]\u00141¿\u0015Üç\u0013¸íà CïT®=çBZt\u007fý\u001f³F\u0018cõ[_-Ê|#ð±âðW\u0012¯x¸÷\u0017\u0003³ÎõÅÛÖ¬=\u0003\u0006^È\u0018ûbbóHDÑ\u0003õ\t}S÷ñÚ$k%ß¥Gtñ^Wbè#âeI)ÜãÌx©¦~\u001f;Ò0îõ®Y«í\u001f\u0004\"ío\u0010Ì²\u0012ü§¥§îÓcF?ÙÕáí=.áÐ[Uö_E\"ê÷düØ»»¢»Á1òöäâC®\u0013Ï\u0004(ò]²¬ë¸ßw¯ÌôÄ%\u0018»\u000eµ\u0014qg\u007f²V\u001fåÌëy\"ºâ\u001e\u0013þÐ«â;ã{Ëõ¯ö'¢Ì_-[o8\u0013n~\u001b[CÍR§IÆ«Þìzm\u0017-ÈBÍ½\u000bÂ\fÑº.b8TzÒ\u0015×ÉØuH¬½X°VsLîØ\u0013*Sî\u001bø»NÉ=bûÆJÒãâ8S¶wë\u0012ó÷<\u0011é¢\u0005½9O¹=nÜ¼n®­w&aø«\u0013\u001fèe+å\u0013£Ìå^^×kX|bÿ\u0018Á!ëôº¨Nz\"²\u0017\tEâ=ÒÉ±âC®3?Zr\u0016×î\u001eùfÑ7uËÚn;ñ´Ìï|ã¢\u0001ú¨F7ýÛß.Éx¡fU\u001bc¸þ£¾G>¯.ÿ¸ùë¸¦|Ùkìï{ð6YX\\÷z\tEfß?W±ªæER_î<þ\u001e;U­âê¾¼ú8Rø\u0000ûÊÆ\fx$¡èÊúm\u0007õ\u0019°á¢\u000fj¦]l>\"ÜðÏ~\t½¢´§\u0014ì±§Í)\u0015ëÍcúÖ¾Ã®O&¢CTÊÒcd\\T´ç$k\tGD\r¸¢Ó+\u0012eem±îx \\¶°^sc§¾Ð7±\u007fttgÃ//\u0017f¿é$¢K?èvù£½µÃWw¥xê+ó¤§z«ÿ=øaåÈß%gþbïn\u001cuK7Þ.ÿgØY©\u0011!Y÷3Ã;õ\"¢¬4kÚôRu¢Z©GO}ïyÖelTçÞÑ\u001fó¯ ô\u0013;â®¤}WIV¥ó(ÇÞº\rå°Å{/KóL}­o|7£­Õ'ôb\nûåoÅyï8'­ì1xr\u0017[9\u007f`IeçQ3\u000eälÒæ¿\u0016õ\u0018?áÁ^^Ä\u0014Jì\u0017MD¢K±är:\u0003u¿(Î^$D%è:õv\u0014\t\u001eØmDvHÓÚ>¸\u000bÐ¥K­[·^uÕUêë¯¿þ¹ç»é¦\u007f\u0010\u0005÷f¥¾ØYáYþ²\\_2ý×¾I½b×ÎÕÅ\u0012knÿÞåú¨qÏv\u001by}WCL;_f°mQñÿµ\u0013Ñ\u007f&]ól?\"8ÅS!m|¼Ð¼¹^JÐwÖ\u0011Q\u0013\u0007$[v\u000fHLY\u001dE\u000e«¾è5úÎnÆX½é¬WpÊ)\u0013\u0012t:\u001d,2Î\"GÅéc\ri¯\u0016e5`ÚúÝ\u0017Ï\u0004*ýÊ\u00133Hß©\u007fùÜ«¤!ÒíÎY\u001f\fÌþÅ¶÷þª&\u001epqÔ¼$&ÐiÉ]\u0006Ä¸«Äô\ræ\u0013¯X\u0018W$ Nc¢\\§ÄaÛ6\u000eê>4\u000e8Qú\u001d¯Y~jí±ÜÀÇ\u0013fýk01ÚòJaÎ¢º=zÌPÃÜc\u0017\u0019ctk®Ï²û\u001c®\u000fßiæÛ<ÕÒg½Ï\u0006¿\u0013\rH\u0017G]/\u0019õäKîì~bmuö&û\u0015\u007féµgiùÛ\u0010þ¡G/M*þÒc?ÜÏí}\u0003{ÿtÐÙ\u0000»L®û¬Ï¶¹çÜ»Õ¶\u0006?×é¦¥*Oz¾\u0019ç;]\u001fGJ{^*\u001f\u0014X#ø±Æ9Ûþôç|Ëfá\u0011±IÏ\u0016ä¿Óf?\u000e{%1¾»¡ä[\u000f\u00119óEß\u0000\u00177Ä º\u0014©ªåñ Û\r1\u001d¼ÿ!ep\fÝt}ï/ú¸«qô\tº>·Ç®uÇ\f5Ly·wlaóï%\u0013#¢~sã\u001dgEÇÁæg0Þ8òÉ.q)FGÐg\\§îâ\"1Þ)gnµ¶8lÄ6Üwð¢\u001f\u001fÊ7¥q37ô\u001fpE¢ö«3ë-Ûfö+\u0013¢\u001fúçÄ3¯øwõ\u007f,~ö¿HpÉk®ÍnØØÙi²±Sï(w¶äLoäÓÓQâØ(Oä·zû ëÈ\u0019]×\u000eÏÑª\u0006Æ\u0019»Oåªdw¾ä)d+»yWÿASº8JUC³ô±:ÙÎèõ}93_­Û·^òNòÕO÷UdöålëÖÐ^/|Sô¤ç{m{¤/PúÜ\u0019ODe_\u00058p¶¥oéQ÷é\u0017mD0Þ()²Ew×s>'\rõD\n\u0019»ëºN©ZÏ\u0011.:K1^õzïËüOª·XÛ\u0007÷ÊÊÊÞ½{\u001f?~|ìØ±ê\u0007\u001f|pÊ)\u000f>ø`ð/Ò^Á½5zÞ\u0013«#ª\\s\u000e5¹a¯$NÛ3¦³A½¸DoÔÅv1Æ÷4Ê\u001cê¬×\u001buÌD§¢Ì\u0010£N4È\u0002s\u0016\tÂÅèHçµHE2Æêãº\u0019=&É\u0018«î¤×GéÔúà9lÖÅ÷0úùR$&8\u0015K.WUèÙsw¥\u001aGtÑ4î®£O,3Û¶¶j8~\u007fï4 êì\u000bí6®KËè¢©Óð(gH/LLÚ%ã;KÑûn\"\"\u0003é£u¾w\téhbèù¼`s«.ºvf²£UXt\u007fýëúó\u000eiëeÁ\u001c1\u0006éæm\u0003<6é·Ûý÷cßí\u001ahÜ÷ ÿÁÉôÍý¨çDå\u0000\u0000 \u0000IDATª²<Çj¶HcwÝ¨N>{6bQ}õÉ¶|z×F¼'éÀº¶>îbCÀ\u0011HÏ³ë\u007fìsü3³ùp9Öm+'E9÷D4jq¾c;¥Ýt\u0001\nu¡\u001aòpç¼\u007f;ÈÐUw×Á!ÝRãÈY&¬½\"G,i·asn=8°ßÄÎ¢[Ù¾¤$ëµ¶¬CéãiÀ\u0013\t\u0005o7u¸\u0015=P\u007fó7\u0003¬®*z·É£2\u001d]óeok\u0011\u001f>a/ö\"\u0003-·¸vsËî\u0003®êÜV\u000bÓþÁ½¼¼<==ÝoâðáÃ\u0007\u000e\u001c\u0018ðñ¢[QÚú0¤Ó>Z'\u000bL[Q\f1:EfjmF\u001f­#¢Æ>¨NzÆHª½<Î·¢cLÐë\r$8¦/\u001a\u0003\u0000\u00006¡31VO:\u0012í<Ò¥ÎHú(\u001d(\fï8q\u0001ê¤o¢#ë\\\u0005{MXðccc]®ºÓywÞygcOIIIII\tþõ£\u0012ôÔf'\u001cÂ1®É_7ù9\u0018¢\u001b½ð\"&)¼.\u0005\u0000\u0000¸àÅ$cç\u000b­Õö\rÖÑÑÑ7ß|saa¡ú_«ÕºwïÞ\u001e=z´ù\u0000\u0000\u0000\u0000\u0000:¶¯¸\u0013Ñ\u0013O<1wîÜ#GöéÓç³Ï>5kÖøñãC1#\u0000\u0000\u0000\u0000\u000e\"$CL:uÙ²esçÎ\u001d>|xYYÙûï¿o4ä\b\u0001\u0000\u0000\u0000\u0000 \bÉ8î\u0000\u0000\u0000\u0000\u0000Ð¶Úy\u0010q\u0000\u0000\u0000\u0000\u0000\b\u0006;\u0000\u0000\u0000\u0000@\u0004@p\u0007\u0000\u0000\u0000\u0000\u0000\bî\u0000\u0000\u0000\u0000\u0000\u0011\u0000Á\u001d\u0000\u0000\u0000\u0000 \u0002 ¸\u0003\u0000\u0000\u0000\u0000D\u0000\u0004w\u0000\u0000\u0000\u0000\bà\u000e\u0000\u0000\u0000\u0000\u0010\u0001\u0010Ü\u0001\u0000\u0000\u0000\u0000\"\u0000;\u0000\u0000\u0000\u0000@\u0004@p\u0007\u0000\u0000\u0000\u0000\u0000\bî\u0000\u0000\u0000\u0000\u0000\u0011\u0000Á\u001d\u0000\u0000\u0000\u0000 \u0002 ¸\u0003\u0000\u0000\u0000\u0000D\u0000\u0004w\u0000\u0000\u0000\u0000\bà\u000e\u0000\u0000\u0000\u0000\u0010\u0001\u0010Ü\u0001\u0000\u0000\u0000\u0000\"\u0000;\u0000\u0000\u0000\u0000@\u0004@p\u0007\u0000\u0000\u0000\u0000\u0000\bî\u0000\u0000\u0000\u0000\u0000\u0011\u0000Á\u001d\u0000\u0000\u0000\u0000 \u0002 ¸\u0003\u0000\u0000\u0000\u0000D\u0000\u0004w\u0000\u0000\u0000\u0000\bà\u000e\u0000\u0000\u0000\u0000\u0010\u0001\u0010Ü\u0001\u0000\u0000\u0000\u0000\"\u0000;\u0000\u0000\u0000\u0000@\u0004@p\u0007\u0000\u0000\u0000\u0000\u0000\bî\u0000\u0000\u0000\u0000\u0000\u0011\u0000Á\u001d\u0000\u0000\u0000\u0000 \u0002 ¸\u0003\u0000\u0000\u0000\u0000D\u0000\u0004w\u0000\bw±­[·Þ~ûíÉÉÉIIIwÝuWZZ¢(D4\u007fþü¥Kú>xÅ\u0015?þ¸ú³ïoçÏ¯Óét:]llìÔ©S·nÝÚpF§OÖétEEEÚÊÊJNwâÄ\t\"*//\u007fôÑG\f\u0019\u0012\u0013\u00133~üø5kÖÈ²ÜpF±O>ùdÈ!YYY/¿ürjjj\\\\ÜôéÓwîÜ©½rjjª®¾={ö´òÚ·oß AZù\"\r¥¥¥ùNyà\u0007ü¦HÃY\u0007Ãd2=ôÐC\t\t\tÝ»w\u000fÅR©ÎÛ\u0000\u0000 Ap\u0007p÷þûïÿéO\u007fzôÑG\u001e=zòäÉ'|råÊf³ù\\_gáÂUUU¹¹¹÷ß\u007fÿôéÓÕ8\u001e<Á0gÎ\r\u001b6dff¾÷Þ{/½ôÒ¦Mü\u001eÃ\u0018ûè£þùÏ\u007f¦¥¥\r\u001f><77÷â/þþûïÓÓÓçÎ;uêÔãÇ«ÜµkWq­µk×öíÛwÜ¸qçúÎ9sæøN;wnjjj»Ì:\u0018\u0007\u000f\u001eôx<UUU&)\u0014K\u0005\u0000Ð^í½\u0000\u0000\u0000M9uêÔÓO?}âÄK.¹D2`À\u0013'\u001a\fs}©\u001e=z\u0010Ñ\u0003\u000f<°téÒììì±cÇ\u0006ÿô={öìÙSýyÐ A\u000f>øà#GfÍ¥=@Q\u000f>øà³Ï>Û¼y³Zù¾îºë´ß¦¦¦~ýõ×§NR\u0003z>}´_mÝºuþüù\t\t\tDÄ\u0018ËÊÊ*..fÅÅÅ]~ùåÑÑÑêÃ\u0018cG\u001eµX,:.%%åâ/nbi\u0019c;wî4\u0018\fS¦L!¢êêê'O*8qâD½^OD;vì\u00184h\u0010ÏóÃ\r\u001b8p`ÃYÛl¶\u0003\u0007\u000e¢¨V\u000f\u001f>pàÀèèhõ\u0015JKKO>=eÊ\u0014õ1}ûö\u001d5j¶\fÙÙÙ1¿é&éäÉ²,ÇÄÄ\u001b7.>>þ·ß~\u001b=ztJJú¢¢¢¬¬¬\t\u0013&45cìðáÃ6M¯×\u001e=ºW¯^~o|ÿþý{÷îÚ»wo÷îÝÇ\u001fßØSÔ·Ïq\\QQQllì¤I\f\u0006ÃÁ\u0007Ng\u001e=´ã(§ÓyâÄ\t¯×«ÓéÔO)à\u0007\u001eð\u0013\u0006\u0000h[Ø²\u0000@X;|øð´iÓ´Ô®Óâl\u000bètºèèhµÑ%--­aøk(\u0019\u0019\u0019\u001b6l4i6QåeË­]»výúõ\u0001ûU\u0018cV«511ÑozIIÉg}víµ×ªÿÍÉÉyõÕW³³³+++ß}÷ÝgyF$u¦/¿üò_þò¢¢¢§~Zm\u0016\n¸ü²,¿ûî»ÿþ÷¿/ºè\"\"JOO\u001f7nÜþýûM&Ók¯½ö÷¿ÿ1FDË-{íµ×^|ñÅÜÜÜ³Öëõ:NýÐt:Gÿýï\u007fggg\u0013QQQÑý÷ßÿÌ3Ï\u001c;vìèÑ£ãÇ?räº\f»wï\u001e=zô±cÇòòòn¸á/¾øB~òäÉK.¹dÓ¦M6móæÍ{÷î5\u001a7oöm;YµjÕÙ³g\u001bÎZ¤ÿýßÿ]¸pauuõÁ\u0007'N¨./£±¦ ÕìS-[öÆ\u001bo,^¼¸¤¤ä\u0017^xÿý÷,Y²iÓ¦3gÎ\\{íµ{÷îU\u001föî»ï¦¥¥L¦Ã\u000f_~ùåÚ\u001bôÕØ'\f\u0000Ð¶Pq\u0007°vøðaß|ÜÐîÝ»}Cü={ºvíÚÄãyß¸qãñãÇ\f\u0019BDÝ»w\u007fê©§|\u001fðÙg%''«?;N¿§Ï9sóæÍ:nÙ²eÓ§O×¦/Z´HQþýû\u0007ïÆ\u001bóóó\u001b¾ýû÷_uÕUZí\u007fØ°a_}õúó9s¦O~äÈ+®¸bÛ¶m7oÞºu«úî\u001exà\u00015C7\\~ã\u0016/^l·Û/_(IÒ#<òÿügÚ´iDtóÍ7_yå³fÍºôÒKH\u0014Å/¿ü2**J}nÀY_~ùåQQQ7ÜpCÀ÷U^^þÈ#\\vÙeDÔµk×Õ«W_vÙe<Ï?üðÃ«V­ºõÖ[èÒK/½êª«®»îº={>øàK,¹÷Þ{è®»îR\u000f?î¼óÎ?ýéOsæÌ²ÙlK,ÙµkWbb¢ß¬ÓÒÒN:õÍ7ßÄÅÅ\u0011QjjêâÅ?ýôSßå0aBnn®ÑhTÕôSbccß{ï=Á0vìØ\u0013'®ZµJíÌéÙ³ç§~zåW\u0012Ñ+¯¼¢½ø\u0015W\\ñÖ[o­[·ÎwM\u007fÂ\u0000\u0000m\bÁ\u001d\u0000\"[Ï=G\u001c©ý777W\u0010?\u007fþüùó(55uíÚµ\u0013'N$¢ñãÇ\u001f?Þ÷aC\u000eÕZb¬V«ß¬Y³Æãñ\u0014\u0014\u0014<þøãcÆ¹þúëÕésæÌ9pàÀêÕ«_xám<Ç\u001f¿ç{¶lÙâW\u001dg½÷Þ{óæÍSKËD$IÒºuëV¬X%IËår8\u001cDôË/¿<ñÄ\u0013Ú1Öá·ü<Ï¿ðÂ\u000bÉÉÉÿøÇ?bcc(;;{ÿþý.K+i\u000f\u001c8P»BàÞ{ïÕR{c³nZ\u001e=´:dÈo¾ùFiffæ5×\\£N0aBÿþý³³³m6Û#GfÌ¡=]}#\u0013&LÐétG\u001c4iÒ\u0003\u0007&M\u0014°\u0011(--mÄ\u0011»wïVÿk±X¾ûî;¿à~NO¹õÖ[Õ?Ö\u0001\u0003\u0014EÑÞHïÞ½ÓÓÓÕóòòÞ{ï½\u007fþÙn·¢¨~ª¾þ\u0001\u0000Ú\u0010;\u0000µ\t\u0013&¬]»¶\u0007\f\u001f>\\­tªrss\u001b»êtáÂ\u007fþó\r\u0006CRRR\u0013-ÈW_}õ\u0001\u0003Ô+++ý~Ü·oßÅ\u0017/\\¸P\u000bîÃ\r{é¥fÎi4\u001a\u007fþyß×ÏÈÈ6mÚwß}×°Ü~üøñ½{÷ú¾ÁM6}ûí·\u001f\u007füñàÁcbbî»ï>uºÙlV\u001bôÆ\u0018«ªªJIIÑâ¸Çã!\"ß¸ùôÓO\u000f\u001f>\\ýYk,ibÖM×:t:ÚØÃó<\u0011uêÔI$Ë2ÇqDÔ¹sg¿\u0017?\u007fþO?ý4iÒ¤O>ùä/\u007fùö¾*++\u000e\u001dªý755U=NhBÓOÑæ¢þ½´S7Ú\u001bá8nöìÙ/¾øâ«¯¾|ôèQßë\u0016TM\u007fÂ\u0000\u0000m\bÁ\u001d\u0000ÂÚ\t\u0013\u001e|ðÁS§N\u00193Fèõz\r\u0006Ã¹¶¹k\u0017§¶\tQ\u0014ýJû\u0003\u0007\u000eÜ°aÃôéÓ£¢¢~úi5\u0014={vÚ´i}ö\u0016ñ}íØ±ã¡\u001eê×¯6eß¾}\u007føÃ\u001fF\u0018AD \u001c<xpîÜ¹D4yòä­[·ÞrË-M/Ullì\u001f~øÔSO½õÖ[\u007fýë_Fc¿~ýôz}ÿþýG\u001eÝôs\u001b5\u0011kÇ¶ziNNz2Än·gffvîÜ¹\u007fÿþz½>++«áÂ\\}õÕ>úè\u001936oÞ¼råJmºï¬'Mé{Ö¬\u0016<ÅWaaaFFÆ\u001dwÜ¡æò\u0007rD\u0014ü'\f\u0000ÐJ¸8\u0015\u0000ÂÚ1cÞyçßýîw7o.(((**Úµk×Ü¹sív{¼þÑ£G_\u007fýõ \u001f¹sçÎÜÜÜ_\u007fýõÙg}â'ü\u001e3dÈM6½óÎ;Ë/gåååÝxãÏ>ûì¥^ZVVVVVæÛ{ãv»,YrÏ=÷ø¾Â¨Q£Ö®][RRb±X>üðCÅ¢N>}ú\u007fÿûß/¿üÒjµZ­ÖÝ»w«¶áòwëÖí\u000f>8sæÌ[o½%IR¯^½\u0016-Zôæo¦§§{½ÞòòòmÛ¶\u0015\u0016\u00166|Íºk×®6-??_Q \u0013|>}\u0016,X°råÊ\u0012Éô¯\u007fýëºë®\u001b?~|Ï=ÿþ÷¿¿ýöÛgÏõz½ÙÙÙùùùêS\u0006\u000e\u001cxï½÷>ôÐCÏ>ûl·nÝ\u0002ÎzæÌ«V­Z½zµÙlv»Ý'OÜ²eKÓKÒ§øêÕ«W.]6lØàñxN8±`Á\tò\u0013\u0006\u0000h%\u0004w\u0000\bwóæÍûè£V®\\9nÜ¸K.¹ä\u000f>xì±Ç´l×Jf³yùòåÁ<2&&æ\u000f>¸òÊ+G\u001aõúë¯7ÌÜªaÃmÙ²eÑ¢E|òIzzzQQÑüùóûÖúðÃ\u000fµG\u001e:t1¦¶ÚkfÍ5xðà\u0011#FL2¥oß¾³gÏV§\u000f\u001e<xß¾}ë×¯\u001f0`À1c~øá&¿k×®ï¿ÿ~vvö?þñ\u000fQ\u0014yæ\u00193fÜwß}]ºt2eÊ®]»âãã\u001b.yc³NMM]²dÉäÉ\r\u0006Ã¶mÛù¬hÁ\u0005}úô¹üòË\r\u001bf±XV®\\©vï<óÌ3W_}õm·ÝÖ£G\u001ezÈf³iO¹ï¾ûrrrn¾ùfmß¬\u0007\r\u001a´wïÞ;w\u000e\u001d:´wïÞ/¾øb³Ñ§øJJJúñÇ\u001fßxã^½z-_¾üÕW_\rø° ?a\u0000VÒaÈ*\u0000\u0000\b\u0007»wï~úé§÷ïßïÛy\u000f\u0000\u0000\u001al\u001c\u0001\u0000 1Æìvû'|¢öå·÷â\u0000\u0000)´Ê\u0000\u0000@;ÛºukJJJrr²o\f\u0000\u0000øA«\f\u0000\u0000\u0000\u0000@\u0004@Å\u001d\u0000\u0000\u0000\u0000 \u0002 ¸\u0003\u0000\u0000\u0000\u0000D\u0000\u0004w\u0000\u0000\u0000\u0000\bà\u000e\u0000\u0000\u0000\u0000\u0010\u0001\u0010Ü\u0001\u0000\u0000\u0000\u0000\"\u0000;\u0000\u0000\u0000\u0000@\u0004@p\u0007\u0000\u0000\u0000\u0000\u0000\bî\u0000\u0000\u0000\u0000\u0000\u0011\u0000Á\u001d\u0000\u0000\u0000\u0000 \u0002 ¸\u0003\u0000\u0000\u0000\u0000D\u0007÷_\u007fýUWßÌ3Õ_}õÕW3gÎìÔ©Ó\u0001\u0003\u0016/^l6Ûhi\u0001\u0000\u0000\u0000\u0000:(\u001dc¬eÏt»ÝV«UýYQ\u001bo¼ñï\u007fÿû\u001dwÜADO>ùäÝwßÝ¯_?ÅòÎ;ïtêÔiÅ\u0015m¶È\u0000\u0000\u0000\u0000\u0000\u001dOË»¯cÇM8±°°°oß¾~¿Ú·oßW^iµZZ?#\u0000\u0000\u0000\u0000©mzÜ·oßþÐC\u000f5LíD$\bBrrr\\\\\\Ì\b\u0000\u0000\u0000\u0000 c2¶þ%Ün÷%KÖ¬YÓðWN§sÉ%\u0017/iìéåååééé~\u0013\u000f\u001f>pàÀÖ/\u001b\u0000\u0000\u0000\u0000À¡\rû¡Ct:ÝÄ\u0013ý¦ó<¿hÑ¢Á\u0007Ï;·§§¤¤¤¤¤øMLKKCp\u0007\u0000\u0000\u0000\u0000Ð´Ap_³fÍüùó\u0013\u0012\u0012|'¢øæoL¦eË¡O\u0006\u0000\u0000\u0000\u0000 Z\u001bÜKKK?ýôÓC\u000eùN$iñâÅ999\u001f~øabbb+g\u0001\u0000\u0000\u0000\u0017$É£\u0018ãqK\u0019`µ6¸ïß¿\u007fòäÉcÇÕ¦0Æ.]º~ýú?þØëõz½^\"êÙ³§ÑØ\u0006Õ}\u0000\u0000\u0000¸`¸ÊÄ¤¡^\u0005\u0007\u0000~Z\u0015¦\u0019cï½÷Þ¼yóôúºÃeQ\u0014_|ñE\"ºôÒKµ999©©©­\u0017\u0000\u0000\u0000\\`Ü\u00161QÖGéÚ{A\u0000\"C«»N§Û¹s§ßÄèèè6\u0019\u001b\u001e\u0000\u0000\u0000.l¼W\u0016=JL\u0017C{/\b@d@c\u0019\u0000\u0000ü\u007föî;°­òÜ\u001fø#yÆYNB6$@ \u0004\n°ÃhK\n\u0014Êh/÷þ(£%)]÷2ÂºÐÒ\u0016z¡´4¶@K --¥\u0005Ò²\u0002%\u0010\u0007\u0012ÈÞÃÎðÞeíqöyÏûûãH²ä!K¶d­ïç/[u¥ãs¾ç9Ïy_ÌP4]L¯\u0005@Î@p\u0007\u0000\u0000ÌPe¦K¸J\u000f(\u0004w\u0000\u0000\u0000È\f¡C×\u0015TÜ\u0001\u0012à\u000e\u0000\u0000\u0000!´êºà\u000e(\u0004w\u0000\u0000\u0000È\f±Ug\u001a;@¢\u0010Ü\u0001\u0000\u0000 36¦«èq\u0007H\u0014;\u0000\u0000\u0000dÔ¦ë:*î\u0000Bp\u0007\u0000\u0000\f0t.Û\u0018c\bî\u0000Bp\u0007\u0000\u0000\f=tb\u0006Ze\u0000\u0012à\u000e\u0000\u0000\u0000\u0019 \u0005\u0018\u00111;@¢\u0010Ü\u0001\u0000\u0000 \u00034Ñ \"ÆPq\u0007H\u0014;\u0000\u0000\u0000d&\u001bD¤úQq\u0007H\u0014;\u0000\u0000\u0000d¦0\"Ò|\bî\u0000Bp\u0007\u0000\u0000\fÐ4ND\u0017Á\u001d Q\bî\u0000\u0000\u0000\u0001:cD¤¢â\u000e0\u0004w\u0000\u0000\u0000È\u0000Ý0\b­2\u0000É@p\u0007\u0000\u0000\fÐ5\u0004wä ¸\u0003\u0000\u0000@\u0006(.\u0004wä ¸\u0003\u0000\u0000@\u0006(N*\u0003\u001c\u0004w\u0000\u0000\u0000È\u0000Å;@r\u0010Ü\u0001\u0000\nQ°KËô*@¡S]fÅ\u001d3§\u0002$\nÁ\u001d\u0000 à\u000eÝ^+dz- Ð=î:fN\u0005H\u0018;\u0000@ÁqÔ;dÙãnÈ¨¸\u0003$ª8Ó+\u0000\u0000\u0000£­§EÔ%¤¥<Ä9·X,^D©.\f\u0015\"@¢Pq\u0007\u0000(8\u001dïþ£¨¸ç!ÉÁ2½\nIP\u0006\u0011q¸ì\u000e\u0010\u0004w\u0000£t³ÀQ5Ók\u0001©\u0017èÊê\u000ef\u0018\u001a;@B\u0010Ü\u0001\u0000\n\u000e\u0013y VÏôZ@ê\u0005\u001c9\u0013ÜuÉàJèk\u0003\u001b#@b\u0010Ü\u0001\u0000\n.r±Ygè-Î;Î\tîj°w0\u0019TÜ\u0001\u0012à\u000e\u0000Pp`\u0010#Ñ6÷|ãïÒ8Ï\u0010,¹z7?CÏu\u0006È8\u0004w\u0000ÃDND¢\u000b\r\nùFêÑµ@n\f.z{7?\u0004w\u0004!¸\u0003\u0000\u0014\u001c3¸«R.@\u0002íLöæÆÇ*\bî\u0000ICp\u0007\u0000(0<\u0014Ü557J³8ÅÎÔ@\u0004w¹·UãÚ\u000f@b\u0010Ü\u0001\u0000\n\u000bÓ8\u0019DD\u001b\t\u000f\u0012'Û\rEÈ5Ð;@Ò\u0010Ü\u0001\u0000\n\u000bSBvÝ@Å=ß(=Ls#¸û£f\u00120\u0018;@B\u0010Ü\u0001\u0000\n\u000bSB!IÍÒ,$ÈÐ¹æ6T-7ÎÇ\u0002µQ£Ê ¸\u0003$\u0006Á\u001d\u0000 °\u0018ááÛ¥ÜHx ÕÏÈ åÆùX°\u000e­2\u0000ICp\u0007\u0000(,yäÜHx 5`\u0010äÎ;=uÉ;{7?\u001eþ²cw03+\u0004#\u0010Ü\u0001\u0000\n\u000b\u000b·R(\bîùE\r2\"ºràc\u0015{t*²­2ÜàïÛ¢úr`ý\u00012\u0005Á\u001d\u0000 °°ðôò\bîyF\u0015\r\"m9ð±ÊÞË\u0002ÁÉ¼\u0016Ä¡m\u0006`p\bî\u0000\u0000Å\b\u0007wÙ\u0003\t\u000f\u0012§)\u0014g\u000e|¬rìÑfÅÝ¼m#¸\u0003\f\u000eÁ\u001d\u0000 °D*\nnNÍ/f\u0010âÌUUb;7Âw_D®\b\u0001@\u007f\bî\u0000\u0000ÅÐÑ*tf\u0010\u000b\u0015wE\u001f¨UF1\b³¨\u0002Äà\u000e\u0000PX\"\u0015wÍmpGt3\u0015wÙß§âÎ)<P)Æt\u0007\u0003Á\u001d\u0000 °ô\u0006##4 ä(Mùø4Ù¬¸çÀg*´ÅVÜyo\fÆt\u0007\u0003Á\u001d\u0000 °0£7Ø)\u001ch«Á8öIÑßª\u001eFDºÏÈþì+Æ\u0006w³â\u001e\nî¨¸\u0003\f\u000eÁ\u001d\u0000 °ýÄ&-àÃzöÇ\u0006w·ADÄI\u000bf{Ñ]l\u001dU\u0013Ç;Êþ³\u000e\fBp\u0007\u0000(,ÑÁÝ\u001cù\u001br£VÆHõ>M5ëÏÇÄöØ»Ù*£sE\u0015\u0000úCp\u0007\u0000(,f?±I\u0016t\"\u0012\u0018È#'ù;T)ê³\u0004÷>½ïYH\rî\u0006ÁÝ ´Ê\u0000Äà\u000e\u0000PXXTVQu\":ò;s«\u0003Ã'w1_§ªoT\bµÊ\u0010iRV\u0007w¦rÕ\u001e³æ¹¤\u0019Ù£¯\b\u0001@\u001f\bî\u0000\u0000%ºâ.\t\u000e¿èÑÓ\u001fõ8G K1ÙÆ¼òîg{Ìo{+îrV\u0007wÙ­Sì¶`VÜCÁ\u001d\u0015wÁ!¸\u0003\u0000\u0014\u0016\u0016Ñ\u0003M\u001aS¸¿^ë>(¤u¡\u0006ãÁ\u000e-­(4ÜàJ\u000fÛñhOçÐg§yB¥wMÍê>qÅ×wõ¸Ù*cp\nÏ¢\n\u0000\u0003Bp\u0007\u0000(,ºØ[Ñ\f6hbF\u0006\tÁô¶¹+\u001e\u0016èFpO%5`p»uß~5ôH¸UF×³:ü*ýînA«\f@\u001c\bî\u0000\u0000E\u0017zÐ¤.T=½Á]ö0! ¦u\u0011Fñâ¯ÒeÈ\u001eFDZ¸UFgY\u001dÜU©_pW8¸8;Àà\u0010Ü\u0001\u0000\n\u000b®¸7êR@'\"Ñæ{@\u0017ÅD+î\u001b£Ü\f-zò¬@§J4o¸ÇÝÈîàÞ¯ÇPÂÁÝÀ½\u0010\u0000+\u001eöojVSSãv»\rÃ(..^¸paeeeô\u0013\u000e\u001d:ÔÕÕEDS¦LY¸p¡Åb\u0019éÊ\u0002\u0000ÀéQc·Kmº(hD$´¦·+Z\u0011÷°J×\fýLÛA!àPç\u007fiRZ×'\u000f¨bïG\u0016t«ä2\u001e¾¤¡z²ºÇ]ëwA\u0015w2\b\u0015w¸_q¯¯¯_¶lÙÚµkwïÞýÔSO]xá­­­æ8ç¿ùÍo®¸â\u001b7nÜ¸ñÛßþ6cY½\u0013\u0001\u0000(\u001cÑ­2\\!çaÖ4WÜUæ­N¨â¾ÿN=»\u000bÆYB{\u000f¬¤EÝ®8³ú\rT¾À\fîÌìtGn\u0007\u0018Üð+î\u000b\u0016,Ø·oùõ\u000f>¸|ùòwß}÷®»î\"¢\u001b7þá\u000f\u007fØµk×Ì3èg?ûÕ\u001c\u0000\fSü¬lB\u0011-µ{DDR»ª3ßÁzÜ½ûÕc¯ÉêÜ%T­÷]òÔªÚ©½ßÊÎ¬.I¶{ÜÀ\tÃ\u0002Ä5ü<\u001dÅÆ\u001f_RRb~ûüóÏ?öØc3gÎTUÕü)úd\u0000\u00002Kñ1o£B±£Ê\u0010kLDb[ºoNÕµ¡\rÉ8'ÿaUõ!¸\u000fM7zã¯ã39z$þ`CV\u000fà#u÷ÝØÌ»¹e¢Ç\u001d \u0016Â7nÜøþûïß{ï½õõõ×]w\u001d\u00111Æ>øà\u0003ÃqÅ\u0015W-\\¸pÝºu©XU\u0000\u0000\u0018>_«\"\u0005u\n×5#\fHêÐÓZé\u0014Ú\u0018W(Ø5D ]ºîâYÞ¢%ä¨ÑÐ[d-êBm­Äì=ù»\u0006®¸w_ ¶\u0003Ä1üV\u0019Íf³Ûíõõõ\u0017^xayy9\u0011\t IÒÊ+ß{ï½5kÖlÜ¸ñª«®Ú¿\u007fÿ\u0019g1Ø+ÔÔÔp5\u0000\u0000 >¿KeA±£ÊD\u0018\"©>£¬²(MK\u0017Ûu\"\nØÕ\tsKã<-hÓ(j<rC¶÷Æ_­Ûp×Èo;ÈÓÏªÈÄz\rªçØøï{g\u000eÖ*cÞ}a º\u0003\fn¤\u0015÷nºé{îy÷ÝwV®\\IDåååV«õ§?ýégYVVvÅ\u0015W|ýë_ß»wï`¯0sæÌ¥ýp­\u0000\u0000 \u000f¿[Q\u0014FDº0p,Në RNDB`»àÕH\rî-úu\u0019Q¾/¹'&þvo¢¿íé\u0014GwuÖÝ,ìÿ©©\\î\u0017ÜC7§Â³¨\"½\u0003\f(5÷Z­ÖóÎ;ï­·Þ\"¢ÒÒÒÅ\u0017O>=òÓ\u00193f¸\\®,\b\u0000\u0000Ç±]\t¶kÔ/ðEÈý&¢O!±\u0011QÐ;Äý©¢¬\u0011ê\rî[üµÜé[·\u001c\u0015]q'\"ûþ¤nû4ë{×'¢\u0011ä¾f¥\u007fp\u000fWÜ\r\"2tNDJ:·FÜ5üàîõz#_ëº¾aÃK.¹ÄüöûßÿþêÕ«Í! }>ßG\u001f}4X\f\u0000\u0000\u000e×v9Ø¤ë\u001188pÙ[\u0011ÒYqo×È½\u007fà\u001eèTHuÅ6ÉÆ$t½÷£ôÄÞ¸\u000f(ÑßúfÙý©lÿ\u0016ÈÛ%+öþ\u0015w¢pÅÉ,[\u007fì0ü\u001e÷]»v=ñÄ\u0013_úÒ?úè#¯×ûöÛo?ºþúëß\u007fÿýo\u007fûÛ^zéë¯¿þ/|aÉ%)Za\u0000\u0000\u0018\u000e±\t³t_Â\u0007Éçfµ;\u001dj¨=\u0006\u0011y÷\r\u0011Ü;\u0015êWqlLq ¸÷%ÇNvËcßZ±9»fõw¨b\u001d#\"ûQ÷Û\n\f5ªÇ]åD$y²ký\u0001²ÄðûE\u0017]ôË_þÒï÷_}öÙãÆ3\u007fTYYùÊ+¯ìÚµKUÕG\u001eyä¼óÎ\u0014O$§>æÞÝ\u000b\u00000\u001a8©\u001eChÒýA£³·9¡qÖAv1³eÙ{ Þ\"\u0002jëÔïæTÙ¦Ë\bîýô©¸÷!¶êSö\fÅìi\u000bÝ;Ûúf°ÿO¨\u001ewCáLå²à\u000e0áçÎóÎ;/ÎO/½ôÒa¿xNh^ã?mÙäL¯\u0005\u0000ÀÐtÙà2\u0017[t¿\u007fÐèìÜ&Ó\u001d©Y\u001a4Ë-\u0016yÒñåÖb\u001c®*\u001dl÷ëÝ'_8iâ²þ¿u¤ÊmÖbµØà®t\u001b¨¸÷§\fr¯\u0005¸êge\u0013Ó5LP²\u00041t=ÇµAéÿS\u00165\u001c$Éªã\u0013\u0007\u0018\u0000&4\u001d¾Ö­\u0001¦â¾w\u0000È\u0001jÐ \"ÍiØ6\fzÏ¢{Ç\u0000jxZwùö½Ú³õ·Ý\u000eä@o\bÛq³zÍÀÃ\u0015´®\u000eÕbµèV\u0019Nr7S\u0018U&\u0006S\fæ\u001fâ\u0000$9³¨hík\u000eo]\u0003}Ñ3§\u001a*×e®j\bî\u0000\u0003@p\u001f>Ñ¡÷ÔdÝmû\u0000\u0000ýEìxK\u0018ì9Á#ºïG®þ\u001dßöå¶ç\u0004¿M%\"E\ta5z\u0006\u001c3Ä\u001b¾u\tçXÕDÃ\u0010yüêr\u0001RüC\u007fR²/»{O¼.©è\t\u001b\u000f÷¥\u0000\u0000 \u0000IDATÂbHÝøÄ\u0001\u0006à>|ªËð»SV \u0002\u0000H\u001fM\nå<¥eðÀÇÉ×}âc­\u007f\u0012ÌÂj0¨\u0012¢Ç$Hæâæè1Ñ$®Úz×M\u000bB(^FD**î±ÔÀÐ¹V\u000efQöõ$\u0010ÜC\u0015w3KY´ò\u0000Ù#W»»V\u001eúIi¦º\rãX\u0002ñè\"¶\u0010È\nP\f\n8Sp\u007fj C5P½ÜÓ¤\u0010,ö]ºÒ/Söòÿ\u001d%À\b=î}hB\u0002Á]Í;S¹¿&Þ¦\u0015=\u0001\u0013¹®\u001aRg¶¬<@VÉÉàÎ\r¾\u007f3ÓkAª1\u0003=î\u0010OçÖAÛ\u0012\u0000F¦$t\u000e¨'ù{_ÄµC!\"¡µïË*ýN$Á(µppW\u0005FDÛàØßFQ\u0013(\n(J¶dß@Êã^Ë1\u0014¢¨á Ê¥.ª\u0001\f '»»Vn~'Ày&wâsÍch\tt\u0019B!kû`Ï\u0000F®%\u0016Ü\u0003)zÜ\u001b¹Ì\u001b^¶¾/ÛÿÖÃ \u0018[q\u000f'{UbDÄ5Ò\u0004ìo{iÊÐ¹6ØïmÏàP³)\f÷¸kh\u0001\u0018XN\u0006w{«(73\u007fKº\u001cN.r®êÅ\u0004âéø4hNß\rYºÐÎ*Ø¯4>\fÑ\u001díÁ#z S\u0015û½lÿàî=\u001c³K\\\"ÐÔp\u000f`\u007fÛKKà\u0003\u0015²%¸KbÁ=Üã®\u001brW¶¬<@VÉÉàÞù@DÎ\u0016)ë`Þ8¥ùp x\u0002m·qTï`\u00161O8\fD7\u0012ÚY-)HKbô(Ú«\u0003b¿Ò¯h\u000b=Â\rn>¿gsÌKº\u001anaá\u0004M·ZfÆþ@Ý{²eø\u0004i¨¦\u001dCáNÕ\u001cÅ)Ät®ô\u0018¨z\u0000ôÁ½gLDë®ëÜüt\u0017K¬q3åÌ\u001bPq8bhNÃc\u001b½\u001b©Å\u001eÍÝ-jÈ*\t\u0006÷þÍèÃ\u0010-ôÖ¿îë_qDù=\u007féÙ÷F·Y±¿\u0013SÑ#ÃAF*î¸Õ;@«{¢ËYñ¦\u0005®¸w\u001e\tF¾fÌ FÝ{E\u0001\bX¹\u0017Ü5ÁðîVÈ\bð\u0003÷¹ÿ¶¨n×_ì\u0019X\r\t\u0015w\u0018ìaØ\u0015íTq5ÊëË0\u0000-±>TÜØÖù\u000fQµ÷]ºØÁÈ`|ßO\\ð\u001eþÀÝç\tz¸¢,Gp×²#f\tÏ¡E¹LÑ½â7\u0018\u007fíPÁ]¥æ\u007f\u0007B_+Ü\u001cøámq\u007f?@Ü\u000bîF¢,Â!Ý¾9\u0003=3æ!\u0004Á\u001dâ0§\u0019Í1CÝ\u000e\u0019óÃ\u0014WB\u001bØíGhIÿ\\#ê×ò ¶ëDä©WÔNC³\u0019ûîì;jä\u0012â\f\u0007w\u0015Ûv/ç¶.åy{2?t2\u0011\u0005\nîºd´þ-Tqg\n7\fND\\%ûaÌr\b\u0010#÷»×Ù·~àþ+µÌ\u001b§\u0010Ü!\u000esüéÈÄ7£À¶Qì?Ê\u001e\u0000\u0011)®¶CÝch#<µOp\u001fÔ®\u0013£#\u001cËú%{\u0016>ãUzB_$x\u007fm!à{v&4<»-7;¹B\u001b¡ðÈ§ßþ/TÜ\u0001bä^pï¿\u001b\u0012èª\u007f´Ã9¶\u001ew\u0018¡\u0013¬t¦g§*´£U\u0006\u0006 º\u0013ÝYIî\u0011mBÎå¡·ys°?ÛÎAë©jx°ÝÈ\u007fP\"·c\u0016\b¡K×\u001c\t½\u001bö\r\u000fîL1äö$vÂðpÏ®Ï\u0014Ù}\u001a@¯Ü\u000bî\u0003L|ÍÉÛ2Úm|fí\u0007Á\u001dâPUFÉ\u0004¦\u0014,ÑÅD\u0004w\u0018Hâ'²gDìb<\u0017`~\u001eìÔÿ\u0011\u0018ì\tª'´ÂJ8¡&x\u007fm!ðu&zÈóîÏä¸É&Á®S2\u001f\u001dS¸./Á0ò6gþO\u0000È\u001e¹\u0017Ü\u0007äwö?¶y\bA«\fÄ¡1³â>ÁÝmÉT¶ p$~\u0002)\u000b#Ú\u0002Ýî7>Þ)\u001d\u001atY\u0015îíqÇwa\u0001\u007f¢or°NËø ¢+¹SACázT¿àCp\u0007è/ÁÝ;ê\u0015wf\u0006w2\u000b¼ÔÑj1góí?`6\u0000\u0011©\t@þ\u0011\rÀçu&ÚÑúB¼yUOx\u001c÷ðUV\u0004÷\bo[¢<.Ðá\u0011\u0015å`ÒÁ=úF \u0011!\u0001zåIp÷\u001d\u001eí\u007flÕËH\u000f\u0018Ü@v\u001d:b«9¯Ôà\u000e\u0003H<¸o}ÀìàÙRTIÕY¦ê¨à\u001e\u001eÇ\u001dW8ÃYI°g8øªI\u000e\u0007d(¤\u0007z\u000f¬}¦Ô\u0005(py\u0012Üý£\u001eÜCý\u000ft\u0019Á\u001d\u0006&uê4\u0015wM0Hîd8þTw¢Û¡TÃZ\u000eøzñ#b$»wW¥f|^3¸\u001b\u001a×Ã\u00176uTÜÃ<{È²B ÃÁ]3\rî1\u0015wÏ¾¬\u0018\u001e KäKp?2ÚgärxN\u0010\u001dùÁ Ìq3F­ânÎæËUR¼hs¾ôdúúd_r¢°£\"\u0011\u0019:w|¢»Û \"5hDFT\u0011ÜÈÐ¹¿:C(e8¸+Á¤»\u001e5_/\u000bî¯\u0005È\u001ey\u0012Üõú¨U\u0019\rSÔÞºd\u0010QÆïþ,$unp\u000f\u000f\u0018/{\u0010Ü!\u0006S¹ÌµÁ!Ç&â<æÕTÆì\"\u0011ùÛÔÈhÜ#¤y\f\"Ò¢2\u001eÕ*Óµ5^\u007f|~\u000bvjF2³\u0012ùê3\u001cÜ%[òÁ=Ø»\u0015\u0005ët}\u0014gÃ\u0000Èry\u0012Ü \u001c£ÑÚË9uî\r\u0012Q0¼+4w(¾&\u0004 /y{xBxsâ'\b]Hn#\u0014ºSÂu(¦¬.¹ôöw\u0004\"\u0012G6\u0006|4³UFZsÍ\u001f\ns=GÄý\u007fï;ÓjáH|Ü\u001e7ò|:%Ä\u0019\nîq'FÁ.Ü\n\u0010'ÁIÞM5<¾fÅíHh\fWÜ\u0015NDÃä\u0002²\nç$Û\u0018\u0011\u0019\u0002g*'\"ç¡Ôôþ\u000eFWÂÁ]Dp\u0018ÉNß;ä ¢Íÿ\u0019\u007f]lÓ}\u00074\"\u0005÷PÅ=jc*ck\n\n-äÁä¸{g{Ä¥®$GQI\u000bÄl±\u0012æ`\u0002\bËà.ÿ±åÔ|úëi\u0011ýu\u001a`Zx23-yjQq\u0018Z\u0019\"\u000f\u007fm\u0010QÓ:\u007fZ¨«áQ8\u0014\u0004wl§Ô¯UÆÛ\u001c\u0013þZÖÄ\u0006÷\u000e&µêLå²²Ý¯î7¸Á5%ªâ\u001eð.Ð¨-»û{;Ü\u0004ª55£Wáä$[e÷½Pb\u0004@Dþ\u0004wI\t\u0015`\u000eþÞ¾¥tn\u0017|G4±§÷à¤k\u0006\u0011yêpÛ;Ä¾CT\u0013`Óº÷%Ó<=<!¼9ñ\u0013@.'\u0019Ü;únBUwµ»êCd\u000fëÙ&±¨H-¶ëÄH´k/uu\u00134ÁÐÔÞ¥èáV\u0019ÿ\u0011UjÓy¡ÞXäÜäá÷=ï\u001aeÉö¸SÔ\u0018 ¡o\u001cP\u0012 åOpï©HtêG_ó¤o)rà°*y¢;'\"w#Ze â\nî¢áh|5é½,\u0013\tî8ÈA\u001fº\\p»Á¢\u0006ÒnRzÞ?þI9¾»«A\"N¢½w7(µ3\"\u0012]z !\u001d,`èzt{èk\u007f­Æ\\õ\u0017èvîÚôáÆçÌdpW\u0011Üc§\u001dPYA·Ê0Ë~\u0007 Zq¦W ejVxÇN(\t¸µ@Æ\u0014^TfIÇR¼\u0007Ub$Eõq2f¨~&`Ö\u001b¥DÍ\u001b¯I³]\fÖjqKQZ¶L\"ÒyèP'u3\"=º®\u0018ãf¦iqCt5É;¤uR<lÌ1¡\u0003Dgc\u001c¯+\u001fë¸ö¥\u0013:jD$ºõñsB[9íè×©Ü\u0013ê¡\u001bÑ\u0015÷p«L­FD²K/XÂÅå\u0004]6ü\u0007>;òÚ3ÖÌiè<2÷mâ\"mQ&ÑQ 'i&W­¤IÆìsÇezE +äOÅv,w\u001c~ÀK:\u0005:Ó²\\ºf74§\u0011=Ý´Î\fÉ¥Ë6V°×ma@ª\u001c5b4þ%`$ØÓx\u0017\u0019åÚ\u001cÃaí÷Úlô-\u000erya0)rT¯è\f%Åö?\tî:ùð¯=D$ùC\u001b3S¹ê0HVõ`j+î¡i½«Á\u0004Î\u0019×Úe\u0010ä`óùÁßªòäßcÇæôÞ\u0019\u001fâc4µb?[±­ Kcn»äõàª>äUp\b:Ò2à@dD*ÛÖÞfeW,y!r-É9& ¿©QÃuPq®S(Ùä¢§h5ÇpðìV$¹ v\u0010\u0011Ýp è^¯ÞÑ!9­\u007f C<ÄHRC\u001b³ìÖÍ9\u0004.¤¶â.\u001bæå£ÈÒu\u0007»CËUR7M\u000eñÙÓôâÚ±V\u0019%\u0015çWCN,ßl;$Ç>\u0004w\bÉÏà.\u0006Ó\u0013Ü=¡B¾mmoõ¢ý\u001cÔ\t³Þ@,õF¥Ú¿zÍ/\u0004_\u001a{d\u001c\u0006©é!µ0\u007fcá\u000e\u0007Ñ|p\u0017£ZØ£îUu¬\t\u0005\b1|\u001fj¤6ï9¨È©Ü\rêªÑº:f¢%M2Dwø¡ GO\n\u0004s=9P£Ò¾\fh3äø¤ù­sh_±k&mò3¸\u0007½ii\u0011äp¥§5ªºQñ´(\u0014[ \u0002¢%íÙ\u001aÚç\u0006uÐ/2g°â\u000emr\u0017\u000bÚ42Èw\b£\u0002\u0011\u0011K~bi%ê\u0016gi 8\u001e\bOB\u0017Ð¾û#i8M\u0011sîS\u001fÅuÉÜb¤êXõ5\fç«\u0014èÈÌÞ %#9ö\u001f´phAÃ·KuoSX·C¾ÊÏàîÞ=¯q 5¨á5\u001f\u0011©\u0002;ôÉ:áÔÔüÏÀO\u001e6Ù­GfíÃ w1Á©\u0011ÿ\b*î@\u0014uãrâT} V(BK8@\u007fo··Ú¿xû<Âd#Ò¢#t\u0016b\u001böLÌ\fÝi%úOZ8üí\nq2D\u0012º\u000bqþò3¸Û?NËE%÷îÛ\u0004{>H\u000bwÏ\u0002ý9÷\f°µt¾.J®Tî|\u001duRÀ\u0011\u000eîá#ºÒÃÌÀQ\u0004w \u001aH1q³wC\u001d°\u0001F\n§y%r;Gª{1;ûöõê\n\u000f´\u001b9s((ªgÁ]\u0010Òx¹/è3ÀaÓ\\F²s\u0011ä@øÖðèq¨Öû\u0012yó!/ågp÷îTÕTß*Ê\rÞ]5Èù\u0000'\"\u001eý\u0000\n¯U±½>ÀtK\\¥\u0003©,º»í vë;×ÈÝ\"\u0013Öc¤äÎ0Èuª7éÐ#ó1g\\é\u001e(¸Ó¼6clëª\u00118\u001a\n Á¼C\u001bnp÷u¥>¸wl\r\u000eù\u001cEJÍ.Hv\u0017è®LB\u001fy7éã[;»vcÐ°\u0002Á\u0018¹\u001bR|\u0013½·IUÛãí1eà\u0001aÛ}U\u001f7ÜjëL]vï¬\u0012®ðn=jî¡L¡»\u0010Ã\rô¡ ¸+^Æ\u0007Ú·EÊðsô\u0012\u0015Ó\f\u007fmh\u000e6\u0017â.wØ\u0015w÷\u0014\u0007wÅË\u001a?õ\rù´\u0001û¬Aö\u0016âÇMDúÐ\u0007§\f«=«\u0007·«\u0016¨<\rîD^gÇNru\fñO¦ÆzÈEë\u0006­h]FË\u0005wÛ\u0007çJDsÙÖ{`sl\bmÿ\u001bÁ\u001dSq\u0017ÃÁ]\u001eä¢ê4ÌJRÌ\u0012Á4\u001e¨\r-Nl*Ä$7ìàîIup·Õ\u0004=\t\u001cõ\u0014ÝWª¤bt\\äÞ\u0015ªB*Zø_ÒÃÈ Û§\bî\u0005*o»óH·éú\u0001:\u001f¢Eþ»\u0000¤¸¥ª7Wñ2¹y\u000f¨D¤ù\r#j\u000bUm¡£{0\r­s4_òÁ½-´\r\u000f:^\u0016'Å£\u001387\u000e*\u0002\"7ÅÚ\r]*¸¾çá·Ê\u001cT\r²®hCãG?ò;øR5£,\u0015ây\u001a\u0011yöÞäÈÝØO'\"Û\u0007Cd\u0012ÈWy\u001bÜ\u001d[R\u001c£íë(á{\u0006º\u0019\u0011\nSüÁËR\u0015Ü6|\u00075ç2§\u0011%\f§â.µ¦U3¹Õæä8Þ£jô¢£àÂÜ°+îF\u000b]©¹þöÙOºÞùvSãã\u0001±A×Ä!Ö'U#9*\u0005y\u0017\u0019SxðHßÞ0óâpX\u000f¦è\u0003Ü·ÁÝ3È\b0Ãæ«\u0019¢´ t\u001a©\u001d0\u0004r×ã^GD\u0010F(èÖHé`É¾_Ó¹\u0015Á\u001dS¦eAnæ8Ãù#¸æP}Þ#1Ûsô8\u001b\u0005BOþ\u001c,ÂoKÍõ·O\u0004Û+\u0012\u0011\u0011§`ç\u0010¯)¶¥¨ÇÝ_p57)ÿn¡)<sBø\\zûK6-Sò6¸K,3\"1\rCï5üíhK\u0000R\u0006\u000bÄÛ¦*¸R¸\u0012Ó¥)L#àÚ²a8­2D$»t;\u0019 ¤Q\u001cOÝs$f\u001f+\u0007\n+Ì1\u001bòðZJ&ã\u0006÷W÷¾NÀ\u0011¯èË\r.w¥æ@\u001cLÑn3·\bQoo0Ò$\u0016\u001c­öQ\u007fû¡\u0007ö<·Áüm)ÑB·6à¸\n}\u0004<\bî\u0010jüCµ\u001b)\u0003/Ø\u0013Æ­\rV\u0016\u0015ëì)ÄKÌ\u0010m\u0018£ÊPø¶TÑ5h2SUfè\\µ^£¹76¸+©Ü'hÂÞêÈà#\u0011´éÌß{ò ñzÏà)ºæWÃöÁÞL\f·Ê¨¬w³w´¡Ó½àäsp\u000f¸R\u0017Üã\u0016\u0015\"~\u0004w\u0018t\u0014h)\u0019AÏ{0´½\u0016§,êkE·L¡\u001bF;\u0011)ND=\u0007½h£1f\u000ep1jtgÌÂdµ°Â6øý\u0006p¥¢4\u0010Ûoã[ S×ËTÁ]RzÿêHÅ'ú\u0010Ó¾\u0006£¹\u0017|\u000eî)\u001cOC\f$\u0014Ü]û Ôø\u001b_Jzs½á\u000bÖA·\u001a§\u00119àÁfYèôaÝÑhÖ³\u0006Ý~d/S2:ºv°½°nÎÓº\u00134¾ÞúÅØúTü»hRØ°*\u0016dp÷·EmáÌ»Q£\u0007`íþ@JÉõ[È!ù\u001cÜÝ\u0007RWD9¡Ã\u0003F\u0004\"R\u0012K\t¦à ä¯\tmÞ\u001aM\u001c¼Ô\u000e®Â¦K\u0006\u0013Ó\u0018íéTÔ\u0000\u000bT\u000fº÷\u0013;õÌ®í?R`Á]\u001eQDsoW=&çÜ^-\u0012QÐ\u001fó;ãÞEc^´I\t1<ÌQAñ\u001fÙ{{:\u0015\u001dy¹óhÌG0Â~*È~ù\u001cÜ®ô\u0005Rt\u0013½¿)¡ÃgÊ\u000boÏ\u0002}ÄéZG<\r¸ìarx¤m_µ\u001agH>\u0017Î'\u000bê\u001fæ¼ö÷>O\u0012'-um\u00137ü´k«\nV+ÑFV[å2¹êy·º£FrÙ%êW\u0011\u0013èêà'o²3+æãj\u0002\u00173óÿpÌ\u001bèuÉD$ÅNyæqô~¦S?ð¦ctÖ\r2%;só½\u007fëIÉKù\u000e%t\u0002 Ù\r±§°*@Ð_®Þç$\u0010îãî\\÷\u001fÒâÌ^éÚYXá\u0006ú\u0018vÜño×jßðÆyóûýLn]¾\u0003¡\u0017P±DWGZL\u000eyIiÝï¼:\u0011ùû\\áäk\u0019t\u001bp×§ró\u0005×-Óçý38\u0005\u001acÞ½ÓM\u001e^ëjz-e3sCvÊçàND­\u007fOÍ}\u001bÞ\u0004&v6ù\u001aÔ\u0016ò\u0010w\u0010w8âÎàèÎu±Q\u000fÔ\u000fúÞ½*OÝsÔA\nMÄ¡g=)\\3<ÐQ@»\\}Äg)Ñ!/qÓÑç}&üGú¾áþÁÇHí<\u0012B*FÅÉ!)±$Ø?ºö\u0007ý»cÞpÛ¡eÔ ±ïQ£JÝ\u0005wSPò<¸\u0007\u000ej#?Gg*÷íKôØ\u0010ô\u0016ÐQ\u0004\u0006$\r^ü\b6ô\bä>X\u001aäÝ1è\u0001y9&Ø+dÚpÛÈ\bfû)_ ;ÿw¹Öv]\u001fiÅ½ëßÃ\u0019=ÐuDòïÐº¡q¡ß&ßó\fÖWíÚÊy$Úª\u000bkÌrgmß³¬ÀAmÇsö>\u000fº6n]hüÌ£4\u0019Ä¨û\u0010Égy\u001eÜÈÕ8Ò\u001d¿M5\u0012.R\u0004\n2¸{ÑÑË_7tJ\u000e&0W|ÎØ¤Îã.Ó×U%Ô¼\u001et\"\u0010L×¶-{ÙÆ':´\rä\u0002:÷\u0002+3Fº2®OCIg÷¶~\"\u0012\u001a5Á®ñ~ïwÛÓÂG´23-æ4OvëRc*»Ò>ë-¨B]=ý\u0007§®?÷}Ëä¬Õ Ûù³Pwû¿¸\foýµÍÐ\nèí*\u001cù\u001fÜ=®á\\\u0019æïN\"ú\u000e\u0017bióÈ+Y}=}4q;7\r}®8ò{RS¢\u0006Ó\u0016n ûé#¾¡\"ùZÓ²msÎ·<ßuè\u0011ïõ®t¼~â|mª«;t\u0014Óy\nÎ\"\u000e¬v&û+G_ô\u0011Ð¤\u000b+\u000e­¿\u0011þyuÃ{Ë£\u001fô¦ú£\u0011öë¶ýÙUK\u0016ÓÙvoÛhz©º·}ë\u001flÁ\u001d¡éø³øñ\u0003\u001dûîwU¿ôg\rÙ/ÿ{÷æ\u0006÷¤*:¾Ã\u00058çGÿâÅ½)Ð®©]C\u001f\\Æ\u0011íî5ÁH¼}\u0002Û,!Bc®\u0019§SÛÛiIr{þÜsô\u0011\u001f\u00115­ÎÌ­~L\ríQÍ¢7<:BJFú«{Âïè×\u0011»NölPHjgÁÁ÷$®õJç«¢»¾· `oLýG³÷å,\u001a2¥}Wà½ï43%]Ç¾Äûü\u001b´C\u000fÆÜG^÷\u001b\u001f\u0011íûËÐxÍ®õÿÛ^P\u0017+ò[þ\u0007÷æ#ÜÙ¹\u000f%Qq÷\u0017^Å]r0±Ew\u001c\u001aé\tR~ð´'T\b;9k`\u001fÎ\u0006Ó¾'`$s¹ÛLÊ<£iù\\qwü[ö·§xónúÔ·ãP@ìú§({XªÆ®\tt©\u0007>pì{¯Ç\u001bw>ãOìØñÍüÚ^+úÂ36¨îT1ÚüTWÛDOHÌ>\u0019ó\u0017\u001duCìç÷¿éà\u0006oXï\u001cú¦¾ÜÛúÐ±s´O¥dÞ²ÍßçA]26ÜÝé|[iø,-\u0017\u001dG$ñèHËùÂ>}óÏmþ§­ö)_ý'\u0003\u0010%`\u001c¼\u001cÿÁ]ë6ZwõýK#Î\b¡N3\nl\u0004`·JDM;|^¬àu'vgè`D´ã¾w\u001a%¢öíxôõçÙà^¸dg>\u0007w\"j¯\u000e%9ÕÏ|#¾ß&Ð¥®¿¹32z=WiÃO:^9«¶ú}GíÚáG´æÍ¾m/ÚÞ¹µyóÕö­×ö¼¾¨¡çÈÀ'ß¶ýBÍ\u000f½û\u001fpÛ«EO«|ø)od\u0016T}]\u007fÞ[ÒÈ½Iî&ùÀ3îÈ·Ý\bîG\u001eö½{KóGK;^;¯^:\rï¯µw×jÃÌæßuýûÂ¶£ï»£\u001f<ò;°M'¢£\u007fOË±oÿë©¹¶Pý¨\f\"¢¦÷û\u0006!ÅÏÞþÏ¦`¦»QÿÁ\u000eüÅé<:Ìz°èÔí\u001f$ñ»D¢½°Fb\u0012¼\u001a\u0011Õ<éÉü]\\Y`È\u0003[äÖD~ô\u0005o²Ew¡Gk^\\ÍÉwP-ÀI\u0007Á$Ûó<¸7¿\u001búw8ðóÕê7\r\u001d¤d·î8$ñ¨\tóê«<\u007f¿°î×7Tý¬]ëÙ5=\u0017\u0010\u000eé}ÕþérìIb÷nh|ÿë\u000eÙ£\u000emÃw»ö~×åÿ$ôÏÎ\\|í²¶þCì«\u0001¶ûO=DÄ%ú×çþy~Òd\buºÙè;ÊÕÝ\u0010/þÊ^ýÍ¯7¾þ¹àÖÞ?Ù¾~èý[çk\"\u0011IÍéÚê´Nã­EÍïÞÒüþÍ+íG[W\\û¨6|Ãæ¬tÑ¨yÏyè\u001d×oj.\u001d¯\nBwècUüÌ~@ì9:¡{¢u×\buO¨àØm]ßÏ®eÏ÷©vx­cæÈR\u0010Á½û¯ò\u001b§6nü¿>K.}Èù;\u000e\u0006â×Ñ_!\\{\u0012íZ¤±O5\"R[Cogø.®«¯ò6<èÞVòëm{ý\\£ºäöòuxxç¡ZQsä.ûaáÍ\u001b\u001aw¼lûÇÅuÛ~k<.:´ö­\u00016Ð(1Lå;-üý§±TzòüÚöÈ\r®ËÆÁ'ÝdÐG×uØªãEÒ@§úêyõ«Oo\\ÿh»ùvµï\n¬ûr§wÚó®l[5è\u007ff3¶½4Dvoß\u001b8²Þe¶ÖT¿íÜr}Ó³]\u001fÜ×Ú¿ü\u001cÜ®·lÙ]8\u001b¤¿~¾¶í¹ðÊsÒº\r\"â\u001a\u0005m\u001a¥úÒYÛú`ÝG½D${ôOu¼uscçÐ\b6;^êî~Kâ±×;+\u0012\u001eW©ãïBësÂ¿ïm\u0019r~±ÈÝ\u0002Ãk­ý8Th7\u0002|Ý=íÛVÙ>½¶{ã\r6æ\r¿\u0015\u000eüËADj½~Eý¿ÎjzïºÖ¤\u001e´©\u001f|£R}â#\u001eÑ#'\u0018&û~v-wþiÞÑÝö\u001dºO<ÈðÙ¯8M¯û¯\u007fýë±Ç\u001ekkkûÖ·¾õÐC\u000fÍ93M\u000bJÜ¡xÏü¯c&Ï/7¿å\u0006ßðËqÓJ.¹\u007fvßjx7é«`¢?Ï»«^zãôÆÏ¯|Ñ³Èß\u001aú{·ÜjplÉVftí2Æ×®¬ÿÎÄ÷¶²¬\u001fü½l\u0013.ào1ÅØÿ\u000b÷ÐÏëÇß¥®ÿwH!Oüîå­Íè~G\"\"Ïf×ôÏWxÙDÎyÕÛ;VKK¾òÒÜIsË£\u007f«úMÇoô\u0010QÅYÅ7¼sBåÜ²Èä<¯¸«\u001d·IõtIòQFDÌÃ×\\Þ²tõ±'^Úûo¥úµÄR<ÆJDÛ^èV\u001a\u0018\u0011ÕýÌ\u001fìÖNýÚ¤m\u000f%:ÇöáÿõÕÿ60oÙøM²jg\u0015Ç\u0017O9¿ì;¦\u0007mZiµöcÏ¾»ÜÄ©ûçâ/OÞùê~:èÉ|ÍÜ']ZiÛ/ôt\b¾£ZÓ«\u0001µyàp)8´1Ç\u0014\u000bu©<ýny5Øòj\fê¸'ØúN0¸]'¢wþÑ²è¹cÆÏ,©y0¹~¼°¿\"WMmûòcsKÆ\u000eP\u0014\u001dZÇ¾à{ºO»¯2Ðª5ý!xÓÆÏ*Müõe^óDïûàù@õ|0À¹Ó¾»ÜåÝ­²ù\u001eÊuìÈÇî7NóÊso£\u001a°«s.\u001a\u001fyPréî\u0006yó¯mRuZþgÝÍòØ\u0019%o»þ\u001d:GUÙ»ç´_m-{Át,\u001dRÅK$\u001b7n¼å[Ö¬Y3kÖ¬_~yïÞ½¯½öZqq\u0012¡¡ªªjéÒ¥\u0003þè³Õ\u000f\f³Ñð?\u001fsîí3s¾õw¶ý÷¸èïÎ:õÚÉ\u0003>¿~gÝ\u0015É.å\u000bëf\u001e{Êø±ÓÊòð\u00067ø;w4wýY´\u0014Ó×÷0õ·nm²¿\u001eúÿ\u001fwNñÍ\u001bç\u0017Wäá\u001f\u001e\u001fç|í\u0003­Í¿Nb~9ß\u001dÛ¶J \"K)}uóÜãÎ\u0019?ä¯\u0010ÑÑ\u000fÝ\u001f_Õ55\\úÑìù_4_Äµnõ3Í8á\u0016ex¯Ðð±÷Óÿ¶Éµ1mëXËù/NUlÏwC\u0017µÊO)ú¯óÊ+÷¾Ú³àªÉÄùk\u001bu{(óMüréçïDDÇÍP9·ìW5ô|Êyp²Ð\u0015\u001b­}ÓÛò\\Ô? ¾ºmî¤Ùe\u0006ÉÕ.\u001dü¹§tõø\u001bÇ÷lº_OõôV¢á^Õ(=Îª¶\u000fýË_Z7kÚ×\u00164\fs1ymÖ\u001dc¾üø±ÓJZ·û{l\u0011\u0000\u0000 \u0000IDAT­d<·|ìÌ\u0012o«òÎ×=1§:'<<î´«&\u001fø»³lBÑ)_­{Á\u0004kqè_ÕQ+\u0016Z'\u0010s>¼ã%Ûîï\fçJò±·T\\÷·\u00136ù:w\u0006ÏÿÞÌ>ç\u0015`¬{¬­åWA\"ºzËã/ ¹ô¦Þ?rûÒxitÉ;Ó>\u007f]ètB\r²?N:Âû-­òÊÒ«_;ñ¸Ò\u0003¯;­eÙ§4¿ÌZ4Ì\u001d\u001a¤CZû\u007füÇ\u007fÜpÃ\r7ß|3\u0011¹ÝîÙ³g\u007föÙgçsNâ¯¦à^2Ã:÷qBæÙ¡Êí¡C£e\fÍûÁø³ï:õè'7¬÷V]×ÔØ\u001d¦±}úËJþãóÆLÎ·\u001agó&ß\u0007´_9µhÞíãû\u0014f¬þù\u001b§fbÕ2éÈ{îO®\u001dN6hý\u007f[N\u001a7cRâeo|¥!°m8tÆ^ô_ëO\u001a;½dè§B\u0014\u001fó·©×ºjþ×KDg<5é¢»f&{ÞÎ9m\u007fÞ¶÷ÎDSÂ17ÉÍ,¸[piTÏ´\u0006!-ný\u007f;ç½÷µVß<¿ÿìäNhø¹¿O[cñT\u000b\u000bòdûÊ²ÓÉ\u000fN8å«ï_Üé\u0015ÉRÇ|½ì\u000b?ýæEÍÀÉJ/(óìTlsúµòÅw\u001f3ûÌñ­;ý\u001bnîâ\u0006-øßÇ,,7ï(\b´h\u0007\u001fò\u0018ád¤¢I;l§½ùµFÇ\u0007òÇ&~é'ÇE~\u0014ìV?z¨­û¯¡sé1+ºöíã·¿ÐÝútÚï¸yã¯­g~mÛ#¼µ¸yÀ§YÇY¬Å¤{fÝ1fLe±ý}ùo;vÑ¸©óÇÙ{¨ÒDÃPyYeùmÛÎÀ¶Ø©_üÃÓÏ¨ì\u0006Å\u001e3>væ\u0000\u0007 O£Ò¼Ë×ñ \u000büÌÿ|âÅ\u0013#gSÉb*74>àå\u0017.\u001bEea\u0017V²Dê»ªª\u0013'N\\¿~ýE\u0017]d>ò¥/}é¾ûîûÊW¾ø¤)¸Ça\u001dk¹ôÕ\u0019'/änÛªýu/ø½[Fz¨;îî±_yr®¥ÈÒ²Í7eÎÊ\u0013ÊþL0»<KÇ\u0017õy<Ð¥úÚÔÊ9eãfþÙ\u001cGÅ\u000f¿ßîß\u0018owX2ËzËþ+¦è²áiPÊÆ\u0017UL/..·ª~V:¡ï\"\u001bsêS\u0006ð·«¾\u000eeü´Ò¢RKéø¢È®$­¼-Ê¡÷]\u0007\u001föprøéß*?ýæÉÓæTX*f0\u0007»UU`Æ\rf\u0014Xíuâþ¸ûÜ6Ò\u0013¬güxÒ´\u0013+¦Î\u001b3þØ$®\u0017\u0017,±[«\b_Y\u0016\u001dý¨Ø¾+È\u0019ÍX8Æ npn%Kû\u0006¡ñ·þ>gø®,]xÏqãK­EÉ'Ç9=zË\u001e¿Åbé©\u0011\u000fÞú=ÛÏLªûµ_îÈón¼Wz¬õ?Lûô«Ý^ìe­°\u0018â°vÂ\u0016JÇ½ûKß8¶ê¿:ÈRJ·6Î7w¹Låï|§©û¯1g2â£3ù¸¾Ù~y@ÿì×\u001dÕ÷\u000f§\u001bªdõ\u0015\u0013ÇX¬8YÏ\u0016¹ó53\u001a3·xÑÏ§xÉÄWO­7ü¡wÓ:ÞrÌÅe/U\\FëÄhöò«VÎí©\u0013\u000füÑ5õ¢2©µ¿#øwÅ$Ê/^öËY³\u0017ã·ï\f¸²¡ðâqÖÎÄ¿\u000b'ü`üä\u0005¥ÝÉÎmò¸\u0005Åón\u0019o-²X¹ÅÂ--\u001f\u0004Úß\u0010JgXO½»I\\êfÓÏ/\u001f;®ÔïS,E¤ûùþ\u001f»åFf\u001dk9îö¥ÏÝº­Q`Ü(¶\u0016iL8¾¼ll\u0011qrØDE`Ec,ã*J\u0015µü;0vNÉùwÌ\bô(»ÿà0¿dÞE\u0015\u0003Ý\u0014Ð8'²Î\f­V\"**¶2Ãð{\u0014©).còY¥Å¥Öã>7aB2=Zñ¥>¸Ûíö\u00193fìß¿ÿóÿ¼ùÈ²eË,Y²lÙ²\u0001o³Ùjjjú?>Xpßò\u001bÛ_æ@ïiÆÕc´`NDÅ%¢RkÅâ²ÉÖ±óJ¦/)4«|ÜÔ\u0012k©E8Óâ2kQÊ¬E%\u0016²¡r]68ãÅ\u0015Vk3R|ÌZl)hµZ5ÁÜ¦Æ\r2t^Ra-©°»!M0\u0000³\u0016[JÇZ-V\u000b\u0011\u0015[¬¥\u0016T¡\nL\f²X:÷\u0005÷=êR<ìØkÇøµñ¥cdQztÇ\u000e¥ýí 9OÕj)XD\u0016\u0012»á¦òÌÒ\u0019iüs r3Õb18¯V<yQÙøKÊ¦XU¯!´ê\"Kùt«µÄBDßPlÌìâ§UZ%\u0007sl={\u0014]àcf\u0014\u0015UX\r]T>½È\u007fDslÈb©8¦ØÐ¸¡óâ\n+Ó\fÉ\u0015N&\\zÜ×ÆM±2\u0017[4¿!v°â±J«¡p©IílÌ¬¢¹Å%\u0013¬V3Y\u0015Qñ\u0018«·F-V4~^\u00160d\u0007³X©lJQñxK°YwmSänf-¶(N¦¸\u0018YHöåd$*T4uIùøKÊ)\"\"±M×üFI¥µ¸ÂRRi-*µpN×P=Fñ\u0004kùTkùÔ\"KEñ0k©kÄ$C\u000bpÕ\u001dúÛ5¿QTn­[T6¹H\u0017\fK¥lÕZbÕ\u0015Cõ2&r]àÅ\u0015¢rµÜb)²(\u000e\u0016lÐ\fdXË-ãæVZ9'Õk\u0010ã%ã­²N)¼ l\\e\t7H\u0016¦1É­»v*î\u001d\u001eä\\çc+¶X,ÅTT\u001a:\u007f\u001b{bñØ¹ÅÛð\u001fR5/ç\u0006×¼âd\u0017ô\tþ\u00065P§M<£tÚ1EÅ\u0016¿Cmÿ· ¶èÅã¬Å\u0013-3.\u001fsÌÜ1E¥Î}BÇ;BQEhÕ\u0003íÚ\t·;ñ+\u0013l»Ä£¿ñ\ro¤W9»|ì\tÅ\u0016«%P§U..9éêM\u001f\u0005MÚÔ\u000bÊ\u000f¯ôjÁ4Þ<jµZ8Ç \u0011ùàÊ[F'ßA\nU\u0012è\nEÒù÷MXtë4\"Úù\u0007{cc¥Ö%¯Ì¿t¿]ýçy©Ý-\u0014XæÜ>¶ùÅ!úEKÊ¬Ú@·×÷1eQâ0méºc°¸Ø¢'39ÃëÆx>S\u0014Ï0÷ÕW¾}Ü±ç\u001bÞïöùà\u000e\u0000\u0000\u0000\u0000\u0000CJýM&M*//\u000f\u0006{ÏºZ[[gÌò\u0005\u0001\u0000\u0000\u0000\u0000\u0014Ô\u0007÷ÒÒÒ«¯¾ºµ54´ÇãÙºuëÔ©\u0005w·\"\u0000\u0000\u0000\u0000@\n¥eÌÿùÿ¹í¶ÛN=õTs8Èk®¹fáÂéX\u0010\u0000\u0000\u0000\u0000@HËxÛ]vÙÓO?}Ûm·Í?¿««ëw¿û]R¸\u0003\u0000\u0000\u0000\u0000@\u001fi\u0019Ç\u001d\u0000\u0000\u0000\u0000\u0000R«àf¸\u0004\u0000\u0000\u0000\u0000ÈE\bî\u0000\u0000\u0000\u0000\u00009\u0000Á\u001d\u0000\u0000\u0000\u0000 \u0007 ¸\u0003\u0000\u0000\u0000\u0000ä\u0000\u0004w\u0000\u0000\u0000\u0000\u001cà\u000e\u0000\u0000\u0000\u0000\u0003\u0010Ü\u0001\u0000\u0000\u0000\u0000r\u0000;\u0000\u0000\u0000\u0000@\u000e@p\u0007\u0000\u0000\u0000\u0000È\u0001\bî\u0000\u0000\u0000\u0000\u00009\u0000Á\u001d\u0000\u0000\u0000\u0000 \u0007 ¸\u0003\u0000\u0000\u0000\u0000ä\u0000\u0004w\u0000\u0000\u0000\u0000\u001cà\u000e\u0000\u0000\u0000\u0000\u0003\u0010Ü\u0001\u0000\u0000\u0000\u0000r\u0000;\u0000\u0000\u0000\u0000@\u000e@p\u0007\u0000\u0000\u0000\u0000È\u0001\bî\u0000\u0000\u0000\u0000\u00009\u0000Á\u001d\u0000\u0000\u0000\u0000 \u0007 ¸\u0003\u0000\u0000\u0000\u0000ä\u0000\u0004w\u0000\u0000\u0000\u0000\u001cà\u000e\u0000\u0000\u0000\u0000\u0003\u0010Ü\u0001\u0000\u0000\u0000\u0000r\u0000;\u0000\u0000\u0000\u0000@\u000e@p\u0007\u0000\u0000\u0000\u0000È\u0001\bî\u0000\u0000\u0000\u0000\u00009\u0000Á\u001d\u0000\u0000\u0000\u0000 \u0007 ¸\u0003\u0000\u0000\u0000\u0000ä\u0000\u0004w\u0000\u0000\u0000\u0000\u001cà\u000e\u0000\u0000\u0000\u0000\u0003\u0010Ü\u0001 \u007fpÎ×¯_ÿµ¯}mÒ¤I7ÞxcUUa\u0018.Y²ä¸ã\u0013E±Ïo}òÉ'ÿùÿ9eÊqãÆ]|ñÅ\u007fýë_N§ùÓ\u0007\u001exÀ\u0012«ªªªÏr\u000f\u001f>l±XÚÚÚÌo;;;/¹ä'|R×õ\u0011þE]]]}\u0016÷­o}«ÿ\n¤CÿE¾ÁþØªªªo|ã\u001b£¹&{öì4iÒh.\u0011\u0000 ?\u0004w\u0000È\u001f¿ûÝï¾ûÝï~ç;ßÙ»wïÁ\u0007ï¼óÎU«V¹\\.ó§\u0007\u000e\u001cØ»woQQÑîÝ»£\u007fë·¿ýí\u001dwÜqûí·ïÜ¹óèÑ£+W®lhhØ·o_ä\t<òH{óÏ??Î:´··ßpÃ\r×^{í\u000f>X\\\\<Â¿¨££ã¦n~ä¶Ûn7oÞ\b_vx\u001e}£öÇ\u0002\u0000ä\u001eT\u0000\u0000²Duuõ=÷ÜsàÀ3Ï<Ó|dÎ9çsNQQùí§~ú\u001fü`Þ¼y«W¯¾äKÌ\u0007\u000f\u001e<¸bÅêêêÓO?Ý|äØc=ï¼ó\"q&Nxì±Ç&²\u000e---×]wÝ²eËî¼óN«5T\u0019q8\u001c\u0007\u000f\u001e4\fcÂ\tçsùø§~züñÇ+ÒÚÚzòÉ'Ï;·®®®½½s>fÌsÏ=·´´ÔëõîØ±CÓ4³ê<\u007fþü¹sç¯ÐÙÙyøðá%KÏ={öi§\u0016YÖÖÖúúzÎyÇNçÁ\u0007\u0019ceeeguVEEÅ\r\u001bN?ýô3gOhkk«««[¼xqÿEsÎwïÞíõz­Vëé§>}úô$?¢ß\nó\u000f¹à\u000bvíÚ¥ëúñÇ\u001f\u007fòÉ'Ïü±D$â\u001d;t]3gN\"/Ûç\u001d.))9|øðE\u0017]´sçNMÓN9å9sætww×ÔÔX,Å\u0017O88çý?dÿL\u00004AÅ\u001d\u0000òÄîÝ».]\u001aIí¦1cÆÁK\u0014Å+W^\u007fýõK,YµjUww·ù={ö\\qÅ\u0015Ô\u001e1eÊø«ªªê\\kkk¯¼òÊï}ï{wÝuW$nÖÔÔuÖYÛ·ow:=öØã?Î9'¢§~ú±Ç\u001e{øá\u001b\u001b\u001b»»»\u001b\u001a\u001a~òÔ××Ûíößüæ7+V¬ÐuÝjµZ,\u0016\"2[tÌ×üã\u001fÿX__ODmmmßüæ7W¬X±oß¾½{÷.\\¸pÏ=æB7oÞ|úé§ïÛ·¯©©éòË/ÿÛßþf>~ðàÁ3Ï<síÚµ^¯÷Ã\u000f?Üºukqqñ\u001f~\u0018Ýòê«¯\u001e=z´ÿ¢u]\u007fäG\u001e}ôQÃ±sçÎsÎ9Ç\\Ä\röV´µµÝvÛmßÿþ÷\u001b\u001b\u001b\u001e=zöÙgoÚ´ÉüÈ\u001f+\bÂ\u001dwÜñÇ?þ1\u0010\b<ñÄ\u0013¯½öÚ/Ûç\u001d6ß®»îº«ººzãÆçw^UUÕ²eËÚÛÛ_~ùåï\u007fÿûf_Ó\u001fDR\u007f&\u0000@\u001aq\u0000¼ð\u001füàÇ?þñ`?5ë¯$\u0019ñ/|áwÞ\u0019ð·¼^oOOOOOÇã1\u001f¹ÿþû¯»îºßFijjâïÝ»×ÌóC\u000e\u0011Ñøñãzê©èjvþùç¯[·ÎüÖçó}îsÛ³g\u000fçüÚk¯½å[TUí¿ªº®\u007fñ_Ü¾};ç|Ç\u001dS¦Lþé7¿ùMó\u0005·nÝJD»wï6\u001f\u007fñÅ\u0017W¬XÁ9eùSNü;wî,))éèèPUuÑ¢E¯¾újä¥\u0018cæëqÆ\u0019æx<ÊÊÊêêêþ^·nÝW¿úUQ\u0014ÍoßxãÛo¿}°w»¿8oùlÞ¼ÙüÑ5kÎ8ã\fMÓ¢ÿØ5kÖ|ùË_$Éü\u0003¯¹ænº)©wØ\\ÊÞ½{Ío/_~Úi§²ßï4iRäG\u0003~\u0010»wï®¬¬Lüï\u0005\u0000H\u0007´Ê\u0000@AX½zõý÷ß_^^NDwÞyçóÏ?\u007fíµ×Eåh?úÑ\u007fþy\"úæ7¿ù¿üÅ|pÚ´i§zjä9æ,\\¸páÂÑ¿{ûí·?ûì³×_\u007f}¤Ó£¾¾~ûöíÁ`0RÒ;wn¤\tçæo.))1¿Öu}õêÕ/¼ðB]]®ëÁ`Ðï÷\u000fùGM:õì³Ï6¿>ñÄ\u0013ÿõ¯\u007f\u000b­­­ô\u0002-^¼ø¸ã«¯¯÷z½{öì¹òÊ+#¿nð\u0017/^l±XöìÙsþùçïØ±ãüóÏÿÜç>×\u007fYUUU\u000b\u0016,Ø¼y³ù­Ûí~ë­·þüç?G?GUÕ`0h~=qâÄHÒoÅ\t\u0013Î;ï<óë\u000b/¼°ººº©©iþüù__¿~ýòåËÍw¾¬¬lùòå«W¯Nê\u001d6ß®³Î:Ëüú\u000b.6mZee%\u0011\u001f?þäOöù|4Ü\u000f\u0002\u0000`t U\u0006\u0000òÄâÅ·oß>àº»»W­ZÕØØøÂ\u000b/¼ðÂ\u000b»wï®ªª2Ëä\u0017/Þ¹sgäÏ=÷\u001cçüW^þõùóç/\u0012i\u0007ïãÞ{ï]±bÅUW]ÕÔÔd>b\u000e_cÆMÓ=÷Ü\u0013É£Ñ·®®]»öÍ7ß|ñÅ\u0017[[[Nç7ÞÈ\\QQ\u00119÷°X,fS¢(D4nÜ¸Èã1Yhüøñ}^¤¤¤ä\u0007\u001eX³f\r\u0011½ôÒKÿýßÿÝÿ|ìv{ôïÎ7Ï<O¶uëÖ)aÑ?ÿV\u001d;6ònkn®m×ë5{Ð#ÏOäeûÜ\u001c\u001cýv\u0015\u0015\u0015EÞ\"ó[óá}\u0010\u0000\u0000£\u0003\u0015w\u0000È\u0013\u0017/^¶lYuuõ\u0019g\u0011yP¤¢¢¢\u001d;v{î¹W]uùà¼yóÚÛÛ·lÙrúé§/Z´hÙ²e555ýÛÜe±Xî¾ûnMÓ®¹æµk×Î;÷ØcµZ­Ç\u001dwÜ/¾mÛ¶[n¹eÁ\u0005D¤ªêÎ;o»í6óGó¤VÃ<¯hhh0¯\u0012ø|¾ÚÚÚñãÇ\u001fwÜqV«µ®®®ÿÊ\\|ñÅßùÎw®¼òÊ\u000f?üpÕªUÇ£\u0017}þùç×ÖÖ.]º4Î¢/»ì²ÁÖ6þ[a³Ùìv»yÏ@cc£Õj5kVô\u0013\u0016-Z´cÇ+®¸ÂüöÀ\u0003¼ì0Äù \u0000\u00002\u000e\u0015w\u0000È\u0013gqÆ3Ï<sÃ\r7|øá---mmm6mºí¶Û¼^ïóÏ?\u007fçwFWÍo¿ýö+W*ræg>óÌ3×]wÝÚµkº»»÷ïß_]]\u001d]¬õûý]QÌ½{÷þìg?ë³\u000eV«õ¾ûî»å[®¿þúöööéÓ§?ñÄ\u0013?ÿùÏkjj$I²Ùl|òIkkkÿ?í´Ó^{íµ\u000e·ÛýÜsÏ¹ÝnóñÉ'{½ÞææfÃ0\u0012Lð³fÍzè¡V­ZÕÑÑát:\u007fÿûß\u007fñ_\\¸pá´iÓ\u001e\u007füñ§zêèÑ£$Õ××777¿2wîÜo¾yùòå÷Þ{oä®Ü>¾êª«^}õÕ¿ÿýï.K\u0010\u0007\u000f~ôÑG\u007f:ñßU«V9NÍö§?ýé?üá1Ç\u001c\u0013ýë_~ù/~ñÏ>ûL¤-[¶<þøã¼ì0\föA\u0000\u0000d\u0003\u0004w\u0000È\u001fwß}÷\u001fþðU«VuÖYgyæ³Ï>û½ï}¯»»»ªªjñâÅÑÏ\\´hÓé4\u0007t¿ûî»_|ñÅ_~yñâÅ'tÒÝwß}úé§?ùä'ÿßÿýßì(o¿ý6\u0011¹\\.³\u001b¾¢¢¢\u0007\u001f|ð\u001bn¸ñÆ\u001b»ººV¬XqåWÞzë­\u0013'N\\²dÉ¦M***úÿÖ5×\\sÂ\t',X°`É%³gÏ¾öÚkÍÇçÍ÷«_ýê\u000b.(**úäO\u0012|\u001f\u001ezè¡Y³f{î¹'|²Ûí^µjÙê½bÅ/¾øúë¯:uêòåË½^oäWn½õÖ«¯¾:òHE\u001f\u007füñ[·nýì³ÏN:é¤\u00193f<üðÃ\t®LD·bêÔ©\u0017\\pÁå_¾`Áûî»¯ÏïvÚiï¿ÿþ=÷Ü3sæÌ÷ß\u007fÿÙgMäea°\u000f\u0002\u0000 \u001bX½\b\u000b\u0000\u0000ùgóæÍ÷ÜsÏöíÛG>iT²¶mÛvÓM7µ´´òr\u0001\u0000r\u000ezÜ\u0001\u0000\n\u001açÜçó½ôÒK)ê\u0015\u0000\u0000Ò\u0007­2\u0000\u0000\u0005mýúõ3gÎ4iRt\f\u0000\u0000d!´Ê\u0000\u0000\u0000\u0000\u0000ä\u0000TÜ\u0001\u0000\u0000\u0000\u0000r\u0000;\u0000\u0000\u0000\u0000@\u000e@p\u0007\u0000\u0000\u0000\u0000È\u0001\bî\u0000\u0000\u0000\u0000\u00009\u0000Á\u001d\u0000\u0000\u0000\u0000 \u0007 ¸\u0003\u0000\u0000\u0000\u0000ä\u0000\u0004w\u0000\u0000\u0000\u0000\u001cà\u000e\u0000\u0000\u0000\u0000\u0003\u0010Ü\u0001\u0000\u0000\u0000\u0000r\u0000;\u0000\u0000\u0000\u0000@\u000eHop_¹r¥ÅbÙ¸qcZ\u0002\u0000\u0000\u0000\u0000÷Ò\u0018Ü\u000f\u001c8°{÷î±cÇ¦o\u0011\u0000\u0000\u0000\u0000\u0000\u0005\"]Á]\u0014Åûï¿ÿÑG\u001fµZÑ\u0003\u0000\u0000\u0000\u00000RéJÕÿøÇ?®»îº\u0005\u000b\u0016¤éõ\u0001\u0000\u0000\u0000\u0000\nJq:^´¾¾þ\u0017^øäO\u0012y²Íf«©©éóàüùóçÎU\u0003\u0000\u0000\u0000\u0000ÈI©\u000fî¦=úè£Ï<óÌ\t\u0013\u0012yþÌ3gÎÙçÁªª*\u0004w\u0000\u0000\u0000\u0000Ô·ÊìØ±cûöí²,WUUUUU1ÆvïÞ½eË/\b\u0000\u0000\u0000\u0000 p¤¾â>mÚ´\u0007\u001ex ±±ÑüÖ0®®®îîî/\b\u0000\u0000\u0000\u0000 pX8çi]À\t\u0013Ö¬YsÙe%õ[UUUK.MÏ\u001a\u0001\u0000\u0000\u0000\u0000ä\u001eÕ\b\u0000\u0000\u0000\u0000\u0003Ò2ªL4¿ßîE\u0000\u0000\u0000\u0000\u0000ä=TÜ\u0001\u0000\u0000\u0000\u0000r\u0000;\u0000\u0000\u0000\u0000@\u000e@p\u0007\u0000\u0000\u0000\u0000È\u0001\bî\u0000\u0000\u0000\u0000\u00009\u0000Á\u001d\u0000\u0000\u0000\u0000 \u0007 ¸\u0003\u0000\u0000\u0000\u0000ä\u0000\u0004w\u0000\u0000\u0000\u0000\u001cà\u000e\u0000\u0000\u0000\u0000\u0003\u0010Ü\u0001\u0000\u0000\u0000\u0000r\u0000;\u0000\u0000\u0000\u0000@\u000e@p\u0007\u0000\u0000\u0000\u0000È\u0001\bî\u0000\u0000\u0000\u0000\u00009\u0000Á\u001d\u0000\u0000\u0000\u0000 \u0007 ¸\u0003\u0000\u0000\u0000\u0000ä\u0000\u0004w\u0000\u0000\u0000\u0000\u001cà\u000e\u0000\u0000\u0000\u0000\u0003\u0010Ü\u0001\u0000\u0000\u0000\u0000r\u0000;\u0000\u0000\u0000\u0000@\u000e@p\u0007\u0000È\u007fez\u0015\u0000\u0000`¤\u0010Ü\u0001\u0000òÐ¥ez\u0015\u0000\u0000`¤\u0010Ü\u0001\u0000ò`Cp\u0007\u0000Èy\bî\u0000\u0000ù/Ø­gz\u0015\u0000\u0000`¤\u0010Ü\u0001\u0000ò`GÅ\u001d\u0000 ç!¸\u0003\u0000ä?Á;\u0000@ÎCp\u0007\u0000È\u007f¢Wãgz-\u0000\u0000`D\u0010Ü\u0001\u0000òê7´éµ\u0000\u0000\u0011IKp\u007fã7®ºêªqãÆÍ3çÉ't¹\\éX\n\u0000\u0000$Hó\u001b2r\u0007\u0000Èqi\tî7oþá\u000f\u007fX]]ýöÛo\u001f:tèG?úQ:\u0002\u0000\u0000\tÒý\u001a@p\u0007\u0000Èmtw=nÛ¶íÂ\u000b/ôx<ÿVUUÕÒ¥KÓ·V\u0000\u0000\u0005åo\u000bk¿¸jöìsÇezE\u0000\u0000`øÒÞã®ªê¤IÆ\u0019î\u0005\u0001\u0000À`t?WeTÜ\u0001\u0000r[z{ \u0010øÕ¯~õäO¥uA\u0000\u0000\u0010\u001e0T\r7§\u0002\u0000ä¶âô½´¢(O<ñÄ\t'pÛm·ÅyÍf«©©Ißj\u0000\u0000î74;\u0000@nKWp×4íç?ÿ¹Óé|úé§ã÷ÉÌ9sæÌ}\u001e¬ªªJÓ\u0001\u0000\u0014\u001aCãBj\u0010Á\u001d\u0000 ·¥%¸ëºþäO644<÷Üs\u0013&LHÇ\"\u0000\u0000 Aºd\u0010\u0011Æq\u0007\u0000Èu©\u000fîó+W¾÷Þ{/¾ø¢$I$\u0011Ñ´iÓÓØ\u0003\u0000\u0000Ñ%NDZ\u00003§\u0002\u0000ä¶ÔiMÓ\u001e~øa\":ûì³#\u000f644Ì7/åË\u0002\u0000!é²ADº\u001f\u0015w\u0000Üúà^ZZî±á\u0001\u0000 qºV\u0019\u0000|öqÜ\u0001\u0000 ³ÂHG«\f@®1TüÛB\f\u0004w\u0000<§«¨¸\u0003ä$Á®ez\u0015 » ¸\u0003\u0000ä9¦\u0015w\u0004w\u001c#ºôL¯B\u001aÉ\u001eQ4\u0004w\u0000<Çt³âkî\u00009FôçsÅÝß¦dz\u0015r\u000f;\u0000@ÓuTÜ\u0001r¬äsÅ=àQ3½\n¹\u0007Á\u001d\u0000 Ï1Ã Ü\nk\fKÁü\rîü.\u0004÷¤!¸\u0003\u0000ä¹ppGÅ\u001d ¨\u0001Cqåí¿­\u001adÁö|n\u0004J\u0013\u0004w\u0000<§ë\bî\u0000¹G\r2Õ·o\u001aZ\n.ß)^&vdã_å\u0010Ü\u0001\u0000òÐ©\u0013\u001eäf\u0019ôÐÔ\u0018kBVÜ¥Tu£øÔ¿@ià\u000e\u0000çM:\u0011NLÍÆ\u0010\u0000\u0007<MrÊ_S\u0013êÎÆ´äNEp\u0017{ò\u0010Ü\u0001\u0000ò\\°9ÔHªK(¹\u0003¤Ïú\r5ÅPÙx²-;S\u0010¸U)¡;S²ñ\u001dÈ \u0004w\u0000<'4ºC @ZH®xS\\?ÖTCugãÿ¬Ø»ª1ÙÆ¸1D5A°£&\u0006;\u0000@\u0013CG>¦ â\u000e\u0016ß\bt¦xpCM7Ôììqw¤\"¸3ÆUR|ñþ@Îó|îØa@p\u0007\u0000Ègºd¨=¡C£Î\u0000é¡zYÐâÁ\ru#KG\u0011S\u0011ÜÍ~\u001bÅ\u0013ï¥tÑP¥Ì¼\u0003é¸i!%\u0010Ü\u0001\u0000òYô!\u0016\u0015w4Q=(§8¸k¡y\f}ÿµ)©¸:\u0011Éþx¹\\\u000b\u001azn©o¯\røÛ³q~(\u0004w\u0000|&{£»;@Z¨\u001eîkMqÎS«¤KY÷o+¥â:ÔÉH\u0011ã\u0006wi,3\u0015wÙÉvy3²èø3½\u0002\u0000\u0000.\u0001*\u0005¢{öÕî\u0000òêaº\u0014ÿ\u007f)\u000e´ QR]eVÉ­\u0013'²èEÄv\u00149^ñ^\fÝÈÌylg²5\u001bû\u0010Ü\u0001\u0000òVí§îÀÁÞã¢;@z¨\u001eC\u000f¦8¸Ë\u000eFDuÿ¶éQ\\>¢Ó\t±\u0011\u001a· ®I\u0019k\u001dëÙXé@p\u0007\u0000È[ÞÃZí/|o\u0019ËÆã\u0010@\u001eÐ¼\u0006Oõ\u0015-Ùn\u0006÷¬«ûj^C\u0017F\u001aÜÍAÜå¸chjª¡dèö\\ÅÎ;L\u0004w\u0000¼å?¬QÔ¡Ç`\u0006\u0011\u0019:·\u0016ì\"7\u0000ÄÒ<æOqmXlÕHË¾\u001ewÍch\u0012/\u001fÁ+\u0018\u001a7G»\u0012Úã*£\u001ar¦ \u001dL÷gcpÏ®®)Èir*æ@\u0006\u0014ò\u001f¹[\u0019:?\u00152´:P¸ºö\u0007ÝÙ8FGª¨\u001eC¶¥¸6l\u0006w)eÇVNÏ\u0018á-³²A\u0014þ\u001b\u0007£³ÔÌ\u001d+%O\u001eCêÌ²w\u0010Ü!ÜÙ:è)@a24.6Æ\u001cx\u0018çDÔøoß\u0000H\u0017§MÚö»îL¯E\u001ai^ùÿ\u007f{w\u001e\u001eE.\fü­®^îNgl@\u00001\u0017\u00114¨¨0¬²¹áUÔQPÑgùtdFÇet\u001c\u0019áat\u0004A\u0014/,×íÊ\"\u0010(»,\t\u0001}éN'étzï®ý|\u007fThbHBîÀûû«»Ösêí®z«êÔ)\"®=:\u0011\tc\u0011\u0001 À¸Én\u0012XpÝ})D°·+\u007fûWÜ%m\bÁé9ÇÓÙY¸z­\u0015É×\u0019'&î(d\u001a+ØÞ.\u0002Bè\"_\u001dO~}S¾ÆU\u007f6à®º¯}¢+§o<~Õþê\b\u0001Á%ÁåZlw¯¶)Mg\u001c\"á\u0001\u0000<æ++qç}\u0012tûmn¬§iCù«Úmã.\\\u0012wé×ÏVî÷\nLç\nÌ6HR\u0000xÏ\u0015×NéêLÜå_U/r^)¬½!Ò\u0015wnÐ5ËwÉKR<e<\u0000xx[¿7JÔÎ\u001eVQßâ.ä]y\u001c\\¥\b1 ÉI6Ûîë:Â×Ô-ØúÔuîÊJÜå»\nÝìì½ð>Ô@»WÜ9G\u0017ÊØÎ\u0006\u001c¥\u0017[\u0001X¶ùüuh÷\"\u0004$ÉO \u0014gb!wu&îö¼^n³a-ñ:Ë¯¹ÜÝ]Ê±N<ô\"Q@-¨\u0000\u0000 \u0000IDATt¥ð»[\u001eï\u001b\u000e±\"K\u0002Ubmá\u0015¸\u001fv\u0011ìôæêå.äùz©\u000bMû`·[yÄ\u0013Ë©¦Ä=pá\u001c Å*½NnÝÞÍB°\\Sí¸zIlvñ_u\u007fÉ6H\\\u0012w¯+Üç?û¬¼7OðÛ;qþ\u0013<\u0001ëþXÈ]{Ã^NÜ\u001d¥¬µØÛ»eèy¾2!`¿:wÊ\bõE{Â#¿\u0007\tÌß^q{ÙNwÈ_<yUº\u0002\u001bÝv·\u0007\u0000oÍuñ8T¹fðBr×x,|cNÓU?Ößt<u\u0017ôôF+ßãng,ÏH\u0000 ÝºNÇ\u0017³\u0005¦ñâF;ñq]q¶#øµw±©×Ãå¿ç[\u0001ØJ\u0002\u0000ÐüUt/÷B@}×Lâîr¹öíÛuæÌ0­¢\u001dú^n³Ñp­øáLÜ]]OÜ\u001bÎ\u0006BXk\u0013ã\u0014úèA\u001d\u001eÂ5-\u001fB\rö|\u0006\u0000ìû\u0018Î-\u0012ÿ?Gk3÷4'U[|\u000eK\u0017oT^;ô8·xà¯ÖÞ.E§\t\u0001©\u0016\u0001Àëè«çfíw¢\u0012\u001cËóÝÊó¼u3·i\u0013\u0005¯I3b·ºpéðÃkå\b!åLÖÃf©í\u000bê\u0002K\u0000@ì^âî·]ÜPÁæ(G<ñRCÁ§Îà(Î.ñ\u000e©?xÀ.´Ú:º1cJD{!\u0003\u0000õ\u0015~\u0000\bpÈO¸\u000bù:Ç\\\u001b{}}ý¬Y³¶nÝZ\\\\|÷Ýw\u007fùåáXK;xIêÝG¯ìGÙê->»V%\u0000 q1¯;!÷©=´E\t\u0001éÚ\tÄù½\u000eGIßn£%\u0004$µ¯\u001eÚ¯(\r\u0001çV¶du\u000f\u0000\u0000õ\u0005¼-\rû\u001f¯ñÛzÿ\"hýY?g¶.Þ,=ôµS·ûªzÜ­$tcW!\t¤\u0007N\u007fù¬îÌÛu§ü'ÿS\u001fîu¯®é}\u0002~¦s?¶òlW;\u0019dO*9àäÚn5\u0011|BC~\u000fhÍ±.ö¸êõrþ\u0012A¾~Ï\u0006\u0013M\u0002Þ\u001a¾ã\u000f\u0010B·:«Éõ5\u0016_þUuÌ³qtñÏ+-Û\u0016TðvI¾ýU´Ûá¶´ÜÈ/`\u0016H÷\u0012÷fMÛëK6WMOòÚ¯\u0003Î\u000bÔ±v\bí=¸XzÈi>ÕJ1'X\u0000¨«ô\u0001@õ·>\u0000ð7vâ·\u0017ì;ëÞX8%qß´iÓÈ#?úè£%K|ýõ×\u0017/®­íéN \u001a*~uùÖY\u0015lÆYÁ^¶·rÖ%úÏ\u000b¼U²ëèÍè¬NwTt¥ñ7\b \u0001Ëw1qwWqåßy:~Ø#t0\u001d/;äª=}åöZ-î<#¹ÿ°×Wöt\u0013\b[^(oXó|Å?9/?\u001dºÖov\u007flº\u0019¸ûÁêÿ]':É¡¬-z`°\u0017u:f\u001cBCI+¿\u0004Æ!H\u001dxmxÕ\u0019\u000f\u0000Ôfwâ·ÔXÆð>ógÿéØÿ\u000fsû+r]è3Àoã·O«Úórué=5\\ÁÎFù³$\u0012\u007f \u007f`Â\u007fZ\u001c\u0017·³­;ÛòV°£ñÜ7a¹ú\u0010äªbóþÔ\b\u0012|7©üm]hØ[O\u0000û/\u0014ÕYÜÓrkoçäêêÂS¨Î)ý?wM^`\u0017+¬WdÝâÎ*\u001de\f\u0000Ô¾Ì\u000e¹ÅQÏcçA\u0002\u0003\u0000ùb|·?TùÕ#¥å?¹~t8.×órÅAwá\u000f\u000e_\u001d_°×î«çÏ}g/=êôX¹\u0016Íµ=V®üg$\u0012\u0000°äxwL©\u0012êÉÙÞc\u0002\u0000¸¬¬\u0010\u000e½\\÷õ=e¹[mÍOäÄ½;¯a\u0016\u0018©öàÅ?ûÏOÕÊÝIW\u001ekÊÎ|ßôWâì\u0012\u0000Ô^È¦\u0018PuØÃyE¿/Þïp±y\u001f4\u0016ÿàª<ì®>ö«<Êy\u0003Ê^Þ/Õï\u000e\u0000û|Sâ~ÙDq\bÜrÂ\u0015¸Óo¾ùfÈ\u0017úè£.]ºtÈ!\u0000´aÃñãÇ\u000f\u001e<¸ãK(++\u001b:th\u000bPþ»b·'c^\fP\u0000\u0000¶üÀ\u007fZß\u001dÝå\u0005\u0006\u0015ìiô5òqCu­-ÞëÔ\u0019è¢ÀùO\\\u0000\u00103M\u001d¤%\"8ËØ¸6_R+ø¥oï*Ïx4Z©ëc\u001c4\u00163Ú\u0018¢(\u0000pUrçÖ8\u0012çé\u0012Óõ]Xå´§ð}×ÇLÚèÖ6\u0014\u0001Ë/^­¦5\n\u0000h(\u000eì|¦RPH\t##Û_,È/©XH\u0019cè`Ijò¼\u001a]Ó:ÎgåÕ\u0006º­±E\f­¦hóYK«m%ä1z¦lEþé%æ³\u001e\u000fÃj#è\u0018U§VÚÂéÍ¶ÒU\u001euªbÈ¤¨\u0016£v;\u0004èã;±üº3þÈ~*\u0002\u0000\u00109¢ [\u007fÑ&ã\u0014ÿ÷ÒáÿmRëÛ¬~§\u0014ìnÌÿÀyýã1\u001d|µ'!¢(_\u001d¯PR=ü6P'T\u001b¥÷\u0011Øÿ|\rÓZ?kº¦«éðeÏf\u001b|\u0001}Rß_E)(¿MøêÎÒ!÷\u001a\u0003âÙï\u001b\u000e¾\\ÛX\u001f°[\u0003öJÆWÃ+Ö¨\u0004\u0000Î+ò~âµñ\u0007WX½õ|åqOî\u007f\u001aL\u0012\u0002ý<\u0013°\u000b\u001a#]}Ì³åºR\u001bªÓDµüH<\u0001\nx¤P+²³°Õã\u0004§¿O\tO5o/\nDöSI\"\u0010\u0011\u000e¿oÕÆÐq*\u0000\u0010\u0018éëyeÇ_©Ï]kgA°n\u000b8\u000fsB¬©§\u0014õÏzÆ÷ó«Ö\u0001\u0013õ\n*ü±ÑzÒ¿ýÎ*ÎÄkuÊ¢}NËW~ß\u0019¡â°»t¿»±.`>ìM\u001a\u001dùÓJKÉF÷õ\u000bcYxâÓúÂí\u000e¥:½¹ÁQÅä<×XqÊ8.÷K\u0002CÎîh¨Èö¤M1Q\u0000òQÆ^\u0012Øó°¹â\u000bOÌ\u0004uÌà_½Ps\n\u0015%ï'ÛÂ4\ng·ÙãE4ÿ£y\u007f½Wá<âïT»\u000eñ\u0000 ±@X\u0001$e¬^â¡ù\\¼G¢5­¯Ë^Â\u001cÿ¸vðí-÷\u000f\"\u0012!\u0012PË±äx½õ!A}¹9¡üËmæ¢RÔD\u0000ù\u000fB\bÉÝl«ÛÃ\u0000³»þXZ}ù?¿ßñD%[!9JØQOÅµµ\u000b\n\u0016¸ù\u0016&\u0004ÚÝÞíÖ4-óDªcnk¡O§S\u001d\\R«MW\f\u001co'ã<bóÃDc9S´Þ\u0005\u0000Átå/nÛÿ±¾hNCÓßO©\u0019«á}ÒßW×\u0016ø\u0006N0pnÑ]ÅÙË\u0002$¯ûñeóÐéQOÊýÚf=ï+Xíd+%z\bX\u000b|¶cûTS®ÉÖ\u0002±ø3wÙ\u0006ÏÙ\u001b#®£i\rU²ÇÕï¿tÁ;«Ø¼ïmv\u000bsüo¶ò-²Cî×]çw:ë·1Î\u0012®t¿«ÑÂ¤Ü¨§5ÚÓ¾ºBÿ¾?YÎ¼êàM\"ë\u0013²\u001e²\b\r¿ÊgûÏÕ6ä\u0007JWyøZ©ú+_]£O\u0019I\u0019âÕ´²äx+·x\u0013ïH\u001a©\u0007\u0000\u007f½ üÕ\u0011³!?à­å#û_<âp^±>/à­å+rÝ\u001e3wæ[{ÕG\u0017Ï$\u001f\u0014}çtûw\\r\u000f¶¶Clôxµ×Êßèâ\u001b¤âÏ]õf\u007fÉ.çÁ?Ô\u0016üÓéUsUG=Çl8ó¯F¦\\tæ?w\u0017®uüàdÕB¤IÅ{ÉÉ7m\u0000à<Îå\u007fÙÈÛ\b\u0000(£\u0015\u0019\u000fÆH\u0002ÙûzuD¼ÒÐ_»ÑVvÔÅzDC¼÷59>ÂÛÌ}}W·wæ\u0001ÀUÇ\u0015~é¬8ê\u001ep³^ue$iTÈoí9ÎèèèãÇgffÊC\u001e|ðÁùóç?ðÀ\u0003\u001d_HVVÖÔ©S»\\}o\u000bÞpNþ:)ñHÖ#æ~m+ù»gê¶dA%©t¤Q¥Ô(h\u0015%òDd%Db0jh5\u0015ªÑDÑ\"G<\u0016NäõÏrÌwÃ#±1©:´Ñôæ©%\u0011\u0003¿y'E\u0017¯TE($0óÖ\"¯ÛÆXlO~JW¿eE\u00000Ü¦dÍ\u0012W)\u0001À]û\u0007\f\u0018g¨;ë¿NÇû$\"\u0002\u0000ØJü:ÊrÊ{ô©úÛ¿JÈ\u0015#\u0004Ú¨psÆjª7s\u0002{1#±$*U\u0013<âJ\u001ci,aNüO}tºF\u0012Hî\u000böq«û]\u007f\u007f,­¢J~pík¹îí¨Û~\u0014°\u000bD~Jµ\u0004â5óÚXZm 9¯tâ\u007fj£hâuº\u0018¥È\u0012I$ò±áÄæº¢×Ü7~\u0018:ÁèsóZ-Í0\"'\u0014JM\u0007j\u001fªújÂ_\u0012¼µÜá§ê%\u001fÑ\u000e§ç|*òV+8¨ )I\"|@dY\u0011\bôODrú+ÛÙ¥Nã8ÕÐG*­bè\u001dQÎZF­£uz¥$ê\u0000'zµ6B©TQ\u0001¯À1âO¿­\u001d°0âöß'GöSÁxpWN\bøjø~Jâ}\u0012ï\u0015\u0004\u0007þUSºÜ3ö?qCoRj\u0015¬[t7rZR\u0014%ÕÜÑßÖÓ&jÈ\u0013\u0006¯ù8\u0000\u0000Æ\tª¸´>¶¬é´^\u0019GMü4¡ÿ°HL©\u001a\u0006Ú³>ë\u0019_RÞeg#*C¼ÚmåtÑÊ¨js·â{Àx½!Níµón\u001b{ä·6ÉC´ÃéÉ\u001f'é\fJÜ\u001e®îxÀ8TuòÿÙ@RæE\u000ecÕÐJÆH«\r4ç\u0011\u0019Èø\u0004\u0017\t\b½J¥Qh4ã\u0014¾Z1úo±)cô\u0000$û¹Ék=.^\u0001\u0010iP\u0002Dâò°:Uc\tûË\"[Ü}Äû=|RH $þ¿t\u0012OäsQÞ'¹*X(\u001e¬aÝ¢ËÂ\u001a\u0013Ô®\u001aN­UÐ\u001aÀHQ\u00035@ÜfîÇßÝGùÇtc\u0017Ç÷\u001f\u0019©1Òò\u0012\u001c%LQ¶ScPÄ\fÑ\u0002\u0001\u0010Ð«¾w&(úÎ­U\\ÿH\f@\"$:^Û`öGF©\u0018Fl(`F?\u0010O\u0001\b~Im uqJ\u0000`\u001a\u0005\"ù¬ç¥áÈD\u0015­¦x³©Þcæ'<@«\u0015î*Öãä\u0007ßf¤(*`\u0017|µ¼ÓÆzíÜë\f~§`9ã-ÙêðZ\u007fA$\u0000$ºVR\"\u0004h5Åû%Î/\"\u0019¨¥Õ\u0014­¥\u0011\n\u0002w\rgÎ÷ÄöÓi\rJ> é¢\u0014\r\u0014MqnóJÂëà\"bT±Ã´C$\"¨\"\u0014¼_l(e4::\u007fGcüuÚøÁ\u0011j\u0003MD¢S².±úÇÔO\u0013=@ËûD5Ä©Üv®¡I\u001a¢ÿþÎÎþëû-ÐÞùäú\n\u007föÝm¶¢\u001eðlÄí\u007fNÎz¶Ú¶¡Ô\"\u0012z\u0002\u0000@]hgráCô]jÿy-m:O¬N\u0011á>Ï\u0003Áó\f®r.\u007f¹\u0013xàíRÂ<uóÅËoi\u007f6Ô\u001f`ÜyùÅQ·©|ç\u0005\u0012\u0000ÑKqÔÜ\u0003ãGD\u001cûwíÉ%\r\u0016¯ÿ|mÔ\buÑßî6(\")ÝPÚwù+Ó\u0011#þ³\u0002\u0000\u0018nPyòÚuPZ \f\u0000\rÐì\fHF\u001e\"ÔK\u0014.U4M\u0017¨\u0015+×{%\u007fSõãgjuñ´nR\fH\\£dÝ\u0015\u001a«¢\t¥¡\u0007ÍÑ\u001bLjÓE*\nEÕ/\u001e\u0005MÅüæä\u001b\rÞ_1ÿ°$Á[ËÏvøë³¯:þÁ\u0010?VWõ¢(G\u001eë;Ó²\"Qê@0êhcZ©PTì÷\u0014½ëV'(¢Fª5ñ!÷\u0019ãRt\u0006ÆYÁF\rQls?ô\\n\u0012¼Äò?úvuÚ\u001c£@$\u001a\u00144E\tD2\u00185\u001a\u001d][á=ÿRAtºFe ¢34\n:ñZ\u0003g\u0006/ÔÇÜ¤QG)¼å<\u0000Ä\fÕzm|d*\"Re«ò\u0007ìbÝþ@í7\u0001\u0000\u0018ôÞ¶?8=bÈ\fcÅ~wñß.^\r½íËþÆ\u0014Mcm ñ$<)ÒSÃ)\r\nUwJ§Xw\u0001\u001f3VS±ÞKh\u0012(jÚî7¬±\u001dc\u0006Ìä\u001cbbF¤FG{=|c\u0005£SR\"Yé`\u001bÅ\u0001÷F*Ô\u0014PP½Õ§¿Qyý\u00131\\@$<Ä&ë4zZ¥Sxëy¥V¡3)9¯(pÝÌ\u0004¼±Z\u0017¡ÔDÒ<#y\\¬ß#ltÇÝ¨M\u0018\u001bqjyÿÈ×I\u0000@GS¢¨\u0012\u0015ó\u000f\u000e>³µQä¤Ï½3ÿw@Òh=\u0000¬ôýï*jÖ^þn§iÚu;¨æ¼/GH| ÂSÎywîþ2\u0012läÿé7fa?\u0000°\u0015ù¿\\Á[.wGE\u0001´\u0012}Oü~««ßÆ\b¶_MIÇPÆtã\b\u0007\u0004bïÓL_6ðäçõçÿæ\u001añ'£ugÀ4N=êØÒ]\u0005¯º\u0000 éÁ\u0014úºûbêoï-óçõþ¥ëIß&YÏú\n_s)ôTÌXuÃþ¦»pt4%:Iû-å&îé?jj|OòrB¸×ÔÔ$''>}zÔ¨QòE\u0016\u001d;vñâÅ­NoµZÏ={éðî$î\rç\u0003ò]Î\u0010£.¶¤BIñ¿í¨ )©Ý\u001bLJ5%pD©¦É\u001aN!ò$Ð(¨´\nJ\t´Z!ñD¡¦T\nÞ#±.A\u0012Aä%CZd\tÀ\u0012M\u0014Mk¨MP()ZCQ\n*øPBE©t\n\"\u0011_=Ï3DßO¥PQD\"R\u001b\u0014\n5%qDd\bç\u00139ès\breUZ¾¿q¬Wl¿ämÉ=7fì¨¨\u0014\rã\u0014+¯g¥VQ\n (PGÐ_Rª)t&ÈI\u0002G\u0004V¢UZG3\u001e!\\-Z)Pk\u0015rp¯´gMsOæ¾iÔe'£( \u0004\u0002ZII\"éZcH\u0002CZ©Q8ÍlG[´E©Q\b$ÿ£ÕZ²¾Àß¼H\u0002ôq*Ö'qt `JÑp^Ñïìîþ¢@\u001dIK\u0002éÂN£+«S@G¶y«Ñ¼ì¼*­¢gjÑ*J\u0001Æþj×Uú 1Ií­å¤.mÝ\u000eþ7Qw(5`«\u0018¥FaHP©\"é@\u0003ï©\u000fñ\"\u001dßÓ¦×S4UwÚÏv¯'Ê.hÚÏ_v²í®pQ©ê¨dM×æ=pàÀÄ\u0013CU6ÛotYDD\u0004\u0000pÜÅ½ªÛí6LmMØb`VVVwÊ\u00107B\u0007#º³+KD¿VÂ¤PDôo3|òuÊ¶hc[Q¡£:ÐDÓ\u0000\u0010ûëQ\u000e\u0014´\rçýþ\u0001\u0013\f\u0000`\u001cp¹Û¬èwÞï\u001fxkGÛ\u001d>¹[.%ÿ Q¯D3$¢tñ\bzå3\rîbÕún4û:m4\u001d=L{ùé:£³Ñì\u007fCDh\u000bBaBÙGyèÛëL¦´´4·»éN%!$777...ä+B\b!\u0010BèÚ\u0011öÏ?ÿüW_}%I\u0012\u00008qÂb±dddcE\b!\u0010B\b]#Â¸/X°àÌ3K,Y³fÍüùó×®]\u0010\u0015!\u0010B\b!t\b}\u001bw\u0000è×¯ßöíÛO<)â\u001d;®¿þúp¬\u0005!\u0010B\b¡kGX\u0012w\u0000<yrg×jCü\u0007êE\u0018Í«\tFójÑ¼`4¯&\u0018Í«Ih£\u0019úî \u0011B\b!\u0010B!wE¼\u0005\n!\u0010B\b!Ô>LÜ\u0011B\b!\u0010ê\u00030qG\b!\u0010B¨\u000fÀÄ\u001d!\u0010B\b¡>\u0000\u0013w\u0010B\b!ú\u0000LÜ\u0011B\b!\u0010ê\u00030qG\b!\u0010B¨\u000fÀÄ\u001d!\u0010B\b¡>\u0000\u0013w\u0010B\b!ú\u0000e¸W`µZY\u0005~ýúÝpÃ\r­NVPP`6_û÷ï?jÔ¨à×¼¼¼ºº:¥RyÓM7\u0019ÆàðÊÊÊââbBN§\u001b7nZ­\u000e[=\u0010@(¢Y]]]QQÁ0L\u0010\u0003Ëå:yò¤(\t\t\t×_\u007f}Ø*/\u001e'//Ïï÷S\u0014\u001aÆj \u0000\bó\u007fSVZZZVV>`À0Ô\u0000]\u0014îh;w®¦¦\u0006\u0000bccÇ\u0019CQTXª\u0000 ÌÑÄ,¨u?çÏ7Í$étº±cÇj4àd\u001dÌè7ß|3$iË[o½õã?¢÷Â\u000b/¨Õê\t\u0013&\\:Ù®]»Ö­[§×ëëëëëëë\r\u0006Ã!CäQ\u001b6lX¼xqFFFVVÖ5kî¾ûî\b\u00008|øðøñãûõë\u0007\u0000+W®<zôè\u00193Ê°\\Ëº\u0019Maâââ\u001e=ºcÇÄÄÄqãÆ\u0005g©¯¯3gÍfS©TK,éß¿?æîá\u0016¾h¦¥¥>}Z«Õfgg?ýôÓÃ\rë¹]Â\u0017MÇã?\u007fþòåËgÍgbá\u0016¾h\u0012B>øà%KL¦+W>õÔS\n\u0005Þ{\u000f£ðE\u0013³ ×ÍhîÝ»÷î»ï¦iÚét®X±âðáÃS¦LÑjµÐ©,(ÁÏÇ\u001d\u0003\u0000Åréd\u001b6lxçw.\u001dn65\u001aÍ©S§\b! <ñÄ\u0013«W¯GÝsÏ=k×®?[­V¢\u001c9\u0012ú\n fº\u0019MQ\u0014kjj\b!\u007føÃ\u001fV­ZÕ|Ôûï¿ÿÌ3ÏÈËÿå_\"##­VkK~-|Ñ<}útóÙY\rY¹QkÂ\u0017MÙ\u001f~¸~ýzÁ°\u007fÿþ\u0015\u001aµ!|ÑÜ·oßðáÃå±\u0010A\u0010$I\neÑÑ%Â\u0017MÌz^7£YUUåt:åÏv»ýºë®Û¶müµãYPØÏ³Êët:BAÓt[\u0013Ûív¯×Û|Haaá°aÃÆ\u0019\u0003\u00004M?üðÃ«W¯G©ÕjJ%\u007f¦i¢¨ÈÈÈÐW\u00005ÓÍh*\u0014ÄÄÄV'^µjÕý÷ß//?333999???D¥F­\u000b_4ßÌMOO·X,-æE!\u0017¾h\u0002@~~þ÷ß\u007fÿà\u000f¤¨è²Â\u0017ÍÕ«Wÿõ¯\u007fMLLä8\u000e.\u001c:CTjÔºðE\u0013³ ×Íh\u000e\u00180 **Jþ\u001c\u0013\u00133zôè\u0006ùkÇ³ ¸Af6³²²Ö¯_¿páÂuëÖõïß¿ÕÉÞzë­¸¸8É´xñbÅ\"\u000f¬©©³vÁ`ÈÏÏ7Äë¯¿þê«¯._¾üë¯¿~òÉ'?ùä\u0013l\\Ñ\u0003º\u0013Í¶8ÎàÓ\u000b\u0014E5ÿ5£ð\tG4[8qâÄ½÷Þ\u001b\u0013\u0013\u0013ò¢ö),Ë¾òÊ+ÿøÇ?t:]¨Ú\u0014h¢¸sçNÍ6}útF3fÌ={ö¡ì¨¥0ý71\u000bê\u0015¡f]]Ý®]»F\u0018\u0001Ìz\"qgY¶¼¼üüùóF£qðàÁ­N3~üøÂÂBaM&Óc=&_\u000fp:ÍF\u001f¼ðûý\u0000ðøã»Ýn§Óéóù\u0002(=Pk\\w¢Ù\u00169 Íª1\u001aN§3´%G\nG4;zôèK/½ôî»ï®È¨MaæÖ­[Ç\u001b×ü\u0002\nê\u0001á¦| \\±bÅòåË\u0019Y¶lÙÌ3Ï9\u0013\u001a ÂôßÄ,¨W$\fÃ¼õÖ[\u0017/\u001e?~<t6\u000bêfsN)))¡iº°°°ýÉäGqO<I\bÙ°aÃ£>\u001a\u001cuôèQ\u0000ðx<$Í;wÓ¦MòpÃ1tèÐ~ú)|G-t!A-Úê9\u001c\u000e\u00008~üxpÈ\u0003\u000f<°eËÐ\u0016\u0018µ#Ñ\fÊËËÉÎÎ\u000eeAQ\u00070\u0015\u0015\u0015C\u000eµÙlòWlãÞóB\u0018Me\u0015\nÅ'|\u0012\u001crÿý÷\u007föÙg¡-0jG\b£YP¯ër4Y}õÕWyæ\u0019Ç#\u000féT\u0016Ô£Ï\u000f\u001d:4%%¥y\u00179­\u0006\u0000¹·¤¤¤à(¯×¡×ë\u001d\u000eÇ·ß~\u001bìªÂd2effÊý[¡Ñh¶Åd2¥¥¥¹Ýnù+!$777...TEE\u0015ÂhÊòóó§NºqãÆ;î¸#4ED\u001d\u0016ÂhÆÇÇS\u0014EQÇã4iÒO>\u0019Êâ¢v0jµ:33³ùý\u0004»Ý\u001er¢\ba41\u000bêu]&Ïóï¾ûnuuõ»ï¾«×ëåÊÂ¸7¿Ô\u007fîÜ¹ÊÊÊØØX\u0000\u0010E±¨¨(Øl?X\\\u0000ØµkWDDÄÐ¡C\u0001 ==½¸¸877\u0017\u0000$IÚ¸qãsÏ=\u0007\u0000F£199¹¸¸8¸\u0013'N`ª\u0017nÝf;\u007fþù¯¾úJ$\u00008qâÅbÉÈÈ\b}\u0005P3áfQQÑ´iÓþýï\u007fÏ1#\f\u0005G­\bS4o¾ùæÚfôzý7ß|³bÅðT\u00025\tß\u007fóÙgÝºu«Ü ÂåríÞ½\u001b[E[¢YP¯èf4EQ|ï½÷Î;·råJÉÔ|É\u001dÏÂÞßç°aÃî»ï¾´´´Ï>ûlÅ\u0015£G\u0006\u0000Ë5bÄC\u000eÝrË-òdóæÍKKKËËËÛ´iÓ-[ä®I×®];wîÜ¥KæääTVV¾÷Þ{\u0000 T*å'póóóSSS¿øâñãÇß|óÍá®Î5®Ñ\u0004uëÖùýþêêjQ\u0014ãââ\u001e~øa\u0000X°`Áüùó,YrÃ\r7¼ûî»k×®MHHèÅ^\u000bÂ\u0014MA\u0010fÎXUUõ¯\u007fýKrÁ\u0005ñññ½UÓkA¢©Õjå>e\u0014EEGGË\u0017PøoO;gÎíÛ·?õÔSwÜqÇæÍ'MtÛm·õbM¯\u0005a&fA½¢ÑÌÊÊúË_þòâ/nÜ¸1¸À3gBg² \u0010\u0012ÖJ¢HQTJJJzzº<<\u0010\b\u001c<x0###99\u0019\u0000òóó­V«$I\n\"--mÐ AÍ\u0017\"¿9¦éÌÌÌæÏªTTT\u0010B.}\u0001\u0015\nîGsß¾}ÍÑjµ\u0013'N?ãS{X¢)â¾}ûZ¬+33\u0013³½°\në\u007f3(++\u000bßÚ\u0003Â\u001aM¿ß\u007füøqãt:Ýøñãý\t¢0\tk41\u000bêaÝ¦üþéæ\u000b¹é¦äÏ\u001dÌÂ¸#\u0010B\b!º\u000f_t\u0010B\b!P\u001f;B\b!\u0010B}\u0000&î\b!\u0010B\bõ\u0001¸#\u0010B\b!Ô\u0007`â\u0010B\b!P\u001f;B\b!\u0010B}\u0000&î\b!\u0010B\bõ\u0001¸#\u0010B\b!Ô\u0007`â\u0010B\b!P\u001f ìí\u0002 \u0010êK\\.×/¿ü\u0012üªP(~óßôby\u0010BèÚWÜ\u0011B\bu\u0002MÓ\u000b\u000e\u001f>|ðàÁÞ.\u0011B\b]+(BHo\u0001!P4oÞ¼¥K\u001f?¾·\u000b\u0010B×\u0004¼â\u0010BQ[[\u0015ÖU\u001c<x°¢¢\"TK+,,,..îàÄ@ 77wïÞ½YYY^¯·ÅØ¼¼¼¬¬¬ýû÷»Ýî\u0016£KKKoºé¦KùÓO?UVVv¡äÝ][[ÛÃ+E\b¡;B\b]Åbyà\u0007B»Ì\u0007\u001f|°ùÉÀºuë:j·Ïãñ<ôÐCZ­¶ÓïÚµkâÄ¯¾úê´iÓ<\u001eOóQ\u001b6l¸÷Þ{KJJ6mÚ4wîÜæc\u000f\u001f>üâ/*­<+µråÊPU§ã|>ßºuëzx¥\b!Ô0qG\b¡Þ÷ñÇ\u001fO<9$ÊÎÎ1cÆ\u0001\u0003CòòòZ´ÌÍÍ\r\u000e¹ýöÛ\u001b\u001a\u001a>ý/´\u000e\u0000\u0000\t\u0006IDATôÓ\u0016Ë±X,\u0017/þöÛo}öÙ5kÖ\f\u001a4hëÖ­Á±<Ï¯X±bÂ\t!)sHÜyç«W¯\u000eá\u000b\u0010ºÒ`â\u0010Bàr¹/_\u001c\u0013\u0013óÇ?þÑjµ\u0006G\u0015\u0014\u0014<öØcQQQÉÉÉ/¾ø\"!¤±±ñW^IMMÕétÓ¦M;~ü¸<åòåË¿ÿþû\u001ez())éÆ\u001bo\u0004E\u0016íÛ·¯ýUÌ={Ó¦Mo¼ñFttô¨Q£²³³[-á\u0007\u001f|p×]w\u0005¿2\f³téÒU«V\u00053õíÛ·Ï3'¸ØØØXFsér\n\u000b\u000b\r\u001b6fÌ\u0018\u0000 iúá\u001f^½zupìÉ'\u000f\u001f>lØ°¶6Åbyùå£¢¢Æ\u001bwàÀ\u0001y`[\u001bÄf³½üòËqqq&éÎ;ïÌÍÍ\ráG\u001e1\u001aiiik×®å8N\u001eþÃ\u000f?\u001b7N­V\u000f\u001a4èÅ\u0017_\u0007FFF.Y²äÐ¡Cm\u0015\t!ú:LÜ\u0011B¨\u0013-[V]]}äÈÂÂÂ¨¨¨§~çy\u0000(//¿å[fÌQ^^7{ölyú9sæ\u001c;v¬¶¶ö7Þ5kVMM\r\u0000üñ\u007f¼÷Þ{7oÞ\\SSsêÔ©\u000e®\u0002\u0000^~ùå\u00193f½þúë³gÏnlll1¯ÕjýñÇ\u001f\f\u0019\u0012\u001c¢Õj×¯_¿mÛ¶Õ«W\u0013B¶oß¾dÉ={ö$%%µ_Ó\u001a9k\u0019\füüü`#ø]»v-Z´¨Ù_zé¥ùóç×ÖÖþýï\u007f2eJQQQ;\u001bä/¾ÐëõçÎ³X,kÖ¬\u0005ÊÊÊ\u0013'.\\¸Ðl6gee:uêË/¿\u0004\u0000³Ù|Ï=÷¬ZµJîrþüùÁN0aóæÍí×\u000b!ú.ìÇ\u001d!:ª¦¦fÙ²eùùù\u0003\u0007\u000e\u0004ç\u007f>999''gÜ¸q»wï~ôÑG\u0017,X Oyûí·\u0003@LLÌðáÃóòò8#ddd\u0014\u0016\u0016¶1·³\n\u0000X¶lÜ:eÞ¼y/¼ðBqqq\u001e]ªªªt:]rrró\t\t\t\u001b6lxäGòòò~øá½{÷\u000e\u001f>ü²u:F£1øU­V\u0003ßï×ëõ[o½533³Ùß~ûm¹lS¦LùÝï~wàÀáÃ·µA|>^¯Òjµ×]w¼={ö¼ôÒKÓ¦M\u0003\u0000£Ñøøã/Z´èñÇ\u001fç8¦éèèhN§Óéú÷ï\u001f\\idddvv6!¢¨ËV\u0010!ú\u001c¼â\u0010B\u001d%7/IKK¿L¦ôôtùÎ£GN:µÅôåååcÇÝ¹s§Ïç\u0003\u0000F#bW\u0001\u0000Á$U¡PDGG\u0007\u0004±,k2.M[\u0013\u0012\u0012xâ?þøÙgíHÖ.¯ºyO2òº\"\"\"\u0000¢¨©S§FGG·3{°\n\u0000pë­·æää@Û\u001bdáÂû÷ïOMM]´hÑ®]»äu\u001d>|xÙ²eý/={¶ütì!CV­ZuóÍ7ßzë­«W¯.--\r®H«Õz½^a:RA\u0010ês0qG\b¡Û\u0007\u0010BN'MÓ\u0000\u0010\u001b\u001bk³ÙZL¿mÛ¶ßÿþ÷Ë-={ö¥i}gWÑÁÙNç¥/èøá\u001fþô§?íÛ·oß¾}\u001f}ôQGÞà$gÛ2¯×¡×ë;Xæ'\u0015&\tÚÞ \u0003\u0007\u000eÜ¶mÛñãÇ\u001f~øá+W~üñÇ\u0000`2Þ\u007fÿýºfíò\u0017-Zd6?üðC\u0000\u00187n\\p8Ã0\u0006A§Óu°\b!Ô·`â\u0010B\u001d5lØ°\u0011#F\u0004\u001fµ<uêTuuµüæôéÓW¯^íp8äQrfìr¹ó\u0016\u0017\u00177ïÿQ¯×·zõ½UtÄ A\u0002Åbi>Pn5iÒ¤Ï?ÿüo¾Y³fÍes÷ôôôââbù9QI6nÜøÜsÏu°\u0018\u0000ðùç\u000b\u0000\u0000~¿\u007fýúõ\u0013'N¶7H \u0010\u0000\u0001\u0003\u0006L4InW\u0003\u00003fÌøà\u000fìv{p\u0016¿ß\u000f\u0000\fÃ\u0010Bt:Ý7Þ¸xñbÏW]]-Oàóùî¸ã\u0017\u0012!ú\u0016lã\u0010B\u001d¥ÑhÖ­[7sæÌ·ÞzËh4¾ñÆ\u001b|òÜ |Ò¤IÓ¦M5kÖÓO?\r\u00006mÚ±cÇ]wÝuÛm·±,\u001b\u0013\u0013³aÃéÓ§\u0007\u00175mÚ´åËs\u001c§Ñh\u000fog\u0015\u001d0mÚ´²²²\u0014y\bÃ0\u001f}ôQVVVzz:\u0000$&&~ñÅ\u0017O<ñÄ9säÖöçÏß½{·|ÑúO>1\u001a÷ÜsÏàÁ×®];wîÜ¥KæääTVV¾÷Þ{\u001dßVJ¥òg¹ë®»¶lÙ2lØ09nk,\\¸055õ[n©­­}ûí·7lØ\u0000\u0000'O5kÖôéÓ,Y¢×ë\u007fþùg\u0000XµjÕéÓ§ÿüç?/X° ..nÛ¶m÷ÜsÏÈ#åå\u001c9rä¡\u001eêx!\u0011B¨o¡:rÃ\u0014!®eµµµgÎ\t6í¨¬¬,..&$''gdd\u0004'#8qÂétR\u0014$*((0Í4M\u00193&???99955\u0015\u0000\u0004A8rä\bÃ0\u0014EM2åàÁ)))ò¨¶VñÓO?¥¦¦\u000e\u001a4HþºwïÞôôô`\u001e´}ûö\u0007\u000f.[¶,8D$âW÷W\u000f©®®.,,l>väÈòç¼¼¼ºº:¦333?«Ú>¹¨>Ïb±¨TªñãÇ\u0007¯´ºA¬VkQQ\u0011Çq\u0014E¥¦¦\u0006ÛÇ\u0013BN>-·A\u0018=ztdd$ÇqçÎ³Ûí\u0010F3vìXyá~¿?--íðáÃÁÍ\u0010BW\u0019LÜ\u0011Bèªâõzo»í¶mÛ¶5\u007f\u0007Óµ`Ç\u001d§Nzíµ×z» \b!\u0014.¸#ÐÕ¦°°¦é·¿:dgg§§§'$$ôvA\u0010B(\\0qG\b!\u0010B¨\u000fÀ^e\u0010B\b!\u0010ê\u00030qG\b!\u0010B¨\u000fÀÄ\u001d!\u0010B\b¡>\u0000\u0013w\u0010B\b!ú\u0000LÜ\u0011B\b!\u0010ê\u00030qG\b!\u0010B¨\u000fÀÄ\u001d!\u0010B\b¡>\u0000\u0013w\u0010B\b!ú\u0000LÜ\u0011B\b!\u0010ê\u00030qG\b!\u0010B¨\u000fÀÄ\u001d!\u0010B\b¡>\u0000\u0013w\u0010B\b!ú\u0000LÜ\u0011B\b!\u0010ê\u00030qG\b!\u0010B¨\u000fÀÄ\u001d!\u0010B\b¡>\u0000\u0013w\u0010B\b!ú\u0000LÜ\u0011B\b!\u0010ê\u00030qG\b!\u0010B¨\u000fÀÄ\u001d!\u0010B\b¡>àÿ\u0003Ä¦:&_ly\u0000\u0000\u0000\u0000IEND®B`",
      "text/html": [
       "<img\n",
       "\t\t\n",
       "\t\t\n",
       "\t\tsrc=\"data:image/png;base64,iVBORw0KGgoAAAANSUhEUgAAA+gAAAMgCAIAAAA/et9qAAAgAElEQVR4nOzdd2AUVeIH8Ddb0jsh\n",
       "BAIEpSo1GjoIpyAgCOqd3uGdoGBBUQQFRUVBRbkTf9gOBQucqFiwUhSSgJQYCCSBkJBAet1ke29T\n",
       "f39MWJb0LIlhyPfz1+7slDe7s7PfefPeW0oQBAIAAAAAAFc3WWcXAAAAAAAAWobgDgAAAAAgAQju\n",
       "AAAAAAASgOAOAAAAACABCO4AAAAAABKA4A4AAAAAIAEI7gAAAAAAEoDgDgAAAAAgAQjuAAAAAAAS\n",
       "gOAOAAAAACABCO4AcG2aN29eSkpKa+bMzs5+7LHH4uPjKYqqqanxTGdZdtOmTX/5y1+USuXmzZub\n",
       "WrympubRRx+9/vrr/f39ExISdu7cyXGc+NIXX3xBefFeiUqlWrp0aXh4+MiRI3/++WfP9BMnTsyc\n",
       "OTMwMLBv377/+c9/TCaTOP3bb7+dNWtWSEhI3759N2zYoNfrxekHDx6kLjdr1qx6JXz77bcpijp8\n",
       "+HCLBW7HfWzm3TObzW+99VZcXFx0dPTatWs7bl++//774cOHh4eHP/30096fLACARCk6uwAAAJ3M\n",
       "ZrPdcccdEydOXLhwofd0nuf9/PxefvnlTz/9tJnF5XL5/Pnzly9fHhQUVFFRsWDBgrCwsDlz5oiv\n",
       "Pv/8808++aT4ODg4WHzAMMySJUsmTZpUUFBQWVk5Z86c6OjoSZMmlZWVTZky5X//+98XX3yh0+le\n",
       "fPFFQRBWr15NCElNTX3xxRd79+5tMBjeeeedl156acuWLYSQcePGVVZWego8Y8aMhx9+2Lt42dnZ\n",
       "GRkZnk23WOD22sdm3r0NGzaYTKZjx44FBARs27ZtzZo1H374IUVR7bsvhw8fXr58+e7du3v16rV9\n",
       "+/Zly5Z9/fXXCgV+9QBAygQAAInjeT4jIyMpKSk5OTk3N1ecOHfu3OTk5IKCgqSkpIMHD1qtVnF6\n",
       "VVVVUlKS3W4/fPhwUlKSZyW5ubmEEJVK1XD9K1as+O9//9vKwrz66qvr1q0TH+/YseONN95oOM/x\n",
       "48dDQkJMJpP49H//+9/9998vCMKRI0eUSiXHceL0PXv2zJo1q+HiaWlphBCj0VhvelZWllwur6qq\n",
       "8kyx2+3Tpk3Lz88PDQ39/fffWyxwO+6jR713z2AwUBSVnp4uPlWpVIQQz6fWjvvy17/+9csvvxQf\n",
       "6/X6gICAkydPtn4fAQCuQmgqAwDSxjDMSy+9tHTp0qqqqoqKiuXLl/M8L770/fffr127VqVSvffe\n",
       "eytWrBCnV1RULFy4cOnSpampqadOnfJto8nJyT169GhYknPnzu3du3fcuHGeiUVFRdu2bfvuu+9O\n",
       "nz7tmajVaidPnhweHi4+vf766/fs2cOybP/+/f39/Xfv3u1wOMrLy3fu3LlgwYKGW6dpOjIyMjAw\n",
       "sN70w4cPL168OC4uzjNl586d8+bNGzJkSKN70WiBm9f6fWyKxWIRBCEkJER8GhUVRQhp2I7lCveF\n",
       "pul9+/b169fPs5UJEyZotdpW7iYAwNUJwR0ApO3QoUP79+//9ddfH3rooUWLFh04cEAmqzuzURS1\n",
       "Y8eOhQsXfvrppzt27MjPzxen19TUPPLIIy+99NKLL77o20ajo6OXLVvmPWXWrFl+fn7Dhw+///77\n",
       "b7/9dnGiQqEYNGhQdHR0UVHRhAkTPI1Gqqqq4uPjPcsGBwdbrVaz2RwXF3fkyJHnnnsuODi4X79+\n",
       "UVFR9913X71NW63WjRs3btiwwd/f33u63W7fuHHj/PnzPVMKCwu3bNnSaPRvqsDNa9M+NqVXr17X\n",
       "X3+957M4c+YMIcTpdLbvvhiNRpfL5bk8IITEx8fX1ta2ZjcBAK5aaO0HANKWlJT05JNPihW3hBBP\n",
       "aieE3HPPPWKb5u7du1933XVGo1GcHhkZ2fo65kYlJCQkJCR4T9m5c6fD4SgrK3v88ceHDx9+2223\n",
       "EUI80XPu3Lljx46dOXPmrFmzvGuR69FqtWvXrv3Pf/5zyy236HS6f//73x988MHTTz/tmcHtdr/x\n",
       "xhvXXXddwwh76tQpiqJGjx4tPmUYZt26de+8805YWFij22q0wM1rl31UKpUffvjh3XffXVJSEhYW\n",
       "tnnz5oSEBO9P7c/ZFwAAKUKNOwBIm16v7969e6MvURTleaxQKARBEB+HhYXVS4pXLjIyMi4ubuLE\n",
       "iRs2bFi3bl3DGSZOnMiybHl5OSGkd+/e4gOR3W4PDQ0NDw9PTU2VyWR33313t27dBg8e/PDDD7/w\n",
       "wgtut1ucjWGYN998U6fTvfHGGw3byezcuXPVqlWejpvp6eknTpxwuVzJycnJyckcx2VkZPzxxx+t\n",
       "L/AV7mMzZsyYkZ2dPWrUqP79+6ekpFit1nq7c+X7EhkZGRAQYLPZPPOUl5fHxsa2ZjcBAK5aCO4A\n",
       "IG3jx49v5bCPfw6GYWiabjhdbMYthtHu3bunpqZaLBbxpZKSkjvvvFOhUDidTs/VBSFEEASGYcTH\n",
       "LMtu2LChqKho48aNDSueq6urt23bNmXKFM+UmJiYVatWFV/E87xKpWq0rUhTBb7CfWzewIEDp0+f\n",
       "Pm3atOrq6srKyqFDh7bvvvj5+c2ePdtzCWE0GtPS0pq6wAMAkAo0lQEAabv99tuff/758ePHz5gx\n",
       "gxBy7ty5iRMnete1t8jpdBqNRo1GQwhRq9WCIHTr1k1sQa7RaFiWtdlsZrNZpVL5+flFR0cTQrKy\n",
       "svbu3fvKK6+Ij202W1xcnFwuLy4ufuaZZ1599VVxzTt37hw6dGhUVJRGo9m8efPf//53MaHefPPN\n",
       "U6dO3bJly8KFC6uqqlavXr1r1y5CyJAhQ/bu3fvTTz/dcsster3+s88+e+qpp/z9/QVBePvtt/fs\n",
       "2fPxxx87nU6xRXhMTIxncMMTJ06MHz9+5MiRnp0aNGjQoEGDPE+fe+65uXPnTp06tfkCp6Sk5Ofn\n",
       "P/XUU4QQm832n//855///OeQIUN82Mdm3r3z58/bbLbo6GiVSvXcc899+OGH3j1922tfnnzyyQUL\n",
       "Ftxwww3icJBz5syp17oJAEB6OnNIGwCA9pCXl3f//feHhITExcU9++yzPM8LF4eD9MwzdOjQo0eP\n",
       "CoKQlpYWHx/vvbjn33w8POMGjh8/3nv6/PnzxelJSUkxMTHi49zc3L/97W8xMTGBgYG33HLL999/\n",
       "z7Ks+NLKlSsHDhzo7+9//fXXv/XWW1qt1rPR6urqJ554IjQ0dMSIET/++KNnelJS0tSpU/39/Xv3\n",
       "7v3GG2/o9XpBEDytZbwVFRWJi/A8P3ny5F27djXzFnkPodhMgbdv3z579mzxsfi/SH/88YfP+9jU\n",
       "u3fkyJFRo0YFBASMGzfuhx9+ED+vdt8XQRB27do1bNiwsLCwp556qtGBPgEApIUSvG7LAgAAAADA\n",
       "1Qlt3AEAAAAAJADBHQAAAABAAhDcAQAAAAAkAMEdAAAAAEACENwBAAAAACQAwR0AAAAAQAIQ3AEA\n",
       "AAAAJADBHQAAAABAAhDcAQAAAAAkAMEdAAAAAEACENwBAAAAACQAwR0AAAAAQAIQ3AEAAAAAJADB\n",
       "HQD+VHl5eRRFURSlUChiY2Pvueeen376yW63e2ZYtWoVRVF//PGHZ8r777//8ssve6/k8OHDFEX9\n",
       "+OOP3hM1Gs3rr7/et2/fkJCQESNGvPLKK0aj0XuLHpGRkY2WTRCElJSUe+65JzIyMiIi4t57701O\n",
       "TuZ5vsUyZ2dnP/bYY/Hx8RRF1dTUNFxzRUVFRETE2LFjfXrPWiszM9Oza0ePHi0rK/O89OCDDyYn\n",
       "J3fo1q8G9fa6lXQ63eLFi4ODg6OjozugUHW6yEcAAB0KwR0AOsHp06dVKlVaWtqyZcs+++yzxYsX\n",
       "WywWz6tRUVH//ve/OY5ravGdO3f269fvgw8+EATBM/GZZ56x2+379u0rLi7euXPn0KFDXS6X59X0\n",
       "9PTKi3Jzcxtd7fvvv//YY489+uijWVlZZ8+efeqpp7Zu3arX61sss81mu+OOO15//fVGV8vz/Ftv\n",
       "vTVr1qxWvz0+6tWr144dO8THmzdvLiws9Ly0YMGC/v37d3QBOl29vW6lkydPOhwOjUaj0+k6olQA\n",
       "AO1F0dkFAICuKCoqKiYmJiYm5vrrrx8+fPiECRP27t17//33i68+//zzO3bsOHbs2NSpUxsuW11d\n",
       "vW3btn379t155505OTkjRowghGi12q+++iojI2P48OGEkB49egwbNsx7qdjY2N69ezdTpJycnOXL\n",
       "l2dnZ4srJIT07dt39OjRcrlcq9U2X+aJEycSQs6dO9fomg8cOBAaGjpv3rw1a9Y0OkN1dXVeXt74\n",
       "8eNPnTrFsmy/fv0GDhzoebW8vLywsFAQhLi4uBtvvNEzPT8/v6qqihDi7+8/cuTI8PBwiqICAgII\n",
       "IVlZWWq1OisrixBCUdS0adP8/PxkMhkhpKioqKamZvLkyZ71HDx4cMCAAfHx8eLbePbsWZ7nw8LC\n",
       "Ro8eLS7SsKgTJ048efIkwzCDBw/u27dvbW1tbm4uRVGJiYnh4eHinAzDpKenO51OpVKZmJgYEhLi\n",
       "WXzSpEnp6ekMw9Tbo6b2VKfTnT17luM4f3//UaNGBQUF/f7778OGDevZs6c4Q0VFRUFBQVRUVL29\n",
       "JoQIgpCRkWEymWQy2bBhw3r06FFvj06cOJGWlqZUKtPS0qKjoxMSEppa5MiRI/369XO5XBUVFQEB\n",
       "AePGjZPL5SdPnrRard27dx81apQ4m9Vqzc7OdjqdFEUNHDhQfGPrabFUAACNQo07AHSybt26Pfvs\n",
       "s9u3b/dMiYiIWL9+/fr16xmGaTh/enr6bbfdNmPGjCVLlhw7dkycGBoa2q1bt/T0dO9a9hYlJyd7\n",
       "MlNGRsb06dM9qV0UGBjo5+fXmjI3RaPRPP3000899VQz81RUVCxYsODxxx8vLi4+f/78TTfd5Nmv\n",
       "1NTUYcOGnT59uqSkZNq0aV988YU4/dChQzNmzCguLjaZTPv27RPTanV19X333UcIkcvlhBCxeY8Y\n",
       "vj/99FOxKtput991112eewUVFRW33367OH9ubu6oUaNOnDih0+leffXV9evXe9/Q8My/cOHCZcuW\n",
       "5eTkHD58eOzYscnJyYsWLaqsrNy+ffvjjz/OsiwhxOl0Ll26dOPGjXq9/osvvpg3b55Go/EsvmLF\n",
       "itOnT2dlZSUkJGRmZja/p2fPnh0xYsRvv/1mMpn279+flpamUCj279/v3ezkyy+/PH/+fMO9Zll2\n",
       "zZo169at02q1J0+eHD16dMP6eIWirgJLXKqZRTZt2vT6669v2LChqqrq+eeff//99zdu3Pjbb7/l\n",
       "5+dPmTIlLS1NnO3dd99NTk7W6XQZGRljxozx7KBHa0oFANA4AQDgTyRWS5eXl3tPTE5O7tatm/h4\n",
       "5cqVW7dudTgcN99884EDBwRBeO+999asWSO+yvP81KlTf/75Z0EQxBpQp9MpvnTgwIHo6Ojo6Oj5\n",
       "8+d/88031dXV3ltct27dexd99dVX4ktZWVliPBUE4Yknnnj55Zd9K7NIbIGjUqm8J77yyiu7du0S\n",
       "BCEpKWnMmDGNrl/MfKmpqeLT3bt3Dx8+nGEYl8s1ePBgcWcFQTh58qRSqayqqhIEYcWKFXv27Km3\n",
       "noyMjIiICPHxfffdl5SU5Hlp4cKF4lOe5ydOnHjw4EFx+q5dux588EFBEBiGGTdunGcRs9k8dOjQ\n",
       "zMzMRoualZUlPl28ePGNN95oNBoFQbBYLJGRkeJLe/bsmThxotVqFdf88MMPv/vuu57FMzIyxMU/\n",
       "/vjjFStWCILQ1J7SNH3zzTd/+eWXngJwHCeuZ/jw4TRNC4JgNBojIiJycnIa7nVSUtKdd97pcDjE\n",
       "p99+++1DDz3U8P3/5ptv1q5d2+Iic+fOXbp0KcuygiBkZmbKZLKdO3eKL3399deLFy9uuOZDhw7d\n",
       "e++99T6CVpYKAKAhNJUBgM4nCAJFUd5TAgMDX3vttVdffXXKlCne03NyclJTU3fu3EkISUxM5Dgu\n",
       "IyNj0qRJhJDbb7+9sLAwJyenurp669aty5cvP3bs2IABA8QFBwwYEBMTIz4W25MQQhISEhISEtqr\n",
       "zA2lpaXl5+c3bCFD07TNZhMfi21LwsLCPF1XJ0yYkJOTU1JSQtP0hQsXbrnlFnF6YmJinz59CgsL\n",
       "4+LiJk6cuHbtWo7j+vbtO2zYMKVS2cpiUxS1bNmyr7/++tZbbxUE4b///a/Y8bewsPDEiRM2m81T\n",
       "kx0fH+9p3+/Nu1nI+PHjY2JiIiIiCCGhoaEDBw40m82EkJSUlEceeURsHqNQKP7+97+vXr366aef\n",
       "Fhe/6aabxMWvv/7677//Xtx6o3tqMpkyMzNnzpzp2bpYlZ6YmEhRVGZm5rhx49LT08eNGzd06NCG\n",
       "RU1OTh4yZEhqaqr41GAw/Pjjj9u2bWvm/Wl+kXnz5on1+n379uV53rMjsbGxno4TJSUl77333r59\n",
       "+8xmM8MwnoPtSkoFACBCUxkA6HylpaWeLOhx2223yWSylJQU74mpqal9+vT55ZdftmzZsmPHjvj4\n",
       "+B9++MHzakRExOTJk//xj3/8+uuvI0aM8H5p8uTJ0y/ybuHtkZiYeOLEiSsscz1r164dPXr04cOH\n",
       "k5OTMzMzzWZzcnJybW1tWlpat4uKi4sJIcHBwZ42G2Ledblcbrfb85QQQlFURESE2Gf3nnvu+eCD\n",
       "D4qKih577LHRo0fn5eW1vuRjx47dvn27SqXKzc3Nzs5OTEwkhDgcDuJ1SUMIWb58+aBBgxouHhQU\n",
       "5LlikcvlnuKRi010CCFGo7Fbt27e08URfuotTlGU2LSmqT0VGz6FhobWK4NSqVy1atXu3bsJIZ98\n",
       "8snSpUsbvYhSq9Xey/bv31+8TmhG84t4tiJeP3iaUXl2xOVyzZ07d8yYMenp6Wq1OiUlRXxjr7BU\n",
       "AAAi1LgDQCfT6/WbNm165ZVX6k339/dfu3bt888/f/fdd4tTXC7Xxo0bly9f7hkg5eGHH3700Udf\n",
       "eOEFT226KCAg4MYbb2zTICGJiYmLFi3KyckRu7eKnE6nJ4y2psz1/Otf/3I6nWI0r6mpcbvdxcXF\n",
       "gwcPnjp1quDVfPz48eM1NTVqtVpscF9cXCyTyXr16kXTNCGkqKjohhtuIISYzeYLFy6ImY+iqAkT\n",
       "JkyYMOGZZ5756KOPNm7cWK/BfaPFFsXHx993332nTp1Sq9UrVqwQq/x79+4tk8n69OlTr1OvbxIT\n",
       "E48ePTpnzhzxqUqlGj16dDPzi91MG+5pnz59ZDJZQUFBw1JNnjz50UcfnTlz5v79+7du3SpOrLfX\n",
       "48aNu3DhwvTp01tfch8W8VZeXn7u3Lm//vWv4iWQWq1u900AQFeGGncA6AQGg0Gj0ZSWlh45cuSh\n",
       "hx4aNWqUJ+R5mzJlSlRU1DvvvCM+zcjIsFgsixYt8tSdP/DAAwkJCenp6QaD4ZVXXklLS6uurlap\n",
       "VL/99tsnn3wyY8YMz6rUarXKC8/zhJCsrKzXXntNnGH48OHvvPPO3XffvX///rKysoqKimPHji1Y\n",
       "sEBs+9F8mZ1Op0qlEvtfihsSq5AXLly45KI5c+bExMQsWbKkb9++Dfc0KCho69atOp2upqbms88+\n",
       "e/HFF6Ojo3v16rV69eqtW7dWVVXpdLoPP/zw1ltvFdv2/Prrr3l5eS6XS6PRqNXq6667rt4KBw4c\n",
       "mJeX53a7xT2t58EHH9y8efP//d//3X777eKUHj16vPHGG2+++WZubq7T6aypqTl06FB5eXnrPs/6\n",
       "pk+f/v777x84cMBut2dkZKxatWrJkiXNzN/UnsbExKxfv/6tt946f/680+ksLCwsLS0VF4mPj//n\n",
       "P/+5ePHiZ555xlO7X2+vZ82a9eWXX3711Vd6vd5ut589e/bAgQPNl9yHRbz16NEjPDx87969Docj\n",
       "Ozt79erV7b4JAOjKENwBoBMkJCT06tVr7Nix77777oMPPvjZZ5+FhYU1nE2pVK5Zs8ZgMIhPf/jh\n",
       "h2XLlnk3M5DJZMuWLduyZUtQUFC/fv1efvnlG264YdCgQZs2bfrmm29uu+02z5xjxoyJ82IymQgh\n",
       "er1+8+bNnnmefvrpjz76aOvWraNGjRoxYsQHH3ywZMkSTyhspswnT56Mi4u79dZbxdni4uLOnj3b\n",
       "pjeke/fu48ePnzZt2pAhQ4KCgp599llx+urVq3v16jVmzJiBAwcaDIatW7eKzdlra2sfeeSRmJiY\n",
       "hIQEiqKeeOKJeitcsGDB7t27xXbnDTc3evTo48ePy+Xym2++2TNxxYoVM2fOfOCBB8LDwydNmnTs\n",
       "2LGgoKA27YXHkCFDjhw58vbbb3fr1m3JkiVbtmxpdGRPb03t6YoVKyZPnnzXXXd179598eLF4gcn\n",
       "euCBB4qKimbPnt3UXvfr1y8tLe3o0aMDBgyIjY194YUXWiy5D4t4i4iI+OWXX15//fUePXps3ry5\n",
       "0XsyV7gJAOjKKKHBaF8AAPBnOn78+Pz58334y88uLjU1dfny5SdOnPB0DwAAuLbhZAcAABIjCILZ\n",
       "bP7kk0+ee+45pHYA6DrQVAYAACQmJSWlZ8+ekZGR3u1kAACueWgqAwAAAAAgAahxBwAAAACQAAR3\n",
       "AAAAAAAJQHAHAAAAAJAABHcAAAAAAAlAcAcAAAAAkAAEdwAAAAAACUBwBwAAAACQAAR3AAAAAAAJ\n",
       "QHAHAAAAAJAABHcAAAAAAAno2OD+9ttvUxR1+PDhDt0KAAAAAMA1rwODe3Z2dkZGRnBwcMdtAgAA\n",
       "AACgi+io4O5wOFauXLlu3TqZDK1xAAAAAACuVEel6p07d86bN2/IkCEdtH4AAAAAgC5F0RErLSws\n",
       "3LJly6FDhzpi5QAAAAAAXVD7B3eGYdatW/fOO++EhYW1Zv6amprc3NyG06dPn97eRQMAAAAAkKr2\n",
       "D+7p6eknTpx48MEHk5OTCSEcx2VkZCiVyokTJzY6f8+ePXv27FlvorgsAAAAAACI2j+4x8TErFq1\n",
       "qri4WHzK87xKpaqtrW33DQEAAAAAdB2UIAgduoGwsLDdu3dPnTq1TUslJyejqQwAAAAAgAfGagQA\n",
       "AAAAkIAOGVXGm8Vi6ehNAAAAAABc81DjDgAAAAAgAQjuAAAAAAASgOAOAAAAACABCO4AAAAAABKA\n",
       "4A4AAAAAIAEI7gAAAAAAEoDgDgAAAAAgAQjuAAAAAAASgOAOAAAAACABCO4AAAAAABKA4A4AAAAA\n",
       "IAEI7gAAAAAAEoDgDgAAAAAgAQjuAAAAAAASgOAOAAAAACABCO4AAAAAABKA4A4AAAAAIAEI7gAA\n",
       "AAAAEoDgDgAAAAAgAQjuAAAAAAASgOAOAAAAACABCO4AAF2IIAidXQQAAPARgjsAQBdScdTW2UUA\n",
       "AAAfIbgDAHQhGeu1rIvv7FIAAIAvENwBALoQm4oxl7g7uxQAAOALBHcAgC5EoAWeQzN3AABJQnAH\n",
       "AOhCeEbg2c4uBAAA+ATBHQCgC+EZghp3AACJQnAHAOhCBAZNZQAApArBHQCgC+ER3AEAJAvBHQCg\n",
       "CxEYwvMI7gAAkoTgDgDQhfCMgOAOACBRCO4AAF2GgBp3AAAJQ3AHAOgqeF4gAhEQ3AEApAnBHQCg\n",
       "qxBYgRCC3A4AIFEI7gAAXQXPEUIILyC5AwBIEoI7AEBXcbHGHcEdAECSENwBALoKgSOEEIEguAMA\n",
       "SBKCOwBAVyH+9RKP4A4AIE0I7gAAXYUgBncWwR0AQJIQ3AEAugqxcyrnRnAHAJAkBHcAgK5CrHHn\n",
       "XAjuAACShOAOANBV1A0HieAOACBNCO4AAF0FatwBACQNwR0AoKtAcAcAkDQEdwCAroLnCUFwBwCQ\n",
       "LAR3AICuoq7G3YngDgAgSQjuAABdhcATgs6pAACSheAOANBV8DzauAMASBiCOwBAVyGIf8CE4A4A\n",
       "IE0I7gAAXYWAGncAAClDcAcA6CrE4M67EdwBACQJwR0AoKvAcJAAAJKG4A4A0FUIAprKAABImKIj\n",
       "Vmq1Ws+ePetwOCiKGjBgQL9+/TpiKwAA0CYYDhIAQNI6pMb9xhtvfPnll0+dOvXVV18NHjz4t99+\n",
       "64itAABAm6DGHQBA0jqkxn3fvn0jRowQH996662PPPJISUmJn59fR2wLAABaSRzHHTXuAAAS1SE1\n",
       "7p7UTggZMmRIdXW1zWbriA0BAEDrCQIhqHEHAJCsDu+cmpGRMXfu3KioqI7eEAAANE9sKoMadwAA\n",
       "ieqQpjIeJ06cWLly5alTp5qZp6amJjc3t0OLAQAABDXuAAAS14HBPScnZ/bs2b/++uuNN97YzGw9\n",
       "e/bs2bNnvYnJyckdVzAAgK4JNe4AAJLWUU1l8vLypk+f/tVXX02ZMqWDNgEAAG0i1rgjuAMASFSH\n",
       "BPeCgoLbb799y5YtM2fO7Ij1AwCAD+pq3N11DwAAQFrav6kMy7KzZs3q2bNnRUXF+++/L06cP39+\n",
       "9+7d231bAADQep60zjOC3I/qzKIAAEDbtX9wpyhqy5Yt9Tej6NhesAAA0CJPRTtPEzn+WgMAQGra\n",
       "P0/L5fLp06e3+2oBAOAK8Rfr3DlGUHZuUQAAoO06fBx3AAC4Sng3lenMcgAAgE8Q3AEAugrhYnTn\n",
       "WQR3AADpQXAHAOgqPGPJoMYdAECKENwBALoKgUWNOwCAhCG4AwB0FZ6KdgR3AAApQnAHAOgqeKbu\n",
       "AYemMgAAEoTgDgDQVXhq3Fma79ySAACADxDcAQC6CsET3N0I7gAA0oPgDgDQVXD0xQdoKgMAIEEI\n",
       "7gAAXcWlGncWNe4AANKD4A4A0FV4OqeyPII7AID0ILgDAHQVlzqnCgjuAADSg+AOANBV8OicCgAg\n",
       "ZQjuAABdBU/XBXfayHVuSQAAwAcI7gAAXYVwsY07bUCNOwCA9CC4AwB0FZ6mMrQRwR0AQHquheDO\n",
       "sxiQGACgZQjuAACSdi0Ed3MR3fJMAABdnmc4SAR3AAApuhaCuyHf1dlFAACQAM8fMHVWG3fWhQsG\n",
       "AADfXRPBvdDd2UUAAJCAdqlx9z18C8RcikLRGeEAACAASURBVNM1AIDvroXgbqx0CQKauQMAtMAz\n",
       "HCRzBcHdVORj+OZowapjWp4PAACacC0Ed4eOdWoxJjEAQAs8XfmvpMZdd9rH1omsk7c70SUJAMB3\n",
       "10Jwp/W8TY0fAwCAFvAXz5SMyffgrvU5uLt4cynO1QAAvrsWgrtbxzlMbGeXAgDgaufpnCq4BM7t\n",
       "YwtDfY6PwZ1zCcbTCO4AAL67FoI7reMdLrSbBABogWccd0IIY/OlhSHr4k0VPrZxZ9286QyCOwCA\n",
       "766J4K7nHUbUuAMAtEDwquJgHL60lrFWMbTex2Y2HC1YzjE8h7EEAAB8JPngzrl53iHQenROBQBo\n",
       "gWdUGUII4/Qlf9u0NGPiBd6X8M3SPG8TXDhdAwD4SvLBnbbyhBC3rzVAAABdh2dUGXJxOHaHrm23\n",
       "K50OlnCEcfgS3DlWIIQwdpyuAQB8JPngLv4GuFGFAwDQEt6rhTnt5AkhpUmWNq2B43lCCOtT+OYY\n",
       "nhDC+lTTDwAA5NoJ7jr8EgAAtEDw6pxKuzhCSMHn5jatgRV4Qghj96WuhOMEQgjjQj0LAICPJB/c\n",
       "xd8etHEHAGiRd79ShuUIIeoTDmtVG0Z6oS088bV9PMfxhBCWRj0LAICPJB/cxWaaPo9yAADQRQgC\n",
       "oXWX6jgYjmddPGcRjG0Z3lFsl8i4fAruvEAIYWmMKgMA4CPJB3eGQXAHAGgZa+d4r79Ocls42sQR\n",
       "Qhi6DXcsaYPvteacwBNCWBY3SAEAfCT54M6yCO4AAC1zWy47TzprOLeVIxfPoq1diYEjvgZ3XhAI\n",
       "ISyP0zUAgI+kH9zFIQ7MPP7UAwCgGfTlf5XqrGFpO08u9jdt7UrEGnfOl/DNOsTN4VwtVdWpts4u\n",
       "AkBXJ73gzl7etlLsX0UEwthQiwMA0CT68jEcXTUc7eAIIXRb/kKVuYLgzlgF4mvHVrganNyk0Z13\n",
       "dnYpALo06QV3+vK7vS5t3VMEdwCAZjDOy2rcXbUcTXOEELeuDY3OxX+7a1Ml/aUCWHlCCG1AG3ep\n",
       "cqpZU00bujIDQLuTYHA3X363V1X3t3+MAz8GAABNoun6Ne4MyxNCXNo2nDzFGncxgrcVY+EJIW4D\n",
       "Klmkyq3mfbvZAgDtRXrB3W28vNKopu4pbr8CADSj3nAurlqO4ThCiLstwV1s4+72qdZcbCpDI7hL\n",
       "llvD+XazBQDai/SCO22qPzCC+MC3cYUBALoI5vLIRWt5Ry1LCHFr29LG3ciTiw1m2opFUxkp49w8\n",
       "ZxVQRwbQuaQX3MXxyzw8Ne6sG2cTAIAmuS2XJ2aeGLNp0pYad9bF8y6BEOJU+RK+WYsY3HGuliS3\n",
       "uUtfd7G4YoGrg/SCe70RzVwXfz+YtgxFDADQ1bjU9SOX6TRNCHHrWnvyZC6OS+OoYH0oAJrKSBpt\n",
       "5YivN1ukjmcFUwl65cJVQXrBnfEeuUy49FOEHjMAAM1oGNzNOTQhhNa0tg7VE9ydlb4E94tNZXw/\n",
       "V2MI+E5E29s8BtE1w6llnVZfjnlolNvcFY+i9iK94E57/Ts34+B5e92JHD1m4Kpir2U6uwgAl2kY\n",
       "3Fm9QNpS485erDdxVPrUOdXCk4vj0vjGeB61np1GbN3eNf+n3K5laBeyZrsxl9KdXQQJk15w924S\n",
       "4zZdFuI7ozgAjbuwx9TZRQC4jFvT+EmSdwhs6zr3e8YAYLQ81/ZuRazYVMbo+7m66hD+ubPT0O6O\n",
       "bSrD2H05qP4cDjNLswju7cZcjODuO+kFd1bgea6ult27o6q1CBWccLWgrVzhtwjucHVxqZu810+3\n",
       "blx27zEAXG3vpCg2lWHNvMD52OSl+pDdtwXhyjFMx3ZO1V9wWiqu0jzncjPidQu0C3Mxbp35TnrB\n",
       "nXj994fY5E5kyMBxAFcLU5lbd8RdfxCPdsI4+OMfq2grfkWgDXhWcFQ1ecwwtlYdTozXXzi5vG54\n",
       "0q041HlWqKtrFy61lW8TgROqU+1o5t5ZGJ4jHdlUxqB1WTRXaXC3m1hHDU657cZccpV+0JIgyeDu\n",
       "yUO01z94GzM7/DjQnHN09Cbg2mDRuQlLtPkdcsCYSt1ZjxlU2WgzAG1Qe8burmgyedCtS9Ksd0tF\n",
       "r756qrMtV4RbymneVhe6vUN/69lUjFvDufToI9g5xIZSdKt7RLTIXObm2UvXYTVpDpv9Ks1zlguM\n",
       "owoHXrsxl1+lH7QkSDK4eyqHvDuqOorYDq2DdBrYXx+ooFtXLwVXJ0v1n3SyMGloQkhJmqUjVm7R\n",
       "ugkhZcetnimCIGCMYWheaXpzR2Mr/1VHe8HpeezyqjdRF9lbrEQ31Vy6KWqscLVmc/VYamlCiA3d\n",
       "vjuJS8MRsYtCO930MFW7zWWXzsmqvQ5jwVWa5yznGWfTN6ygrWzVTCv71UBDkgzu9MXfGMZ7CEiB\n",
       "WCo78Dtfk2u3n2arMlHNKWHZP+jKOiZM16M55iSE5L9pcmjYgoNGW217HpkWI00IKf7Y6qmsKkgy\n",
       "1p7F7SBoEs8K5983NzND9vfaylPWZmYghDgN7NlXDJ6nNHMpx2hT3baWroot5kvB3aBpVXCv99Nu\n",
       "tzCEELsRwb1zONUcIURwtbYrc4vsDsakqjsSHFrWksUYTl6lTV4tebQTNe7tx6Xi3D7ddgMi1eDu\n",
       "4ggh2nPOmtOX3Z+16jrwhF6ZbiWEGFv3ewNXJ/0J14UfO7zPqCAINb85CSGsTvh6TGHytOqsndp2\n",
       "XL8u3UUIcRVx2lwnIcShZY4uqTXqcWRCk7TnnK6C5n4mS96y7R5Tnv+bobl50s2s9lJdq9sruOvS\n",
       "XDZ9C6dfXcalQ1SV0sh1psAJtTmXndKz3r3si2PW0IQQpxvBvXN4kittu6Lg7rk9aCp2m411SV1b\n",
       "4CCEXJ3BnbFxlrOMsxpBs31wbp7R8x03lPs1P0i8JIO78YJ79xOl3w0rPv/8ZbWndkdH1bjzjFD0\n",
       "sZUQoj5cd6dY3YoKzoojLdRgwZ/MkO6uTerwmmlzKe0qqTtxuMo5QkjhRxaeabcuddo/6gJQdYGN\n",
       "EJL2US1dxquPOxvOqTpld2pZxzXfJhi9FVtSfaFVtwrzPjU282r53stOaE5V3XHlNnP2fNbhYAgh\n",
       "LkOTB5v22KXgXpvkbPipVWXaio9eui1AW7ms13V2zaWYrjnqJISYr9aBR655urS6VM361LfYoyzd\n",
       "IjasMmS4Ncfrjgq9ykkIsRewV2FFrKHITVjirL7WT6R/FvEjdndMw2Paxufs1nXEmq8ekgzufzys\n",
       "rvyokb5Q1Yc7KpOpTttdRRwhRPO7ixBiKHSlPF0l8C3khbTXapv5GZMuQ4lL0zHdLjuUy8g6Szhb\n",
       "DuvUduyHoquon6FdRVxtK3rvtQZHC+asuuBS/KWl5Ij5wlozEZPQ5Ywlrp/GlW6LOX9yW227bPqq\n",
       "pT3nTH1H5d3LzUPghT+tY8PVrHhHq1qI1f7oNJc3XuXJ0ULl95cdw7ayuu+RqcxNCLEZGUJIzj59\n",
       "o9VdLhNnOHnpg3AVc9aq+p9L/s/Gil2XNqHJc3IOoTT9UpTXHXMRQlS/NXKN2tX4NizPlXBbOOvZ\n",
       "uosoxsExDt5c5WPteMUfVm2egxBiyKA1v9d9mlW/OQghRCC6C1fd52vSuwghrLHd2gh1ceL4It6D\n",
       "i7Qjda49f7NJuKYHn5JkcG+qgq34fYt39Yzo8L+r9jxS6ryyAF12sV+XPZ916ticPXrTYVrVbHt3\n",
       "Y7Fbf8hdnSPtNvENj36BF365syx7p/SuaD3d2PXFHfXDIP57iKawkauarC+19a70fOtOqj/v5C+u\n",
       "XrPPdXBBtfjYnEF7AlP61tqUdRUZX2kITwgh5980u4zX4AWkR2mmOfsZQ8Y2dcOXLuw3fjel2FJ5\n",
       "Nd5//9PQFk6zv7UtqQqPNN6WTHvOwWouO4A9N68sejchxHiW5hkhd6NRX9DI9+v8AQNvvWxxXell\n",
       "s3FuvvRTq+GY23nxBpG2ykEIyf+0rjxuE2c7xxJCNClOjr6Wf5VbdH6v4ei/qxt9yaFjq091yI+O\n",
       "qcTt+eVlXPyvT5adeL+Rb1yLBIFUfG3Xqhycm7flMeaTTM0ZO88KtRevx3Saqy64687XfX18+O+C\n",
       "9sW6+NxfdYYSaTeMdFt5cvngIu2otthuSWc0uVfdUdSOOiq4f//998OHDw8PD3/66adramo6aCv1\n",
       "CE5yIcnonTXz9xjOvWCq+NT+2/PlPt+AM5a6ctdduoP8++rq3GeNhJD8fUZCSOEBY6NXBSUnTISQ\n",
       "3F8MRsl+x8qPW8pS61fUGQpcjjy2aJPFoWUIIc20AOFo4dj6at7Xf1rx5jZzV/5Tbb3YmFKv7pBP\n",
       "RHve8f2/ivP26s+92Uj0KX/Xfn5f3VFUdcLG0cKP/yg5v8/Q1rHeNVVeVwU8oSt4z+PyUxZCiCbX\n",
       "kbFEd+FVS8ErdZ8dZxJKjjfXMfHKmSvcNe10S6GtOBef/4GZEHJqia4i3UoIYRz8/lXlX40v+PGe\n",
       "kiMLatzFXGWuj1GmxbtqHaEizWIqcdsvjp1iq6VNJXWHrqbInpesb1g9QQjh3ILL2PixpC9ykVYf\n",
       "Zadf1rvNXL3KkYpMy/EP69+3MZ9kbCqGEGJSuwkh6j8c+1eXO3JYg+7S94u2cL9vqEpaU575Sv1L\n",
       "fV3lZb+s6lwnqxUIT879rOcZwVTpznxeRwjR7HaJp1Bjad1qOZNgKHRZa+i9S8p0Rdfyz3Oj1HmO\n",
       "Q39TFW+zNvono0ffqt79l3JbTfvfZTIbLl39qo45qrY7Sj+1+jDMmrHIZT/HVuy1n/1WJzCEEJL5\n",
       "mfbIW9VMbd3u1Ov/IAhCp3wNvdUm1x1mmsLO/P8vgRcOrq88Mrv2TLt2mvrziXXtlw0u0jotHgkC\n",
       "JxR9YSWEnNut961sktAhwf3w4cPLly///PPPL1y4EBsbu2zZMpb9kyr8jj+g+fGBEp4RWCdfsN94\n",
       "+B8qcXrNp859y8u8QyTPCtnfaMv+sNAWTpvrbCrWOw3s/uUVnOHSgqWf1TX0LPw/qyrdnjyn+ujG\n",
       "+pUftJU7vVZPCKl6x/FtYrE672pvWNLwjww5N3/0+Zo/1taKAd2jttRBCOEdJGun1lJNfzmu4Owe\n",
       "rdivqJ68vfqzLxvTt9RWpFloK1dw0FgvpDoNrHc+4BnBUk7Xq+OvOWv/6d6S7f3On2+221zdCvXs\n",
       "7gdLdYVOgRc0uZcVya5hznxe901OvUv9vzHn7RpGfdbRpusBQRCaug6hbdyhl6t137t/v7OGLmv8\n",
       "fJS6tNZey+R+p/tlfNmP84q1u10H56i+nV3Uph+/ygNN/nJkvq3jWeHsj42csHK31F0zVKZby49b\n",
       "Gt6zYux86RGzuHemUnd+kt7ZlpbxJ7bUHnqu+s+5j6wtdKiybLk/6469W/3d3KItgXm2TIYQQgSS\n",
       "sqjKUk1fSDYUv201naBrfnKweoEQUv5bk71NVKdtGd+pVWcbT/bHNzTZyqjod9PZXVqOFgRBUJ91\n",
       "qDLsnFsghHC0UP+gakvqqDxp3TO54qv+hf/reWHf02UONfPzA6W7phTb1Qzr4g8srvr99prP+174\n",
       "ZkahWF/g+bqc26f/LCr/x/uLT35RI7bQ015wqPMdhBCToQ1XqnQF/+Pckl3/KPLcpREE4djKWtWn\n",
       "jURk8eaS2HjddIgp3WQjhNSmOQghnJvX5zsPvFyR96Kp8A1rw66x1fschBCngT31iZoQUltc9xGk\n",
       "P6z9LD5/16Rid3Hd4STeBPAOjuoix6/Lysu32nbfU+bdHFHghd/XV3kifpto8h1FB+suuW3VjEPD\n",
       "is1RBE5wqNuzOyzj4K9kWOHj/64V3IRR8TXZDtbFa89d+ly0eY7ijVbeLpz+VtvuTQUMXiN4nv1E\n",
       "TwjhjII4ZkObgnVJupkQUvGpPW2hRpxS/l9b3kuXKjtU+xyewmsvOD6Oyd85rVCd32mJWXXGpt5f\n",
       "9yaf+j+twAueVnl5u/XfzSyqaHag1aa4LfUvjxvFc5euW0qOmIvesBJCzq83G8ukWiFICKFplhDi\n",
       "dlz2E2Moc/58f0kzNVmaPMcnvfN1+c1dqxf9bjIccBNCzr9utjRojCcqPW4uTevYmqyOJl+3bl27\n",
       "r3TlypVPPfXUjBkzQkJChg4dumTJklmzZsXFxbV+DSUlJf3792/0pfI0qya5uUPWlsMKPYXjm2pz\n",
       "XzIKXudbWzYb/Rf/qH4BhBDtBcfeR8svvGEu3G7O2qA795Ex72djr6lBITF+hBCBEwSBUDLKrmF+\n",
       "XVmu+67x++wCTUqSLJxRMBynBz0QFhCpIISwLl6moLK/05Vtq/sdElyk8Gdz0GA5a+VN5W5Tudul\n",
       "Y4NjlRRFtf4N6TiCQHR5zqSXK3vfFOwfJvdMLz9uyX3V6C7js9/RW2XumCFBfsFyQkjG+xrTSZoQ\n",
       "ok5xagwOw6/uiq/t53ea/AZTVadtuV8ZeiUEK4NkhJDDz1Q7iriaX50F28xnNumKt1tzPjfkfKK3\n",
       "Cm6XjS0+ajowt0prdPIUHxCk4BmS/FrFkXtrjJxLfcER0dOPklHn9ugP3ldtzmAEF6nJcIYOUwSG\n",
       "KpVBMoeOLfzD6DZxYb38aRunyrS7DZy+xHVyh7r8v/b87abqQtuJJzR8H46x8QFBigvJhgPzq8yH\n",
       "Lh0NjIo/v9t09g1DZZm1z7gQ/1B5gzemEVWnbHv/VSZECIGBiuos2547ygr2mFR5NpuLPvOFVvVJ\n",
       "C5V/nEU4t91Y8oWVEGIvujg+QwXvCGMCgxWhPf3qzV+bZzeWuoOjlOXpluydOredVchkJ1arOUvj\n",
       "53tnMZezw6D+uZFiOArY3ncEV2fa9k+vKvjMXHbcUnbC0md8iDJQRghhHPzup0pPL9fX1tqz/k97\n",
       "8hlt6Ze2c18b8j43nFyrCR2u6DYgUFxP7g86u46xaZjqXJu6wFFbYOesQt5uQ+5qk6uYi5ikjL44\n",
       "Zz08K2jOOm1quiTVEjMkkKIobZ6zKtt67ge9QAmRfQKaf+s8XEb2l3+UZa8xlH9rUx9wOQouO/Wz\n",
       "WqEkzVydZGfUl71F9nJ21LJoipCa0/bQXpfe59wf9PunV1XvchTsMMXdGRTao+4lWzUtD5BVHLUe\n",
       "XVjb//6woG4KQoggCKZit72G8Q+XE4oceLTywluWouPmMx/qz7ysP/+JKe9nQ/kRa9oa9en3tCSK\n",
       "Dw5T6ktcv79SVZ5h7Tms7uvTyDvDCBmfa7pdF6gIkNXm2vfdUeFpUmJKp/O+MDpyOM4i1Bodpfst\n",
       "mp9chBDCEWcxZ6Sc/gHyo/9Rhcf7+QcrDjxQwWgEWy6r+smpczmJn3BwierCDtPgv0cUJZs1SW34\n",
       "mXeWc/ZzLB3F9psYRghRn3WcXt149VXIWEXfxNDjL6hpzaVrNoeOjZ0UlP6J+sh9teb0JiOvs5a9\n",
       "aUX3M99qTz2iU1fYy360MTV1K+FsAme+9AlqjjsH3Rt+apvWeqpubVXJdnsmSwhhNYI7gr1ucpg4\n",
       "/cJ+48mHtTU19utuCWNsvDJQRijS6JnWWOaqybErFXK5PyVTULpC5w8TS0u+t/aeGWzXsd8MLTr9\n",
       "b13+XoPbj015qDrjRa3O4LAz9Nlt+lNvahxyxqlnS0+ZM9/WMnIuJFKpDJZbyt1+YXKKohxaNvsH\n",
       "bXA3ZUCYghDCuXmZ4rICpG+tPfp8TXRCQFiDrzxHC9ZKmvCkOsum8Jf5hdQdM4JAxJ2wq5lji2rF\n",
       "JnBlB62Z/9bmvmtQDCQVGRZTtfvQIpV4pao+4DJxrl4jQ8RTMc8KBcnGlCerAuPkUdc1+V3jOYGj\n",
       "hXqlFVlVdPp/NK7CulDFaOs+qZKfrXZCH3m0JuQGRXhvf5m8/rK0lavOtAd3V8oUlMALAkuSHqxi\n",
       "1M1d4bNGIf6e0JAeSkOJa9+D5a4LnKuMK9pr6XdnSFCUUpzHqWWVwa2qdjSWuor/MHXrF9iwbK1h\n",
       "UdE/zyxldXVHo6OAy/3SUHTcFNxTWZxiTp2vdhSzNXmOof+MIoScTzIWJpnCe/jzjCC+803h3Pzu\n",
       "paXqAjtD81F9AyhZ/bLZahlrFV2YbNo7p7zkhCVykB9t4w8uq6IreUII4Uj5GWtQX7m+zGUsc1f8\n",
       "YY0dEUwIsanp1E2qgG7y0Ji6Q0vgheaThkPHlqdbTBXutE21AVHy8N7+PrxLbVWVa6v42m6zsd1H\n",
       "BIRcLGrKS1VV2x2KQVRcQkijS6VuUun2u2X9Sc9hwdo8p6ncLfeTXTqvCqT4iOnoU7V1I19xxEA7\n",
       "B06L8P7cjYWu8jRL0u3VZQdsQx+KVAS2reaatnIFR42hkX5tXZBnBIeebeonwAdUu1+X0zQdHh6e\n",
       "kpIyceJEccptt9327LPP3nHHHa1fSXJy8vTp0xt96ejb1Tmrmhv6oBmhExWxE4M4O1+2w16vwSUh\n",
       "RNlLNi8lnmfI7tvKwif6xc8OOf+R2XG6VfWON6wPv/WlPjwr/PDXkoH3haUtVgvNtqodtC5s7KLY\n",
       "sD71T9x/vuxvtKnz1YSQcV91v/n+Hp7pex8vLd9yqZIj8AZ5wpvdrCVMznPG5m+7D3ghdMab8ZZK\n",
       "+ou+BT6XKvpef4El+p/qv4khYxT97gst3GpxF3KEkNCRSsbNu85fUVM5Zaws7q6ghEejDZWu4Eil\n",
       "jKIYhu89KkS8EiOEOPWsQ8MGRMp/W16u/vZiAJIR0o71yxSZuKPH4BmRMj/q9E5NXGJIZO+AH+8r\n",
       "saYyhOqoUVMCBsuvXxjabaR/wQ7zpf1qzIAXQqesitMVO/dMKefdpKkDIHyK8tZ3elsN9HVjwvxC\n",
       "5YQQp47VXHBUnbGV77YZk+rqPwasCe2dEHJkfo1wsUJkwHOhof2UuuNu2sD1mBY4+NbIc7sNw++L\n",
       "ih4UJM7g0LGBUXJVtv3Awkpnji8f9+iPowlPTi3RTd4VO+Jv0YSQ2lz7jzeVeq7to2b6/X3PQJmC\n",
       "Kj1m3j+7ijCEdwmEkNHbosc8FEsIOf5hTdZSPSFEEUMF91Ga2/RXzTISMdYv/v6Qvgkh0YMDg6KV\n",
       "RCCsk5cHyjK3q9MXawOHywcuDst90ci3/eac//UyIlDu0sbfllH/jare7dC2JbiLqADyQNGg0Di/\n",
       "g+srz7/ceAWV//Wyv/8+YEe/At8O0W5T/A1/uIVWnGL9ustobZPft7uy+sUlhHBu/qspBdZ0ViwY\n",
       "U8sPfD7MXsuqdjj7PRzsNvDdRwfEjQqRySltkePkkzrxJ0AZK+txW6DhnNtxhiWEEIooY2WeS4jW\n",
       "oPxJz7lBNT87omcHUDTRJrsEhih7yfr9M0Sf5TYcdv9lV88eQ4INtU4Xw2qOu86/ZiY8ITIS1F8x\n",
       "4oXI8L5+2f81KCNlPaYEVCbZ1TtdlD8R3CRkvOLu764L6+1flWEtTrJMeTGOEHL+gOHgTFUrC+bf\n",
       "XzboyXC3hqv8we4U73hQ5LqnQ+JuD/JTypVyea/hwX4hcmslTdt5bbnj9Ea9q5zrcWtgj78E9hwY\n",
       "ZNUzZ97U03reP1pmucBwxhY+Y//r5P3+FRI7IdDfT263MP1HR2gLnUdX1tgz2fApym7DA6p/c/gF\n",
       "yqy5Ld++uGF9+Mi/R38/rkS8DhEF3iAf/Xa0uYgxnndXfGQPH+s38OGwfolhtZW26F5BcTeHCIJQ\n",
       "lmrhWEGhlPUdHypwJH+vPvUhNWcR4p8Jjr4xwJzPjHkyJry3v72WcehYjhFihgcqApoMYW4Lt++Z\n",
       "sprPWm6O1Wt+EC8Itd/UzansJbtjT5/eN4USQnhOqHfNIPDCkbeqz71Qd5Nh1LtR8WPDClKMVd84\n",
       "nNVs8GBlcLxCneys/4YrCGn6mzLi/yJ7J4YcebbGnsHKw6kZu/v0TgzJ+VF3aqVOHkwNey4i4R8x\n",
       "hBD/8Muyo67Iuffv5fasS+uNmOQ38399uvUP5Gjh1Ke1AkVihwaHRis5VrDpaV4QeEGI6BHQY1gQ\n",
       "6+AdOlZf4cz/xujfQ37jHVFRAwL8w+WafEfOt3q3nht8b8R1E8LF60DaxtXmOs7/ZJy6Jk4ZIv/2\n",
       "jkL9/rof9xvWhU95obc6x/5TYhkhhMhIwrtR45b0lCkpQoip0l15zmIpZqxFTPH7VsITeRQVcJ1c\n",
       "vG4PGCwf9VqUMlAmsMRaRmc/Uz8ZXrcyZNjd3Yw6p72WY118znKj50wVvyI4NFbJWIWbFnaPGhBg\n",
       "LHIpAmWhcX6EEFOpW1/uDOvuHxihqC2y64qdkX39B06NzNihPrVY1/vJoNte6iN2UYu4ru46x6ll\n",
       "WRevCJJZKmlFENVtUKC9lnEZuYBIOW3nTn+nHXBLRN+JoU1+fm3U/sFdrVbHxsaeOXNm5MiR4pRF\n",
       "ixZNmjRp0aJFrV9JBwX3FiliKEWErPkBj5sy47felhr6+CJNK+en/MnE//UYOq+bIlDmNnMyBSX3\n",
       "oyg5aXjxXY/ACy3O0xp2NaPOdyTdUyWeIAKHyWf8r49/oDznZ51qt9N0ivY5mM5K6mPRuv/4Z2vf\n",
       "iquQ/0D5iJcia084DEdoZxXX8DKvqwkZp7Bns0LrWhQHjVQMXhKmz3ZXfGz3+SiSBZHRm7uP+Gu0\n",
       "08juWVQWfoNf9U6Hd6M13yh7yu7PHMDQ/M/zSh3Zl33TJ2yPiRkatOf2cs50aSuyYOre09dzTuGH\n",
       "MSXNX423UtSdfolPd898W2fOoiMS/XS/dmzHWVkQIQLhfWoKHv9s8Kh7uv8yuayZD7HPv4Irv+zM\n",
       "hr+EkJAJiru+vi73J/2Z5S03qJOQ0MnKkUuj0hapeQeZ/E1s98GBBx6ptGe0W7tTRTRFyanm6787\n",
       "hSyIhCQqLUfb0EKp572BinBZ5ad1h2LoTUrGzLuK6/+UU0oi8JeqHoKGKxQKSh5I+UXIXVqu2wS/\n",
       "gO4KnhYCesgJIcVfW6ypPr7bimhq2te9Mz7UGA/TI9+ISlzYQ6yD52gh7QPV2ZUdlWEuFSCKYr3P\n",
       "lgpCeDLw+bAJT/cM6aHkaKHiuCXlX9V0Vf1PXxkr84+U2YtZoemqCcqPNHy1+/yAG/8aefT+SzUy\n",
       "gQPkIf2UlvOM++KfzvZeGjTyruh9s1CtGgAAIABJREFU0yu8F4xbHFT7vdP7JtuANaETnuhprnIn\n",
       "La7yraam9SgF6f3P4KqddoEhYTcrQ65T1vziEBocev1fDC37yCaGJSqACAwhPJEFUIQQQhHe4fVW\n",
       "y0hAX7mr7LJi35kaf00F95qamtzc3HoTBw0aFB8f3+j89lqmrf35rmZyP0qulNF2jqIIEYgiSOYX\n",
       "LGfdvDJE5hci51w8xwg8I1AU5Rcu42jBUcsKhIT2URJC3EaOsfOUnCiD5bSVk8kpeQAlcCSwm5xQ\n",
       "hLbwbgtHyamgaLnc/7JKBc7NM3beqWts/DyAq4kiQMa52rlvGkUIpaAaHT7yTyuDVFAUkcS4anIl\n",
       "xbXfXyUAtK+g7oqASAURiFPPXuEYd1JHUa2KnVI587RSSC+lp+XblVO014o8IiMjAwICbLZLnb3K\n",
       "y8v/9re/NTV/z549e/bs2fr1B8cqg2OVV1TEq9Fle+RP6j5geYBM7tUiURFAhfW71LomMFoRGF33\n",
       "OCCy/jHhHyH3j2j8QJH7y+T+soCo9v/0AQAAoBGU+KuNX164Iu0/qoyfn9/s2bPLy8vFp0ajMS0t\n",
       "rXv37u2+IQAAAACArqNDrvyefPLJBQsW3HDDDb169dq+ffucOXMSEhI6YkMAAAAAAF1Eh4zjPnXq\n",
       "1E2bNi1YsGDQoEEqler9999XKHBvCAAAAADAd+3fORUAAAAAANpdh9S4AwAAAABA+0JwBwAAAACQ\n",
       "AAR3AAAAAAAJQHAHAAAAAJAABHcAAAAAAAlAcAcAAAAAkAAEdwAAAAAACUBwBwAAAACQAAR3AAAA\n",
       "AAAJQHAHAAAAAJAABHcAAAAAAAlAcAcAAAAAkAAEdwAAAAAACUBwBwAAAACQAAR3AAAAAAAJQHAH\n",
       "AAAAAJAABHcAAAAAAAlAcAcAAAAAkAAEdwAAAAAACUBwBwAAAACQAAR3AAAAAAAJQHAHAAAAAJAA\n",
       "BHcAAAAAAAlAcAcAAAAAkAAEdwAAAAAACUBwBwAAAACQAAR3AAAAAAAJQHAHAAAAAJAABHcAAAAA\n",
       "AAlAcAcAAAAAkAAEdwDoKlatWkVRFEVRoaGho0aNev311/Py8jyv5uXlURR199138zwvTlGpVBRF\n",
       "FRQUeOYRBGHSpEl9+vRxOBzea05JSZk+fXpQUFCvXr3uueeegwcP1tuiR3JycsOCzZs3LyUlpd33\n",
       "9+jRo2VlZZ6nDz74YKNbb3cqlcq3Df3yyy+DBg2SyWQdV87MzMzIyMgOWjkAQEdDcAeALmTdunUa\n",
       "jebChQuff/55dHT0yJEj9+/f7z3D0aNHU1NTm1o8Ozs7KytLLpdnZGR4Jp46dWrevHnPPPNMQUFB\n",
       "enr6ihUrbDab59U1a9ZUehk3blxH7FejNm/eXFhY6Hm6YMGC/v37/wnbraqqmj9/fluXYln2oYce\n",
       "2rJlC8dx06dP74iCAQBInaKzCwAA8OcJDg7u3r07IaRXr14jR44MCgpavHhxXl5eeHi4OMNLL730\n",
       "5ptvTpgwQaFo5PR45MiRJ554on///t99990tt9wiTjxz5sy99947a9Ys8WmfPn28FwkPD+/du3fr\n",
       "S1hdXZ2Xlzd8+PDY2FitVnv27Fme58PCwkaPHi2TyTwzTJw48dSpUzRNT58+3Wq1ZmdnO51OiqIG\n",
       "DhwYHx9PCMnKylKr1VlZWYQQiqKmTZvm5+cnrkHckX79+tE0XVZWJpfLx4wZExISIr7EMEx6errT\n",
       "6VQqlYmJiZ7pgiBkZWUZDAaKonr27Dl06NDi4mKVSjV58mRP4Q8ePBgVFZWens4wjFhrPmjQILE8\n",
       "je6Lh1arPX78uNForKysTElJGTNmTHh4ePO7f/LkSYZhBg8e3Ldv39ra2tzcXIqiEhMTxY9SEISC\n",
       "goLKykpBEAIDA8eMGePn59fw3W6+VAAAVxucpACg67rjjjtUKlVOTo5nyt13311bW3vkyJGGMzsc\n",
       "jrfffvuuu+6aNGnS1q1ba2trxenR0dEnT54sKSlp06Z79OjRsEFIcXHx7NmzbTZbbGxsbm7uqFGj\n",
       "Tpw4odPpXn311fXr1wuCQAipqKhYuHDh0qVLU1NTT506RQh59913k5OTdTpdRkbGmDFjMjMzCSFy\n",
       "uZwQIrbPEfPop59+6qmA37Rp04YNG9auXatSqd57770VK1aIDYScTufSpUs3btyo1+u/+OKLefPm\n",
       "aTQaQgjDMC+99NLSpUurqqoqKiqWL1/O87zL5ZozZ47RaBTXWVpaOnPmzMDAQIqi6m26qX3xkMvl\n",
       "9ZZqfveXLVuWk5Nz+PDhsWPHJicnL1q0qLKycvv27Y8//jjLsoSQoqKiV155pbCwUK1Wv/vuuytW\n",
       "rBCne2uxVAAAVx0BAKBrWLly5caNG+tNjI2NTUpKEgTh3LlzhBCNRrN79+5bbrnF7XZXV1cTQi5c\n",
       "uCDOKdZSO51Onuf/8pe//Pzzz+J0o9H4yCOPEEISExNfe+21Y8eOsSzr2eK8efPe81JSUiK+tH79\n",
       "+qysLPHx3Llzk5OTz5w506dPnyNHjgiCwDDMuHHjxIIJgmA2m4cOHZqZmSkIQlpaGiHkjz/+n737\n",
       "jo+izv8H/t6SDiGhhw4BBAQBBQVF5auCoIie7X7oiZ7t9E7Fxon61UM95BQOKyfoffVOKYpdkGIQ\n",
       "6b2TAOm9b6/TP78/JplsNptkSbJkl7yef/AIk92d2c3szGve857P7An4Hrdt23bXXXepP999993a\n",
       "KzDG7r//fu2/s2fPfuyxx0RRZIxVVVVFR0enp6czxtavX3/VVVc5nU51GR5++OF3332XMbZ58+bx\n",
       "48ebzWb16bIsa6+zadMm9ecvvvhi3rx5jLEDBw5069ZNm28T78WX0+kkouzs7GDevvbRPfTQQ6NG\n",
       "jbJarYwxh8ORnJys/UojSdJ11123f/9+xtjhw4eTkpKCXyoAgLCCVhkA6NBYgyLrtGnTFi1atG3b\n",
       "tksuucR3+rp1655//vnY2FgievLJJ5cvXz579mydTpeUlLRy5cp58+aVlZXt2LFj2rRpL7744quv\n",
       "vqo+q2fPniNHjtReRH06Eb388su+L75hw4bvvvtu/fr1Y8eOJaLs7Oz9+/e7XC6tKj9w4ECz2az+\n",
       "nJyc7Nsrn5eX99577/388892u10URW0WTbv99tvVdqAePXoMHjxYLZxv3br1kUceUdtjjEbj73//\n",
       "+wULFsybN++XX3554oknunbtqj5Xayl5/PHHV65cOWPGDEmSli5dunz58oYzavq9BNT0U3r06DFu\n",
       "3Dj158mTJ/fs2TMpKYmIOnfuPGzYMLvdTkSSJK1bt27FihVZWVmSJLlcLofD0cqlAgBodwjuANBx\n",
       "VVdXV1ZWxsXF+U6MjY197bXXXn311dWrV2sTKyoqVq5c+eSTT65YsYKIiouL09LSMjIyRo8eTUQ6\n",
       "ne7iiy+++OKLp02bds0119x4443333+/2ts9fPjwYC61rK6uNhqN8fHx6n/VUWt8I/jTTz89fPhw\n",
       "9efExEQtOnMcN3v2bPVQQa03X3fddcG8d7U1RWU0GtUDGKvV2q1bN226wWBQA73ZbFavDfAzadKk\n",
       "e+65JzMz02q1chw3YcKEho9p+r0E1PRT4uPjtYU3GAxaFz7VNggR0aZNm7799tuPP/548ODBMTEx\n",
       "9913X+uXCgCg3SG4A0DHtWnTpj59+owZM8Zv+v/8z//Ex8d///332pQDBw5cfvnl2hWoqampxcXF\n",
       "e/bsUYO7rz59+hCR2+0+pyX54x//+Pvf/37atGm//PLL8OHD+/Xrp9fr+/fv3/D1/RQWFmZkZNxx\n",
       "xx1qBq2srNR+paXY4E2YMGHnzp2zZs1S/1tWVjZx4kQimjx58tatW2+55Ra/xyclJS1YsGDXrl2F\n",
       "hYV//etfY2Ji1Om+5zGCfy+teYqfffv2/eEPfxgxYgQRCYJw8ODBuXPntu0sAADOPwR3AOhA3G53\n",
       "dXW1JElVVVV79+596qmn1q9frw0po4mOjn7llVfuuusu9b+MseXLlz/55JO+tXOj0fjoo48+8MAD\n",
       "33zzTUJCwkUXXdS9e/eqqqovvvhi6tSpw4YNUx/mcDjKysq0ZyUkJKize/3112fNmnXppZdqv5o9\n",
       "e7Zer7/hhhvS0tIuuuiiRYsWvfnmmy+99FJqaqrNZjtz5kxqaqpaxffVq1evLl26bNiw4aabbsrO\n",
       "zl6wYIH2q2HDhp0+ffqaa66JiooKcryUadOmjRs37vrrr58yZcqZM2fmz5+/Zs0aIpo+ffoLL7ww\n",
       "efLkG2+8kYgyMjKuuuoqtew9bdq0u+66q6Ki4tixY+qLdO3a1Waz5efnDxw4UKfT9erVK8j34vum\n",
       "zvUpfkaNGrV27dqJEyfGx8f/5z//sVgsbT4LAIDzD6PKAEAHsnDhwp49ew4dOnTu3Lkmk+nEiRMz\n",
       "ZswI+MhrrrnmiiuuUH/OyMhIS0vz6wO57LLL1IFcxo0bt23btlmzZvXp02fWrFmxsbGrVq2KiopS\n",
       "H/bGG2/09aFV8ZcvX96wo3rWrFkrV6684YYbzp49+8wzz8yYMeO+++7r0qXLlClTdu3apTXS+EpK\n",
       "Svrxxx/feOONXr16LV++XOutJ6K5c+f+9NNPaud3kJ/PiBEjduzYsXTp0m7duj322GMrVqyYOnUq\n",
       "EQ0ePHjfvn3r168fMGDAmDFjfvjhB+0p48aNGzBgwE033aTNJTU1dcmSJZMnTzYYDNu2bSOiIN+L\n",
       "rxY8xdesWbMGDx48YsSIKVOm9O3bd/bs2W0+CwCA80/X8MIsAACAIDHGZs6c+dxzz+GuSQAAoYZW\n",
       "GQAAaCFZlrdt25aVlXU+7wgLANBhIbgDAEAL9erVKzk5+fPPP+/cuXN7LwsAwIUPrTIAAAAAABEA\n",
       "F6cCAAAAAEQABHcAAAAAgAiA4A4AAAAAEAEQ3AEAAAAAIgCCOwAAAABABEBwBwAAAACIAAjuAAAA\n",
       "AAARAMEdAAAAACACILgDAAAAAEQABHcAAAAAgAgQ2uC+dOlSnU63ffv2kM4FAAAAAOCCF8LgfuLE\n",
       "icOHDyckJIRuFgAAAAAAHUSogrvH43n++ecXLlyo16MbBwAAAACgtUKVqtesWXPrrbeOGDEiRK8P\n",
       "AAAAANChGEPxotnZ2StWrNi2bVsoXhwAAAAAoANq++AuiuLChQvfeeedxMTEYB5fXl6enp7ecPq0\n",
       "adPaetEAAAAAACJV2wf3AwcO7N+//4EHHkhLSyMiWZYPHz4cFRV11VVXBXx8SkpKSkqK30T1uQAA\n",
       "AAAAoGr74N6zZ8/58+fn5uaq/1UUpaysrKKios1nBAAAAADQcegYYyGdQWJi4k8//TR16tRzelZa\n",
       "WhpaZQAAAAAANBirEQAAAAAgAoRkVBlfDocj1LMAAAAAALjgoeIOAAAAABABENwBAAAAACIAgjsA\n",
       "AAAAQARAcAcAAAAAiAAI7gAAAAAAEQDBHQAAAAAgAiC4AwAAAABEAAR3AAAAAIAIgOAOAAAAABAB\n",
       "ENwBAAAAACIAgjsAAAAAQARAcAcAAAAAiAAI7gAAAAAAEQDBHQAAAAAgAiC4AwAAAABEAAR3AAAA\n",
       "AIAIgOAOAAAAABABENwBAAAAACIAgjsAAAAAQARAcAcAAAAAiAAI7gAAAAAAEQDBHQAAAAAgAiC4\n",
       "AwAAAABEAAR3AAAAAIAIgOAOAAAAABABENwBAAAAACIAgjsAAAAAQARAcAcAAAAAiAAI7gAAANDO\n",
       "ZF4h1t4LARD2ENwBAACgnZ361sQUJHeAZiC4AwAAQHuSBbb/z9WK1N7LARD2ENwBAACgPSkik+2M\n",
       "yai4AzQDwR0AAADakyIxIlIQ3AGag+AOAAAA7UmttTO5vZcDIOwhuAMAAEB7UmT1X1TcAZqB4A4A\n",
       "AADtiUmouAMEBcEdAAAA2pNS0yqDijtAMxDcAQAAoD0xtMoABAfBHQAAANqTgotTAYKD4A4AAADt\n",
       "CRV3gCAhuAMAAEB7QsUdIEgI7gAAHQtTUNeE8KKuk1gzAZqF4A4A0LFwVhQ2IbyotXaMKgPQLAR3\n",
       "AICOxWuS2nsRAOpRFEZEitLeywEQ9hDcAQA6EIlTRA/yEYQXVNwBgoTgDgDQgfBWGWN3QLip7XFv\n",
       "7+UACHsI7gAXAoYkBsHh7AjuEHZYTasM1kyAZiC4A1wIJDQ/QHB4l4x4BOFG7W5HxR2gWQjuABcC\n",
       "wYFxQiAoghfBHcIOhoMECBKCO8CFQHChVAVBEQQZdU0INwpjRMTQ8wfQHAR3gIjHZCZxqLhDUEQF\n",
       "FXcIO+rBJIaDBGgWgjtAxJO8TMbA3BAcziqjIQHCjVprx5oJ0CwEd4CIJ3GKImGHB0HxlEoKGhIg\n",
       "zKgVd6yYAM1CcAeIeBLHUKmCIHlKZawsEG7Q4w4QJGMoXtTpdJ48edLj8eh0uqFDhw4aNCgUcwEA\n",
       "lcwrMkbmhuB4SyXEIwg3ta0y7b0cAGEvJBX3UaNGvfLKK4cOHVq9evVFF120adOmUMwFAFQSr+CW\n",
       "OhAkb6mMVhkIN+oqiUNKgGaFpOL+888/X3LJJerP11133SOPPJKXlxcdHR2KeQGALDCMEwJBklwK\n",
       "I6wtEF7UdRLBHaBZIam4a6mdiEaMGFFaWupyuUIxIwAgIllU0OMOQVI4huAO4UZN7NiMATQr5Ben\n",
       "Hj58ePbs2V27dg31jAA6LFlkaH6AIMkcjvIg7NT0uLf3YgCEv5C0ymj279///PPPHzp0qInHlJeX\n",
       "p6enh3QxAC5skoTgDsFSOFIErC0QXtQ1Eq0yAM0KYXA/derUzTffvHHjxlGjRjXxsJSUlJSUFL+J\n",
       "aWlpoVswgAuMLCsI7hAkhWMyh7UFwoui9rij5g7QnFC1ypw+fXratGmrV6++9tprQzQLAFDJCkOl\n",
       "CoIkc0zhsbZAeKm9OLW9lwMg7IUkuGdlZU2fPn3FihUzZswIxesDgC9FURRUqiAYjBSeyQjuEGZq\n",
       "hoPEdgygOW3fKiNJ0syZM1NSUoqKit5//3114pw5c3r06NHm8wIAIpKJKbhxCQRBkRgphFYZCDeK\n",
       "iItTAYLS9sFdp9OtWLHCfzbG0F4FC9CRyZKi7vYAmiaLjIjQKgPhhonocQcIStvnaYPBMG3atDZ/\n",
       "WQBojOhgpGvvhYBIoI4ng1YZCDeKSIQed4AgoBAOEPFEp6KPau+FgEigoOIOYUk9pMSZQ4BmhfwG\n",
       "TAAQapJTkbn2XgiIBIqEijuEo5oedwR3gOag4g4Q8USHglYZCAZ63CE8KQJRbcMMADQBwR0g4olO\n",
       "po9BFIPm1VTccX4GwkxNExcq7gDNQasMQMiF+ooryanIXuzwoHnocYfwhOAOECQEd4CQ85qkkL6+\n",
       "6FQUjMwNQVBk9LhDOKq9OLW9lwMg7CG4A4Scs0AI6etLDoZb6kAw1FYZVNwh3Kg97rg4FaBZCO4A\n",
       "IefIC20dSXIqCO4QDEUmIsL5mQuS6Ing+yfXtMqEtsQBcCFAcAcIOUd+aHdHInrcITgYDvICVp3h\n",
       "ae9FaLmaVhkJayZAMxDcAUIOrTIQJtQed7TKXJCsNk5wye29FC2kdrer8R0AmoDgDhByjuIQt8o4\n",
       "0CoDQVEUBPcLliwzc2akjvTJcOdUgOAguLcatjPQHFe1wOQQriiSkylolYEgqOshDvMuSKJbsVR7\n",
       "23spWqj2zqntvRxhjyn48nZ0CO6tZU6P1AoHnDeCXfFaQnUKWxGZwqFVBoKCivsFTHIp5nS+vZei\n",
       "hWpaZVBxb46rFAc3HR2Ce2vl73Cg6A5NkxzMaw7VUO6SVyHUUCE4tcG9vZcDQkByMsEWqQPLKGiV\n",
       "CQJTmKMMI+90dAjureUw89Y8FN2hKZJD4RyhDe5olYFgKCySKu7oCjgnoksR7REb3EXcgKl5glPx\n",
       "ekJ7Oz8IfwjurSW5WGVBBA/CBaGmSEz2MM4TqlYZyYuuZQiWmoQjZThIrylSx0hpF5KTSc7IDe5E\n",
       "uAFTc3i7LEj4UnR0CO6tJbkVScEXCRqlVsQFKWQVd14hIozjDsFgasU9Qg7z3OUowJ4DyaWIjogN\n",
       "7gIq7s0TnLLXhop7R4fg3lqSm8m4ZwQ0rqYizkK1kqjBPVKiGLSvyGqVcYV4HNULjOhUREdk/GUb\n",
       "wnCQwRA8sqsAwb2jQ3BvLdnNJDe2NdAoiVOISBJCVQmThUiqoUL7Uqhm0D1WeyTprgzfcIzgfk4k\n",
       "F5Mit+JeMxwktmNNETjFnY8vRUeH4N5aokuR3JG6rYTzQA3uoTuFLYm1o8pglwfN0dYSrSch5zt7\n",
       "uy1Nc9wlKC6eA8mlRHCPu0CEVpnmCILsLsSXoqNDcG8h0VOzfUTFHZqmXggYutEeajq1FFLQsgXN\n",
       "kQUtuNf8kL3WLofrfeYxZPU5kVwscltlakeVidTlPz9ERfbk45q6jg7BvYWcxTVjqUouRXJFapED\n",
       "zgO1SSaUwb32GBL7PGiO1lKlHeY5y8Xq9DAdF8tdhuB+DiRnJFfccQOmIAge2VMssZBdMQURAcG9\n",
       "hVzVNcEdFXdomiwqRCTYQ7WSyLVjXSvhWjeF8KENG6olJNGq8O4wreG5qiU0gAVPcjHZxSJ08Hv1\n",
       "4lSGI7UmeStkxcWEiB2tH9rEhRPcz/PWylF7RZeE4A5NkkS1VSZU2UhWUHGHYGkjuKsVd8aYaFdE\n",
       "qW1yQJs3awlOWQzXg4owJLsUYjXDWEWcmlYZVB+axJXLRMRZ0ObeoV04wb3qlPd8zs5Ze9th2aXI\n",
       "uDgVGifL6sWpIau4k38NFaAx2nj/asiWPIykumO/VmrzlnTJqXBWBPdgSU5GtVfDRxz14lSGRNok\n",
       "b7lMtUMAQ4d14QT30rNO8XwFaNGjuCslIiJGkgcVd2iKLIf24lRtI47gDs2S6/e4q9tMuY1OVzor\n",
       "hDZ5HY3kZLwDwT0oTGGyhxFFasWd4eLUIHAVMhFJOC/RsV04wd1TJVeccp+fefFWmauSSW1OkAjB\n",
       "HZogM4WIpJAFd22gSezzoFk+wZ2ISPIoRCS1UcXd65G04bZaj8lM8bKw7b8PNzJfM9SnHJnl2Jo7\n",
       "pyKSNkkN7mE7DBScH5EX3Btro+Sq5Mr88xXc7RKvBnf13joYVQYap94zNXQVdy24+54/xZYdAvKv\n",
       "uHvVK6fbZuUUZTmYzpYgT41KHCMiwYvgHhSp9i8boX0U6mWpuDi1aXylWjGMyD8xtJXIC+5iIymZ\n",
       "r5Jd5+vGBLxbrvn+8IyIZFTcoXHqDZLEkI0qox0S+O6w7fl8iGYHEU3RLk5VV0v17mC21oZj9WyP\n",
       "KMqCvZmNsOCQnaVBddSovdqCiOAeFLm2tV27/jiyYBz3YAgWhWrbL6HDirzg3ljLI1+lqGeRzscy\n",
       "eGW+SqHauiYq7tAENViHsFXGWVtpE+pmYatEcIcAtItTPQ6Jag/2BGtrV057oUBEXLXCu5rZCLsr\n",
       "xSDb1tWTAxLD1jUoWl6Xwr4cKzgDrADqcJC4c2oTFInJTkY+9+6AjinygntjZ3W5KomrPE/BXRBl\n",
       "vlqtuCtEpF4SBBBQTXB3KiG6aUZdxb22WCU4ZS+PHSAEoLXKeL0S1Ya81gd3RwXPGHnLJZ5rZiPs\n",
       "sUi8J7jgzitEJIZ9DA0T2gm38B8W1tXwvlqsJrKzsF/4dqS1G7TV1eQQoSIwuDdyVleoVvjzFdxF\n",
       "WZadTOaUmoo7WmWgcWoqYlLduey2pfW4a2UYr0nyYhA9CERrlXFZBCKSJIWIBFtr10wvJwl22Vsu\n",
       "N9vZ4nGLvBhUT6PEM2qLg4oOQsvr6viz4cxtEf3u/akoNVfWolWmCYIW3HEaqmMztvcCnDPBEXiV\n",
       "5atkXZTu/CyD1yQTEe9Q1GtEZLTKQOPctZdeSF7FGNf2h8p1F6fWjg3itUqeIoyHDAFoFXd7hki1\n",
       "Ia/14VhUFE+1xFXIgtxMcOeEYO/SJAtts2wdhFzbKRf+DdACL4suJbqzQZvCalcKXJzaBKn2VJUc\n",
       "orO3ECEiMLgH6qFURCbZGR91nqqMnlJJXRK1yCF5GDGi83TUABHGUxfcQ7K11brntfOnnFt2I7hD\n",
       "IHXBPV2k2g5ysdUVd94qeZNFb7nMVTezEXbki8a4oLaV6tZVvRoPmhVBFXdJUni77BvcldrNFSru\n",
       "TVDHgCIiJez/xBBSkdcqE3AoMfVqJ9GitPk9twNS714muGRZnZ0UAW2F0F7cBbXBPVStMrU77Nrz\n",
       "pxyPijsEptQePToyBNKGPGp1VZurVLxuma+Q1aJGExxnxCCPKmv779H0FRRZ0rYD4b4zkpjid32q\n",
       "tm1kbXwLrwuKWHsZg+gK9z8xhFTkBXch0MVPolMhIlJIOC+32VOHlBG9St22MjKHzoVQY4x5i0Id\n",
       "3Gu35rXHtDwneYsR3CEAreLuzpFkgfHWtmlH8ZZLvChxFbKntJktsPOs6CkK7uJUCT3u50ArtId/\n",
       "A7TIK0L9Apy242bnpfQWobRxw2oCD3RUkRfcRSHAKivU3l2vsQ74tqXefUnk6wr8ETp0buuFKIxe\n",
       "MHibonhqfg7RfaoFc+3WvLbhwVUoeYpRp4QAtItTSSZXmaiuM21RcZcdJYLsYN6S5oJ7lhjk6SBF\n",
       "DtAqE/bV5HajtbaHqCWvDfFm2W/0IS3HM5kYhkxphDbCknhecg6ErQgM7oG6u4Ta3q9mRxFuE+pY\n",
       "kLwoybWXA3bY4G7N5tp7EcIaZ6nLKHKgY85W4u2yVJtstJFSXXmiWK2EaBAbiGi8uW4LaSvj1Fgs\n",
       "2RXWukTMVcjVuzki8jbZKqOIjCuWPcGdDlK3rn4HFQ7cWawRSm3eDf9yLG9SRKF+cPcZIZSh5tAI\n",
       "7aSK5OygeQNUkRfcZaYoDa6aF2sP38Xzcn9svlohIrdN1LaVochkEcGUieDeKMaI87mRZChujOKu\n",
       "rBuFoa7inicRkdeCHSDU46kUvXl1a0XeTrvaQc6kuhsztQxfKZv38kTEN3kXPM4ikUJciUxBzE29\n",
       "2NqvVabioLc1y3kB0waVCv9yLG+S/Qpwvh2wjd0cHbSbkYX/sRmEVOQFdwq01mqnkITQVxkZI8Ek\n",
       "E5H1pCDXBfcOegRcif1oI3LH/IxXAAAgAElEQVR/s53eZObcdTskOQTtm15r3YGBVnH3FEhExNvQ\n",
       "5g71WPLrHWZnf+B017ZUiZ5WbTm5CsV9ViL1+p/GV3P19gKyi+Vtt7tKm7kOUVFHvKnfKlN5wtPI\n",
       "wzs6zlnzfY+A4G5WBL7eAZ7vbbY4OyoOgWl9wlLY/4khpCIyuDe8YbJ2+C42d/uP1pPcCuOJiGwn\n",
       "Be1mmB12VJkqBPdGnFppKdri4gWfinsIxvDyegJU3NXg7rEjuEM9Nmu9PhOxTCn/oSYHtya4M4UJ\n",
       "taNAKl4muhvdCHOOmnVy0/XF7upm1k91dBS/oSrNWZzUumOMC5WrdvQqZ1a4j4UumGRv/TMzolL3\n",
       "X8GJDVdgQm2fG0aV6eAiM7g3GBHSY6nZVAXsgG/judceNthPCjJFzF2mQ0HyKpYTPK4lCshxRiz9\n",
       "0c15fXrcQzDag9fnwKDmQkOXItkYETns6AaGeioPNDjMrl19JG/LV07BqfjeN4e3+7+UxCm8XSYi\n",
       "XmtlZMS7m8ln6iIpXuZ7BZG7SHIUY8jAALRhZy0Hwv2Lz5sUdUhljeBzsMfjwKwRvAUVdyCK0ODe\n",
       "sDhU/KO75lehr7hrd4Dy5tfdbUQJQfty+OPtsmxj7goUSPwpMnNliXyhUrDOpU30WNv+g3IV+lTc\n",
       "7QoReUw1c6k+zhHR+bmzAUSEirRGz4+1Zngovn5vQ8N75Nnz+cJDDiLixbqvAM83s60Wa6/A8713\n",
       "h7dQcpoQ3APw1AZ31xkp4N1OwodgVrj6FXffAnzAEZ+BiPjaAcQk9Lh3bJEZ3Otv8SVOqdhQs0Pi\n",
       "qkIf3LXDBkamfTW1jVC0L4c/waUQkbMc+1F/nkqJcUREpV/WteSaQlAJc2T5tsowIuJqW9urtnNM\n",
       "Zmd/trT5TCESuctF275Gv6pSK+5E4ZfU+QatMvYq4fTnVvKtuBMJcjPbai2daJUamVeEasXtCfdW\n",
       "kHbhrr1DMzGyF56PonuL5yKYZK5+xZ2r9Lk4NfTVtwgl1I43IGJUmY4tMoN7/SFcqk975dqbR9pP\n",
       "h3ybLvqcUzbtrbnYS24w0E1HoJ7fdDsQ3P25q2rWQ98WAvP+mrWFt7XZnsmZ6dMqY1eIiHPVTDHv\n",
       "4yuOedJXIrgDEVHZGVcTl40WHHC2eExbv95FsUHXjd3Kl67yeKokt89AkM2OelTXGFA7VqDXJBOR\n",
       "vQAbnAA8hXWf7Xk4KSE45bwj9hY8kTEmWhVvSb3Tj76dM4KC4B6YEMqKu+8AZRDmIjK4u+0iEe1Z\n",
       "VKbGo6qiuqKmeX/IKw2+A9A6Ttas6w1HqOwI1D2024NWGX8eR4CNoP2YoIjMa5bSnihuqxk5M/1b\n",
       "ZbQOBMXBTnxhqt7EO5sbvgM6goJtziZ+e+wp8w+P5bZs5+3X2yAI/sGrej9HjKqyPG6fcNnsbZgc\n",
       "tVUYsbaNRz2bZE/H+uxPcMqyvW4f5HSF/CMqPe6yZ7dkLpKbMZEc6YIsMFsur/Zo+XbOcGYE98C0\n",
       "m5GFYhz30gwX7m4WKSIyuJ9YZnYUCycWWvb9q5yIzn5i035lOyooIb5O1HfgKu3SLu1OTB2K2rNk\n",
       "P4P9qD8vHyCUKB5yFAlHv6wq/NLlaW5IjWDYC3hPts+oNQ6FMeKluim5HzqJqDzT3fp5QUQTnHLB\n",
       "f11NP6biP9zZ7S05P+OX1MUGPTCmXRwRVRd6fKvC7uZuw6QFdK2Nh3PKRGTPwAbHn7d+2C3c4tqz\n",
       "qDykcyw+5HJlt2QjpjZWKV5yFPKWEs50xkv1g7vfdaugaVnFXQ6uC676rNdThaJ7ZIjI4G7fIW59\n",
       "uphJlL3EUbLTZdpYV2VX3MxRFNrNuhQooysdcmQVUVKIyHYK+1F/zrLAn0nFMc+pv1lJprKMZlJU\n",
       "MPIO1TtVzUSSOcVT7rM3VYiISg8guHd0Z3+xCCXN77/z17RktfTrVlc3C3X/dSu2IwIRFf/gbrri\n",
       "/tuCksI9DvVnRWKu2us3pNreSJ6TyKcSDxqu/k0bit53537lCOkcLYd4Z3ZL/hDahbOOSsFu5k0V\n",
       "XiLifXrcvaUI7oHxpppPRnazIAdzE5zyya/MwTzSvJ93lGBXHhkiMrgTUfl3XiJSPJT2cInfr+wV\n",
       "oe2WCXjpjNwhTzKpg+/aEdwbaOxgZv9LlbKZEVHpwdYGd8ZYxgc2v4mSR3Hl++ehonVtcJAAEe3I\n",
       "34LaeVdu9HrN51xG5epfs8GZ6v239JhTvfFF5WbOnd9ocGcyy/rUYTXVXAfirhBZ7d2ipNqTqLwo\n",
       "E5FQrvC4R0992pUtGleWGNKTz/YTgjunJRV3vvZSZoeTr9rDlf7mIUZ8pc/AQeXovQzAa5a4otrV\n",
       "XiGZC+qPeybNUrYvqMKN5SDvtGNXHhkiNbhrPA3O1oW6vU8bAtJXx2yVEbwKEbnOihhz0E/5lsDj\n",
       "7rlrV9fyza29cVV1ute+y39VF71MG85Z4zouhfo0FIQzwSl7MoILQxJVnD7n8zPe0nov7jfSX+5v\n",
       "tUV0FxN981lJzcM81SIR2YsEqVqpPlAb3KsC3LnMWVGzGrvLUXSvp+HYmownV8g+JZlXXFkSXy63\n",
       "YPh/l7Xmj2g+wVft9BZ/5y7c41C8dXsQrgxHZQGYc+rd9jjI8VurDnmtR5rf+AsO2Z0lOaqxm4gM\n",
       "ER/cGzKd4Jp/UCsEHHHS1dyFVhckdQwvxUvuipo9xLEV1R3y3EM9zhLBnd7M+mDZw4tuRZGZq7SF\n",
       "O9e8AwGGdCja6zQdCbD+V+XhRvEdl28Iblb+znNusfDU723wHZNb8iq5KwJfFCtWKzKniC751AYz\n",
       "EdlKeCIy7a45X+o7VpXWNF9RezzstpzX4F68zxnmNX5bWYDzzO6QtSw7S0WSiRh5zmXVqnlubVm3\n",
       "PM3rOCbyufKGq4t8HxC5wd1VFsLV0mr2C+5B7WitxwRHevMX/tkLeWJkPhja7ARt5QIM7oVrXCwE\n",
       "4VFwyYfXVOT8ZrMG6oKwn+6Ih6ra4LuuSpGIFJEdfLWqcH9oeyvDX3Vu89V0JpA5m9uxpHTLk0XN\n",
       "Prghyaucede/T4aItv++zJsRYLdXnVOzSDg3ElKywEJ9cXwLeM/lzl85K5xNF/McJYIlq94OvomK\n",
       "e+FBh1jW6Kt5LbIpkzvzvo0pzGbliMh2mJcFRkQen8u7qw5xRMQUVrmtZr4eb8iDu+CQs9KsRMTb\n",
       "5Y2zi7a/5d+TGVbyVwdoh3M7Q/UpuaprXtljOefgbjpcc4xh2cZToIjud8YmYjD69YmS0N1HvHJv\n",
       "veJLw9tQBmQ/KTAvOZtrXq8q9hBRxa8I7pHhAgzurhOSJauu/OAoFQRHazcEglNOe734wL2mLdeV\n",
       "lH4RoHjZMa+X0oK7zcQRkTmTk6qZqbC1TSCtsfmxotwdNmKUt7UlYwy3iSDL27lb7Wf+Zqvc6BWc\n",
       "57x+7vuowhMooDemdL2HiBSR7Xil9FznFf4YoyYO1RWRteCE/jnRRoM9+EnFxhcKWnMXUneFKNXf\n",
       "JTOFVZ1s1QkTr+sctk5iiZLxlbn8TL0gWH3Gq44Bz1mk73+f9/WUXFdFXRTwu5qQ87mVcsbn1ibm\n",
       "VZHpNld73cel42uqSzZ7iEjxkj2fJyJHbt3rl/zoJiJ7viCW13wylgLeWSoGDEkt6NEP6NQPppMf\n",
       "WYgo/4BdMrGcxc7KU2FxkbfEKSe/Nx37b7U2xVMtmtICRK4QHd4oIvPUrlGc85w/bXNz96GTnSzM\n",
       "7/wakL2QL/neXXwoJBcUMYX5dVdW5DY/I84iCeUKETkrmwnuuV87ich1QnQWd8QSZMS5AIM7EZXn\n",
       "1BTdvWbpx3vyP78sK+uXevsPWWBVJz3F+5zqSElN7/i9Zun7h/IKljT1PXGeaXQTWXHGfeLr6sZ+\n",
       "G4mYwjzVkiXfW5ZWkydyvnEQkanMQ0SmA6E6aueszdzK25rH56507HquonCX47cnykId1wLymMSz\n",
       "HwZ1zHB8gZkJxHiqOn1usazkkPPkc+c2bF/1Nk7ilIJ9jtP/sIVJ/mixhufTzm6wfHdfriWP832M\n",
       "+te35HNfTM4sCNRWVPPIVt+BQeaVtIVF298u2fnP0qNPmAvfcefuCHAyJKiXEti3d+RtealI/Vkd\n",
       "M/TQfyp//kORb0j1WqRNzxZ66xc7nWVCY2MZced4K8rdD1Ru+0uZ7xx3vlr229sla67L+u+wLNde\n",
       "SapmOz8scxTXJDCufnC37OOdpYLHLO3/tLz4s6ZWtsNLq8t3eIho731VhR/VbGC3Lyxd/3D+iXl1\n",
       "a7jjkOipliwldX/fow+bP++XuWpqlu/xQ83T3yq15LR2E+QsEw49Y6r8wVu007n/5Sp14o83FWan\n",
       "tfAv24Z2/KN01+0VB56r0laA8tMeCrSps2e2fQhTZPbrghJnbZ+63XxuQ0EwhdmONP8UWx5HRExm\n",
       "toLzcQvYFqq/5VDrNRnr2v6Gd+Un3V/dkuM4Ui9jnP3cTkScVRYcsqORO3U4a/swXU0euvM2ueTL\n",
       "mu9pVS6aKiNAqIL7N998M2bMmC5dusybN6+8PLQDyja07/Gqj7ueXjcz5/ORmY6dIp8jp91Yeuzz\n",
       "Ku0B6T+Yvh6b99OVhWmvFZ/5xfztnNyfHssL2MUoeZXNCwpNXzez+eCKZd9TV0xhObtspzebFZFt\n",
       "/2vZ7rsriw40dfeT8GQt4EqP+h+uKCL76bH8z3qfXTc+j8us+cSKV7vd5WLWD3aqX1Cx5bZus8uo\n",
       "YLf91HpTyQHXsdVV/x2ZdTatbrMouJTMbZYD/y3P21kTy/IP24nIfUTacncJlymf3ei/DfU7Y9ia\n",
       "YWsVkVnr54OifY51N2VvWlDkPhpcFap2das4l22lxCk7XioL/vEqxcWKtjn3/K2CiPYsrYjo+4Wd\n",
       "/smy5eXCb+7OOfhxRcbPpl3vlu54oLxitffrSbklR5xEJLjkDU8V/LvfmW9m5Xw3Ld91RCo9FDg+\n",
       "mnO9/zf87A8P5znLG4m8PuVbR5lwalO1q8EtitJ/Muf83Znxgu3U8zXVgUNvVresZJi/x+7cKxa8\n",
       "5zrzjWX1DVnrbs5xFgnHX7F4TklV6TX1NolTtrxUlPeO88jnlb7PPbKqau3lOQV76hrVSo+4KtLd\n",
       "1KL13PabUHqk5rvvNUuVP3hPL7BZfxOk2lvA5C9y/XB3AZMZY8TVHwZE8dCxddXb/1Fy5CFzE/dq\n",
       "JSLzRj77Hf/OuvIvvUX/52b1v0OlB13Zu/xDs2OX+N3v8/P31B2VVaV78pY4T28KKjw1PALUJuxb\n",
       "WSFbGDFaf12h+3DNooglyi/TS3a8XSK4WnIKtzrT8+V12fk77Wc3WE58Vd100xpnkbLTApysYIwV\n",
       "rnURkWxmx9ZUMZnteacsbXbgNp7Cn1xq31EbqjjuzlpmP/ZSzSd8/E2zzCvB93a7ykTJ0vwiWat5\n",
       "IsrcYl0zIvvof6taf3TdEFNY/i57MF21ssCK9jpLD7u0Q1nOKm1bVPL1/8sxZXqJSJEZY5T7i4OI\n",
       "8j90ald8Na0qy3MyrTpne1OnpIgod5vtu0vzzRv996RlX3q2Liz+vx5nPks9+/X/5FoLOCJSRHbi\n",
       "m2pPbSOTdh1w6f6mjp9zdti0EZwqzrGKRBSg6GnP44McPN6Xu0o89m1VUxeTMDqz3qK+09aQeeXM\n",
       "95F9Q3HDwoUL2/xFt2/f/uijj65bt+6ll17Kycn59NNPb7/9dr3+HA4S8vLyUlNTA/6qcK+zKtBp\n",
       "QV+ygykceXIkxWclLP7JPeiuTgk9oqrPeLfeV6o4GBFZdwv5q1zuDMlxRIyfYOg9KoGIZF7RG3VE\n",
       "JAts93tleW8HdfJrxINJsV2NlkwurrvxwMqKXXdWFqx2FZ9yVf/EEVHRTlfxPmfuFrubExJ7REcn\n",
       "GIL6IM4XpjCdTuc7RfIqP/4x/+RCC0tRYuMMcd2M6gOyf7Mdf9pCjJjvlkSirI128yaeiHizfOn8\n",
       "HnqDLn+P/fuJ+SWnXSdXmN0Kf/RdU2Wep/y0O6lPjCJS8WHn3rcr4noY4rtEMZnpjLrcbbbT682C\n",
       "V/FWSwk9otyV4ubnCo88aS5c68r8t634O7fiZtWZ3NCbE0153v3LKva+XpG52F72gzfnc4c7ii89\n",
       "5Tr2tEVdKsXNiKjoR1fS5dHdUmPNmd68w/Zj/zb9dmeZK4aPS4gqO+MyZXk3zC4SoqXeFycYouu9\n",
       "92Y/K1eZtO+j8m23lZ1YaSo962JxrPSg69fbytyZsuvYOZ87LtvgMQ6ilLEJftPdVaKjUIjtamQK\n",
       "WTI5V5kY19146jtz9pKWXEWQt97JZclE5DoheROl8pPu7oPjouL1RESMMn4y5+9xdB8Ua8nmYpON\n",
       "eoNOkVjuTlvRCWdSrxhjXM2X11EqKBLj7VLuPps5n/NWSHqdzlbA5x21RUcb4pKMjc2dt8vuctFr\n",
       "k3K323qMiNfpqHCfoyrLY87n9KSPS270iX5Ej7LpvuLKbzj3aalsg6dgjatyC8e8RESKh7LXOpIu\n",
       "i87east8zcG85M6WZCsjIk+VNO5P3XmHnLnJ2nNkvPpSjNH6uQXOg6LzmFhW5LrolmT1W09E6d+b\n",
       "SCRrAb/p3qLRf+yq0+uI6NQG097bqzI+t1gdXExnQ1WOR/YyV5n46/1l6sak7s0WKiXFzk69o2Q3\n",
       "42xyTGeDztD8CuY1S5vmFqndIPlfO4UiRSxTcrfYuXyZiOIu0/e7tPOpr03bniit/p4joso0rs/N\n",
       "ceWnPDqdzl7A77qvQray7E/tp7+2dLkkSnQrWx4sLjvhGXl7cub3NtOOcz6ENgzRDZ6SSETFhx3Z\n",
       "nwZY5YQSpc+shLjOhiNvmPx+VbWFs+0NrtwbXAbOW+ew/BrgBYVCpWiHe+yfuql/u/QNprKfvFW/\n",
       "efvdmtC5V3Rjr8YYHf2sct87ldSZxcQaYhKN9mL+q2tzTSbv4CmJeTsdBx+sPUfaIJRUbeUyN9qE\n",
       "OIlx5Cjho+MN2reDiHiHXH7MXXzSmdwn1nerwhS2ZX5x1Q9czlpH3ipn0Tdup5GPTzTGJhu1tU6j\n",
       "SGzXe2VHXjBd9IekmM4GInJXieouw5bDH1tYM7JnxSZv/m5H3goXa+Rvyxcona8wRhkNVWe8lnyu\n",
       "9KwryqAnhfL32qPjDOorn6tjX1VXbeHk2vAtlClms3fH3HLDQOo9Jt5vJ0JEssCKDzg9lWJMJ8PW\n",
       "N4oP/rVatDQf6bpcGZVyccL62wqlKlbyg/vUGovSSek9JkH9Jp6rgn32ykzPnkXlR5eZht+eZIzV\n",
       "E9Ged8t3/7/KfrMTOqc0up4QEWeTf3gw79hz5rOf2BKviOo+LM5jkr6fm1e80u3OkDI+smZvtqV/\n",
       "Z3HZ+NMv24mIZKoo8VgKuf5XdGpiaS153u+uKcj/yJX7uTN1Tuf4blGcVcrcbt37RkV0N31cJ2Px\n",
       "EScpVH7S/cstpYH/vozMO3hipHhIsjCHwg+fkXxgZcWBB6odOmHYtCQiKj3rKlzlIiLrUWH0Y93U\n",
       "N+7HVSlu+l2RXLsFc1ulMXO7BbO9UhXtd+x8u2zAFZ1rdiVE9iJ+zegcs9s79PouDdeHJhz8v4rD\n",
       "D5rLqt09hscldI+qeZcKE52K5GGGaN3R/1TtmlNpFTjBKx1+vzr9P2aKpR4XxWmvUHncU37aVXTC\n",
       "4SoTowwGT7UY28Wg0+tEj8JZJGJ07MvqhMSo3R+VHXvBMurh5KjGY5giM+3P55uOGialdqELxXWc\n",
       "d9555+9+97t7772XiCwWS9++fXfu3Dlx4sTgXyEtLW3atGkBf7Vzaemp+c0cpDam663RMbGG8q8C\n",
       "N2HHX2K8d88we4mwblTuyDe6DJqSuOeVCseuYGsJtx0Y1Gdip7VTs676W8rG24qUxm9KHNVbf9e+\n",
       "IcmDYlvyHtqau0osPuk4tdI6bUn/pEEx2vTMNMvW6XWV3VFvJl39TB9nhbD+DwXOPc1k03tzhiWl\n",
       "xqy7Jad6Q6BDLD01PLFrSNDJ7rpPbPALnWwZgnVDG5zq7TwmynmqqT9i/BjDZa/2GHNH92a/jx6T\n",
       "tOvt0sLP3b6j2rWVGdv6p/5PFyIynfUm9o2OStD//GxB4XvumAF62c0kMyOi3vfFmX7hpTaauz5B\n",
       "131qzOC5nU2HudwlTiLSJ+oUB0u4xKg4GV+hqGO0Jc2Ivu2/gxN6RjHG1j9Z4KmUvDmy57j/OhB3\n",
       "seF3Pw9OHui/VjtKhV3/KCtY4dJuM3zxW0n9x3faPKNEXQ30cXTZR907942yFwlcpdz3ioTUa5Oy\n",
       "f7X2vaRTp9719qnWIi7t2ZLqb5uruOgC5K3pP/crOek8/bL99qODUsZ2IqLy4+7vxudrD7hydc/x\n",
       "9/Qkorwd9k1Ti7Xps/cP7H9FZyL6+uacqo0tKfZ0vy1m5ONJUaTvd3Hnzn3r3pEiMn2UzmuWdv+z\n",
       "PK63oWy/p3ptU6/fbWqMeXu9fbihi062M10UMb8V3OcTuO3goEPvVJWuPedCWnR//R+zRhhj9Vtf\n",
       "Lcp8I/Cx4vBXEq94uPcXA7PO9cXb1qw9AwZemcgY+2JilvOISETRA/UJfY1Tl/fx2iRrJd+lR3Tx\n",
       "Xldin+ieI+JlSSnc48x4qaZ+HzvSMO71rlmr7ZYfBCKK7W8QzLIS/Kelp+7TY0Y/2dWU4e09LuHQ\n",
       "W1X2X0Ui6vdk/Ni7u4uinLvBMfL25OJDrhPPBCjyXbKs67jfd6/M9MQlGLsOibUUcWd/slYf5czr\n",
       "eSK64oseE/7Qq+KUO+N7y/Wv9ieizF8tW284lxNufhtbQ82RUqdJxqve7J16bRctnchCzb0LmcIM\n",
       "0boug2I4i1R60hXXydh1SKy9WLBWc5ZM7tgTjZYqU+6JG/i7Tsk9YpP7xkqc0uPiOFO2d+uCEvP3\n",
       "PBHpookFvTlPuT1u3Lxum66tdyZh+KuJEx/oZSvlE5KjzOVeg17Xa1h8Yv8YwSHr9LqoTnoishcJ\n",
       "nEXiPdKAyYmMseJDrjM/WnIW153uHvlml9E3dcvabjvxtIWIhszvfOOiAfqoRjf9298uyXihZlWJ\n",
       "G2O4/qO+Rz6vLv+4+eu4pnzZa+zve/A2WZFYXPd6hQlFZt8/kFexquZFUl/uPP6OHjuXlVWt4ojq\n",
       "vrz6OFL4APvKxgx4JKHok5rK+m2HB/UZl7DhmYKiD2qmjF2WbD4i3PDPfgm9orSnFOyxp80pFYrr\n",
       "zWP61r7Drk8mokOfVMqS0mNkXFS0geckawlHRIKNDbii04ArEmWBZW2x7nigXLawXnNjp77QN7F/\n",
       "dHRnwy8vF2a/6SSiSz/odvmjvbXDV3eleOor86Sneqv/Pfhh5cjfJWf+Yo3vbhx1SzfeLv9n2Fmp\n",
       "mhGRIVn3hzPDO/WKIqKsNGva9FJ1olqFqUdPfe+Ol3nWZWxU597Rhx/zryD0nBM74q6kfY9XSVal\n",
       "84Qox966DeWwxZ17jowvS/NMfa1vfDejrZCPitUn9IpiCvvlb8V57zgnrewxeHIXWzl/YEll54FR\n",
       "M5YO5GzS5r8W9ZkYP+HBXl6LxBRK7BdNRKJLseRyOgN1vyjOXiREJeg69Y52FAkek9htRJx2SNOG\n",
       "2j64C4LQpUuXrVu3XnXVVeqU66+//rnnnrvpppuCf5EQBfdmpb7YWeFZ/rKWXF8y/de+Sb1i143O\n",
       "1cUSa27/3uX6qHHPdht5fVdDTDtfZrBtUfGZ/7UT0Zh/Jl3zbD8ikjjFUyFtfLzQvLleStB31hFR\n",
       "Ewckmlt2D0hMiVmdmh2aRQ6Jq77oNfrObsZYvemsV3DKKRMSdDodk5ksMs4iR8XpY5INaa8WZTWS\n",
       "YNqAnvrdF88EKv3KEzNI36l/lPncq6Qh0u3OmFkfDMz+xbb3/qomHpZwmXHUvCQm0IhpyV0GxLir\n",
       "xPQN5hOvWJoYVySgTmOiXKfEmGGG2zYO6j40joiKDjiMUfodr5VZfmrtsdzAxxNm/WswMdrySmHO\n",
       "oro9esxQw9xjFxljdGuuz7L7HK4Pmd9p5tuDPNXSZ73PBr8TDUgXR10vjxn1l+RL7ux+Ym119ib7\n",
       "FX/ptWdphfnbEP6hRy9NKv7SYz/cks/tln0De4+K/3TQ2QC7TJWBrvusz7a559y71bYGP9fppqWD\n",
       "Kk96vhmb5ztdH0dKe14qHxSdkVgjlZD4scY524b+9Od8y2bhgYIRsUmGjc8W5L/TZpc/DnslMb67\n",
       "oeRbDxE580XfABc3xCC6FKmq5fGg2w0xlh28/yFlcAzddH3viC/6uJmrcfQJuj63x5eudccMNUx5\n",
       "t3dsgmHz74olEyOifnPjHWdFx8HmZ58w3jjyyS5xKUZHltBnXKfug+KIkSIx3ilnbrW2OGzEjzbc\n",
       "d/CiHx/KN6VxMzf0H3BFovarM+st22aH9isTlaIf+ufEM6/4d5f1fyx+9r+GkI6ISHDJa67NbtjY\n",
       "2WmysVPvKHe25Exv5NPTUeLYKE+Z5Ld6jPug68gZXdcOz9GqBp3GGbtPjOWqZHe+5CmWZCu7eVf/\n",
       "QVO6OEqEVUOz9LE62c6I6Ib1fYuPOTNfrdu3XvJO8tVP91Vk9uWMbOvW0F4vm3xT9KTne217pJQv\n",
       "UPrcGU9EZV8FOHCftqVv6VH36RdtRJQw3iiUKbKLRXfXc4U+Jw31RAoZu+u6To6pWs8RkS6KOo+O\n",
       "iksxXvV675TL/E+qt1jbB/fKysrevXsfP3587Nix6pQHH3xwypQpDz74YPAv0l7BvTV63hOrI6pc\n",
       "cw41uWGvJE6c2zOms0G9uERv1MV2Mcb3NMoci+qs1xt1isxEp6KIzBCji040yAJzFgmKwpKHxehI\n",
       "57VInEUyxurjuhk9JskYq4/upNdH6dT6geCSOYtsiNbF9zD6nflSJCY4FUsuV1Xo2XN3pRpHdNE0\n",
       "7p2uiYOjTywz27a2ajiCfn+J7zQg6uwL7TauS8vooqnT8ChnhkiMhi9MTJ3aJeM7S9H7biIiA+mj\n",
       "db53CeloYobo+bxgc6suirqMi3ZmirKjVZ9YdH/9jev68w5p651lwRwxBunmbQM8Num32/33nWPf\n",
       "7RqfaNz3oP/ByfTN/ajnROUAACAASURBVKqyPMefapu2SGN33aiXkk4+e542YlF99YqbybaWfHqJ\n",
       "10aNvCfpwJ+aurY+7mJDwBFIz7Prf+xz/DOz+YdwOdZtK50nRTn3i0Q0anGXvmM7pd10AY4KdaEa\n",
       "8nDnvH87icjQVXfXwSHdUuOIyFkmrL0iRyxpt2Fzbj04sN/EzqJb2b6kJOu1tqxD6eNpwBMJBW83\n",
       "dbgVPVB/8zcDj6yuKnq3yaMyHV3zZW9rER8+YS/2IgOXLbe4dnPL7oEDrurcVgvT/sG9vLw8PT3d\n",
       "b+Lw4cMHDhwY8PGiW1Ha+oKbMKTTkz5aJwtMW1EMMTpFZmptRh+tI6LGPoeoTnrGSKq9PM63omNM\n",
       "0OsNJDiVpi8aAwAAgDahM5IxVk86Ep3tPNKlzkj6KB2TKAzvOHEBi+qkb6Ij61wFe01Y8JKTk2Nj\n",
       "Y12uutN5hYWFd955Z2OPT0lJSUlJCf71oxL01GYnHMKdMa7JXzf5ORiiG73wIiYpvC6NBQAAuODF\n",
       "JGPnC63V9g3W0dHRN998c2Fhofpfq9W6d+/eHj16tPmMAAAAAAA6jravuBPRE088MXfu3JEjR/bp\n",
       "0+ezzz6bNWvW+PHjQzEjAAAAAIAOIiRDmkydOnXZsmVz584dPnx4WVnZ+++/bzSG5AgBAAAAAKCD\n",
       "CMk47gAAAAAA0LbaeRBxAAAAAAAIBoI7AAAAAEAEQHAHAAAAAIgACO4AAAAAABEAwR0AAAAAIAIg\n",
       "uAMAAAAARAAEdwAAAACACIDgDgAAAAAQARDcAQAAAAAiAII7AAAAAEAEQHAHAAAAAIgACO4AAAAA\n",
       "ABEAwR0AAAAAIAIguAMAAAAARAAEdwAAAACACIDgDgAAAAAQARDcAQAAAAAiAII7AAAAAEAEQHAH\n",
       "AAAAAIgACO4AAAAAABEAwR0AAAAAIAIguAMAAAAARAAEdwAAAACACIDgDgAAAAAQARDcAQAAAAAi\n",
       "AII7AAAAAEAEQHAHAAAAAIgACO4AAAAAABEAwR0AAAAAIAIguAMAAAAARAAEdwAId4yxrVu33n77\n",
       "7cnJyUlJSXfddVdaWpqiKEQ0f/78pUuX+j54xYoVjz/+uPqz72/nz5+v0+l0Ol1sbOzUqVO3bt3a\n",
       "cEanT5/W6XRFRUXalMrKSp1Od+LECSIqLy9/9NFHhwwZEhMTM378+DVr1siy3HBGjLFPPvlkyJAh\n",
       "WVlZhYWFL7/8cmpqalxc3PTp03fu3Km9cmpqqq6+PXv2tPKD2rdv36BBg1r5Ig2VlZWlpaX5Tnng\n",
       "gQf8poRIw1kHw2QyPfTQQwkJCd27dw/FUqnO24cAAKBBcAeAcPf+++//6U9/evTRR48ePXry5Mkn\n",
       "n3xy5cqVZrP5XF9n4cKFVVVVubm5999///Tp09U4HjyDwTBnzpwNGzZkZma+9957L7300qZNm/we\n",
       "wxj76KOP/vnPf6alpQ0fPjw3N/fiiy/+/vvv09PT586dO3Xq1OPHj6uP3LVrV3GttWvX9u3bd9y4\n",
       "cef6js6PkpKSOXPm+E6ZO3duampqu8w6GAcPHvR4PFVVVSaTKRRLBQDQXoztvQAAAE05derU008/\n",
       "feLEiUsuuUSdMmDAgIkTJxoMhnN9qYSEhB49ehDRAw88sHTp0uzs7LFjxwb/9J49e/bs2VP9edCg\n",
       "QQ8++OCRI0dmzZqlPUBRlA8++OCzzz7bvHmzWvm+7rrrtN+mpqZ+/fXXp06dUgN6nz59tF9t3bp1\n",
       "/vz5CQkJRMQYy8rKKi4uZozFxcVdfvnl0dHR6sMYY0ePHrVYLDqdLiUl5eKLL25iaRljO3fuNBgM\n",
       "U6ZMIaLq6uqTJ08qipKYmDhx4kS9Xk9EO3bsGDRoEM/zhYWFw4YNGzhwYMNZ22y2AwcOiKKoVpeH\n",
       "Dx8+cODA6Oho9RVKS0tPnz49ZcoU9TF9+/YdNWqUtgyFhYXZ2dmMMb/pJpPp5MmTsizHxMSMGzcu\n",
       "Pj7+t99+Gz16dEpKivqAoqKirKysCRMmNJw1Y+zw4cM2m02v148ePbpXr15+b3z//v179+6Niora\n",
       "u3dv9+7dx48f39hT1LfPcVxRUVFsbOykSZMMBsPBgwedTmePHj204yin03nixAmv16vT6dRPKeAH\n",
       "HvATBgBoW9iyAEBYO3z48LRp07TUroqLi9PibAvodLro6Gi10SUtLa1h+GuaKIoZGRkbNmyYNGmS\n",
       "NlGW5WXLlq1du3b9+vUB+1UYY1arNTEx0W96SUnJZ599du2116r/zcnJefXVV7OzsysrK999991n\n",
       "nnlGkiR1pi+//PJf/vKXkpKSoqKip59+Wm0WCrj8siy/++67//73vy+66CIiSk9PHzdu3P79+00m\n",
       "02uvvfb3v/+dMUZEy5Yte+2111588cXc3NyKioqAs9br9TqdTv3QdDqdmkf//e9/Z2dnE1FRUdH9\n",
       "99//zDPPHDt27OjRo+PHjz9y5Ii6DLt37x49evSxY8fy8vJuuOGGL774Qp1+8uTJSy65ZNOmTTab\n",
       "bfPmzXv37jUajZs3b/ZtO1m1atXZs2cbzlqSpP/93/9duHBhdXX1wYMHJ06cqC6GL6OxpiDV7FOW\n",
       "LVv2xhtvLF68uKSk5IUXXnj//feXLFmyadOmM2fOXHvttXv37lUf9u6776alpZlMpsOHD19++eXa\n",
       "G/TV2CcMANC2UHEHgLB2+PBh33zc0O7du31D/J49e7p27drE43me37hx4/Hjx4cMGUJE3bt3f+qp\n",
       "p3wf8NlnnyUnJ6s/O51Ov6fPnDlz8+bNOp1u2bJl06dP16YvWrRIUZSMjIz+/fsHnO/GjRvz8/Mb\n",
       "vpf9+/dfddVVWu1/2LBhX331lfrznDlzpk+ffuTIkSuuuGLbtm2bN2/eunWr+u4eeOABNUM3XH6O\n",
       "4xYvXmy325cvX56YmChJ0iOPPPKf//xn2rRpRHTzzTdfeeWVs2bNuvTSS4lIFMUvv/wyKipKfW7A\n",
       "WV9++eVRUVE33HBDwPdVXl7+yCOPXHbZZUTUtWvX1atXX3bZZTzPP/zww6tWrbr11luJ6NJLL73q\n",
       "qquuu+66nj17Pvjgg0uWLLn33nuJ6K677lIPP+68884//elPc+bMiYqKstlsS5Ys2bVrV2Jiot+s\n",
       "09LSTp069c0338TFxRFRamrq4sWLP/30U9/lmTBhQm5urtFoVJ/V9FNiY2Pfe+89g8EwduzYiRMn\n",
       "rlq1Su3M6dmz56effnrllVcS0SuvvKK9+BVXXPHWW2+tW7fOd45Nf8IAAG0IwR0AIlvPnj1Hjhyp\n",
       "/Tc3N1cQhICPnD9//vz584koNTV17dq1EydOJKLx48ePHz/e92FDhw7VWmKsVqvfi6xZs8bj8RQU\n",
       "FDz++ONjxoy5/vrr1elz5sw5cODA6tWrX3jhhYZtPMePH7/nnnu2bNniVx1njL333nvz5s1TS8tE\n",
       "JEnSunXrVqxYkZWVJUmSy+VyOBxE9MsvvzzxxBPaMYnWieG3/DzPv/DCC8nJyf/4xz9iY2OJKDs7\n",
       "e//+/S6XSytpDxw4ULtC4N5779VSe2OzblqPHj20hDpkyJBvvvlGnWlmZuY111yjTp8wYUL//v2z\n",
       "s7NtNtuRI0dmzJihPV19IxMmTNDpdEeOHJk0adKBAwcmTZoUsBEoLS1txIgRu3fvVv9rsVi+++47\n",
       "v+B+Tk+59dZb1T/WgAEDFEXR3kjv3r3T09PVn/Py8t57772ff/7ZbreLoqh+qr6a/oQBANoQgjsA\n",
       "hLUJEyasXbu2iQcMHz5crXSqcnNzG7vqdOHChX/+858NBkNSUlITLchXX331gAED1J8rKyv9fpuc\n",
       "nJycnNy3b9/FixcvXLhQC+7Dhg176aWXZs6caTQan3/+ed/Xz8jImDZt2nfffdew3H78+PG9e/f6\n",
       "vsFNmzZ9++23H3/88eDBg2NiYu677z51utlsVhv0m8YYq6qqSklJ0eK4x+MhIt+4+fTTTw8fPlz9\n",
       "WWssaWLWTYuPj9eOOnQ6ndrYw/M8EXXq1EmbnpSUJMsyx3FE1LlzZ78XiYqKmj9//k8//TRp0qRP\n",
       "PvnkL3/5i/aaviorK4cOHar9NzU1VT1OaELTT9Hmov69tFM32hvhOG727Nkvvvjiq6++mpycfPTo\n",
       "Ud/rFlRNf8IAAG0IwR0AwtqECRMefPDBU6dOjRkzRpvo9XoNBsO5trlrF6e2CVEU/Ur7AwcO3LBh\n",
       "w/Tp06Oiop5++mk1FJ49e3batGmfffaZFvF97dix46GHHurXr582Zd++fX/4wx9GjBhBRIIgHDx4\n",
       "cO7cuUQ0efLkrVu33nLLLU0vVWxs7IcffvjUU0+99dZbf/3rX41GY79+/fR6ff/+/UePHt30cxub\n",
       "NRGda8e2eplpTk6OejLEbrdnZmZ27ty5f//+er0+Kyur4cJcffXVjz766IwZMzZv3rxy5Uptuu+s\n",
       "J02alJmZ6Xuc1qwWPMVXYWFhRkbGHXfcoebyhgdyRBT8JwwA0Eq4OBUAwtqYMWPeeeed3/3ud5s3\n",
       "by4oKCgqKtq1a9fcuXPtdnubvP7Ro0dff/31IB+5c+fO3NzcgoKCX3/99dlnn33iiSf8HjNkyJBN\n",
       "mza98847y5cvZ4zl5eXdeOONzz777KWXXlpWVlZWVubbe+N2u5csWXLPPff4vsKoUaPWrl1bUlJi\n",
       "sVg+/PBDi8WiTp8+ffp///vfL7/80mq1Wq3W3bt3q4m24fJ369btgw8+OHPmzFtvvSVJUq9evRYt\n",
       "WvTmm2+mp6d7vd7y8vJt27YVFhY2fIONzbpr1642my0/P19RlCATfJ8+fRYsWLBy5cqSkhKTyfSv\n",
       "f/3ruuuuGz9+fM+ePf/+97+//fbbZ8+e9Xq92dnZ+fn56lMGDhx47733PvTQQ88++2y3bt0Cznrm\n",
       "zJmrVq1avXq12Wx2u90nT57csmVL00vSgqf46tWrV5cuXTZs2ODxeE6cOLFgwYKAjwnyEwYAaCUE\n",
       "dwAId/Pmzfvoo49Wrlw5bty4Sy655IMPPnjssce0bNdKZrN5+fLlwTwyJibmgw8+uPLKK0eNGvX6\n",
       "6683zNyqYcOGbdmyZdGiRZ988kl6enpRUdH8+fP71vrwww+1Rx46dIgxprbaa2bNmjV48OARI0ZM\n",
       "mTKlb9++s2fPVqcPHjx4375969evHzBgwJgxY3744Ycmlr9r167vv/9+dnb2P/7xD1EUn3nmmRkz\n",
       "Ztx3331dunSZMmXKrl274uPjGy55Y7NOTU1dsmTJ5MmTDQbDtm3bgvmsiGjBggV9+vS5/PLLhw0b\n",
       "ZrFYVq5cqXbvPPPMM1dfffVtt93Wo0ePhx56yGazaU+57777cnJybr75Zm2K36wHDRq0d+/enTt3\n",
       "Dh06tHfv3i+++GKzi9GCp/hKSkr68ccf33jjjV69ei1fvvzVV18N+LAgP2EAgFbSYcgqAAAIB7t3\n",
       "73766af379/v23kPAAAabBwBAKCdMcbsdvsnn3yi9uW39+IAAIQptMoAAEA727p1a0pKSnJysm+f\n",
       "DAAA+EGrDAAAAABABEDFHQAAAAAgAiC4AwAAAABEAAR3AAAAAIAIgOAOAAAAABABENwBAAAAACIA\n",
       "gjsAAAAAQARAcAcAAAAAiAAI7gAAAAAAEQDBHQAAAAAgAiC4AwAAAABEgJYH919//VVX38yZM9Vf\n",
       "ffXVVzNnzuzUqdOAAQMWL15sNpvbaGkBAAAAADooHWOsZc90u91Wq1X9WVGUG2+88e9///sdd9xB\n",
       "RE8++eTdd9/dr18/i8XyzjvvdOrUacWKFW22yAAAAAAAHU/Lg7uvY8eOTZw4sbCwsG/fvn6/2rdv\n",
       "35VXXmm1WpOSklo/IwAAAACAjqltety3b9/+0EMPNUztRCQIQnJyclxcXJvMCAAAAACgYzK2/iXc\n",
       "bveSJUvWrFnT8FdOp3PJkiWLFy+OiYlp7Onl5eXp6el+E4cPHz5w4MDWLxsAAAAAwIWhDYL7oUOH\n",
       "dDrdxIkT/abzPL9o0aLBgwfPnTu3iaenpKSkpKT4TUxLS0NwBwAAAADQtEFwX7Nmzfz58xMSEnwn\n",
       "iqL45ptvmkymZcuWoU8GAAAAAKCVWhvcS0tLP/3000OHDvlOlCRp8eLFOTk5H374YWJiYitnAQAA\n",
       "ABckyaMY43FLGYBgtTa479+/f/LkyWPHjtWmMMaWLl26fv36jz/+2Ov1er1eIurZs6fR2AbVfQAA\n",
       "ALhguMrEpKGNXgUHAH5aFaYZY++99968efP0+rrDZVEUX3zxRSK69NJLtYk5OTmpqamtmRcAAABc\n",
       "YNwWMVGM1kfp2ntBACJDq4K7TqfbuXOn38To6Og2GRseAAAALmy8VxY9SkwXQ3svCEBkQGMZAAD8\n",
       "f/buO7Ct8twf+CN5xllOQjYkQCAECpSQsMNoSwoUymgv9/4ooyUpXfcywrrQ0hZ6obQ0hbZAS6At\n",
       "LaUF0rICJRAHEsjew87w3pZl7XH2ec/7++NIsuQhS7Zkre/nL1uWdY6l43O+5znPeV+AzFA0XZeM\n",
       "TK8FQM5AcAcAAIDMUGWmS7hKD5AoBHcAAADIDKFD1xVU3AESheAOAAAAmSG06rqM4A6QKAR3AAAA\n",
       "yAyxVWcagjtAohDcAQAAIDOENqar6HEHSBSCOwAAAGSG1KbrOiruAIlCcAcAAIAMMHQu2xhjCO4A\n",
       "iUJwBwAAgAyQPYx0YgZaZQASheAOAAAAGaAFGBExjoo7QKIQ3AEAACADNNEgIsZQcQdIFII7AAAA\n",
       "ZIAmG0Sk+lFxB0gUgjsAAABkgKYwItJ8CO4AiUJwBwAAgAzQNE5EmhfBHSBRCO4AAACQATpjRKSi\n",
       "4g6QMAR3AAAAyADdMAitMgDJQHAHAACADNA1BHeA5CC4AwAAQAYoLgR3gOQguAMAAEAGKE6MKgOQ\n",
       "HAR3AAAAyADFiYo7QHIQ3AEAClGwS8v0KkChU11mxR0zpwIkCsEdAKDgiA7dXitkei2g0Jk97jpm\n",
       "TgVIGII7AEDBcdSJkoqKO2SY2eNuyKi4AySqONMrAAAAo62nRdQlpKU8xDm3WCyZXotEqS6DiAwV\n",
       "myJAolBxBwAoOB3vif6jqLjnIcnBMr0KSVCdBhFxjbiB7A6QEAR3AICCo3SzwFE102sBqRfoyp2P\n",
       "lZPqDp1mGBqCO0BCENwBAAoOE3mgVs/0WkDqBRw5E9x1yeBK6GsDGyNAYhDcAQAKji5ysVln6C3O\n",
       "O4HOnAnuarB3MBlU3AEShOAOAFBwmGAQI9GONvd84+/SOM+NECy5ejc/Q8+NdQbIOAR3AICCw0RO\n",
       "RKILDQr5RurRtUBuDIsuens3PwR3gAQhuAMAFBwzuKtSLo1AAomQ7Uz25sbHKokI7gBJQ3AHACgw\n",
       "PBTcNTU3SrOQOMXO1ECOBHe5t1WG49oPQGIQ3AEACgvTOBlERJqeGwkPEifbDUXIjY810IiKO0DS\n",
       "ENwBAAoLU0KFdt1AxT3fKD1MlXMjuPujZhIwGII7QEIQ3AEACgtTQiFJzZHSLCTI0LnmNlQtN87H\n",
       "ArVRo8oguAMkBsEdAKCwGOHh26We3Eh4kCDVz8ggjeXG+ViwDq0yAElDcAcAKCyReZfkntxIeJAg\n",
       "NWAQkeTOgTs9dcmQO3s3Px7+smN3MDMrBJAjENwBAAoLC7dSKAju+UUNMiKSunLgYxV7dIoqsput\n",
       "Mtzg757bovpyYP0BMgXBHQCgsLDw9PII7nlGFQ0ikm058LHK3pjLAobBybwWxImhbQZgcAjuAACF\n",
       "xQgHd9meAwkPEqcpjIgUZw58rHLsjdFmxd28bZojuAMMDsEdAKCwRCqaCm5OzS+aZhCR4syBj1VV\n",
       "YoI7N4jCd19ErggBQH8I7gAAhcXQ0SqTn3RmEJGaCxV3RR+oVUYxCLOoAsSF4A4AUFgiFXfNbXCM\n",
       "n51HdJ4zFXfZ36fizik8UCnGdAeIA8EdAKCw9AYjIzSAIOQoTYj5+DTZrLjnwGcqtMVW3HlvkwzG\n",
       "dAeIA8EdAKCwMKM32CmBHGirgME49knR36oeRkS6z8j+7CvGBnez4h4K7qi4AwwOwR0AoLCY/cQm\n",
       "LYjgnsN69scGd7dBRMRJC2Z70V1six1VhhOFxzvK/rMOgAxCcAcAKCzRwd0c+RtylKNWip7GSPWE\n",
       "Pk0168/HxPbYirvZKqNzippFFQD6Q3AHACgsZj+xSRZ0IhKdGMgjJ/k7VCnqs4sE9z6971lIig3u\n",
       "BpnB3SC0ygDEheAOAFBYWFSRVlF1IjryijtzqwPDJ3cxX6eqhm9UCLXKEGlSVgd3pnLVHrOG5rmk\n",
       "GdmjrwgBQB8I7gAAhSW64i4JjIgOv+jR0x/1OEcgSzHZxryd8u5ne8xveyvuclYHd9mtU+y2YFbc\n",
       "Q8EdFXeAwSG4AwAUFhaV0QNNGlO4v17rPiikdaEG48EOLa2LKDTc4EoP2/FoT+eW0GeneUKld03N\n",
       "6j5xxdd39bjZKmNwCs+iCgADQnAHACgsuthb0Qw2aGKPRgYJwfS2uSseFuhGcE8lNWBwhYK7dd9+\n",
       "NfRIuFVG17M6/Cr97p2NbpJBqwxAHAjuAACFRRd6g5HQpIsunYhUPb3BXfYwIaCmdRGFRvGG4q/S\n",
       "ZcgeRkRauFVGZ1kd3FWpX3BXOIWbuDiCO8DgENwBAAoLi664N+pSQCci0Z7mintAF8VEK+6SG6Pc\n",
       "DC168qxAp0qcNG+4x93I7uDer5PHUIjCwd3AvRAAgyse9m9qmlZTU+N2uw3DKC4uXrhwYWVlZfQT\n",
       "Dh061NXVRURTpkxZuHChxWIZ6coCAMCI6VFjt0ttuihoRCS0prcrWhGZ97BK1wz9TNtBIeBQ539p\n",
       "UlrXJw+oYu9HFnSrk+QyHr6koXqyusdd63dBgJkVdzIIFXeAuIZfca+vr1+2bNnatWt379791FNP\n",
       "XXjhha2treaPOOe/+c1vrrjiio0bN27cuPHb3/42Y1m9EwEAKBzRrTJcIedhmYiE1jRX3FXmrU6o\n",
       "4r7/j049uwvGWUKVew+sgqRFj92uOLP6DVSVvpHADO7M7HRHbgcY3PAr7gsWLNi3b5/59YMPPrh8\n",
       "+fJ33333rrvuIqKNGzf+4Q9/2LVr18yZM4noZz/7mdWKnhwAgAxT/KxsQhGLnS21e51ERFKag7uq\n",
       "M9/BhHrcvfvVY6/J6tyZJVSt913y1Kraqb3fys6sLpZJtoF73JnACcOGAsQ1/DwdncWLiorGjx9f\n",
       "UlJifvv8888/9thjM2fOVFXV/Cn6ZAAAMkvxMW+jQrGjyhCRa5NMRGJbum9O1YO1mqENkck4J/9h\n",
       "VfUhuA9NN3rjr+MzOXok/mBDVg/gI3X33djMiru5ZaLHHSCOkRbCN27c+P77799777319fXXXXcd\n",
       "ETHGPvjgA4fDccUVV5SVlS1cuHDdunWpWFUAABg+X6siBXUK1zUjDJGISOrQ01rpFNoYVyjYNUSg\n",
       "lF267uJZ3qKdJeSo0dCdW2Qt6kKKba3ElOw9+ZG7Bq64m3dfILYDxDH8VhmTzWaz2+319fUXXnhh\n",
       "eXk5EQmCIEnSypUr33vvvTVr1mzcuPGqq67av3//GWecMdgr1NTUjHA1AAAgPr9LZYZBsaPKRBgi\n",
       "qT6jrLIoTUsX23UiCtjVCXNL4zwtaNMoajxyiEO298Zfrdtw18iRb5mbO4/I08+qyMR6DarnkNj4\n",
       "ke+Ce2cO1ipj3n1hILoDDG6kFfebbrrpnnvueffdd4uKilauXElE5eXlVqv1pz/96ZlnnllWVnbF\n",
       "FVd8/etf37t372CvMHPmzKX9jHCtAACgD79bURRGRLowcCxO6yCMUodOREJgiIq74NWISIkN7i2f\n",
       "+nUZUb4vuScm/nZvkqK/7ekUR3d1htbdLOz/qZupXO4X3EM3p4qcwrOoIr0DDCg194xardbzzjvv\n",
       "rbfeIqLS0tLFixdPnz498tMZM2a4XK6ULAgAAIbHsV0JtmvUL/BFyP0mok8hsZ0RUdA7xP2poqwR\n",
       "keqJDe5b/LWb3OlbtxwVXXEnIvv+mKRu+zTrgnvXJ6IR5L5mpX9wD1fcDSIydE5ESjq3RoDcNfzg\n",
       "7vV6I1/rur5hw4ZLLrnE/Pb73//+6tWrzSEgfT7fRx99NFifDAAAjA7XdjnYpOuSETg4cNlbEdJZ\n",
       "cW/Xici9f4jgHuhUiUh1xYQ2ycYkdL33o/TEnN64DyjR3/qPZtn9qZxs/xaJyNslK/b+FXeicMWd\n",
       "yZyIhJ4sW3+A7DD8Hvddu3Y98cQTX/rSl4qLiz/66COv1/v222+bP7r++uvff//9b3/725deeunr\n",
       "r7/+hS98YcmSJSlaYQAAGA6xkQmzdF+LwgfJ52a1Ox2Yaqg9BhF59w0R3J07FepXcZdsTHEguPcl\n",
       "x052y2PfWrE5u2af9XeoYh0jIvtRiffbCgw1qsdd5UQkebJr/QGyxPCD+0UXXfTLX/7S7/ebX599\n",
       "9tnjxo0zf1RZWfnKK6/s2rVLVdVHHnnkvPPOi4wUmU8kpz7mmJHe3QsAMBo4qR5DaNL9jkGjs7c5\n",
       "oXHWh0F2MbNl2Xsg3iICnWrrn4LU7+ZU2abLCO799Km49yG26pxT9gzF7GkL3Tvb+maw/0+NqB53\n",
       "Q+FM5bKE4A4wgOHnzoqKivPOOy/OTy+99NJhv3hOaF7jP23Z5EyvBQDA0HTZ4DIXW3S/f9Do7Nwm\n",
       "0x2pWZwaNIrLLZ4WedLx5dZiixyuniodbPfr3SdfOGninLL+v3Wkym3WYrXY4K50G6i496cMcq+C\n",
       "iQW46mdlE9M1TFCyBDF0Pce1Qen/UxY1HCSTicmGquMTBxgAJjQdvtatAabivncAyAFq0CAizWnY\n",
       "Ngx6z6J7xwCJanhad/n2vdqz9bfdgQ6ViORAbwjbcZOzes3AwxW0rg7VYrXoVhlOcjdTnBhVJgZT\n",
       "DOYf4gAkObOoaO1rDm9dA32S0TOnGirXZa5qCO4AA0BwHz7RoffUZN1t+wAA/UWGgOx4SxjsOcEj\n",
       "upnvR67+Hd/25Y625wS/TSUiRYoJYTWPegYcM8QbvnWVCZyF51jVRMMQefzqcgFS/EN/UrIvi4K7\n",
       "e0+8LqnoCZiYGw/3pQAAIABJREFUwpliSN34xAEGgOA+fKrL8LtTVqACAEgfTQrlPKVl8MDHydea\n",
       "gn2a4mOtfxLMwmowqBKRosckSObi5ugx0SSXrtp6100Ln0IoXkZEKirusdTA0LlWDmZR9vUkENxD\n",
       "FXeFM4VLnVm08gDZI1eDu7tWHvpJaaa6DZ3jWALx6CK2EMgKmpRQDAo4U3B/aqBDNYRQvdzTpBCR\n",
       "LPZdutIvU/aJ8pH/HSXAiAg97n1oQgLBXc2WijtTub8m3qYVPQETk7muGlJntqw8QFbJyeDODb5/\n",
       "lTPTa0GqizEDPe4QT+fWQdsSAEaTpiR0DpmSqCf5e1/EtUMhIqG178sq/U4kgp6YwSi1cHBXBUZE\n",
       "mtvg2N9GURMoCihKtmTfQIfK417LMRSiqOEgmcqlLpyqAQwgJ4O7u1ZufifAeSZ34pxzzWNoCXQZ\n",
       "QiFr+2CAgc8ARp+uJRbcAymIeorcG7nMG16Ftr4v2//Ww6AYW3EPJ3tVYkTENdIE7G97acrQuTbY\n",
       "723PlOBQsymFh4MM97hraJUBGFhOBnd7qyg3M39LuoYcToQucq6R6sWBBOLp+DRoTt8NkFm6ntDO\n",
       "KtivND4M0R3twSN6oFMV+71s/+DuPRyzS49cItDUcIIPYH/bS0vgAxWasiW4S2KCwT3c464bcle2\n",
       "rDxAVsnJ4N75mUBEzhYpg+tg3jil+XAggXgCbZq3cVTvYBYxTzgMRDcS2lmJLSlIS2L0KISc2qsD\n",
       "Yr/Sr2gLPcINbj6/Z3PMnUu6Gm6VYeEEn023Wmacxob+QN17smX4BGmoph1D4YFO1RzFnynEdK70\n",
       "GKh6APSXk8G9Z4NMROuu69z8dBdLrHEz5cwbg1BxhziYYmhOw2MbvRupxR7N3ZQth2rIKgkG9/7N\n",
       "6MMQjC301r/u619xj0T5PX/p2fdGj7dZsb8TU4vRI8NBRiruuNU7ippAq4x7m6LLWfGmBZqGrrh3\n",
       "HglGvmbMIEbde0UBlQiAWLkX3DXB8O5WicgI8AP3uf+2qG7XX+wZWA0JFXcYguxhlNgV7VRxNcqK\n",
       "jOvLMAAtsT6TlFTchdiU1vkPUbX3XbrYwYjIYHzfT1yHnvAe/sDd5wl6uKIshUdw17Ijg2YJz4Gh\n",
       "m0W5TJ7RveI3GH/tUMFdpeZ/B0JfK9wc+OGdi5tth3F/P0CM3AvunkaZoo4swiHdvjkDPTPmIQTB\n",
       "HeIwp5gZzTFD3Q4Z84TDgBRXQhuG2JaC7Udojkn/XCPq1/IgtutE5KlX1E5Dsxn77uw7l2rkEoHi\n",
       "DAd3Fdt2L+e2hC7leXsyP3QyEQWGCu66ZLT+LVRxZwo3DE5EXCX7YcxyCBAj94K719m3fpDg/iu1\n",
       "zBunENwhDnP86cjEN6PAtlHsP8oeABEproS2Q91jaCOePLVPcB+Q1K4TkaMjHMv6JXsWPuNVekJf\n",
       "JHh/bSHgnHt2JjQ8g7stN4I7l4m5QhuBofDIp9/+L1TcAWLkXnDvvxsSjuiqf7TDijm2moYedxic\n",
       "maETrHSmhGenKrSjVQYGoLoT3VlJ7hFtQobO5Y6ht3lzsD/bzkHrqWp4sN3If1Ait2MWCKFL1xwJ\n",
       "vRv2DZkP7kwx5PYkdoOGwo3wcM+uzxTZi30aQK/cC+4DTHzNydsy2m18Zu0HwR3iUFVGyQSmFCzR\n",
       "xUQEdxhI4ieQsmdEm5DsYjyBF2B+HuzUmv8RGOwJqie0wko4oSZ4f20h8HUmesjz7s/kuMkmwa5T\n",
       "Mh8dU7guhS/BMPI2Z/5PAMgeuRfcB+R3jfY/tnkIQasMxKExs+I+isHdbYjJVLagcCR+AikLI9qE\n",
       "At2J7o03Pt4pHRp0WZEV7u1xx4R3YQF/om9ysE7L+KCKoiu5U0FD4XpUv5bgQ3AH6JUvwd076hV3\n",
       "ZgZ3jDILg5K8jIjU0WqVMWfz7T9gNgARqQmfQIr+EQ3A53Um2pvR+kK8eYVVT3gc9/BVVgT3CG9b\n",
       "ooc8LpHQneERFeVg0sE9+kaLoIARIQF65Ulw9x0e7X9s1cuISA8Y3EB2h4GJHTqNYquMOZuv1IHg\n",
       "DgNIPLhvfcCe7ODZUlRJ1VmXmqbqqOAeHscdVzjDkppZSbBnOPiqSQ4HZCikB3oPrH2m1AUocHkS\n",
       "3P2jHtxD/Q+MdBnBHQYmdeo0ihV3TTCISO5kOJmE/lR3otuhVMNaDviSevGeI2Iku3dXpWZ8XjO4\n",
       "GxrXwxc2dVTcwzx7ksiyQiDDwV0zkg3uMRV3z76sGIoeIEvkS3A/Mtpn5HJ4ThAdk/nBIMxxM0at\n",
       "4m7O5stVUrxoc4e+9GT6+mRfcpuQorCeoyIRGTp3fJaiirvbICI1aERGilQR3ImIyNC5vzqJQ54o\n",
       "ZTi4K8Gkg7seNV+YLwvurwXIHnkS3IP1+qhVGQ2NU9Sc3rpkEFHG7/6BLCR1jW5wDw8YL3sQ3CEG\n",
       "U7mRzLXBIccm4jzm1VTG7I0iEfnb1Mho3COkeQwi0qIynx7VKtO1NV5/fH4LdmpGMrMS+eozHNwl\n",
       "W/LBPdi7FQXrdH0UZ8MAyHJ5EtyNIJcco9Hayzl17g0SUTC8KzR3KL4mlASgL3mUg3t4Qnhz4ieA\n",
       "CF1IbiMUh7pTwnUopqwuufT2dwQiEkc2Bnw0s1VGjVpzzR8Kcz1HxP1/7zvTauFIfNwekzeZ8nw6\n",
       "mCWMxBkKj+5xJ0bBLtyfChCSJ8GdiIJJ3k01PL5mxe2UiEhoDFfcFU5EnsOZn+QCsgrnJNsYERkC\n",
       "ZyonIueh1PT+DkZXwsFdRHCHGMlO3zvkoKLN/44Zf11s030HNCKShZQF91DFPWpjjowqY2sKCi2F\n",
       "m+SCweSCuHtnhnvEpa4kR5VRSQvEbLES5mACCMuf4C6G/7Hl1JV8+utpEf11mhpgWniEMjMteWpR\n",
       "cYcYWpAZIg9/bRBR0zp/Wpeoq+FROBQEd4iRbKeB1K9VxtscE/5a1sQG9w4mtepM5bKast2v7je4\n",
       "wTUlquIenvAu0KiLLYW7kft7kjvcBKo1NaNX4eQkW2WI971QiWIEQET+BHdJCRVgDv7enb6ldG4X\n",
       "fEc0saf34KRrBhF56nDbO8SIvkNUE5hg07r3JdOXmjw9PCG8OfETQIQuJxncO/puQlV3tbvqQ5eM\n",
       "ZA/r2SaxqEgttuvESLRrki91dRODNMHQ1N6l6OFWGf8RVWrTeaHeWOTcluThhvc97xplyfa4U9QY\n",
       "oKFvkxxQEiCP5U9w76mRiEh06kdf86RvKY6NcuCwKnmigzsnIncjWmUghuKPCu6i4WiUfDXpvSwT\n",
       "Ce44yEEfupJccJe7mcGiBtJuUnrelz/+SYc5vrurQSJOor13Nyi1MyISXXqgIZUdLJpg6Hp0j3vo\n",
       "a3+txoJc9Rfodu7alvThxufMZHBXhhHcY6cdUFlBt8owlcuegn4HIFpxplcgZWpWeMdOKAm4tUCd\n",
       "xhReVGZJx1K8B1ViJEX1cTJmqH4mYNYbiKVEzRuvSYazXQzWapxxS1Fatkwi0nnoUCd1MyKSPbqu\n",
       "GONmlKZpcZBDdDXJO6R1UjxszDGhA0RnY5CIHK8rH4/ruPalEzpqgkQkuvXxc0Jblzntl+jXgo2p\n",
       "3BPqkqEb0RX3cKtMrUZEsksvm1iUwsXlBF02/AeSPjvy2jPWzGnoPDL3beIibVEm0VGgJ2kmV62k\n",
       "Scbsc8dlekUgK+RPxZ2Idix3HH7ASzoFOtOyk5JcumY3NKcRPd20zgzJpcs2VrDXbWFAqhw1jJ1i\n",
       "NP4lYIgk2NN4ghcZ5docw2Ht99psh4X0LQ5yiHlhMClyVK+X6AwlxfY/Ce46+fCvPUQk+UMbM1O5\n",
       "6jCISFb1YGor7pKhab2rwQTOGdeChtplEJGU5GDz+cHfqvLk32PH5vTeGR+H4mM0jIG1Yj9bsa2g\n",
       "S2Nuu+T14Ko+hORVcI8IOtIy4EBkRCrb1t5mZVeDLHmZIXItyTkmIL+pUYHDdVBxrlOIKNmZ5JOi\n",
       "hKdoNcdw8OxWJLmgj3YQEd1wkqDoXq/e0SE5rX+gQzzEiEhSQxuz7NbNOZIEly6ktuIuG+blo8jS\n",
       "dYkHu0PLVVI3gk0O8dmH0/Ti2p6xVhklFedXQ04skN9sOyTHPgR3CMnP4C4G0xPcPaFCvm1tb/Wi\n",
       "/Z+CHNQJs95ALI31RqXav3rNLwRfGoN7ZBwGqYvpkiG1MH9j4Q6ZB9GYkXxwF6Na2KPuVXWsCQUI\n",
       "MXwfaqQ27zmoyJ2p3A3qqtG6OmaiJU0yRHf4hKEgR08KBIZzPTlQo5mD0o6+lAxoM+T4pPmtc41o\n",
       "X5+xayaQbfIzuAe9aWmVEeRwpac1qpi6UfG0KBRboAKQooYl7dka2ucGh3XQjS8yZ7DiDm2BchcL\n",
       "2jQyyHcIo5QCERFLfmJpJeoWZ2mgOB4IT0IXmdC++yNpOE0Rg3PuU5wfxZSKdcmI3GKk6oVYhfU1\n",
       "DOefmqsU6MjM3iAlIzn2H5+0cGhBw7dLdW9TWJK3mEO+ys/g7t6flj2Ur3GglzWo4TUfEakCgjv0\n",
       "isk64dTU/M/AgE8eNtmtR2btjYzDIHcxwakRkf8IKu5AFHXjcuJUfaBWmShCSzhAh5OZf2+Kt7fa\n",
       "v3j7PMJkI9KiI3QWYpgb9kzMgQzdn5qSaSX6j09aOPztCnEyRBK6C3GDh/7yM7jbP07LRSX37oHb\n",
       "BHs+lIlIkQt3zwL9OfcMsLV0vi5KrlTufB11UsARDu7hI7rSw8yenMBRBHcgihpIMXGSs3dDHbAB\n",
       "RgqneSVyO0eqezGcO/v29eoKD7SGlhs5cygoqmeYwV0Q0ni5L47oM8Bh01xGsnMR5I1A+Nbw6HGo\n",
       "m9b7EnnzIS/lZ3D37lTVVN8qyg3eXTXI+QAnIooe/QAKnK9Vsb0+wHRLXKWOA6ksurvtkiCEduuR\n",
       "ijvXyN0iE5HWY6TkzjDIdao36dAjhPMxZ1zpHii4h9O8NopjbOuqETgaCqDBgryFQxtucPd1pT64\n",
       "d2wNDvkcRUrNLkh2F+iuTJBCH5x5N53p41s7u3Zj0LAClZ/BnRi5G1J8E723SVXb4+0xZYzgAWGN\n",
       "232DVR833GrrTF1276wSg67wbj1qlpPujaGTTKG7EMMN9KGNILgrXsYH2rdFyvCSc/QSFdMMf21o\n",
       "kw42F+Iud9gVd/eeFAd3xcsaP/UN+bQB+6yGQfYW4sdNRJ760AenhJuODI2rPYarB7erFqg8De5E\n",
       "XmeKx05ydQzxT5KmxnrIRZ3rBq2FaF1Gy5aUBXfbB5LngEpEnHPZ1ntgc2wIbf+CG8EdhlNxF8PB\n",
       "XR7koo3qNMyBSlKVzBLBNB6oDS1ObCrEJDfs4O5JdXC31QQ9CRz1hBTdV6qkYnSaXOTeFapCKlr4\n",
       "X9LDyCDbpwjuBSpvg7vzSIq36Z76ATofokX+uwCkuIOXpao3V/EyuZl5D6hEpPkNI2oLVW2ho3sw\n",
       "DY2tkHM0X/LBvS20DQ86XhYnxaMTkTiKNw4qApMiN8XaDV0quL7n4bfKHFQNlrKuaEPjRz/ymjuf\n",
       "+FI1kqMsFeJ5GhF59obe5Mjd2IpPJyLbB0NkEshXeRvcHVtSHKPt64Yo4XsGuhkRClP8wctSFdyD\n",
       "NpWIfAc1ip3nMpqnEZslDKfiLrWFplWKM5yfudWN5uQ43qNq9JyaoqPgwtywK+5GgAtdqbn+9tlP\n",
       "ut75dlPj4wGxQdfEIdYnVSM5KgV5FxlTePBI394w8+KDcFgPpugDhdySt8HdM8gIMMPmqxmitKB0\n",
       "GqkdMARy14DjXkdEmhBGKOjWiEjpYIqPyb6BX9O5FcEdhlOmZUFu5oM4w/mZI7iP5lB93iMx23P0\n",
       "OBsFQk/+HCzCb0vN9beOTwTbKxIREadg5xCvKbalqMfdX3CfNZk3KYX/bqEpPHNC+Fx6+0s2jC1T\n",
       "gPI2uEuNLIUzIjGViw1D7zX87WhLAFKDBgvE25mmKriLUrgS06Upg0wj4NqGibJhOK0yRCS7dIo7\n",
       "nJ8ZIKRRHE/dcyRmHysHCivMMYUb8vCDWkomgOMG91f3vk7AEa/oyw0ud6XmQBxM0W4ztwhRb28w\n",
       "0iQWnhyt9lF/+46hB/aBPJO3wZ2I/G0pi9FCtzbguAp9BDwI7hBq/I1DtRspmQMv2BOeicatDVYW\n",
       "FeuZ7CnES8wQbRijylD4tlTRNWgyU1Vm6Fy1j16juTc2uCupmNwnh2jCiN7qyIjgIxG06czfe/Ig\n",
       "ivGOeorP4Cm65leYw/aLwd6PTAy3yqisd7N3tKHTveDkc3APuFIX3OMWFSKCfgR3GHQUjmgpGUHP\n",
       "ezC0vYmSFqcs6mtFt0yhG0aPOxEpgk5EPZsHvWijMWYOcDFqdGfMwmS1sMKcNvj9BolwpaKDNBDb\n",
       "b+ONWyCTU9fLVJjBXVJ6/+pIxSf6ENO+BqO5F5x8Du4pHE9DDCQU3F37kJAg1PgbX0p6c73hC9ZB\n",
       "txqnETngwWZZ6PRh3dFo1rOdmwbdfmQvUzI6unawvbBuztOHuhM0vpHe+sWJiITY+lT8u2hS2LAq\n",
       "FmRw97dFbeGczLtRowdg7f5ASsn1W8gh+Rzc3QdSlldEOaHDA0aEBCJSEpiKSwmm4CDkrwltlt4a\n",
       "TRy8kdSPDq7CpksGE4bTGO3pVNQAC1QPuvcTO/XMjq7tP1JgwV0eUURzb1eGPYAm59xeLRJR0B/z\n",
       "njvj3kVjXrRJCTE8zFFB8R+K2Xt7OhWKHYCVebnzaMxHMMJ+Ksh++Rzcj670BVJ0E72/KaHDg2eP\n",
       "ygtvzwJ9xOlaiZBHPA247GFyeKRtX7UaZ0g+F84nC5vqH+aBvPb3Pk+TEictdW0TN/y0a5irlQqF\n",
       "VivRRlZb5TK56oZ5t7qjRnLZJepXEROO6OrgJ2+CmLIzK+bjagIXM/OM/3DMG+h1yUQkxU555nH0\n",
       "fqaSUz/wpmN01g0yJZ+DO3PzvX/rSclL+Q4ldAKg2Q2xp7AqQNBfnK6V3uckEO7ji+5c9x/S4sxe\n",
       "6dpZWOEG+hh23PFv12rf8MZ5gvOfivv9TG5dvgOaoRdQsURXR1pMjQ55SWnd75e8OhH5+1yB4eRr\n",
       "GXQbcNencvOQnAXXLdPnmpL9M5k4BRpj3oeeg73TTR5e62p6LWUzc0N2yufgTkStf0/NfRveBCZ2\n",
       "NvmHGtQW8p4QdxB3kzjizuDoznWxUQ/UD/qC3r0qT92MiZBz1EGGCk3EoWc9KVyTlDOCPNBRQLtc\n",
       "fcRnKdEhL3Gc09HnfYEmjYj8R/q+4f7Bx4FI7TwSQipGxckhio8psZMk2D+WuvYH/btj3nDbh6GB\n",
       "ZdSgse9Rl6NKlt0Fd4ZTUPI8uAcOaiM/R2cq9+1L9NgQ9BbQUQQGJA1e/I4INo70COSLPlga5N0x\n",
       "6AGSeTkm2Ctk2nDbmonICGb7KV+gO/93uZHWdl0facW969/DGT3QdUTy79CCjbqhcaHflCaH3/MM\n",
       "1lft2p7KeSTaqgtrzHJnbd+zrMBBbcdz9j4PujaFbl1o/MyjNBnEqPsQhprJZ3ke3InI1TjSHYe/\n",
       "TTUSLlIECjK4e5vRjNHLXzd0Sg4mMJ9XfM7YpM7jLtPXVYibJZjUvB50IhBM17Yte9nGJzq0kQ3k\n",
       "kgKcOveGAiszRroyrk+UnkNJZ/e2g34iEho1wa7xfu9329PCR4+0MpUzLeY0T3brUmMqu9KPPust\n",
       "qIlCXT39kgenrj/3fZDL5KyV1SDb+bNQd/uBv7gMnW/9tc3QCujtKhz5H9w9ruFcGYzm704ilfoO\n",
       "F2Jp88grWX09fTRxgzs3DX2uOPKKe1JTogbTFm4g++kjvqEim/la07Jtc863PN916BHvkfWudLx+\n",
       "4nxtqqs7dBTTeQrOIg6sdib7K0df9BGR0KQLjoErDq2/Ef55dcN7y5qjH/Sm+qMR9uu2/dlVSxbT\n",
       "2XZv25hoeqm6t33rH2zBHaGV6fiz+PEDHfvud1W/nfRnDdkv/4N79+aRBvekKjq+wwWXkDjnR//i\n",
       "xZm9KdCuqV1DH1yFxhHt7jXBSLx9i4gCjoLbLCFCY5muGadT29tpSXJ7/txz9BEfETWtzsytfkwN\n",
       "7VGdzaI3PDpCSkb6q3vC7+jXgxGHu072bFCJSGpnwcH3JK71Sueroru+t6Bgb0z9R7P35SwaMqV9\n",
       "V+C97zQzJV3HvsT7mvwbtEMPxtxHXvcbHxHt+4XL0HjNm671/9teUBcr8lv+B/fml4Mj3Nm5DyVR\n",
       "cfcXXsVdcjCxRXccGukJUn7wtCdUCJc7mTlrhmAfzgbTvidgJHO525NMyoc8o2n5XHF3/Fv2t6d4\n",
       "82761LfjjlBA7PqnKHtYqsauCXSpBz5w7Huvxxt3PuNPn+zY8ZLN/NpeK/rCMzao7lScgzHa/FRX\n",
       "25ZET0jMPhnzFx11Q+zn97/p4AZvWO+VHPqen6a+3Nv6nNCxc7RPpWSP3rLN3+dBXTI23N3pfFtp\n",
       "+CwtF5wdRyTx6EjL+cI+ffPPbZ/+p632KV/9JwOMECVgHLwclP/BXes2Wnf1/ZdLiiOBzocIoU4z\n",
       "CmwEj2C3SkRNO3yZXpGs4HUndppnkOhgRLTjib53GiWi9u14g/T159mL4F64ZGc+B3ciaq8OJTnV\n",
       "z3wjvt8m0KWuv7kzMno9V2nDTzpeOau2+n1H7drhR7Tmzb5tL9reubV589X2rdf2vL6ooefIwCff\n",
       "tv1CzQ+9+x9w26tFT6t8+ClvZBaeVH2UXX+W3lvSmsi9Se4m+cAz7si33ZuGCO5HHva9e0vzR0s7\n",
       "XjuvXjqclg3vg6+1d9eMasPM5t91/fvCtqPvu6MfPPKBO7BNJ6Kjf0/LsW//66m5tlD9qJsMIqKm\n",
       "9/sGIcXP3v7PpmCKpruBUZP/wZ2IDvzF6Tw6zHqw6NTtHyTxu4ZEor2wRmISvBoR1TzpyfxdXFlg\n",
       "yANbhOTWRId+9AVvskV3oUdrXpVczcl3UC3ASQfBJNvzPLg3vxv6dzjwjvPVk+qbNw0dpGS37jgk\n",
       "8agJ8+qrPH+/sO6f1zdU/axd64zZlTU9FxAO6Z991f7pcpvsSWL3bmh8/+sO2aOLDm3Dd7v2ftfl\n",
       "/yT0z85cfO2ytv5D7KsBtvtPPUTEJfrX55v+eX6T0mQIdbrZi+g7mMqM1d0QL/7KXv3Nrze+/rmG\n",
       "4NbeP9m+fuj9W+drIhFJzena6rRO461Fze/e0vz+nc2SK+1HW1edXPuon4g2fMPmrJd00ah5z3no\n",
       "HdeWb4dqLh2vCkJ36GNV/Mx+QOw5Opyhe6J11wh1T4yo4NifbV3fz65ll8/3qXZ4rZtj5sicUhDB\n",
       "vfuv8hunNm78v44+j0sufcj5nzsOBuKP19FfIVx7Eu1apLFPlDUiUluNQ29n+C6ujKuv8jY8k+je\n",
       "VvLrbXv9XKOeuuT28nWfeHiS56Faj1GAc5fkLvth4c0bGne8bPvHxXXbfmuLPC46tPatATbQKDFM\n",
       "5Z07gy2b/P2nsVR68vyM2vaByA2uy8bBJ91k0EfXddiq40XSQKf66nn1q09vXP9ou/l2te8KrPty\n",
       "p3eb2vOubFs16H+XZjO2vTREdm/fGziy3mW21lS/7dxyk33Ts10f3Nfav/wc3K63bI/ZXTgbpL9+\n",
       "vrbtufDKc9K6DSLiGgVtGqX60lnb+mDdR56Gj71EJHv0jU91vHVzY+ee0Ag2O17q7n5L4rHXm5k7\n",
       "KxIeV6nj70Lrc8K/720Zcn6xyN0Cw2uarf04VGg3AnzdPe3bVtk+vbZ74w025g2/FYwO/MtBRGqA\n",
       "vX5F/b/OanrvutaRjKQetKkffKONUn3iIx7RIycYJvt+kYh2LXf+ad7Rjt2B9h2Buk88yPDZrzhN\n",
       "r/uvf/3rsccea2tr+9a3vvXQQw/NnDkzTQtK3KGfeM/8r2Mmzy83v+UG3/DLjnHTSi65f3ac32p4\n",
       "N+mrYKI/z4O7q1564/TGz6+cfNGds4jI3xr6e7fcap9wbMmJl1ZmdO0yxteurP+PzsT3trKsH/y9\n",
       "m4hsh4UTLp6Y4G8xxdj/C/fQz+vH36WOmZqu/3dIIU+L/O7lrZrN6H5HIiLPZtf0z1eceNlEznnV\n",
       "j9s7VomVS0u+8tLcSXPLo3+r+k3Hlm/0EFHFWcU3vHNC5dyyyI/knjyvuKsdhrdJ9XRJ8lFGRMzD\n",
       "11zesnT1sSde2vtvpfqZtcRSPMZKRNte6FYaGBHV/cwf7NZO/dqkbQ8lOsf24f/11f82MG/Z+J5N\n",
       "smpnFccXTzm/7Jw7pgdtWmmFtfZjz7673MSp++figi9P3vmAg4jqfjroyXzNn9wnXVpp2y/0dAi+\n",
       "o1rTqwG1eeBwKTi0MccUC3WpPP1ueTXY8mqQDOq4J9j6TjC4XSeid/7Rsui5Y8bPLKl5MLl+vIyw\n",
       "vyJXTW378mNzS8YOUIUUHVrHvuCWe7pPu68y0Ko1/SF404GTxs8qTfz1ZY9e80Tv++D5QPV8MMC5\n",
       "07673OWTi92tsvkeynXsyMfuhTdOi/PKnHNvoxqwq3MuGh95UHLp7gZ5869tUnVa/mfdzfLYGSWR\n",
       "b7v+HTpHVZrZu+e0ml+XbS2ae8GEdCwdUsWSjkskGzduvOWWW9asWTNr1qyXX3557969r732WnFx\n",
       "EqGhqqpq6dKlA/7os5Wd1Q8Ms9HwnD8fc+7tM4iIc771d7b997iJ6Ivvzjr12skDPr9+nWfdFZ3J\n",
       "LuUL62Yee8r4sdOLi8ry8IIGN/g7dzR3/Vm0FNPX958w9ZSKt25tsr8e+v8fd07xzRvnF1fk4R8e\n",
       "H+d87QOtzb9OYn6QOd8d27ZKICJLKX1189zjzhk/5K8Q0dEP3R9f1TWMNVz60ez5X540jF+ExLVu\n",
       "9TPNOOGSiRaLZXiv0PCx99P/tsm1MYdt61jL+S9OVYJsz3dDF7XKTyn6r43zyiuL977as+CqycT5\n",
       "a4sbdXso8038cunn759ERMfNn1A5t+yfVzX0fJjKeXCy0BUbjq1909vyXNQ/oJW+um3upNlljgbJ\n",
       "1S4d/LmndIr1+BvH92yTul9P9Z30VqLhXtUoPc6qtg/9y19aN2vanIrXFjQMczF5bdYdY778+Jyx\n",
       "00pat/t7bJERAAAgAElEQVStZJk8t3zszBJvq/LO15uFPTGnOic8PO60qyYf+LuzbELRKV+tnHvB\n",
       "BGtx6F/VUSsWl1onnRBzPrzjJdvu7wznSvKxt1Rc97cTmzb5OncGz//ezD7nFZpgrHusreVXQSK6\n",
       "esuc4y+cILn0pp3enT9yivvSeGl0yTvTPn9d6HRCDbI/TjrC+y2t8srSq1+YO/G40gOvO61lltmn\n",
       "jZs0v8xaNMwdGqRDWoL7f/zHf9xwww0333wzEbnd7tmzZ3/22WfnnHNO4q+QpuBeMsM695ZxQovm\n",
       "2aHK7aFDo2UMzfvB+LPvmDr1lIroJzes91Zd15HU2B2msYuKhX36hMtK/uOf88ZMzrcaZ/Mm3weX\n",
       "tJtfjzm1aN7t4/sUZpasnv75G6dmYtUy6ch77k+uHU6eNpWdaP1/W04aN2OIUpDiZW98pSGwbTiX\n",
       "dMacXvRf608aO71k6KdCkhQf87eph9e6av7XS0RnPDXportmJnvezjltf962985EU8IxN5bJzSy4\n",
       "W59waYlUz7SBBiEtnm79fzvnvfe1Vt+ePL//7OSfTmj4ub9PW2PxVAsL8mT7yrLTyQ9OOOWrle9f\n",
       "3JbpFclSx3y97As/nv3mRc2GwMlKky8o8+xUhmxznfq18sV3HzP7zPGtO/0bbu7iBi3434nHLCw3\n",
       "7ygItGgHH/IYgeFkpKJJljtsp735tUbHB/KCxyZ+6SfHRX4U7FY/eqit+6+hc+kxnyu69u3jt7/Q\n",
       "3fp02u+4nXnjmK+tnmd+bdsjvLW4ecCnWcdZrMWkh3uBZt0xZkxlsf19+YRvjzt20bip88eMn9l7\n",
       "qNJEw1B5WWWR+W3bzsC2n9ipgl/8w5nTz6iI7AbFHp0zPnbmAAcgT6PSvMvX8YGgC/zM/5l84sUT\n",
       "I2dTyWIqNzQ+4OUXky4bRWWWYRdWskTqg7uqqhMnTly/fv1FF11kPvKlL33pvvvu+8pXvpL4i6Qp\n",
       "uMdhHWu59NUZJy+d5G6Q26r9dS/4vVtGeqg77u6xX3lyrqXI0rLNN2XOmMoTyob+nUwwuzxLxxf1\n",
       "eTzQpfra1Mo5ZeNmhf7ZHEfFD7/f7t8Yb3dYMst6y/6TK6aW6LLhaVDKxhdVTC8uLreqflY6oe8i\n",
       "ho0bnHPqUwbwt6u+DmX8tNKiUkvp+KLIriStvC3KofddBx/2jHBy+OnfKj/95snT5lRYiCpmlDCZ\n",
       "B7tVVWCaxg1mFJdY7XXi/p+4+9w2l5TSE6xn/HjStBMrps4bM/7YJK4XFyyxW6sIX1kWHZr9qNi+\n",
       "K8gZzVg4xiBucG4lS/sGofG3/j5n+JOuLF14z5Rx40utRZbJJ5fHOYGXPXrLHr/FYumpEQ/ek/o9\n",
       "25nPTKr7tV/uyPNumbxXeqz1gj9M+/Sr3ZlekexlrbAY4rB2whZKx737S984tuq/OojIUkq3Ns43\n",
       "d7lM5e98p6n7rzFnk5Yy4qMz+biVvtl+inlA/+zXHdX3D6cbqmSW9ZQVE8efWKw4Wc8WufM1kTMa\n",
       "M7d40c+nnHjJxFdPrTf8oXfTOt5yzMVllZ8vVVxG65+CxGj28oqrVs7tqRMP/NE19aIyqZO1vyP4\n",
       "d8UkisovlV72y1mzF43jnLfvDLidsqHw4nHWzo/Ejr8LJ/xg/OQFpd2fyc5t8rgFxfNuGW8tsli5\n",
       "xcItLR8E2t8QSmdYT727kklc6mbTzy8fO67U71MsRaT7+f4fu+VGZh1rOe72iqWPz5Hduq1RYNwo\n",
       "thZpTJ84vrxsbBFxcthERWBFYyzjKkoVhbX8OzB2Tsn5d8wI9Ci7/+CYML9k3kWVFZOKA92aFNA4\n",
       "J7KQzgyLhYqtViIqKrYyw/B7FKmbKS5j8lmlxaXW4z43YUIyPVrxpT642+32GTNm7N+///Of/7z5\n",
       "yLJly5YsWbJs2bIBn2+z2Wpqavo/Plhw3/Ib25Ff5kDvnWnG1WOCh7Rgi05ExSWWolJrxZzissnW\n",
       "sfNKpi8pnzSrfNzUEmupRZc404ziMmtRmYWIisqsRSUWspChcl02OOPFFVZriYUzUnzMWmwpm2i1\n",
       "llo1wYjcpsYNMnReUmEtqbCauyFNMJQAsxZbSsdaLVYLERWVW6ylFouFVJ+hCkyXDLJYOvcF9z3q\n",
       "Ujzs2GvHnvi18aVjimRRl3p0xw6l/e2gOU+f1Wopm1hEFpISu+Gm8szSGZeOafxzIHIzkNViMTiv\n",
       "mFY8eVHZ+JNLyqZYVa8htOqWIkv5dKu1xEJEmt9QnGzM7OKJp5WWVVolB3Nskj17FF3gY2YUFVVY\n",
       "DY2PmV1UPr3If0RzbJfIYqk4ptjQuKHz4gor0wzJFZNOJp5cetzXxpZNsTKZF5VbNL8hdrDisZaS\n",
       "SquhcKmbSe1szKyiirnFJROsVjNZFVHxGKu3Ri2fVjR+XokWMGQHs1ipbEpR8XhLsFl3bVPkbmYt\n",
       "tihOprgYWUj25WQkKp9UNHVJ+fiTS8qOKSIisU3X/EZJpbW4wlJSaS0qtXBOmtdQPUbxBGv5VGv5\n",
       "1CJLkUXxMGuphWvEJEMLcNUd+ts1v1FUbq2YW1Q2uUgXDEuRpWyS1Vpi1RVD9TImcl3gxRWWonKL\n",
       "tdxiKbIoDhZs0AyVmGRYyy3j5pWUVlo5J9VrEOMl462ynZVOKZq8oGxcZQk3SBaZpjHJrbt2Ku4d\n",
       "ih7kXOdjjiu2llgsxVRUGjp/G3ti8di5xYrb8B9SNS/nBte8huJklReWnfSNCf4GNVCnTTyjdNqC\n",
       "MUXFFr9Dbf+3ILboxeOsxRMtMy4fc8zcMUWlls59Qsc7QlGZRWjVA+3aCbeNO/ErE2y7xKO/8Q1v\n",
       "pFeLlY45u3zsCcUWqyVQp1UuLjnp6olNHwWCTdrUC8oPr/RqwTTePGq1WjjHoBH54JiLypxbRiff\n",
       "QQqMn1US6ApF0vn3TVh06zQi2vkHe2OSY4Kl1iWvzJi/dJK/Xf3neY2p3S0UlVjm3D62+cUh+kVL\n",
       "yqzaQLfX9zFlUZniMIJt6bpjsLjYoiczOcOM68Z4PlMUzzD31Ve+fdyx548b3u/2l/ngDgAAAAAA\n",
       "Q0r9TYSTJk0qLy8PBnvPulpbW2fMmJHyBQEAAAAAFI7UB/fS0tKrr766tTU0tJDH49m6devUqQV3\n",
       "tyIAAAAAQAqlZcyT//mf/7nttttOPfVUczjIa665ZuHChelYEAAAAABAgUjLeNuXXXbZ008/fdtt\n",
       "t82fP7+rq+t3v/tdUoO4AwAAAABAH2kZxx0AAAAAAFKr4Ga4BAAAAADIRQjuAAAAAAA5AMEdAAAA\n",
       "ACAHILgDAAAAAOQABHcAAAAAgByA4A4AAAAAkAMQ3AEAAAAAcgCCOwAAAABADkBwBwAAAADIAQju\n",
       "AAAAAAA5AMEdAAAAACAHILgDAAAAAOQABHcAAAAAgByA4A4AAAAAkAMQ3AEAAAAAcgCCOwAAAABA\n",
       "DkBwBwAAAADIAQjuAAAAAAA5AMEdAAAAACAHILgDAAAAAOQABHcAAAAAgByA4A4AAAAAkAMQ3AEA\n",
       "AAAAcgCCOwAAAABADkBwBwAAAADIAQjuAAAAAAA5AMEdAAAAACAHILgDAAAAAOQABHcAAAAAgByA\n",
       "4A4AAAAAkAMQ3AEgf3DO169f/7WvfW3SpEmVlZU33nhjVVWVYRiRny5ZsuS4444TRbHPb33yySf/\n",
       "+Z//OWXKlHHjxl188cV//etfnU6n+dMHHnjAEquqqqrPcg8fPmyxWNra2sxvOzs7L7nkkieffFLX\n",
       "9RH+RV1dXX0W961vfav/CqRD/0WPvsH+2Kqqqm984xujuSZ79uyZNGnSaC4RAKA/BHcAyB+/+93v\n",
       "vvvd737nO9/Zu3fvwYMH77zzzlWrVrlcLvOnBw4c2Lt3b1FR0e7du6N/67e//e0dd9xx++2379y5\n",
       "8+jRoytXrmxoaNi3b1/kCY888kh7lPPPPz/OOrS3t99www3XXnvtgw8+WFxcPMK/qKOj46abbop+\n",
       "5Lbbbps3b94IX3Z4ix59o/bHAgDkhJEeVAAAskR1dfU999xz4MCBM88803xkzpw555xzTlFRkfnt\n",
       "p59++oMf/GDevHmrV6++5JJLzAcPHjy4YsWK6urq008/3Xzk2GOPPe+88yJxn4gmTpx47LHHJrIO\n",
       "LS0t11133bJly+68806rNVQZcTgcBw8eNAxjwoQJ55xzjvn4p59+evzxxyuK0traevLJJ8+dO7eu\n",
       "rq69vZ1zPmbMmHPPPbe0tNTr9e7YsUPTNLPqPH/+/Llz55aWlpqv0NnZefjw4SVLlpjPmT179mmn\n",
       "nRZZk9bW1vr6es55n8edTufBgwcZY2VlZWeddVZFRcWGDRtOP/30mTNnmk9oa2urq6tbvHhx/0Vz\n",
       "znfv3u31eq1W6+mnnz59+vQkP6KB3wrzD7ngggt27dql6/rxxx9/8sknm8+P/LFEJIrijh07dF2f\n",
       "M2dOIi/b5x0uKSk5fPjwRRddtHPnTk3TTjnllDlz5nR3d9fU1FgslsWLF0+cOJGIOOf9P4hk/0wA\n",
       "gDRBxR0A8sTu3buXLl0aSe2mMWPGmMFLFMWVK1def/31S5YsWbVqVXd3t/mEPXv2XHHFFZHUHjFl\n",
       "ypT4i6uqquqTXGtra6+88srvfe97d911VyRu1tTUnHXWWdu3b3c6nY899tjjjz/OOSeip59++rHH\n",
       "Hnv44YcbGxu7u7sbGhp+8pOf1NfX2+323/zmNytWrNB13Wq1WiwWIjJbdMzX/OMf/1hfX09EbW1t\n",
       "3/zmN1esWLFv3769e/cuXLhwz5495kI3b958+umn79u3r6mp6fLLL//b3/5mPn7w4MEzzzxz7dq1\n",
       "Xq/3ww8/3Lp1a3Fx8YcffhjdjvLqq68ePXq0/6J1XX/kkUceffRRh8Oxc+fOc845x1yNxA32VrS1\n",
       "td12223f//73Gxsbjx49evbZZ2/atMn8lcgfKwjCHXfc8cc//jEQCDzxxBOvvfbakC/b5x023667\n",
       "7rqrurp648aN5513XlVV1bJly9rb219++eXvf//7Zl/TgB9EUn8mAEAacQCAvPCDH/zgxz/+8WA/\n",
       "NeuvkiQZhvGFL3zhnXfeGfC3vF5vT09PT0+Px+MxH7n//vuvu+6630ZpamrinO/du9fMiJzzQ4cO\n",
       "EdH48eOfeuqp6IVqmnb++eevW7fO/Nbn833uc5/bs2cP5/zaa6+95ZZbVFXtv6q6rn/xi1/cvn07\n",
       "53zHjh1TpkyJ/uk3v/lN8wW3bt1KRLt37zYff/HFF1esWME5l2X5lFNOifyBO3fuLCkp6ejoUFV1\n",
       "0aJFr776auSlGGPm65xxxhnmmng8nsrKyurq6v6LXrdu3Ve/+lVRFM1v33jjjdtvv32wd7u/OG+F\n",
       "+Yds3rzZ/NGaNWvOOOMMTdOi/9g1a9Z8+ctfliTJ/AOvueaam266Kal32FzK3r17zW+XL19+2mmn\n",
       "mZ+y3++fNGlS5EcDfhC7d++urKxM/O8FAEgHtMoAQEFYvXr1/fffX15eTkR33nnn888/f+2115pF\n",
       "5Wg/+tGPnn/+eSL65je/+Ze//MV8cNq0aaeeemrkOeaLLFy4cOHChdG/e/vttz/77LPXX399pNOj\n",
       "vr5++/btwWAwUtKeO3dupAnn5ptvLikpMb/WdX316tUvvPBCXV2druvBYNDv9w/5R02dOvXss882\n",
       "vz7xxBP/9a9/mQutra2N9AItXrz4uOOOq6+v93q9e/bsufLKKyO/bpbwFy9ebLFY9uzZc/755+/Y\n",
       "seP888//3Oc+139ZVVVVCxYs2Lx5s/mt2+1+6623/vznP0c/R1XVYDBofj1x4sRIk9KQb8WECRPO\n",
       "O+888+sLL7ywurq6qalp/vz5kV9fv3798uXLzXe+rKxs+fLlq1evTuodNt+us846y/z6ggsumDZt\n",
       "WmVlJRGNHz/+5JNP9vl8NNwPAgBgdKBVBgDyxOLFi7dv3z7gj7q7u1etWtXY2PjCCy+88MILu3fv\n",
       "rqqqMsvkixcv3rlzZ+SZzz33HOf8lVdeif71+fPnL40SaQfv4957712xYsVVV13V1NRkPmIOX2PG\n",
       "TdM999wTyaPRt66uXbv2zTfffPHFF1tbW51O54033pjIn1xRURE597BYLGZTh6IoRDRu3LjI45WV\n",
       "lYwxWZaJaPz48X1epKSk5IEHHlizZg0RvfTSS//93//d/3yGiOx2e/Tvzps3zzxPiLZ169YpYY2N\n",
       "jdE/iv9WjB07NvJumGturm2E1+s1e9Ajz0/kZfvcHBz9dhUVFUXeIvNb84vhfRAAAKMDFXcAyBOL\n",
       "Fy9etmxZdXX1GWecEXlQkqSioqIdO3ace+65V111lfngvHnz2tvbt2zZcvrppy9atGjZsmU1NTX9\n",
       "29yTZbFY7r77bk3TrrnmmrVr186dO/fYY4+1Wq3HHXfckC++bdu2W265ZcGCBUSkqurOnTtvu+02\n",
       "80ec86RWwzyvaGhoMK8S+Hy+2tra8ePHH3fccVarta6urv/KXHzxxd/5zneuvPLKDz/8cNWqVZHH\n",
       "oxd9/vnn19bWLl26NM6iL7vsssHWNv5bYbPZ7Ha7ec9AY2Oj1WqdNWtW9BMWLVq0Y8eOK664wvz2\n",
       "wIEDibzsMMT5IAAAMg4VdwDIE2ecccYzzzxzww03fPjhhy0tLW1tbZs2bbrtttu8Xu/zzz9/5513\n",
       "RlfNb7/99pUrVyqKcuaZZz7zzDPXXXfd2rVrm5qauru79+/fX11dHV2s9fv9XVHMnoq9e/f+7Gc/\n",
       "67MOVqv1vvvuu+WWW66//vr29vbp06c/8cQTP//5z2tqaiRJstlsn3zySWtra/+VP+2001577bWO\n",
       "jg632/3cc8+53W7z8cmTJ3u93ubmZsMwEkzws2bNeuihh1atWtXR0eF0On//+99/8YtfXLhw4bRp\n",
       "0x5//PGnnnrq6NGjkiTV19c3NzebvzJ37tybb755+fLl9957b+Su3D6Lvuqqq1599dW///3vLpdL\n",
       "EISDBw9+9NFHiX868d+KioqKVatWOZ1Om832pz/96Yc//OExxxwT/euXX375L37xi88++0ySpC1b\n",
       "tjz++OOJvOwwDPZBAABkAwR3AMgfd9999x/+8IdVq1adddZZZ5555rPPPvu9732vu7u7qqpq8eLF\n",
       "0c9ctGiR0+k0B3S/++67X3zxxZdffnnx4sUnnXTS3Xffffrppz/55JORJ//f//3f7Chvv/02Eblc\n",
       "LrMbvo+ioqIHH3zwhhtuuPHGG7u6ulasWHHllVfeeuutEydOXLJkyaZNmyoqKvr/1jXXXHPCCScs\n",
       "WLBgyZIls2fPvvbaa83H582b96tf/eqCCy4oKir65JNPEnwfHnrooVmzZp177rknn3yy2+1etWqV\n",
       "2eq9YsWKiy+++Prrr586dery5cu9Xm/kV2699daGhoarr7468kifRR9//PFbt2797LPPTjrppBkz\n",
       "Zjz88MMJrkxEnLdi6tSpF1xwweWXX75gwYKKior77ruvz++edtpp77///j333DNz5sz333//2Wef\n",
       "TeRlh2GwDwIAIBtYkr0ICwAA+Wfz5s333HPP9u3bRz5pVLK2bdt20003tbS0jPJyAQByDnrcAQAK\n",
       "Gufc5/O99NJLKZnqFQAA0getMgAABW39+vUzZ86cNGlSdJ8MAABkIbTKAAAAAADkAFTcAQAAAABy\n",
       "AII7AAAAAEAOQHAHAAAAAMgBCO4AAAAAADkAwR0AAAAAIAcguAMAAAAA5AAEdwAAAACAHIDgDgAA\n",
       "AACQAxDcAQAAAAByAII7AAAAAEAOSG9wX7lypcVi2bhxY1qXAgAAAACQ99IY3A8cOLB79+6xY8em\n",
       "bxEAAAAAAAUiXcFdFMX777//0UcftVrRjQMAAAAAMFLpStX/+Mc/rrvuugULFqTp9QEAAAAACkpx\n",
       "Ol60vr7+hRde+OSTTxJ5ss1mq6mp6fPg/Pnz586dm4ZVAwAAAADISakP7pqmPfroo88888yECRMS\n",
       "ef7MmTNnzpzZ58GqqioEdwAAAACAiNS3yuzYsWP79u2yLFdVVVVVVTHGdu/evWXLlpQvCAAAAACg\n",
       "cKS+4j5t2rQHHnigsbHR/NYwjK6uru7u7pQvCAAAAACgcFg452ldwIQJE9asWXPZZZcl9VtVVVVL\n",
       "ly5NzxoBAAAAAOQejNUIAAAAAJAD0jKqTDS/35/uRQAAAAAA5D1U3AEAAAAAcgCCOwAAAABADkBw\n",
       "BwAAAADIAQjuAAAAAAA5AMEdAAAAACAHILgDAAAAAOQABHcAAAAAgByA4A4AAAAAkAMQ3AEAAAAA\n",
       "cgCCOwAAAABADkBwBwAAAADIAQjuAAAAAAA5AMEdAAAAACAHILgDAAAAAOQABHcAAAAAgByA4A4A\n",
       "AAAAkAMQ3AEAAAAAcgCCOwAAAABADkBwBwDIf4qXZXoVAABgpBDcAQDyn9ClZXoVAABgpBDcAQDy\n",
       "n2BDcAcAyHkI7gAA+S/YrWd6FQAAYKQQ3AEA8p9gR8UdACDnIbgDAOQ/wYGKOwBAzkNwBwDIf6JX\n",
       "45xnei0AAGBEENwBAPKf6je0gJHptQAAgBFJS3B/4403rrrqqnHjxs2ZM+fJJ590uVzpWAoAACRI\n",
       "8xsyhnIHAMhxaQnumzdv/uEPf1hdXf32228fOnToRz/6UTqWAgAACdL9hhpAcAcAyG2WdHc9btu2\n",
       "7cILL/R4PJWVlYn/VlVV1dKlS9O3VgAABeVvC2u/uGr27HPHZXpFAABg+NLe466q6qRJk8aMGZPu\n",
       "BQEAwGB0P1dlVNwBAHJbeoN7IBD41a9+9eSTT5aVlaV1QQAAEIceMFQNN6cCAOS24vS9tKIoTzzx\n",
       "xAknnHDbbbfFeZrNZqupqUnfagAAgO43NIaKOwBAbktXcNc07ec//7nT6Xz66afj98nMnDlz5syZ\n",
       "fR6sqqpK04oBABQaQ+OGQmoQwR0AILelJbjruv7kk082NDQ899xzEyZMSMciAAAgQbpkEBHGcQcA\n",
       "yHWpD+6c85UrV7733nsvvviiJEmSJBHRtGnTiovT2JYDAACD0SVORFoAM6cCAOS21IdpTdMefvhh\n",
       "Ijr77LMjDzY0NMybNy/lywIAgCHpskFEuh8VdwCA3Jb64F5aWpruseEBACBxuoJWGQCAfJD2cdwB\n",
       "ACCzmMKJSEerDECuMVT820IMBHcAgDynq6i4A+Qkwa5lehUguyC4AwDkOaaZFXcEd4AcI7r0TK9C\n",
       "GskejFGbNAR3AIA8x3Sz4o5r7gA5RvTnc8Xd36ZkehVyD4I7AECe03VU3AFykqzkc8U94FEzvQq5\n",
       "B8EdACDPMcMg3JwKkGsMnUvB/A3unPwuBPekIbgDAOS5cHBHxR0gl6gBQ3Hl7b+tGmTB9nxuBEoT\n",
       "BHcAgDyn6wjuALlHDTLVlY23bxpaCi7fKV4mdmTjX5flENwBAPKc0KkTkR7khGYZgPTQhNSfGGtC\n",
       "llbcpVSMdaP4mdSRv41AaYPgDgCQ54JNOhGRTkzNxhAAkAc8TXLKX1MTmerOxpq05E5FcBeYhIp7\n",
       "8hDcAQDyXLA51EiqSyi5A6SFz5H6kQ01xVCc2XiyLTtTELhVKaGKO1Oy8R3IIAR3AIA8JzSFjo66\n",
       "jEMgQFpImq54U1w/1lRDdWfj/6zYk4KKu6ox2ca4MUQ1QbCjnSYGgjsAQJ4Tm0NHPqag4g6QFprf\n",
       "CHSmeHBDTTfU7Oxxd6QiuDPGVVJ88f5AzvN87thhQHAHAMhnumSoPaFDo46LzgDpoXpZ0J3iwQ11\n",
       "I0tHlRFTEdzNfhvFE++ldNFQpcy8A+m4aSElENwBAPJZ9CEWFXeANFE9hiinOLhriqF5DJ59/7Up\n",
       "qbiLnToRyf54uVwLGnqGbqlvrw3427NxfigEdwCAfCZ7o4K7hoo7QFqoHu5rTXHOU5yMq6RLWfdv\n",
       "K6XiOoDUyYhIEeMGd4FpLDMVd9nJmnZ5M7Lo+IozvQIAAJAuAZsqBaKDe/bV7gDyguphgboU/38p\n",
       "DoOItKBRUpFdZVbJrRMnsozoRcR2nYgUOV7xXpMM3cjMeYtsZ7I1G/uUENwBAPJW7afuwMHe46KO\n",
       "ijtAeqgeQw+mOLjLDkZEmph1/7aKh+mKUVw+otMJsZ0RkRq3oK5JGWuVkR2M69lY6UBwBwDIW97D\n",
       "Wu0vfJFvGcvG4xBAHtC8Bk/1FS3Zbgb3rKv7al5DF0Ya3M1B3OW4Y2hqqqFk6PZcxc6YnI07TAR3\n",
       "AIC85T+sUdShx2AGERk6txaP7CI3AMTSPIbmT3FtWGzViUjLvh53zWNoEi8fwSsYGjdHuxLa444q\n",
       "oxpyhqagkh1M92djcM+urinIaXIq5kAGgBTyH465W44ZnIg6PxUytDpQuLr2B4Pd2ThGR6qoHkO2\n",
       "pbg2bAZ3KZhlx1ZOms8Y4S2zspuRQRT+Gwejs9TMHSsln0+UHkPqzLJ3nogQ3CGF3Nk66ClAYTI0\n",
       "LjbGHHgY50TU+IFvkN8ASBenTdr2u+5Mr0UaaV6D+f9/e3ceHkWVLgz8ra5ek+5OZ4NsQIAAMRcR\n",
       "NICoqDCsirK54VXUUVDRZ5z5dGRGx2V0HBnhYXQEmUEUL4os1+3KIhCEKLssCQGSkH3pTifpdHrv\n",
       "rv18f1RoYkhClu6EwPv7q7vWc+rtrnqr6tQpIoSuPToRCWMRASDAhbiXyW4SWIlw3X0pRLC3K3/7\n",
       "V9wliW0IwemQOcfT2Vm4epGtFcmV1xknJu4oZBor2N4uAkLoIl8dT359iVO+xlV/NuCuupqvfaIr\n",
       "kKeMbzx+1f7qCAHBJcHlWmx3hK+2KU1nHCLhAQA85isrced9EnT7bW6sp2lD+avabeMuiFyXEnfp\n",
       "18+VVu73CkznCsw2SFIAeM8V107p6kzc5V9VL3JekymsvYgh0hV3borQNct3yUtSPGU8AHiLeFuZ\n",
       "vzdK1J7OHlZR3+Iu5F15HFylhwgxIMlJNtvu64Q6wprX1JIt2PrUde7KStzluwrd7OyFvfA+1EC7\n",
       "V9w5RxebytjOBhylF1sBWLb5/HWdaPciBCTJTyAUZ2Ihd3Um7va8Xm6zYS3xOsuvudzdXcqxTjz0\n",
       "IlFALagAACAASURBVHSl8LtbHu8bDrEiSwJVYm3hFZe4lx92Eez05urlLuT5eqkLTY37hGCPjZy3\n",
       "W3mexBPLqabEPXDhHKDFkyq9Tm7d3s2XQrBcU+24eklsdvGekF91f8k2SFyXEnevkyvc55A/+6y8\n",
       "N0/w2ztx/hM8Aev+mVjIXZ2Je8OZXk7cHaWstdjbu2Xoeb4yIWC/OnfKCPVFjpqWe8KGI4y/ngcJ\n",
       "zN9ecYl72U53yF88eVW6AhvddoS3iAcAb82VdfE4VIK5ZvBCctd4LHxjTtNVP9bfdDx1F/T0Rivf\n",
       "425nLM9IACCI3bpOx4sXswWm8eJGO/FxXXG2I/iVtXexqYzXw+W/55RbAdhKAgDQ/FV0ly+e90JA\n",
       "fddM4u5yufbt25eVlXXmzJkwraIdjvpebrPRcISt+OGaTNxdXU/cG84GQliYaxPjFProQR2FHoHC\n",
       "NS0fQg2UiPZ8BgDs+xjOLRKRnP8/R2sz9zSJJ1VbfA5LF29UXjuN9Di3eOCv1t4uRacJAYmpFgHA\n",
       "6+ir52btd6ISHMvz3crzvHWcM7dpEwWvSTOVYre6cOnwn8Nr5QghjeVM1sNmqe0L6gJLAEDsXuLu\n",
       "t13cUMHmKJxHPPFSQ8GnzuAozi7xDqmdP3jALrTaOroxj2NKRHshAwD1FX4ACHCdyE+4C/k6x1wb\n",
       "iXt9ff2sWbO2bt1aXFx89913f/nll+FYSzt4SerdR6/sR9nqLT6Ru1aOJQAgcYQxi4yvi4k7IZD3\n",
       "qT20RZIJAenaCcT5vQ5HSd9uoyUEJI+1rx7arygNhQHngVa2ZHWWDwCIAPUFgbwtDfsfr/Hbev8i\n",
       "aP1ZP2eWnLYu3iw99I61U7f7qo963K2eJHRjVyEJpAdOm3/5rO7M2411p/wn/1Mf7nWFkK+u6X0C\n",
       "fqZzP7bybFc7GWRPKjng5NpuNRF8QkN+D2jNsS72uOr1cv4SQb5+zwYTTQLeGr7jD4EQQpq3OqvJ\n",
       "9TUWX/6fVXXMs3F08c8rLdsWVPB2Sb79VbTb4ba03I3IL2AWSPcS92ZN2+tLmjZXTZ5P8pDarwPO\n",
       "C53UsXaRCO09uFh6yGk+1UqPMY0nWACoq/QBQPW3PgDwN3bitxfsO5/r3plYOIQlcd+0adPIkSM/\n",
       "+uijJUuWfP3114sXL66t7elOoBoqfnX51lkVmmzGWcFetrdy1iX6zwu8VbKd6+jN6IqsTndUdKXx\n",
       "NwggAct3MXF3V3Hl33k6ftgjhHQwHS875Ko9feX2Wi2G7oE8kSO5/7DXV/Z0EwhbXihvlVjzfMU/\n",
       "OS8/HbqcipzWb3abf2y6Gbj7weqD/10nOsmhj6wtemCwF3U6gWYcQkNJK78ExiFIHXhteNUZDwDU\n",
       "Znfit9RYxvA+iYiE84hn/+nY/w9z+ytyXegzwG/jt0+r2vNydYvpPTVcwc5G+bMkEn+DIH9gnMKB\n",
       "f1oclRe3ibOcrTvb8o9WsKPx3DdhufoQ5Kpi8/7UCBJ8N6n8l5dtXWia2FtPAPsvFNVZ3InTcmue\n",
       "b+fk6pOb6sJTqM4p/T93TV6bh5JgFyusV2Td4s6HKh1lDADUnb7MDrnFUc9j50ECj5kDAJ/5Yny3\n",
       "P1T51SOl5T+5in50OC7X83LFQXfhDw5fHV+w1+6r5899Zy896vRYuRbNtT1WrvxnlyQSALDkeHdM\n",
       "qRLqydmXnN5jAgC4rKwQkA69XPf1PWW5W23NT5/kxL07r2EWGKn24MU/+89P1crdSVcea8qFznzf\n",
       "9Ffi7BIA1F7IphiHUHXYw3lFv40v3u9wlrF5HzQW/+CqPOyuPvarPMp5igOAyp1e3i/V7w4AgPt8\n",
       "U+J+2USDcQjchYBywhWXuNNvvvlmyBf66KOPLl26dMiQIQCQlJS0YcOG8ePHDx48uONLKCsrGzp0\n",
       "aJcLUP6Tu2K3J2NeDFAAALb8wJF/WoffHd3lBQYV7Gn0NfJxQ3Wtji3e69QZ6IaiwPlPXAAQM00d\n",
       "naQlIjjL2Ii4Nl9SK/ilb+8qz3g0WqnrY48cNBYz2hiaoigAcFVy59Y4EufpEtP1XViU5bSn8H3X\n",
       "iMdM2ujWNhQByy9erZGmNQoAaCgO7HymUlBICSMj218skciPL5ipWEgZY+hgSWryvBpd04o6zmfl\n",
       "1Qa6rbGNRQytpmiNgvOKWUurbSWB5DF6iqZsRf6N6SXmsx4Pw2oj6IgYVadW2sLpzbbSVR51qmLI\n",
       "pKgWo4p2OwSe6OM7sfy6M/7IfiqKAgAQOaKgW3/RJuMU//eW0uH/bVLr26x+pxTsbsz/wHn94zEd\n",
       "fLUnIYSiKF8dr1BSPfw2UIknVBubpfcR2P98DdNaP2uBuqaBgqvp8GXPZht8AX2cUt9fRSkov034\n",
       "6s7SIfcaA43i2e8bDr5c21gfsFsD9krGV8MrlJTWqAQAzivyfuK18QdXWL31fOVxT+5/GoZMihIC\n",
       "kv08E7ALGiNdfcyz5bpSj4KNG6rTRLX8hUg8AQp4j6RQK7Kfs7DVkuMEp7+Bjk+PkJMJTzVvLwpE\n",
       "9lNJIhARDr9v1cbQkXEqABAY6et5Zcdfqc9da2dBsG4LOA9zQqyYkqmnFJT1lM96xvfzq9YBE/UK\n",
       "mir8sdF60r/9zirOxGt1yqJ9TstXft8ZoeKwu3S/u7EuYD7sTRod+dNKS8lG9/ULY1mXeOLT+sLt\n",
       "DqWWOr25wVHF5DzXWHHKkzgugvdLAkPO7mioyPakTTFRAPJRxl4S2POwueILT8wEdczgX71QknOL\n",
       "ChUl7yfbwjQKZ7fZ44dFNP+jeX+9V+E84o/vVLsO8QAgsUBYgAEkZaxe4qH5XLxHojWtr8tewhz/\n",
       "uHbw7S33D5ciEiESUIqLy7HkeL31nCFBfbk5ofyIy23molLURAD5D0IIyd1sq9vDAICzlLv+iVha\n",
       "ffk/jr+B3/FEJVshOUrYUU/FtbULCha4+RYmBNrd3u3WgDQtivOKRIKqY25roU+nUx1cUqtNVwwc\n",
       "b5Qn4zxi88NEYzlTtN4FAJrBdOUvbtv/sb5oTkPT30+pjBmr4X3Snt9X1xb4Bk4wcG7RXcXZywKG\n",
       "JI2vjvvxZfPQ6VGcT8r92mY97ytY7WQrJXoIWAt8tmOM+1RTrsnWiIECsfgzd9kGz9mPGyOuo2kN\n",
       "VbLH1e+/dMGKO6vYvO9tdgtz/G+28i2eskPugtdd53c667cxzhKudL+r0cKk3KinNYra0766Qv++\n",
       "P1nOvOrgTSLrE7IesggNv8pn+8/VNuQHSld5+Fqp+itfXaNPGUkZ4tW0mrLkeCu3eBPviUgaqQcA\n",
       "f72givzVEbMhP+Ct5SP7XzzicF6xPi/greUrct0eM3fmW3vVRxfPgiQfFH3ndPuZgndccg+2tkNs\n",
       "9Hi118qf3+jiG6Tiz131Zn/JLufBP9QW/NPpVXNVRz3Hn2w4869Gplx0nuaKP3cXrnWW/OBk1UKk\n",
       "ScV7yck3bQDgPM7lf9nI2wgAKKMVGQ/GSALZ+3p1RLzS0F+du9FWdtTFekRDvJr3ijU5PsKB28x9\n",
       "fVeZt553n+YBwFXHFX7prDjqHnCzXnVlJGlUyG/tOZ3O6Ojo48ePZ2ZmykMefPDB+fPnP/DAAx1f\n",
       "SFZW1tSpU7tchn1vmQvecE7+OinxhkjWI+Z+bSv5u2fqtmRBJamVdKRRpdQoaBUl8kRkJZeTlURi\n",
       "MGpoNRWdqtFE0SJHPBZO5Ij1nM9yzHfDI7ExqTqBkbTR9OapJREDlb95J0UXr1RFKISAJDCE84jW\n",
       "Iq/bxp1YbE9+Sle/g2WLRQAw3KZkzRJXKQHAXfsHDBhnqDvrj79Ox/skIgIA2Er8OoPKcsp79Kn6\n",
       "279KyJgVIwSI2qhwlXPGgWqFqjdzAnsxI7GEiCQqVRM84kocaSxhTvxPfXS6RhJI7gv2cav7XX9/\n",
       "LK2iSn5w7Z1rue7tqNt+lxSwC0SCiH5KtYGWBOI189pYWm2gOa904n9qo4Zo4pN1uhilyBJJJPKx\n",
       "4cTmuqLX3Dd+GJs6wehz81otzTAiJ4gUgEpNB2qFnx+qjfqNasJfEry13OGn6iUf0Q6n53yXKvKE\n",
       "Vis4n6igKUkifEBkWREI9E+LlERy+ivb2aVO4zjV0EeMKq1i6B1RzlpGraN1eqUkkIbqACeKkXq1\n",
       "NkKpVFEBr8Ax4k+/rR2wMOL23ydH9lPBhZ14cFdOCPhq+Ih+SoWK4n0S7xWJBAf+VVO63DP2P3FD\n",
       "b4lSahWsW3Q3clqdUhQlgZOc1dzR39bTJmrIEwafi6/5OAAAxgmquJu0lp0+tqzptF4ZR038NKH/\n",
       "sEiBkUypGo2JBoDasz7rGV9Sht5lZyONKkO82m3ldNHKqIFqc4634oB7wHi9IU7ttfNuG3vktzbJ\n",
       "Q7TD6ckfJ+kMSoGR3B6u7njAOFR18v/ZiUBS5kUOmWOIitXQSoXGSKsNNOcRGZfI+ASeFwmBCL1K\n",
       "pVFojDTjFL6bWjH6b7EpY/QAJPu5mslrkz0uXgEQaVCJApFE4vKwkTpVYwn7yyJb3H2am5bE+z18\n",
       "UpqeSCCJJP6/dBJP5HNR3ie5KliekSiaih6sYd2iy8IaE9SuGk6tVdAahcBIUQM1kkDcZu7H35nd\n",
       "R/mEx3RjF8f3HxmpMdLyEhwlTFG2U2NQxAzRAgGJEJ+Xj9Crir53Jo6OKPrOrYlVXP9IDJFAIiQ6\n",
       "Xttg9kdGqRhGbChgRj8QTwEIfkltoHVxSgBgGgUigfmsh+ellOGGyEQVraZ4n5Szqd5j5ic8l0Cr\n",
       "Fe4q1uPkB99mpCgqYBd8tbzTxnrt3IDrDH6nYDnjLdnqnvBaf0EkACS6n5ZWUpSCIgRoNcX7Jc4v\n",
       "iiKJGail1RStpZQRCooCdw1nzvfE9tNpDUo+IOmilRQNFE1xbpHzi0qVwuvgImJUscO0jEMkIqgi\n",
       "FLxfbChlNDo6f0dj/HXa+MERagNNRKKLU7Iusfqcx9RPEz1Ay/tEh4U1xKncdq6hjEkaov/+zorO\n",
       "/uv7LdDe+Zfk+gp/9t1ttqIe8GzE7X9Oznq22raHodSUIhKEegIAQF1oZ3LhQ/Rdav95kS1tOk+I\n",
       "maxOmhHhPs8DgcHzDK5yLn+5E3jg7VLCPJ1188XLb2l/NtQfYNyHefnFilG3qXznBRIA0UuUcdTc\n",
       "A4PjR0Qc+3ftySUNlxav/3xt1Ah10d+b7jYoIindUNqXd/kr0xEjlf6zAgAYblB58pradVBaIAwA\n",
       "DdDsDEiTRoseItRLmhSFLlWZNE0XqBUr13slf1P142dqdfG0boBSDEhco2TdFYgaq6IJpY6hB83R\n",
       "G0xqj4fTRSqVCkXVLx4FTcX8l+bkGw3eX4Qx/4qdsCTBW8ufz3b464SzrzqG/sEQP1ZX9ZWXoihH\n",
       "Hus707IiUZnqQI0w6p1oY4paqVBU7PcUvetWJyiiRqo18Yoh9xnjUnSOBsZZwUYNUZdsc5s/9I9c\n",
       "bhK8xPKNP/p2ddoco0AkGhQ0RQlEMhg1Gh1dW+E9/5mbUkF0ukZloKIzNAqaOvFaA2eRBi/Ux9yk\n",
       "UUcpvOU8AMQM1XptfGSMKiJSZavyB+xi3f5A7TcBABj0gt62P5A4PWLIDGPFfnfx3y5eDb3ty/7G\n",
       "FE1jbaDxJJs8KdJTwykNClWUgndKjadYdwEfM1ZTsd5LaBIoatruN6yIsR1jBsyP5BxiYkakRkd7\n",
       "PXxjBaOLU1IinFnpYBvFAfdGKtQUUFC91ae/UXn9EzFcQCQ8xCbrNHpapVN463mlVqEzKTmvKHCS\n",
       "3cwEvIKxn1oXodRE0jwjeVys3yOUbHTH3ahNGBtxanmD/4zI10kAQEdTooOoEhXzDw4+s7VR5KSK\n",
       "z70z/3dA0mg9AIis9P3vKmrWXv5up2mC2nWCkzuOjJ6o5rySL0dIfCDCU855j3fu/okynhJs5Jb/\n",
       "6TdmYT8AsBX5v51cwVsud0dFAbSOEn2XT/ySfqur38YItl9NScdQxnSV4wgHBGLv00xfNvDk5/Xn\n",
       "/+Ya8SejdWfANE496pHY0p9dBa+6ACDpwYiIFPq6+2KMiepv7y3z5/X+petJ3yZZz/oKX3Mp9FTM\n",
       "WHXD/qa7cHQ0JTpJ+y3lJu7pP2pqfE+U8nJCn7jX1NQkJyefPn161KhR8pBFixaNHTt28eLFrU5v\n",
       "tVrPnj176fDuJO4N5wPyXc4Qoy62gKSVlEJJ8Z2/7aigKandG0xKNSVwRKmmjMkalU4h8iTQKKi0\n",
       "CkoJtFoh8UShplSRCt4jsS5BEkHkJUOSWmQJkYjAEk0UTWuogE1QKClaQ1EKKvhQi0JFqXQKIhFf\n",
       "Pc8zRN9PpVBRRCKUglIbFAo1JXFEZAjnEzmP6HMIcmVVWoW+v4pxiqxXbL/kbck9mTdm7KioFA3j\n",
       "FJgrr2elVlEKoChQR9CcX1KqKYGTdCaVyEkCRwRWolWUWkczHiFcLVopUGsVcnCvtGdNc0/mjb5p\n",
       "1GUnoyggBIACWklJIulaY0iKAkOCWqlROM1sR5pbtEWpUQicJP+eo5LVWpOyvsDfvEiUAvRxKtYn\n",
       "cZd0IGBK0XBe0e/s7v6EokAdSUsC6cJOoyurU0BHtnmr0bzsvCqtomdq0SpKAcb+atdV+iCEMUnt\n",
       "reWkLm3dDv43UXcoNYpgqxilRmFIUKki6UAD76kP8YMiHd/TpozXUzRVd9rPdq8nyi5o2s9fdrKO\n",
       "7Y6ucFGp6qhkTdfmPXDgwMSJE0NVkjbbb3RZREQEAHDcxb2q2+02mUxtTZ+YmJiYmNhiYFZWVnfK\n",
       "EDdCByO6s4ArS0S/VsKkilBE9G8zfPJ1yrZoY1ufUaGjlDrQRNMAEPvrUYaUDhS0Def9/gETDABg\n",
       "HHC526zoinfe7x94a0fbHYWKPrlbjYguJf8gUa9EMySihnTxCHrlMw3uYtX6bjT7Om00HT1Me/np\n",
       "OqOz0ex/Q0RoC4BCiGFC2Ud56NvrmEymtLQ0t7vpTiUhJDc3Ny4uLuQrQgghhBBC6NoRlob2zz//\n",
       "/FdffSVJEgCcOHHCYrFkZGSEY0UIIYQQQghdI8KSuC9YsODMmTNLlixZs2bN/Pnz165dm5CQEI4V\n",
       "IYQQQgghdI0IfRt3AOjXr9/27dtPnjwpiuKOHTuuv/76cKwFIYQQQgiha0dYEncAiIqKmjx5cpdn\n",
       "12pD/JwH6kUYzasJRvNqgtG8mmA0ryYYzatJaKMZ+u4gEUIIIYQQQiF3RbwFCiGEEEIIIdQ+TNwR\n",
       "QgghhBDqAzBxRwghhBBCqA/AxB0hhBBCCKE+ABN3hBBCCCGE+gBM3BFCCCGEEOoDMHFHCCGEEEKo\n",
       "D8DEHSGEEEIIoT4AE3eEEEIIIYT6AGW4V2C1WouLi1mWBYB+/frdcMMNrU5WUFBgNpuDX/v37z9q\n",
       "1Kjg17y8vLq6OqVSedNNNxmNxuDwysrK4uJiQohOpxs3bpxarQ5bPRBAKKJZXV1dUVHBMEyLEAOA\n",
       "y+U6efKkKIoJCQnXX3992CqBmoQvmh6PJy8vz+/3UxSVlpaWmpoaxmogAAjzf1NWWlpaVlaWnp4+\n",
       "YMCAMNQAXRTuaJ47d66mpgYAYmNjx4wZQ1FUWKqBACDM0cQsqId1P5rnz583m82SJOl0urFjx2o0\n",
       "muBkHcyC6DfffDMklWnLW2+99eOPP4qimJeX98ILL6jV6gkTJlw62a5du9atW6fX6+vr6+vr6w0G\n",
       "w5AhQ+RRGzZsWLx4cUZGRlZW1po1a+6+++6IiAgAOHz48Pjx4/v16wcAK1euPHr06IwZM5TKsJ+K\n",
       "XMu6GU2GYeLi4o4ePbpjx47ExMRx48YFZ6mvr58zZ47NZlOpVEuWLOnfvz/m7uEWvmimpaWdPn1a\n",
       "q9VmZ2c//fTTmZmZw4YN67mKXZPCF02Zx+OZP3/+8uXLZ82ahWdi4Ra+aBJCPvjggyVLlphMpoqK\n",
       "ipUrVz711FMKBd57D6PwRROzoJ7XzWju3bv37rvvpmna6XSuWLHi8OHDU6ZM0Wq10KksiISZKIrB\n",
       "z8eOHQMAi8Vy6WQbNmx45513Lh1uNps1Gs2pU6cIIYIgPPHEE6tXr5ZH3XPPPWvXrpU/W61WiqKO\n",
       "HDkS+gqgZroZTVEUa2pqCCF/+MMfVq1a1XzU+++//8wzz8jL/+WXXyIjI61Wa4hLj34tfNE8ffp0\n",
       "89mTk5NZlg1ZuVFrwhdN2Ycffrh+/XqDwbB///6QFRq1IXzR3Ldv3/Dhw+WxhBBBECRJCmXR0SXC\n",
       "F03MgnpeN6NZVVXldDrlz3a7/brrrtu2bZv8teNZUNjPs5ufyut0OoVCQdN0WxPb7Xav19t8SGFh\n",
       "4bBhw8aMGQMANE0//PDDq1evlkep1WqVSiV/pmmaoqjIyMjQVwA1081oKhSKxMTEVidetWrV/fff\n",
       "Ly8/MzMzOTk5Pz8/RKVGrQtfNJvfzE1PT7dYLC3mRSEXvmgCQH5+/vfff//ggw+GpKjossIXzdWr\n",
       "V//1r39NTEzkOA4uHDpDVGrUuvBFE7OgntfNaA4YMCAqKkr+HBMTM3r06IaGBvlrx7OgnrhBZjab\n",
       "s7Ky1q9fv3DhwnXr1vXv37/Vyd566624uDiTybR48WKLxSIPrKmpkbN2mcFgyM/PlzfE66+//uqr\n",
       "ry5fvvzrr79+8sknP/nkE2xc0QO6E822OJ3OkpKS4NMLFEU1/zWj8AlHNFs4ceLEvffeGxMTE4ry\n",
       "ovaEKZosy77yyiv/+Mc/dDpdqIuM2hSOaIqiuHPnTpvNNn36dI1GM2bMmD179oSh7KilMP03MQvq\n",
       "FaGKZl1d3a5du0aMGAGdzIJ6InFnWba8vPz8+fNGo3Hw4MGtTjN+/PjCwkKGYYqLi00m02OPPSZf\n",
       "D3A6nc2fRpUfvPD7/QCQkJDw+OOPu91up9Pp8/kCgYAoij1QnWtcd6LZFjmgzZ+qMRqNTqcztCVH\n",
       "lwpHNJs7evToSy+99O6774auyKhNYYrm1q1bx40b1/wCCuoB4YimfKBcsWLF8uXLGYZZtmzZzJkz\n",
       "z5w5E54aoIvC9N/ELKhXhCSaDMO89dZbixcvHj9+PHQ2C+pmc59OKSkpoWm6sLCw/cnkR3FPnjxJ\n",
       "CNmwYcOjjz4aHHX06FEA8Hg8kiTNnTt306ZN8nCHwzF06NCffvopfIVHLXQhmkEt2uo5HA4AOH78\n",
       "eHDIAw88sGXLltAWGLUjhNEMysvLi4mJyc7ODmVBUQeEMJoVFRVDhw612WzyV2zj3vNCGE2WZRUK\n",
       "xSeffBIccv/993/22WehLTBqRwijiVlQr+tyNFmWffXVV5955hmPxyMP6VQW1KPPkg8dOjQlJaV5\n",
       "Fzmtio6OBgC5t52kpKScnJzgKK/Xm5GRodfrHQ7Ht99+G+yqwmQyZWZmyv1boZ7RhWi2xWQypaWl\n",
       "ud1u+SshJDc3Ny4uLlRFRZcVwmjK8vPzp06dunHjxjvuuCM0RUQdFsJolpeXl5aWxsfHUxRFUZTH\n",
       "45k0adKTTz4ZyuKidoUwmmq1OjMzs/md/YSEBLvdHpJyoo4IYTQxC+p1XYsmz/PvvvtudXX1u+++\n",
       "q9fr5YGdyoLCnrg3v9R/7ty5ysrK2NhYABBFsaioKNhsP1hcANi1a1dERMTQoUMBID09vbi4ODc3\n",
       "FwAkSdq4ceNzzz0HAEajMTk5ubi4OLiWEydOYKoXbt2MZjuef/75r776SpIkADhx4oTFYsnIyAh9\n",
       "BVAz4YtmUVHRtGnT/v3vf8+YMSMMBUetCFM0b7755tpm9Hr9N998s2LFivBUAjUJ33/z2Wef3bp1\n",
       "q9ygwuVy7d69G1tFh1uYoolZUK/oZjRFUXzvvffOnTu3cuVKk8nUfMkdz4LC3t/nsGHD7rvvvrS0\n",
       "tIqKis8++2zFihWjR48GAJfLNWLEiEOHDt1yyy3yZPPmzUtLS8vLy9u0adOWLVvkrkmTk5PXrl07\n",
       "d+7cpUuX5uTkVFZWvvfeewCgVCrlJ3Dz8/NTU1O/+OKL8ePH33zzzeGuzjWum9EEgHXr1vn9/pyc\n",
       "nOrqalEU4+LiHn74YQBYsGDB/PnzlyxZcsMNN7z77rtr165NSEjoxZpeC8IUTUEQZs6cmZiYWFVV\n",
       "9a9//UuecsGCBfHx8b1V02tBmKKp1WrlPoZlFEVFR0fLF5BQ+IRvTztnzpzt27c/9dRTd9xxx+bN\n",
       "mydNmnTbbbf1Yk2vBWGKJmZBvaKb0czKyvrLX/7y4osvbty4MbjAmTNnQmeyIIoQEtZKlpeXl5eX\n",
       "i6JIUVRKSkp6ero8PBAIHDx4MCMjIzk5GQDy8/OtVqskSQqFIi0tbdCgQc0XIr85labpzMzM5s+q\n",
       "lpSUVFRUEEIufQEVCofuR3Pfvn3Nn57RarUTJ06UP+ObU3tYmKIpiuK+fftarCszMxOzvbAK638z\n",
       "KCsrC9+c2gPCGk2/33/8+HGO43Q63fjx44P9CaIwCWs0MQvqYd2Mpvz+6eYLjImJuemmm+TPHcyC\n",
       "wp64I4QQQgghhLoPX3SMEEIIIYRQH4CJO0IIIYQQQn0AJu4IIYQQQgj1AZi4I4QQQggh1Adg4o4Q\n",
       "QgghhFAfgIk7QgghhBBCfQAm7gghhBBCCPUBmLgjhBBCCCHUB2DijhBCCCGEUB+g7O0CIIQQ6ktc\n",
       "Ltcvv/wS/KpQKH7zm9/0YnkQQujagVfcEUIIdQJN04oLDh8+fPDgwd4uEUIIXSsoQkhvlwEhhFCf\n",
       "NG/evKVLl44fP763C4IQQtcEvOKOEEKXUVtbm5WVFdZVHDx4sKKiIlRLKywsLC4u7uDEgUAgNzd3\n",
       "7969WVlZXq+3xdi8vLysrKz9+/e73e4Wo4qLi0tLS2+66aZLl/nTTz9VVlZ2oeTdkZ2dXVtb28Mr\n",
       "RQihnoSJO0IIXYbFYnnggQdCu8wHH3yw+cnAunXrOp5qt8/j8Tz00ENarbaD0+/atWvixImvvvrq\n",
       "tGnTPB5P81EbNmy49957S0pKNm3aNHfu3IaGhuZjDx8+/OKLLyqVrTwrtXLlylBVp+N8Pt+6det6\n",
       "eKUIIdSTMHFHCKHe9/HHH0+ePDkki8rOzp4xY8aAAQOCQ/Ly8lq0iszNzQ0Ouf322xsaGj79L7QO\n",
       "mwAACQZJREFU9NMWy7FYLIsXL/7222+fffbZNWvWDBo0aOvWrcGxPM+vWLFiwoQJISlzSNx5552r\n",
       "V68O4Y0LhBC60mDijhBCneByuZYvX56cnBwTE/PHP/7RarUGRxUUFDz22GNRUVHJyckvvvgiIaSx\n",
       "sfGVV15JTU3V6XTTpk07fvy4POXy5cu///77hx56KCkp6cYbbwSARYsW7du3r/1VzJ49e9OmTW+8\n",
       "8UZ0dPSoUaOys7NbLeEHH3xw1113Bb8yDLN06dJVq1YFM/Xt27fPmTMnuNjY2FiNRnPpcgoLC4cN\n",
       "GzZmzBgAoGn64YcfXr16dXDsyZMnhw8fPmzYsLY2lMViefnll6OiosaNG3fgwAF5YFsbxGazvfzy\n",
       "y3FxcSaT6c4778zNzQ2W4ZFHHjEajWlpaWvXruU4Th7+ww8/jBs3Tq1WDxo06MUXX5QHRkZGLlmy\n",
       "5NChQ20VCSGE+jpM3BFCqBOWLVtWXV195MiRwsLCqKiop59+mud5ACgvL7/llltmzJhRXl6el5c3\n",
       "e/Zsefo5c+YcO3astrb2jTfemDVrVk1NDQD88Y9/vPfeezdv3lxTU3Pq1KkOrgIAXn755RkzZpSV\n",
       "lb3++uuzZ89ubGxsMa/Vav3xxx+HDBkSHKLVatevX79t27bVq1cTQrZv375kyZI9e/YkJSW1X9Oa\n",
       "mho5a5cZDIb8/PxgI/hdu3YtWrSondlfeuml+fPn19bW/v3vf58yZUpRUVE7G+SLL77Q6/Xnzp2z\n",
       "WCxr1qyJjY0FgMrKyokTJy5cuNBsNmdlZZ06derLL78EALPZfM8996xatUrumHL+/PnBlU6YMGHz\n",
       "5s3t1wshhPou7McdIYQ6qqamZtmyZfn5+QMHDgSA559/Pjk5OScnZ9y4cbt373700UcXLFggT3n7\n",
       "7bcDQExMzPDhw/Py8jiOI4RkZGQUFha2nzG3swoAWLZsmdw6Zd68eS+88EJxcXGLHl2qqqp0Ol1y\n",
       "cnLzgQkJCRs2bHjkkUfy8vJ++OGHvXv3Dh8+/LKVdTqdRqMx+FWtVgOA3+/X6/WEkFtvvTUzM7Od\n",
       "2d9++225bFOmTPnd73534MCB4cOHt7VBfD6fXq+PiorSarXXXXedvIQ9e/a89NJL06ZNAwCj0fj4\n",
       "448vWrTo8ccf5ziOpuno6GidTqfT6fr37x9caWRkZHZ2NiGEoqjLVhAhhPocvOKOEEIdJTcvSUtL\n",
       "k7+aTKb09HT5gc6jR49OnTq1xfTl5eVjx47duXOnz+cDAI1GI4pil1cBAMEkVaFQREdHB5uOBLEs\n",
       "azKZLk1bExISnnjiiY8//vjZZ5/tSNYur7p5TzLyuiIiIgCAoqipU6dGR0e3M3uwCgBw66235uTk\n",
       "QNsbZOHChfv3709NTV20aNGuXbvkdR0+fHjZsmX9L5g9e7b8dOyQIUNWrVp1880333rrratXry4t\n",
       "LQ2uSKvVer1ehmE6UkGEEOpzMHFHCKGOktuCB5uLEEKcTidN0wAQGxtrs9laTL9t27bf//73y5Yt\n",
       "mz179qVpfWdX0cHZnU7npS/o+OGHH/70pz/t27dv3759H330UUfe4JGUlCRn2zKv15uRkaHX6ztY\n",
       "kuYnFY2NjSaTCdreIAMHDty2bdvx48cffvjhlStXfvzxxwBgMpnef//9umaC7fIXLVpkNps//PBD\n",
       "ABg3blxwOMMwBoNBp9N1sJAIIdS3YOKOEEIdNWzYsBEjRgQftTx16lR1dbX8gOb06dNXr17tcDjk\n",
       "UXJm7HK5gvMWFxc37/9Rr9e3evW9nVV0xKBBgwKBgMViaT5Qbo+elZU1adKkzz///JtvvlmzZs1l\n",
       "c/f09PTi4mL5OVFJkjZu3Pjcc891sBgA8PnnnwuCAAB+v3/9+vUTJ06EtjdIIBAAgAEDBkyaNElu\n",
       "VwMAM2bM+OCDD+x2e3AWv98PAAzDEEJ0Ot2NN964ePFin89XXV0tT+Dz+e64446OFxIhhPoWbOOO\n",
       "EEIdpdFo1q1bN3PmzLfeestoNL7xxhuffPKJ3KB80qRJ06ZNmzVr1tNPPw0AmzZt2rFjx1133XXb\n",
       "bbexLBsTE7Nhw4bp06cHFzVt2rTly5dzHKfRaJoPb2cVHZGQkDBt2rSysrKUlBR5CMMwH330UVZW\n",
       "Vnp6OgAkJiZ+8cUXTzzxxJw5c+TW9ufPn9+9e7d80fqTTz4xGo333HPP4MGDk5OT165dO3fu3KVL\n",
       "l+bk5FRWVr733nsd31ZKpfKZZ5656667tmzZMmzYMDmfbmuDLFy4MDU19ZZbbqmtrX377bc3bNgA\n",
       "AJMnT541a9b06dOXLFmi1+t//vlnAFi1atXp06f//Oc/L1iwIC4ubtu2bffcc8/IkSPl5Rw5cuSh\n",
       "hx7qeCERQqhvoTpywxQhhK5ltbW1Z86cCTbtqKysLC4uJoQkJydnZGQEJyOEnDhxwul0UhSVlJQk\n",
       "jyooKDCbzTRNjxkzJj8/Pzk5OTU1FQAEQThy5AjDMBRFTZky5eDBgykpKfKotlbx008/paamDho0\n",
       "SP66d+/e9PT0YIIetH379oMHDy5btiw4RJIkheJX91ebD6muri4sLGw+duTIkYmJifLnvLy8uro6\n",
       "mqYzMzObP6vaPrmoPp/PYrGoVKrx48cHm6+0ukGsVmtRURHHcRRFpaamBtvHE0JOnz4tt0GKiIgY\n",
       "PXp0ZGQkx3Hnzp2z2+2EEI1GM3bsWHnhfr8/LS3t8OHDwc2IEEJXGUzcEULoquL1em+77bZt27Y1\n",
       "fwfTtWDHjh2nTp167bXXersgCCEULpi4I4TQ1aawsJCm6Y63jL86ZGdnp6enJyQk9HZBEEIoXDBx\n",
       "RwghhBBCqA/AXmUQQgghhBDqAzBxRwghhBBCqA/AxB0hhBBCCKE+ABN3hBBCCCGE+gBM3BFCCCGE\n",
       "EOoDMHFHCCGEEEKoD8DEHSGEEEIIoT4AE3eEEEIIIYT6AEzcEUIIIYQQ6gMwcUcIIYQQQqgPwMQd\n",
       "IYQQQgihPgATd4QQQgghhPoATNwRQgghhBDqAzBxRwghhBBCqA/AxB0hhBBCCKE+ABN3hBBCCCGE\n",
       "+gBM3BFCCCGEEOoDMHFHCCGEEEKoD8DEHSGEEEIIoT7g/wPEpjomX2x5ngAAAABJRU5ErkJggg==\n",
       "\" />"
      ],
      "text/plain": [
       "[PNG image]"
      ]
     },
     "metadata": {},
     "output_type": "display_data"
    }
   ],
   "source": [
    "my @tracks = (\n",
    "    [ 'DNASE:CD14-positive monocyte female' =>   41 => $predictions_p->slice('(41)') ],\n",
    "    [ 'DNASE:keratinocyte female'           =>   42 => $predictions_p->slice('(42)') ],\n",
    "    [ 'CHIP:H3K27ac:keratinocyte female'    =>  706 => $predictions_p->slice('(706)')],\n",
    "    [ 'CAGE:Keratinocyte - epidermal'       => 4799 => log10(1 + $predictions_p->slice('(4799)')) ],\n",
    ");\n",
    "\n",
    "use PDL::Graphics::Gnuplot;\n",
    "\n",
    "my $plot_output_path = 'enformer-target-interval-tracks.png';\n",
    "my $gp = gpwin('pngcairo', font => \",10\", output => $plot_output_path, size => [10,2. * @tracks], aa => 2 );\n",
    "\n",
    "$gp->multiplot( layout => [1, scalar @tracks], title => $target_interval );\n",
    "\n",
    "$gp->options(\n",
    "    offsets => [ graph => \"0.01, 0, 0, 0\" ],\n",
    "    lmargin => \"at screen 0.05\",\n",
    ");\n",
    "\n",
    "my $x = zeroes($predictions_p->dim(1))->xlinvals($target_interval->start, $target_interval->end);\n",
    "\n",
    "my @tics_opts = (mirror => 0, out => 1);\n",
    "\n",
    "for my $i (0..$#tracks) {\n",
    "    my ($title, $id, $y) = @{$tracks[$i]};\n",
    "    $gp->plot( {\n",
    "            title => $title,\n",
    "            border => [2],\n",
    "            ytics => { @tics_opts, locations => [ ceil(($y->max-$y->min)/2)->sclr ] },\n",
    "            ( $i == $#tracks\n",
    "                ? ( xtics => { format => '%.3f', @tics_opts } )\n",
    "                : ( xtics => 0 ) ),\n",
    "            ( $i == $#tracks ? ( xlabel => 'location ({/Symbol \\264}10^7 bases)' ) : ()  ),\n",
    "\n",
    "        },\n",
    "        with => 'filledcurves',\n",
    "        #'lc' => '#086eb5',\n",
    "\n",
    "        # $x scaled by 1e7; filled curve between $y and the x-axis\n",
    "        $x / 1e7, $y, pdl(0)\n",
    "    );\n",
    "}\n",
    "\n",
    "$gp->end_multi;\n",
    "\n",
    "$gp->close;\n",
    "\n",
    "if( IN_IPERL ) {\n",
    "    IPerl->png( bytestream => path($plot_output_path)->slurp_raw );\n",
    "}"
   ]
  },
  {
   "cell_type": "markdown",
   "id": "b598bb55",
   "metadata": {},
   "source": [
    "## Parts of the original notebook that fall outside the scope\n",
    "\n",
    "In the orignal notebook, there are several more steps that have not been ported here:\n",
    "\n",
    " 1. \"Compute contribution scores\":\n",
    "\n",
    "    This task requires implementing `@tf.function` to compile gradients.\n",
    "\n",
    "\n",
    " 2. \"Predict the effect of a genetic variant\" and \"Score multiple variants\":\n",
    "\n",
    "    The first task is possible, but the second task requires loading a pre-processing pipeline for scikit-learn and unfortunately this pipeline is stored as a pickle file that is valid for an older version of scikit-learn (version 0.23.2) and as such its behaviour is tied to that version."
   ]
  },
  {
   "cell_type": "code",
   "execution_count": 21,
   "id": "af1e93b2",
   "metadata": {},
   "outputs": [],
   "source": [
    "# Some code that could be used for working with variants.\n",
    "1 if <<'COMMENT';\n",
    "\n",
    "use Bio::DB::HTS::VCF;\n",
    "\n",
    "my $clinvar_tbi_path = \"${clinvar_path}.tbi\";\n",
    "unless( -f $clinvar_tbi_path ) {\n",
    "    system( qw(tabix), $clinvar_path );\n",
    "}\n",
    "my $v = Bio::DB::HTS::VCF->new( filename => $clinvar_path );\n",
    "$v->num_variants\n",
    "\n",
    "COMMENT\n",
    "\n",
    "undef;"
   ]
  },
  {
   "cell_type": "markdown",
   "id": "909d2b52",
   "metadata": {},
   "source": [
    "# RESOURCE USAGE"
   ]
  },
  {
   "cell_type": "code",
   "execution_count": 22,
   "id": "0afb74d4",
   "metadata": {},
   "outputs": [
    {
     "name": "stdout",
     "output_type": "stream",
     "text": [
      "Disk space usage: 4.66G\n"
     ]
    }
   ],
   "source": [
    "use Filesys::DiskUsage qw/du/;\n",
    "\n",
    "my $total = du( { 'human-readable' => 1, dereference => 1 },\n",
    "    $model_archive_path, $model_base, $new_model_base,\n",
    "\n",
    "    $targets_path,\n",
    "\n",
    "    $hg_gz_path,\n",
    "    $hg_bgz_path, $hg_bgz_fai_path,\n",
    "\n",
    "    $clinvar_path,\n",
    "\n",
    "    $plot_output_path,\n",
    ");\n",
    "\n",
    "say \"Disk space usage: $total\"; undef;"
   ]
  }
 ],
 "metadata": {
  "kernelspec": {
   "display_name": "IPerl 0.012",
   "language": "perl",
   "name": "iperl"
  },
  "language_info": {
   "file_extension": ".pl",
   "mimetype": "text/x-perl",
   "name": "perl",
   "version": "5.36.0"
  }
 },
 "nbformat": 4,
 "nbformat_minor": 5
}
